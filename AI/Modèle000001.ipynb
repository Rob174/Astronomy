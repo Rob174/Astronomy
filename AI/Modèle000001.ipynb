{
  "nbformat": 4,
  "nbformat_minor": 0,
  "metadata": {
    "colab": {
      "name": "Modèle000001.ipynb",
      "version": "0.3.2",
      "provenance": [],
      "collapsed_sections": [
        "R4se1VpyGHLS"
      ],
      "machine_shape": "hm",
      "include_colab_link": true
    },
    "kernelspec": {
      "name": "python3",
      "display_name": "Python 3"
    },
    "accelerator": "TPU"
  },
  "cells": [
    {
      "cell_type": "markdown",
      "metadata": {
        "id": "view-in-github",
        "colab_type": "text"
      },
      "source": [
        "<a href=\"https://colab.research.google.com/github/Rob174/Astronomy/blob/Astronomy/AI/Mod%C3%A8le000001.ipynb\" target=\"_parent\"><img src=\"https://colab.research.google.com/assets/colab-badge.svg\" alt=\"Open In Colab\"/></a>"
      ]
    },
    {
      "cell_type": "markdown",
      "metadata": {
        "colab_type": "text",
        "id": "k_hAT1OO2lUN"
      },
      "source": [
        "# Fonctions de base"
      ]
    },
    {
      "cell_type": "code",
      "metadata": {
        "colab_type": "code",
        "id": "daqyahLS1u1Z",
        "outputId": "9547209d-b248-48a6-ff06-fd0ec8a47e3e",
        "colab": {
          "base_uri": "https://localhost:8080/",
          "height": 102
        }
      },
      "source": [
        "from google.colab import drive\n",
        "drive.mount('/content/drive')\n",
        "%cd '/content/drive/My Drive/TIPE'\n",
        "import os\n",
        "from tensorflow.python.client import device_lib\n",
        "print(\"Utilise le\",str(device_lib.list_local_devices()[0])[15:18])\n",
        "print()\n",
        "print()\n",
        "from google.colab import files\n",
        "import tensorflow as tf\n",
        "from tensorflow.python import debug as tf_debug\n",
        "\n",
        "from keras.layers import Layer\n",
        "import matplotlib.gridspec as gridspec\n",
        "from keras.models import Sequential\n",
        "from keras.layers import Dense, Dropout,concatenate,Subtract,Multiply,Average, Concatenate,Reshape, Add, BatchNormalization\n",
        "from keras.layers import Reshape,Lambda\n",
        "from keras.layers.core import Activation\n",
        "from keras.optimizers import SGD, Adam\n",
        "from keras import models\n",
        "from keras.layers.normalization import BatchNormalization\n",
        "from keras.layers.convolutional import UpSampling2D\n",
        "from keras.layers.convolutional import Convolution2D, AveragePooling2D,MaxPooling2D\n",
        "import keras.losses\n",
        "from keras.layers.core import Flatten\n",
        "from keras import backend as K\n",
        "import numpy as np\n",
        "import scipy\n",
        "from PIL import Image\n",
        "from keras.layers import Input\n",
        "from keras.models import Model\n",
        "import cv2\n",
        "import matplotlib.pyplot as plt\n",
        "images = [\"Galaxies_resized/\"+f for f in os.listdir(\"Galaxies_resized/\")]\n",
        "noises = []"
      ],
      "execution_count": 253,
      "outputs": [
        {
          "output_type": "stream",
          "text": [
            "Drive already mounted at /content/drive; to attempt to forcibly remount, call drive.mount(\"/content/drive\", force_remount=True).\n",
            "/content/drive/My Drive/TIPE\n",
            "Utilise le CPU\n",
            "\n",
            "\n"
          ],
          "name": "stdout"
        }
      ]
    },
    {
      "cell_type": "code",
      "metadata": {
        "id": "Lyewhn0TDz-9",
        "colab_type": "code",
        "colab": {}
      },
      "source": [
        "# Install latest Tensorflow build\n",
        "# !pip install -q tf-nightly-2.0-preview\n",
        "# from tensorflow import summary\n",
        "# %load_ext notebookµ"
      ],
      "execution_count": 0,
      "outputs": []
    },
    {
      "cell_type": "code",
      "metadata": {
        "id": "mUwUDspDemoM",
        "colab_type": "code",
        "colab": {}
      },
      "source": [
        "# !wget https://bin.equinox.io/c/4VmDzA7iaHb/ngrok-stable-linux-amd64.zip\n",
        "# !unzip ngrok-stable-linux-amd64.zip"
      ],
      "execution_count": 0,
      "outputs": []
    },
    {
      "cell_type": "code",
      "metadata": {
        "id": "wYmeFw_vetQr",
        "colab_type": "code",
        "outputId": "4db84f27-d3a5-4639-c9d9-05b3c265f859",
        "colab": {
          "base_uri": "https://localhost:8080/",
          "height": 204
        }
      },
      "source": [
        "LOG_DIR = './log'\n",
        "get_ipython().system_raw(\n",
        "    'tensorboard --logdir {} --host 0.0.0.0 --port 6006 &'\n",
        "    .format(LOG_DIR)\n",
        ")\n",
        "get_ipython().system_raw('./ngrok http 6006 &')\n",
        "! curl -s http://localhost:4040/api/tunnels | python3 -c \\\n",
        "    \"import sys, json; print(json.load(sys.stdin)['tunnels'][0]['public_url'])\""
      ],
      "execution_count": 256,
      "outputs": [
        {
          "output_type": "stream",
          "text": [
            "Traceback (most recent call last):\n",
            "  File \"<string>\", line 1, in <module>\n",
            "  File \"/usr/lib/python3.6/json/__init__.py\", line 299, in load\n",
            "    parse_constant=parse_constant, object_pairs_hook=object_pairs_hook, **kw)\n",
            "  File \"/usr/lib/python3.6/json/__init__.py\", line 354, in loads\n",
            "    return _default_decoder.decode(s)\n",
            "  File \"/usr/lib/python3.6/json/decoder.py\", line 339, in decode\n",
            "    obj, end = self.raw_decode(s, idx=_w(s, 0).end())\n",
            "  File \"/usr/lib/python3.6/json/decoder.py\", line 357, in raw_decode\n",
            "    raise JSONDecodeError(\"Expecting value\", s, err.value) from None\n",
            "json.decoder.JSONDecodeError: Expecting value: line 1 column 1 (char 0)\n"
          ],
          "name": "stdout"
        }
      ]
    },
    {
      "cell_type": "code",
      "metadata": {
        "colab_type": "code",
        "id": "fxnCGK3I2hpP",
        "colab": {}
      },
      "source": [
        "def next_batch(batch_size, images,tailleAttendue,formatArray):#ATTENTION : pr tenter d'améliorer l'apprentissage, on augmente la taille minimale d'image prise\n",
        "    \"\"\"\n",
        "    formatArray : format de sortie des données de l'image ; utiliser numpy\n",
        "    \"\"\"\n",
        "    imageEntreeTensor = []\n",
        "    imageSortieTensor = []\n",
        "    while len(imageEntreeTensor) < batch_size:\n",
        "        try:\n",
        "            np.random.shuffle(images)#choix aléatoire de l'image\n",
        "            image = cv2.imread(images[0])#Ouvre en rgb l'image nettoyée\n",
        "            resizedImage = cv2.resize(image,(tailleAttendue,tailleAttendue))\n",
        "            imageSortieTensor.append(np.array(resizedImage,dtype=formatArray))\n",
        "            imageEntreeTensor.append(np.array(resizedImage,dtype=formatArray))\n",
        "        except:\n",
        "            print(\"Error in next_batch\")\n",
        "    imageEntreeTensor = np.array(imageEntreeTensor,formatArray)\n",
        "    return [imageEntreeTensor,imageEntreeTensor]"
      ],
      "execution_count": 0,
      "outputs": []
    },
    {
      "cell_type": "code",
      "metadata": {
        "colab_type": "code",
        "id": "49nICh8X2kOb",
        "colab": {}
      },
      "source": [
        "def next_batch_bruit_voile(batch_size, images,tailleAttendue,formatArray,facteursVoile,bruitParam,plageVal=[0,255]):#ATTENTION : pr tenter d'améliorer l'apprentissage, on augmente la taille minimale d'image prise\n",
        "    \"\"\"\n",
        "    formatArray : format de sortie des données de l'image ; utiliser numpy\n",
        "    facteurVoile : liste de valeur entre 0 et 1 contenant l'atténuation pour chaque couche de l'image\n",
        "    bruitParam : liste avec dans l'ordre moyenne et écart type\n",
        "    \"\"\"\n",
        "    assert plageVal[0] <= plageVal[1]\n",
        "    assert plageVal[0] <= bruitParam[0] <= plageVal[1]\n",
        "    assert plageVal[0] <= bruitParam[0]-bruitParam[1] <= plageVal[1]\n",
        "    assert plageVal[0] <= bruitParam[0]+bruitParam[1] <= plageVal[1]\n",
        "    \n",
        "    imageEntreeTensor,imageSortieTensor = next_batch(batch_size,  images,tailleAttendue,formatArray)\n",
        "    imageSortieTensorCopy = np.array(imageSortieTensor,dtype=np.float32)\n",
        "    for image in range(imageSortieTensorCopy.shape[0]):\n",
        "        for rgbIndex in range(3):\n",
        "            imageSortieTensorCopy[image,:,:,rgbIndex] *= facteursVoile[rgbIndex]\n",
        "    imageSortieTensorCopy = np.clip(imageSortieTensorCopy + np.random.normal(bruitParam[0],bruitParam[1],imageSortieTensorCopy.shape),plageVal[0],plageVal[1])\n",
        "    return [imageEntreeTensor,np.array(imageSortieTensorCopy,dtype=formatArray)]"
      ],
      "execution_count": 0,
      "outputs": []
    },
    {
      "cell_type": "code",
      "metadata": {
        "colab_type": "code",
        "id": "KZrLh69g3Eel",
        "colab": {}
      },
      "source": [
        "def next_batch_bruit_voile_2(batch_size, images,tailleAttendue,formatArray,facteursVoile,bruitParam,plageVal=[0,255]):#ATTENTION : pr tenter d'améliorer l'apprentissage, on augmente la taille minimale d'image prise\n",
        "    \"\"\"\n",
        "    La versison 2 fait les  modification sélectives de couleurs après avoir ajouté le bruit\n",
        "    formatArray : format de sortie des données de l'image ; utiliser numpy\n",
        "    facteurVoile : liste de valeur entre 0 et 1 contenant l'atténuation pour chaque couche de l'image\n",
        "    bruitParam : liste avec dans l'ordre moyenne et écart type\n",
        "    \"\"\"\n",
        "    assert plageVal[0] <= plageVal[1]\n",
        "    assert plageVal[0] <= bruitParam[0] <= plageVal[1]\n",
        "    assert plageVal[0] <= bruitParam[0]-bruitParam[1] <= plageVal[1]\n",
        "    assert plageVal[0] <= bruitParam[0]+bruitParam[1] <= plageVal[1]\n",
        "    \n",
        "    imageEntreeTensor,imageSortieTensor = next_batch(batch_size,  images,tailleAttendue,formatArray)\n",
        "    imageSortieTensorCopy = np.array(imageSortieTensor,dtype=np.float32)\n",
        "    for image in range(imageSortieTensorCopy.shape[0]):\n",
        "        for rgbIndex in range(3):\n",
        "            imageSortieTensorCopy[image,:,:,rgbIndex] += np.random.normal(bruitParam[0],bruitParam[1])\n",
        "            imageSortieTensorCopy[image,:,:,rgbIndex] *= facteursVoile[rgbIndex]\n",
        "    imageSortieTensorCopy /= np.max(imageSortieTensorCopy)\n",
        "    imageSortieTensorCopy *= plageVal[1]\n",
        "    imageSortieTensorCopy = np.clip(imageSortieTensorCopy,plageVal[0],plageVal[1])\n",
        "    return [imageEntreeTensor,np.array(imageSortieTensorCopy,dtype=formatArray)]"
      ],
      "execution_count": 0,
      "outputs": []
    },
    {
      "cell_type": "code",
      "metadata": {
        "colab_type": "code",
        "id": "6nuvaDIBDp3G",
        "colab": {}
      },
      "source": [
        "def normalisation(arrayL,plageEntree=[0,255],plageSortie=[0,1]):\n",
        "    assert plageEntree != plageSortie\n",
        "    assert plageEntree[1]>0 and plageSortie[1] > 0\n",
        "    formatArray = [array.dtype for array in arrayL]\n",
        "    L = [np.array(array,dtype=np.float) for array in arrayL]\n",
        "    for i in range(len(L)):\n",
        "        L[i] = np.array((L[i]-plageEntree[0])/(plageEntree[1]-plageEntree[0])*(plageSortie[1]-plageSortie[0])+plageSortie[0],formatArray[i])\n",
        "    return L"
      ],
      "execution_count": 0,
      "outputs": []
    },
    {
      "cell_type": "code",
      "metadata": {
        "colab_type": "code",
        "id": "AO_NSKJdVoS9",
        "colab": {}
      },
      "source": [
        "def LarrayFloatToUint(L):\n",
        "    return [np.array(array,np.uint) for array in L]"
      ],
      "execution_count": 0,
      "outputs": []
    },
    {
      "cell_type": "code",
      "metadata": {
        "id": "uOZZ2bGdMLEI",
        "colab_type": "code",
        "colab": {}
      },
      "source": [
        "def tauxApprentissage(epoch,ampl,tau,lim):\n",
        "    taux = ampl*10**-((epoch)/tau)\n",
        "    return taux if taux > lim else lim"
      ],
      "execution_count": 0,
      "outputs": []
    },
    {
      "cell_type": "code",
      "metadata": {
        "id": "5wSOGJdQj6dR",
        "colab_type": "code",
        "colab": {}
      },
      "source": [
        "def differenceAcceptee(epoch,ampl,tau,lim):\n",
        "    taux = ampl*10**-((epoch)/tau)\n",
        "    return taux if taux > lim else lim"
      ],
      "execution_count": 0,
      "outputs": []
    },
    {
      "cell_type": "code",
      "metadata": {
        "id": "drdUov_iYAZG",
        "colab_type": "code",
        "colab": {}
      },
      "source": [
        "def convertToUint(array):\n",
        "    return np.array(normalisation(array,[0,1],[0,255]),dtype=np.uint8)"
      ],
      "execution_count": 0,
      "outputs": []
    },
    {
      "cell_type": "code",
      "metadata": {
        "colab_type": "code",
        "id": "Hp8DhcxaEKU-",
        "colab": {}
      },
      "source": [
        "def convertToUintL(L):\n",
        "    Lresult = []\n",
        "    print(\"Entree : \",len(L))\n",
        "    for i in range(len(L)):\n",
        "        Lresult.append(np.array(normalisation(L[i],[0,1],[0,255]),dtype=np.uint8))\n",
        "    print(\"Sortie : \",len(Lresult))\n",
        "    return Lresult"
      ],
      "execution_count": 0,
      "outputs": []
    },
    {
      "cell_type": "code",
      "metadata": {
        "id": "OF62Ds8TNw4J",
        "colab_type": "code",
        "colab": {}
      },
      "source": [
        "index = np.arange(0,len(images))\n",
        "np.random.shuffle(index)\n",
        "trainingData = [images[i] for i in index[:int(0.6*len(images))]]\n",
        "evalData = [images[i] for i in index[int(0.6*len(images))-1:]]"
      ],
      "execution_count": 0,
      "outputs": []
    },
    {
      "cell_type": "code",
      "metadata": {
        "id": "dXZasifPjmid",
        "colab_type": "code",
        "colab": {}
      },
      "source": [
        "# source : https://stackoverflow.com/questions/46418373/how-to-resize-interpolate-a-tensor-in-keras\n",
        "def interpolation(h,w,inputTensor):\n",
        "    def resize_like(inputTensor,h,w):\n",
        "        return tf.image.resize_nearest_neighbor(inputTensor, [h, w])\n",
        "\n",
        "    return Lambda(resize_like, arguments={'h':h,'w':w})(inputTensor)"
      ],
      "execution_count": 0,
      "outputs": []
    },
    {
      "cell_type": "code",
      "metadata": {
        "id": "exgFsJIgpdt3",
        "colab_type": "code",
        "colab": {}
      },
      "source": [
        "from keras.layers import Activation\n",
        "from keras.utils.generic_utils import get_custom_objects\n",
        "def SELU(x):\n",
        "    return 1.0507*K.elu(x,alpha=1.67326)\n",
        "\n",
        "get_custom_objects().update({'custom_activation': Activation(SELU)})\n",
        "\n",
        "# A mettre pour le modèle : Activation(SELU)"
      ],
      "execution_count": 0,
      "outputs": []
    },
    {
      "cell_type": "code",
      "metadata": {
        "id": "DDebcyPfqaow",
        "colab_type": "code",
        "colab": {}
      },
      "source": [
        "class LRN2D(Layer):#Normalisation de réponse locale\n",
        "    \"\"\"\n",
        "    This code is adapted from pylearn2.\n",
        "    License at: https://github.com/lisa-lab/pylearn2/blob/master/LICENSE.txt\n",
        "    \"\"\"\n",
        "\n",
        "    def __init__(self, alpha=1e-4, k=2, beta=0.75, n=5, **kwargs):\n",
        "        if n % 2 == 0:\n",
        "            raise NotImplementedError(\"LRN2D only works with odd n. n provided: \" + str(n))\n",
        "        super(LRN2D, self).__init__(**kwargs)\n",
        "        self.alpha = alpha\n",
        "        self.k = k\n",
        "        self.beta = beta\n",
        "        self.n = n\n",
        "\n",
        "    def get_output(self, train):\n",
        "        X = self.get_input(train)\n",
        "        b, ch, r, c = K.shape(X)\n",
        "        half_n = self.n // 2\n",
        "        input_sqr = K.square(X)\n",
        "        extra_channels = K.zeros((b, ch + 2 * half_n, r, c))\n",
        "        input_sqr = K.concatenate([extra_channels[:, :half_n, :, :],\n",
        "                                   input_sqr,\n",
        "                                   extra_channels[:, half_n + ch:, :, :]],\n",
        "                                  axis=1)\n",
        "        scale = self.k\n",
        "        for i in range(self.n):\n",
        "            scale += self.alpha * input_sqr[:, i:i + ch, :, :]\n",
        "        scale = scale ** self.beta\n",
        "        return X / scale\n",
        "\n",
        "    def get_config(self):\n",
        "        config = {\"name\": self.__class__.__name__,\n",
        "                  \"alpha\": self.alpha,\n",
        "                  \"k\": self.k,\n",
        "                  \"beta\": self.beta,\n",
        "                  \"n\": self.n}\n",
        "        base_config = super(LRN2D, self).get_config()\n",
        "        return dict(list(base_config.items()) + list(config.items()))"
      ],
      "execution_count": 0,
      "outputs": []
    },
    {
      "cell_type": "code",
      "metadata": {
        "id": "qkYZQGhzV3ff",
        "colab_type": "code",
        "colab": {}
      },
      "source": [
        "# cf https://stackoverflow.com/questions/43784921/how-to-display-custom-images-in-tensorboard-using-keras?noredirect=1#comment85726690_43784921\n",
        "def make_image(tensor):\n",
        "    \"\"\"\n",
        "    Convert an numpy representation image to Image protobuf.\n",
        "    Copied from https://github.com/lanpa/tensorboard-pytorch/\n",
        "    \"\"\"\n",
        "    from PIL import Image\n",
        "    height, width = tensor.shape\n",
        "    image = Image.fromarray(tensor).convert('RGB')\n",
        "    import io\n",
        "    output = io.BytesIO()\n",
        "    image.save(output, format='PNG')\n",
        "    image_string = output.getvalue()\n",
        "    output.close()\n",
        "    CHANNEL = 1\n",
        "    return tf.Summary.Image(height=height,\n",
        "                         width=width,\n",
        "                         colorspace=CHANNEL,\n",
        "                         encoded_image_string=image_string)"
      ],
      "execution_count": 0,
      "outputs": []
    },
    {
      "cell_type": "code",
      "metadata": {
        "id": "ZODUIlFtaG3v",
        "colab_type": "code",
        "colab": {}
      },
      "source": [
        "def print_shape(x):\n",
        "    print(\"Shape : \",x.get_shape().as_list())"
      ],
      "execution_count": 0,
      "outputs": []
    },
    {
      "cell_type": "code",
      "metadata": {
        "id": "QMqHoyWEErBL",
        "colab_type": "code",
        "colab": {}
      },
      "source": [
        "nb_couches = 3\n",
        "def AI_gen_disc_or_disc_without_input(inpt,part='gen_disc'):\n",
        "    print(\"Construction \"+part)\n",
        "    global Llayers\n",
        "    global index_couches\n",
        "    if part == 'gen_disc' or part == 'gen':\n",
        "        with K.name_scope('Generateur_FFT'):\n",
        "            \n",
        "            def magn_angle(x):\n",
        "                x = K.cast(x,dtype=tf.complex64)\n",
        "                x_list_magn = []\n",
        "                x_list_angle = []\n",
        "                for i in range(3):\n",
        "                    fft = Lambda(tf.fft2d, output_shape=(None,199,199))(x[:,:,:,i])\n",
        "                    x_list_magn.append(K.expand_dims(Lambda(tf.math.abs, output_shape=(None,199,199))(fft),axis=-1))\n",
        "                    x_list_angle.append(K.expand_dims(Lambda(tf.math.angle, output_shape=(None,199,199))(fft),axis=-1))\n",
        "                    print(\"Step\")\n",
        "                magn = Concatenate()(x_list_magn)\n",
        "                print_shape(magn)\n",
        "                angle = Concatenate()(x_list_angle)\n",
        "                print_shape(angle)\n",
        "                magn = K.cast(magn,dtype=tf.float32)\n",
        "                angle = K.cast(angle,dtype=tf.float32)\n",
        "                print_shape(magn)\n",
        "                print_shape(angle)\n",
        "                return magn,angle\n",
        "            \n",
        "            magn,angle = magn_angle(inpt)#, output_shape=(None,199,199,3),name=str(index_couches)+'_'+'FFT2d')(inpt)\n",
        "            index_couches += 1\n",
        "            def analyse(couche):\n",
        "                global index_couches\n",
        "                couche = Convolution2D(filters=500,kernel_size=(2,2),activation=None,strides=(1,1),padding='SAME',name=str(index_couches)+'_'+'Conv_f500_k2')(couche)\n",
        "                index_couches += 1\n",
        "                couche = Dropout(name=str(index_couches)+'_'+'dropout',rate=0.25)(couche)\n",
        "                index_couches += 1\n",
        "                couche = LRN2D(name=str(index_couches)+'_'+'batchnorm',n=21,k=2,alpha=10**-4,beta=0.75)(couche)\n",
        "                index_couches += 1\n",
        "                couche = Activation(SELU,name=str(index_couches)+'_'+'activation_SELU')(couche)\n",
        "                index_couches += 1\n",
        "                couche = Convolution2D(filters=33,kernel_size=(2,2),activation=None,strides=(1,1),padding='SAME',name=str(index_couches)+'_'+'Conv_f33_k2')(couche)\n",
        "                index_couches += 1\n",
        "                couche = BatchNormalization(name=str(index_couches)+'_'+'batchnorm')(couche)\n",
        "                index_couches += 1\n",
        "                couche = Activation(SELU,name=str(index_couches)+'_'+'activation_SELU')(couche)\n",
        "                index_couches += 1\n",
        "                return couche\n",
        "            magn,angle = analyse(magn),analyse(angle)\n",
        "            def to_rgb(magn,angle):\n",
        "                magn = K.cast(magn,dtype=tf.complex64)\n",
        "                angle = K.cast(angle,dtype=tf.complex64)\n",
        "                print(type(magn))\n",
        "                x_list_canal = []\n",
        "                for i in range(3):\n",
        "                    complx_tensor = Lambda(lambda mang_angle: mang_angle[0]*tf.exp(1j*mang_angle[1]))([magn[:,:,:,i],angle[:,:,:,i]])\n",
        "                    ifft = Lambda(tf.ifft2d)(complx_tensor)\n",
        "                    x_list_canal.append(K.expand_dims(ifft,axis=-1))\n",
        "                images = Concatenate()(x_list_canal)\n",
        "                images = K.cast(images,dtype=tf.float32)\n",
        "                return images\n",
        "            couche_FFT = to_rgb(magn,angle)\n",
        "            print(type(couche_FFT))\n",
        "            index_couches += 1\n",
        "        with K.name_scope('Generateur_image'):\n",
        "            couche = Convolution2D(filters=500,kernel_size=(2,2),activation=None,strides=(1,1),padding='SAME',name=str(index_couches)+'_'+'Conv_f500_k2')(inpt)\n",
        "            index_couches += 1\n",
        "            couche = Dropout(name=str(index_couches)+'_'+'dropout',rate=0.25)(couche)\n",
        "            index_couches += 1\n",
        "            couche = LRN2D(name=str(index_couches)+'_'+'batchnorm',n=21,k=2,alpha=10**-4,beta=0.75)(couche)\n",
        "            index_couches += 1\n",
        "            couche = Activation(SELU,name=str(index_couches)+'_'+'activation_SELU')(couche)\n",
        "            index_couches += 1\n",
        "#             Llayers.append([couche,str(index_couches)+'_'+'activation_SELU'])\n",
        "            couche = Convolution2D(filters=100,kernel_size=(2,2),activation=None,strides=(1,1),padding='SAME',name=str(index_couches)+'_'+'Conv_f100_k2')(couche)\n",
        "            index_couches += 1\n",
        "            couche = BatchNormalization(name=str(index_couches)+'_'+'batchnorm')(couche)\n",
        "            index_couches += 1\n",
        "            couche = Activation(SELU,name=str(index_couches)+'_'+'activation_SELU')(couche)\n",
        "            index_couches += 1\n",
        "            couche = Concatenate(axis=-1,name=str(index_couches)+'_'+'Merge_img_fft')([couche,couche_FFT])\n",
        "#             Llayers.append([couche,str(index_couches)+'_'+'activation_SELU'])\n",
        "            couche = Convolution2D(filters=3,kernel_size=(2,2),activation=None,strides=(1,1),padding='SAME',name=str(index_couches)+'_'+'Conv_f3_k2')(couche)\n",
        "            index_couches += 1\n",
        "            couche = BatchNormalization(name=str(index_couches)+'_'+'batchnorm')(couche)   \n",
        "            index_couches += 1\n",
        "            couche = Activation(SELU,name=str(index_couches)+'_'+'activation_SELU')(couche)\n",
        "            index_couches += 1\n",
        "            couche = Dense(nb_couches,activation=None,name=str(index_couches)+'_'+'dense_n3')(couche)\n",
        "            index_couches += 1\n",
        "            couche = BatchNormalization(name=str(index_couches)+'_'+'batchnorm')(couche)   \n",
        "            index_couches += 1\n",
        "            couche = Activation(SELU,name=str(index_couches)+'_'+'activation_SELU')(couche)\n",
        "            index_couches += 1\n",
        "            # couche = Add(name=str(index_couches)+'_'+'add')([couche,inpt])\n",
        "            Llayers.append([couche,str(index_couches)+'_'+'activation_SELU'])\n",
        "            # generator_ouput = couche\n",
        "            if part == 'gen':\n",
        "                return couche\n",
        "    if part == 'gen_disc' or part == 'disc':\n",
        "        with K.name_scope('Discriminateur'):\n",
        "            with K.name_scope('Bruit'):\n",
        "                if part == 'gen_disc':\n",
        "                    bruit = Convolution2D(filters=1,kernel_size=(2,2),activation=None,strides=(1,1),padding='SAME',name=str(index_couches)+'_'+'Conv_f1_k2')(couche)\n",
        "                else:\n",
        "                    bruit = Convolution2D(filters=1,kernel_size=(2,2),activation=None,strides=(1,1),padding='SAME',name=str(index_couches)+'_'+'Conv_f1_k2')(inpt)\n",
        "                index_couches += 1\n",
        "                bruit = BatchNormalization(name=str(index_couches)+'_'+'batchnorm')(bruit)\n",
        "                index_couches += 1\n",
        "                bruit = Activation(SELU,name=str(index_couches)+'_'+'activation_SELU')(bruit)\n",
        "                index_couches += 1\n",
        "                bruit = Convolution2D(filters=nb_couches,kernel_size=(2,2),activation=None,strides=(1,1),padding='SAME',name=str(index_couches)+'_'+'Conv_f3_k2')(bruit)\n",
        "                index_couches += 1\n",
        "                bruit = BatchNormalization(name=str(index_couches)+'_'+'batchnorm')(bruit)\n",
        "                index_couches += 1\n",
        "                bruit = Activation(SELU,name=str(index_couches)+'_'+'activation_SELU')(bruit)\n",
        "                index_couches += 1\n",
        "                if part == 'gen_disc':\n",
        "                    bruit = Subtract(name=str(index_couches)+'_'+'subtract')([couche,bruit])\n",
        "                else:\n",
        "                    bruit = Subtract(name=str(index_couches)+'_'+'subtract')([inpt,bruit])\n",
        "                index_couches += 1\n",
        "#                 Llayers.append([bruit,str(index_couches)+'_'+'subtract'])\n",
        "                bruit = MaxPooling2D(name=str(index_couches)+'_'+'maxpooling',pool_size=3,padding='VALID')(bruit)\n",
        "                index_couches += 1\n",
        "                bruit1 = Convolution2D(filters=1,kernel_size=(2,2),activation=None,strides=(1,1),padding='SAME',name=str(index_couches)+'_'+'Conv_f1_k2')(bruit)\n",
        "                index_couches += 1\n",
        "                bruit1 = BatchNormalization(name=str(index_couches)+'_'+'batchnorm')(bruit)\n",
        "                index_couches += 1\n",
        "                bruit1 = Activation(SELU,name=str(index_couches)+'_'+'activation_SELU')(bruit)\n",
        "                index_couches += 1\n",
        "                bruit1 = Convolution2D(filters=nb_couches,kernel_size=(2,2),activation=None,strides=(1,1),padding='SAME',name=str(index_couches)+'_'+'Conv_f_k2')(bruit)\n",
        "                index_couches += 1\n",
        "                bruit1 = BatchNormalization(name=str(index_couches)+'_'+'batchnorm')(bruit)\n",
        "                index_couches += 1\n",
        "                bruit1 = Activation(SELU,name=str(index_couches)+'_'+'activation_SELU')(bruit)\n",
        "                index_couches += 1\n",
        "                bruit = Subtract(name=str(index_couches)+'_'+'subtract')([bruit,bruit1])\n",
        "                index_couches += 1\n",
        "#                 Llayers.append([bruit,str(index_couches)+'_'+'subtract'])\n",
        "                bruit = MaxPooling2D(name=str(index_couches)+'_'+'maxpooling',pool_size=3,padding='VALID')(bruit)\n",
        "                index_couches += 1\n",
        "#                 Llayers.append([bruit,'disc_bruit_3'])\n",
        "                \n",
        "            with K.name_scope('Traitement_image'):\n",
        "        \n",
        "                def inception(prevShapes):\n",
        "                    import time\n",
        "                    global index_couches\n",
        "                    inpt = Input(shape = prevShapes,name=str(index_couches)+'_'+'inception_input')\n",
        "                    index_couches += 1\n",
        "                    coucheT0 = Convolution2D(filters=100,kernel_size=(1,1),activation=None,strides=(1,1),padding='SAME',name=str(index_couches)+'_'+'Conv_f100_k1')(inpt)\n",
        "                    index_couches += 1\n",
        "                    coucheT1 = Convolution2D(filters=100,kernel_size=(1,1),activation=None,strides=(1,1),padding='SAME',name=str(index_couches)+'_'+'Conv_f100_k1')(inpt)\n",
        "                    index_couches += 1\n",
        "                    coucheT1 = Convolution2D(filters=100,kernel_size=(1,3),activation=None,strides=(1,1),padding='SAME',name=str(index_couches)+'_'+'Conv_f100_k1_3')(coucheT1)\n",
        "                    index_couches += 1\n",
        "                    coucheT1 = Convolution2D(filters=100,kernel_size=(3,1),activation=None,strides=(1,1),padding='SAME',name=str(index_couches)+'_'+'Conv_f100_k3_1')(coucheT1)\n",
        "                    index_couches += 1\n",
        "\n",
        "                    couche = Concatenate(axis=-1,name=str(index_couches)+'_'+'concatenate')([coucheT0,coucheT1])\n",
        "                    index_couches += 1\n",
        "                    couche = Convolution2D(filters=100,kernel_size=(1,1),activation=None,strides=(1,1),padding='SAME',name=str(index_couches)+'_'+'Conv_f100_k1')(couche)\n",
        "                    index_couches += 1\n",
        "                    couche = Add(name=str(index_couches)+'_'+'add')([couche,inpt])  \n",
        "                    return Model(input=inpt,output=couche,name=str(index_couches)+'_'+'Inception_%f'%(time.time()))\n",
        "                \n",
        "                if part == 'gen_disc':\n",
        "                    coucheAdaptation = Convolution2D(filters=100,kernel_size=(1,1),activation=None,strides=(1,1),padding='SAME',name=str(index_couches)+'_'+'Conv_f100_k1')(couche)\n",
        "                else:\n",
        "                    coucheAdaptation = Convolution2D(filters=100,kernel_size=(1,1),activation=None,strides=(1,1),padding='SAME',name=str(index_couches)+'_'+'Conv_f100_k1')(inpt)\n",
        "                index_couches += 1\n",
        "                inceptionModel = inception(coucheAdaptation.get_shape().as_list()[1:])\n",
        "                index_couches += 1\n",
        "                image = inceptionModel(coucheAdaptation)\n",
        "                index_couches += 1\n",
        "                image = LRN2D(name=str(index_couches)+'_'+'local_response_normalizer',n=21,k=2,alpha=10**-4,beta=0.75)(image)\n",
        "                index_couches += 1\n",
        "                image = BatchNormalization(name=str(index_couches)+'_'+'batchnorm')(image)\n",
        "                index_couches += 1\n",
        "                image = Activation(SELU,name=str(index_couches)+'_'+'activation_SELU')(image)\n",
        "                index_couches += 1\n",
        "#                 Llayers.append([image,str(index_couches)+'_'+'activation_SELU'])\n",
        "                index_couches += 1\n",
        "                image = MaxPooling2D(name=str(index_couches)+'_'+'maxpooling',pool_size=3,padding='VALID')(image)\n",
        "                index_couches += 1\n",
        "                inceptionModel = inception(image.get_shape().as_list()[1:])\n",
        "                index_couches += 1\n",
        "                image = inceptionModel(image)\n",
        "                index_couches += 1\n",
        "                image = LRN2D(name=str(index_couches)+'_'+'local_response_normalizer',n=21,k=2,alpha=10**-4,beta=0.75)(image)\n",
        "                index_couches += 1\n",
        "                image = BatchNormalization(name=str(index_couches)+'_'+'batchnorm')(image)\n",
        "                index_couches += 1\n",
        "                image = Activation(SELU,name=str(index_couches)+'_'+'activation_SELU')(image)\n",
        "                index_couches += 1\n",
        "#                 Llayers.append([image,str(index_couches)+'_'+'activation_SELU'])\n",
        "                index_couches += 1\n",
        "                image = MaxPooling2D(name=str(index_couches)+'_'+'maxpooling',pool_size=3,padding='VALID')(image)\n",
        "                index_couches += 1\n",
        "                inceptionModel = inception(image.get_shape().as_list()[1:])\n",
        "                index_couches += 1\n",
        "                image = inceptionModel(image)\n",
        "                index_couches += 1\n",
        "                image = LRN2D(name=str(index_couches)+'_'+'local_response_normalizer',n=21,k=2,alpha=10**-4,beta=0.75)(image)\n",
        "                index_couches += 1\n",
        "                image = BatchNormalization(name=str(index_couches)+'_'+'batchnorm')(image)\n",
        "                index_couches += 1\n",
        "                image = Activation(SELU,name=str(index_couches)+'_'+'activation_SELU')(image)\n",
        "                index_couches += 1\n",
        "#                 Llayers.append([image,str(index_couches)+'_'+'activation_SELU'])\n",
        "                index_couches += 1\n",
        "        \n",
        "            resultatAnalyse = Concatenate(axis=-1,name=str(index_couches)+'_'+'concatenate')([bruit,image])\n",
        "            index_couches += 1\n",
        "            resultatAnalyse = Flatten(name=str(index_couches)+'_'+'flatten')(resultatAnalyse)\n",
        "            index_couches += 1\n",
        "            resultatAnalyse = Dense(500,name=str(index_couches)+'_'+'dense_n500')(resultatAnalyse)\n",
        "            index_couches += 1\n",
        "            resultatAnalyse = Dropout(rate=0.25,name=str(index_couches)+'_'+'dropout')(resultatAnalyse)\n",
        "            index_couches += 1\n",
        "            resultatAnalyse = Activation(SELU,name=str(index_couches)+'_'+'activation_SELU')(resultatAnalyse)\n",
        "            index_couches += 1\n",
        "            probabilite = Dense(1,name=str(index_couches)+'_'+'dense_n1')(resultatAnalyse)\n",
        "            index_couches += 1\n",
        "            probabilite = Activation('sigmoid',name=str(index_couches)+'_'+'activation_sigmoid')(probabilite)\n",
        "        return probabilite"
      ],
      "execution_count": 0,
      "outputs": []
    },
    {
      "cell_type": "code",
      "metadata": {
        "id": "sIbNELPhJLxw",
        "colab_type": "code",
        "colab": {}
      },
      "source": [
        "def AI():\n",
        "    inpt = Input(shape = (199, 199, nb_couches),name=str(0)+'_'+'Image')\n",
        "    print(\"ok\")\n",
        "    probabilite_gen_disc = AI_gen_disc_or_disc_without_input(inpt,part='gen_disc')\n",
        "    probabilite_disc = AI_gen_disc_or_disc_without_input(inpt,part='disc')\n",
        "    generated_image = AI_gen_disc_or_disc_without_input(inpt,part='gen')\n",
        "    return Model(input=inpt,output=probabilite_gen_disc),Model(input=inpt,output=probabilite_disc), Model(input=inpt,output=generated_image)"
      ],
      "execution_count": 0,
      "outputs": []
    },
    {
      "cell_type": "code",
      "metadata": {
        "id": "dO4ay9Zj-ZqD",
        "colab_type": "code",
        "colab": {}
      },
      "source": [
        "def mean_gen_disc_top_27(disc,gen,gen_disc,input_image,desired_image,indexModele):\n",
        "    path_model = \"Models/Modele\"+str(indexModele)+\"_\"\n",
        "    partial_path_gen_backup = path_model + 'gen' + '_'\n",
        "    partial_path_gen_disc_backup = path_model + 'gen_disc' + '_'\n",
        "    partial_path_disc_backup = path_model + 'disc' + '_'\n",
        "\n",
        "    Lloss = []\n",
        "    Lloss_gen = []\n",
        "    Lloss_gen_disc = []\n",
        "    Lloss_disc = []\n",
        "    \n",
        "    try:\n",
        "        gen.save_weights(partial_path_gen_backup + 'orig.h5')\n",
        "    except:\n",
        "        gen.save_weights(partial_path_gen_backup + 'orig.h5')\n",
        "    try:\n",
        "        gen_disc.save_weights(partial_path_gen_disc_backup + 'orig.h5')\n",
        "    except:\n",
        "        gen_disc.save_weights(partial_path_gen_disc_backup + 'orig.h5')\n",
        "    try:\n",
        "        disc.save_weights(partial_path_disc_backup + 'orig.h5')\n",
        "    except:\n",
        "        disc.save_weights(partial_path_disc_backup + 'orig.h5')\n",
        "\n",
        "    for i in range(3):\n",
        "        gen_backup = partial_path_gen_backup + str(i) + '.h5'\n",
        "        print(\"Training \"+gen_backup)\n",
        "        try:\n",
        "            gen.load_weights(partial_path_gen_backup + 'orig.h5')\n",
        "        except:\n",
        "            gen.load_weights(partial_path_gen_backup + 'orig.h5')\n",
        "        loss = gen.train_on_batch(input_image,desired_image)\n",
        "        try:\n",
        "            gen.save_weights(gen_backup)\n",
        "        except:\n",
        "            gen.save_weights(gen_backup)\n",
        "        Lloss.append([gen_backup,loss])\n",
        "    try:\n",
        "        gen_disc.save_weights(partial_path_gen_disc_backup + 'orig.h5')\n",
        "    except:\n",
        "        gen_disc.save_weights(partial_path_gen_disc_backup + 'orig.h5')\n",
        "    try:\n",
        "        disc.save_weights(partial_path_disc_backup + 'orig.h5')\n",
        "    except:\n",
        "        disc.save_weights(partial_path_disc_backup + 'orig.h5')\n",
        "    print(\"Lloss : \",Lloss)\n",
        "    desired_probability = [1]*input_image.shape[0] # Batch size\n",
        "    Lloss_gen_disc_tmp = []\n",
        "    for index_gen_disc,path_loss_backup in enumerate(Lloss):\n",
        "        try:\n",
        "            gen.load_weights(path_loss_backup[0])\n",
        "        except:\n",
        "            gen.load_weights(path_loss_backup[0])\n",
        "        for i in range(3):\n",
        "            gen_disc_backup = partial_path_gen_disc_backup + str(i) + '.h5'\n",
        "            print(\"Training \"+gen_disc_backup)\n",
        "            try:\n",
        "                gen_disc.load_weights(partial_path_gen_disc_backup + 'orig.h5')\n",
        "            except:\n",
        "                gen_disc.load_weights(partial_path_gen_disc_backup + 'orig.h5')\n",
        "            loss = gen_disc.train_on_batch(input_image,desired_probability)\n",
        "            try:\n",
        "                gen_disc.save_weights(gen_disc_backup)\n",
        "            except:\n",
        "                gen_disc.save_weights(gen_disc_backup)\n",
        "            Lloss_gen_disc_tmp.append(path_loss_backup + [gen_disc_backup,loss])\n",
        "    Lloss = Lloss_gen_disc_tmp\n",
        "    print(\"Lloss : \",Lloss)\n",
        "\n",
        "    desired_probability = [1]*(input_image.shape[0]//2)+[0]*(input_image.shape[0]//2)\n",
        "    Lloss_disc_tmp = []\n",
        "    for index_model,item in enumerate(Lloss):\n",
        "        for i in range(3):\n",
        "            disc_backup = partial_path_disc_backup + str(i) + '.h5'\n",
        "            print(\"Training \"+disc_backup)\n",
        "            try:\n",
        "                gen_disc.load_weights(Lloss[index_model][-2])\n",
        "            except:\n",
        "                gen_disc.load_weights(Lloss[index_model][-2])\n",
        "            loss = disc.train_on_batch(input_image,desired_probability)\n",
        "            try:\n",
        "                disc.save_weights(disc_backup)\n",
        "            except:\n",
        "                disc.save_weights(disc_backup)\n",
        "            Lloss_disc_tmp.append(Lloss[index_model]+[disc_backup,loss])\n",
        "\n",
        "\n",
        "    Lloss = [Lloss_disc_tmp[i] + [(Lloss_disc_tmp[i][1]+Lloss_disc_tmp[i][3]+Lloss_disc_tmp[i][5])/3] for i in range(len(Lloss_disc_tmp))]\n",
        "    print(\"Lloss : \",Lloss)\n",
        "    Lloss.sort(key=lambda elem:elem[-1])\n",
        "    print(\"Lloss sorted : \",Lloss)\n",
        "    try:\n",
        "        gen_disc.load_weights(Lloss[0][2])\n",
        "        disc.load_weights(Lloss[0][-3])\n",
        "    except:\n",
        "        gen_disc.load_weights(Lloss[0][2])\n",
        "        disc.load_weights(Lloss[0][-3])\n",
        "    print(\"Best model back\")\n",
        "    return Lloss[0]"
      ],
      "execution_count": 0,
      "outputs": []
    },
    {
      "cell_type": "code",
      "metadata": {
        "id": "7o352RNtxhvE",
        "colab_type": "code",
        "colab": {}
      },
      "source": [
        "def sauvegardeModele(entree_pure,entree_deterioree,model,iteration_entrainement,summary_writer,batch_size=7):\n",
        "    global Llayers\n",
        "    for canal_image in range(3):\n",
        "        summary_image = tf.Summary(value=[tf.Summary.Value(tag=\"input_pure_canal_\"+str(canal_image), \n",
        "                                image=make_image(entree_pure[0,:,:,canal_image]*255))])\n",
        "        summary_writer.add_summary(summary_image,iteration_entrainement)\n",
        "        summary_image = tf.Summary(value=[tf.Summary.Value(tag=\"input_deterioree_canal_\"+str(canal_image), \n",
        "                                image=make_image(entree_deterioree[0,:,:,canal_image]*255))])\n",
        "        summary_writer.add_summary(summary_image,iteration_entrainement)\n",
        "        \n",
        "    for p,entree in enumerate([entree_pure,entree_deterioree]):\n",
        "        layer_outputs,layer_names = [Llayers[i][0] for i in range(len(Llayers))],[Llayers[i][1] for i in range(len(Llayers))]\n",
        "        print(\"layer_outputs : \",layer_outputs)\n",
        "        model_calcul_image = Model(input=model.input,outputs=[model.output]+layer_outputs)\n",
        "        sorties_couches = model_calcul_image.predict(entree, batch_size=batch_size)[1:]\n",
        "        for index_couche,sortie_couche in enumerate(sorties_couches):\n",
        "            layer_name = layer_names[index_couche]\n",
        "            dim_sortie = sortie_couche.shape\n",
        "            if len(dim_sortie) == 4:\n",
        "                for canal_image in range(dim_sortie[-1]):\n",
        "                    tag = layer_name\n",
        "                    tag += 'pure' if p == 0 else 'deterioree'\n",
        "                    tag += \"_canal_\" + str(canal_image)\n",
        "                    summary_image = tf.Summary(value=[tf.Summary.Value(tag=tag, \n",
        "                                            image=make_image(sortie_couche[0,:,:,canal_image]*255))])\n",
        "                    summary_writer.add_summary(summary_image,iteration_entrainement)\n",
        "    return None"
      ],
      "execution_count": 0,
      "outputs": []
    },
    {
      "cell_type": "code",
      "metadata": {
        "id": "Y1xaVw_4SfiZ",
        "colab_type": "code",
        "colab": {}
      },
      "source": [
        "from google.colab import output\n",
        "def beep():\n",
        "    output.eval_js('new Audio(\"https://upload.wikimedia.org/wikipedia/commons/0/05/Beep-09.ogg\").play()')\n",
        "    return None"
      ],
      "execution_count": 0,
      "outputs": []
    },
    {
      "cell_type": "code",
      "metadata": {
        "id": "c3fMqsjEMJTs",
        "colab_type": "code",
        "colab": {}
      },
      "source": [
        "from __future__ import print_function\n",
        "from ipywidgets import interact, interactive, fixed, interact_manual\n",
        "import ipywidgets as widgets\n",
        "import time\n",
        "continuer = None\n",
        "def block_or_continue():\n",
        "    beep()\n",
        "    print(\"Would you resume training ? True or False ?\")\n",
        "    return bool(input())"
      ],
      "execution_count": 0,
      "outputs": []
    },
    {
      "cell_type": "code",
      "metadata": {
        "id": "JB7xsmOEThUt",
        "colab_type": "code",
        "colab": {}
      },
      "source": [
        "def backup(image,imageBruitee,gen_disc,disc,index,summary_writer):\n",
        "    x = np.concatenate((image,imageBruitee))\n",
        "    sauvegardeModele(image,imageBruitee,gen_disc,index,summary_writer)\n",
        "    p_gen_disc = gen_disc.predict(x)[0]\n",
        "    p_disc = disc.predict(x)[0]\n",
        "\n",
        "    summary_loss = tf.Summary(value=[tf.Summary.Value(tag=\"Probabilité gen-disc img 0 (orig pure) pure : \", \n",
        "                                        simple_value=p_gen_disc) ])\n",
        "    summary_writer.add_summary(summary_loss,index)\n",
        "    summary_loss = tf.Summary(value=[tf.Summary.Value(tag=\"Probabilité disc img 0 (orig pure) pure : \", \n",
        "                                        simple_value=p_disc) ])\n",
        "    summary_writer.add_summary(summary_loss,index)\n",
        "    x_proba = np.concatenate((imageBruitee,imageBruitee))\n",
        "    p_gen_disc = gen_disc.predict(x_proba)[0]\n",
        "    p_disc = disc.predict(x_proba)[0]\n",
        "    summary_loss = tf.Summary(value=[tf.Summary.Value(tag=\"Probabilité gen-disc img 0 (orig détériorée) pure : \", \n",
        "                                        simple_value=p_gen_disc) ])\n",
        "    summary_writer.add_summary(summary_loss,index)\n",
        "    summary_loss = tf.Summary(value=[tf.Summary.Value(tag=\"Probabilité disc img 0 (orig détériorée) pure : \", \n",
        "                                        simple_value=p_disc) ])\n",
        "    summary_writer.add_summary(summary_loss,index)"
      ],
      "execution_count": 0,
      "outputs": []
    },
    {
      "cell_type": "code",
      "metadata": {
        "id": "39XpimsoQARk",
        "colab_type": "code",
        "colab": {}
      },
      "source": [
        "def custom_loss(y_true,y_pred):\n",
        "    return K.mean(K.square(y_pred - y_true),axis=-1)+K.max(K.square(y_pred - y_true),axis=-1)"
      ],
      "execution_count": 0,
      "outputs": []
    },
    {
      "cell_type": "code",
      "metadata": {
        "id": "fDAX-aHtopZ-",
        "colab_type": "code",
        "colab": {}
      },
      "source": [
        "def to_fft(img_tensor):\n",
        "    L = []\n",
        "    print(img_tensor.shape[0],img_tensor.get_shape().as_list())\n",
        "    for index_image in range(img_tensor.get_shape().as_list()[0]):\n",
        "        L.append(to_fft_single(img_tensor[index_image,:,:,:]))\n",
        "    return np.stack(L,axis=0)\n",
        "\n",
        "def to_img(fft_cplx):\n",
        "    return to_uint8_array(np.fft.ifft2(fft_cplx))\n",
        "def to_fft_single(img):\n",
        "    fft_cplx = np.fft.fft2(img)\n",
        "    fft = 20*np.log(np.abs(fft_cplx)+10**-5*np.ones(img.shape))\n",
        "    fft = fft + np.abs(np.min(fft))*np.ones(fft.shape)\n",
        "    fft = fft / (np.max(fft)*np.ones(fft.shape))*(255*np.ones(fft.shape))\n",
        "    fft_uint8 = to_uint8_array(fft)\n",
        "    print(np.max(fft_uint8),np.min(fft_uint8),fft_uint8.shape,fft_uint8.dtype)\n",
        "    return fft_cplx\n",
        "\n",
        "def to_uint8_array(array):\n",
        "    return array.astype(np.uint8)\n",
        "def next_batch_bruit_voile_fft():\n",
        "    image,imageBruitee = next_batch_bruit_voile_2(7,images,199,np.float32,[1,1,1],[50,50])\n",
        "    "
      ],
      "execution_count": 0,
      "outputs": []
    },
    {
      "cell_type": "code",
      "metadata": {
        "id": "1e5YM7WEs6sw",
        "colab_type": "code",
        "outputId": "b09ea113-7673-42cd-db1a-2236f322a162",
        "colab": {
          "base_uri": "https://localhost:8080/",
          "height": 868
        }
      },
      "source": [
        "index_couches = 0\n",
        "Llayers = []\n",
        "def train_gen_disc(images,eval_data,indexModele):\n",
        "    gen_disc,disc,gen = AI()\n",
        "    gen_disc_optim = SGD(lr=0.0005, momentum=0.9, nesterov=True)\n",
        "    disc_optim = SGD(lr=0.0005, momentum=0.9, nesterov=True)\n",
        "    gen_optim = SGD(lr=0.0005, momentum=0.9, nesterov=True)\n",
        "    disc.compile(loss='binary_crossentropy', optimizer=disc_optim)\n",
        "    gen_disc.compile(loss='binary_crossentropy', optimizer=gen_disc_optim)\n",
        "    gen.compile(loss=custom_loss, optimizer=gen_optim)\n",
        "    print(\"Layers : \",Llayers)\n",
        "    print(gen_disc.summary())\n",
        "    print(disc.summary())\n",
        "    print(Llayers)\n",
        "    Lloss = []\n",
        "    iterations = 50\n",
        "    index = 0\n",
        "    import datetime\n",
        "    chaine_date = datetime.datetime.today().strftime('%Y-%m-%d_%Hh%Mmin%Ss') #cf http://strftime.org/ et https://www.science-emergence.com/Articles/Obtenir-la-date-daujourdhui-au-format-YYYY-MM-DD-avec-python/\n",
        "    summary_writer = tf.summary.FileWriter(logdir='./logs/Modele'+str(indexModele)+'_gen_disc_'+chaine_date,graph=tf.get_default_graph())\n",
        "    while index < iterations:\n",
        "        image,imageBruitee = next_batch_bruit_voile_2(7,images,199,np.float32,[1,1,1],[50,50])\n",
        "        image,imageBruitee = to_fft_single(image),to_fft_single(imageBruitee)\n",
        "        print(\"Max-min : \",np.max(image),np.min(image))\n",
        "        current_learning_rate = tauxApprentissage(index,10**-4,10,10**-7)\n",
        "        K.set_value(disc.optimizer.lr, current_learning_rate)\n",
        "        K.set_value(gen_disc.optimizer.lr, current_learning_rate)\n",
        "        current_learning_rate = tauxApprentissage(index,1,15,10**-7)\n",
        "        K.set_value(gen.optimizer.lr, current_learning_rate)\n",
        "        x = np.concatenate((image,imageBruitee))\n",
        "        loss = mean_gen_disc_top_27(disc,gen,gen_disc,np.concatenate((image,imageBruitee)),np.concatenate((image,image)),indexModele)\n",
        "        Lloss.append(loss)\n",
        "        print(\"Iteration %i : gen, erreur : %f, gen_disc, erreur : %f ; disc, erreur : %f ; erreur moyenne : %f\"%(index,loss[1],loss[3],loss[-2],loss[-1]))\n",
        "        summary_loss = tf.Summary(value=[tf.Summary.Value(tag=\"Erreur gen : MSE\", \n",
        "                                             simple_value=loss[1]) ])\n",
        "        summary_writer.add_summary(summary_loss,index)\n",
        "        summary_loss = tf.Summary(value=[tf.Summary.Value(tag=\"Erreur gen-disc : binary-crossentropy\", \n",
        "                                             simple_value=loss[3]) ])\n",
        "        summary_writer.add_summary(summary_loss,index)\n",
        "        summary_loss = tf.Summary(value=[tf.Summary.Value(tag=\"Erreur disc : binary-crossentropy\", \n",
        "                                             simple_value=loss[-2]) ])\n",
        "        summary_writer.add_summary(summary_loss,index)\n",
        "        summary_loss = tf.Summary(value=[tf.Summary.Value(tag=\"Erreur moyenne : binary-crossentropy\", \n",
        "                                             simple_value=loss[-1]) ])\n",
        "        summary_writer.add_summary(summary_loss,index)\n",
        "        \n",
        "        if index % 5 == 0:\n",
        "            backup(image,imageBruitee,gen_disc,disc,index,summary_writer)\n",
        "        index += 1\n",
        "    summary_writer.close()\n",
        "Lloss = train_gen_disc(images,evalData,9)\n",
        "# See https://stackoverflow.com/questions/48242585/tf-gradients-wont-work-with-tf-assign-but-works-with"
      ],
      "execution_count": 281,
      "outputs": [
        {
          "output_type": "stream",
          "text": [
            "ok\n",
            "Construction gen_disc\n",
            "Step\n",
            "Step\n",
            "Step\n",
            "Shape :  [None, 199, 199, 3]\n",
            "Shape :  [None, 199, 199, 3]\n",
            "Shape :  [None, 199, 199, 3]\n",
            "Shape :  [None, 199, 199, 3]\n",
            "<class 'tensorflow.python.framework.ops.Tensor'>\n",
            "<class 'tensorflow.python.framework.ops.Tensor'>\n"
          ],
          "name": "stdout"
        },
        {
          "output_type": "stream",
          "text": [
            "/usr/local/lib/python3.6/dist-packages/ipykernel_launcher.py:164: UserWarning: Update your `Model` call to the Keras 2 API: `Model(name=\"53_Inception_1568104302.931381\", inputs=Tensor(\"Di..., outputs=Tensor(\"Di...)`\n",
            "/usr/local/lib/python3.6/dist-packages/ipykernel_launcher.py:164: UserWarning: Update your `Model` call to the Keras 2 API: `Model(name=\"67_Inception_1568104303.099620\", inputs=Tensor(\"Di..., outputs=Tensor(\"Di...)`\n",
            "/usr/local/lib/python3.6/dist-packages/ipykernel_launcher.py:164: UserWarning: Update your `Model` call to the Keras 2 API: `Model(name=\"81_Inception_1568104303.270720\", inputs=Tensor(\"Di..., outputs=Tensor(\"Di...)`\n"
          ],
          "name": "stderr"
        },
        {
          "output_type": "stream",
          "text": [
            "Construction disc\n"
          ],
          "name": "stdout"
        },
        {
          "output_type": "stream",
          "text": [
            "/usr/local/lib/python3.6/dist-packages/ipykernel_launcher.py:164: UserWarning: Update your `Model` call to the Keras 2 API: `Model(name=\"117_Inception_1568104303.914603\", inputs=Tensor(\"Di..., outputs=Tensor(\"Di...)`\n",
            "/usr/local/lib/python3.6/dist-packages/ipykernel_launcher.py:164: UserWarning: Update your `Model` call to the Keras 2 API: `Model(name=\"131_Inception_1568104304.083415\", inputs=Tensor(\"Di..., outputs=Tensor(\"Di...)`\n",
            "/usr/local/lib/python3.6/dist-packages/ipykernel_launcher.py:164: UserWarning: Update your `Model` call to the Keras 2 API: `Model(name=\"145_Inception_1568104304.256182\", inputs=Tensor(\"Di..., outputs=Tensor(\"Di...)`\n"
          ],
          "name": "stderr"
        },
        {
          "output_type": "stream",
          "text": [
            "Construction gen\n",
            "Step\n",
            "Step\n",
            "Step\n",
            "Shape :  [None, 199, 199, 3]\n",
            "Shape :  [None, 199, 199, 3]\n",
            "Shape :  [None, 199, 199, 3]\n",
            "Shape :  [None, 199, 199, 3]\n",
            "<class 'tensorflow.python.framework.ops.Tensor'>\n",
            "<class 'tensorflow.python.framework.ops.Tensor'>\n"
          ],
          "name": "stdout"
        },
        {
          "output_type": "stream",
          "text": [
            "/usr/local/lib/python3.6/dist-packages/ipykernel_launcher.py:7: UserWarning: Update your `Model` call to the Keras 2 API: `Model(inputs=Tensor(\"0_..., outputs=Tensor(\"Di...)`\n",
            "  import sys\n"
          ],
          "name": "stderr"
        },
        {
          "output_type": "error",
          "ename": "AttributeError",
          "evalue": "ignored",
          "traceback": [
            "\u001b[0;31m---------------------------------------------------------------------------\u001b[0m",
            "\u001b[0;31mAttributeError\u001b[0m                            Traceback (most recent call last)",
            "\u001b[0;32m<ipython-input-281-439de9b34d64>\u001b[0m in \u001b[0;36m<module>\u001b[0;34m()\u001b[0m\n\u001b[1;32m     49\u001b[0m         \u001b[0mindex\u001b[0m \u001b[0;34m+=\u001b[0m \u001b[0;36m1\u001b[0m\u001b[0;34m\u001b[0m\u001b[0;34m\u001b[0m\u001b[0m\n\u001b[1;32m     50\u001b[0m     \u001b[0msummary_writer\u001b[0m\u001b[0;34m.\u001b[0m\u001b[0mclose\u001b[0m\u001b[0;34m(\u001b[0m\u001b[0;34m)\u001b[0m\u001b[0;34m\u001b[0m\u001b[0;34m\u001b[0m\u001b[0m\n\u001b[0;32m---> 51\u001b[0;31m \u001b[0mLloss\u001b[0m \u001b[0;34m=\u001b[0m \u001b[0mtrain_gen_disc\u001b[0m\u001b[0;34m(\u001b[0m\u001b[0mimages\u001b[0m\u001b[0;34m,\u001b[0m\u001b[0mevalData\u001b[0m\u001b[0;34m,\u001b[0m\u001b[0;36m9\u001b[0m\u001b[0;34m)\u001b[0m\u001b[0;34m\u001b[0m\u001b[0;34m\u001b[0m\u001b[0m\n\u001b[0m\u001b[1;32m     52\u001b[0m \u001b[0;31m# See https://stackoverflow.com/questions/48242585/tf-gradients-wont-work-with-tf-assign-but-works-with\u001b[0m\u001b[0;34m\u001b[0m\u001b[0;34m\u001b[0m\u001b[0;34m\u001b[0m\u001b[0m\n",
            "\u001b[0;32m<ipython-input-281-439de9b34d64>\u001b[0m in \u001b[0;36mtrain_gen_disc\u001b[0;34m(images, eval_data, indexModele)\u001b[0m\n\u001b[1;32m      2\u001b[0m \u001b[0mLlayers\u001b[0m \u001b[0;34m=\u001b[0m \u001b[0;34m[\u001b[0m\u001b[0;34m]\u001b[0m\u001b[0;34m\u001b[0m\u001b[0;34m\u001b[0m\u001b[0m\n\u001b[1;32m      3\u001b[0m \u001b[0;32mdef\u001b[0m \u001b[0mtrain_gen_disc\u001b[0m\u001b[0;34m(\u001b[0m\u001b[0mimages\u001b[0m\u001b[0;34m,\u001b[0m\u001b[0meval_data\u001b[0m\u001b[0;34m,\u001b[0m\u001b[0mindexModele\u001b[0m\u001b[0;34m)\u001b[0m\u001b[0;34m:\u001b[0m\u001b[0;34m\u001b[0m\u001b[0;34m\u001b[0m\u001b[0m\n\u001b[0;32m----> 4\u001b[0;31m     \u001b[0mgen_disc\u001b[0m\u001b[0;34m,\u001b[0m\u001b[0mdisc\u001b[0m\u001b[0;34m,\u001b[0m\u001b[0mgen\u001b[0m \u001b[0;34m=\u001b[0m \u001b[0mAI\u001b[0m\u001b[0;34m(\u001b[0m\u001b[0;34m)\u001b[0m\u001b[0;34m\u001b[0m\u001b[0;34m\u001b[0m\u001b[0m\n\u001b[0m\u001b[1;32m      5\u001b[0m     \u001b[0mgen_disc_optim\u001b[0m \u001b[0;34m=\u001b[0m \u001b[0mSGD\u001b[0m\u001b[0;34m(\u001b[0m\u001b[0mlr\u001b[0m\u001b[0;34m=\u001b[0m\u001b[0;36m0.0005\u001b[0m\u001b[0;34m,\u001b[0m \u001b[0mmomentum\u001b[0m\u001b[0;34m=\u001b[0m\u001b[0;36m0.9\u001b[0m\u001b[0;34m,\u001b[0m \u001b[0mnesterov\u001b[0m\u001b[0;34m=\u001b[0m\u001b[0;32mTrue\u001b[0m\u001b[0;34m)\u001b[0m\u001b[0;34m\u001b[0m\u001b[0;34m\u001b[0m\u001b[0m\n\u001b[1;32m      6\u001b[0m     \u001b[0mdisc_optim\u001b[0m \u001b[0;34m=\u001b[0m \u001b[0mSGD\u001b[0m\u001b[0;34m(\u001b[0m\u001b[0mlr\u001b[0m\u001b[0;34m=\u001b[0m\u001b[0;36m0.0005\u001b[0m\u001b[0;34m,\u001b[0m \u001b[0mmomentum\u001b[0m\u001b[0;34m=\u001b[0m\u001b[0;36m0.9\u001b[0m\u001b[0;34m,\u001b[0m \u001b[0mnesterov\u001b[0m\u001b[0;34m=\u001b[0m\u001b[0;32mTrue\u001b[0m\u001b[0;34m)\u001b[0m\u001b[0;34m\u001b[0m\u001b[0;34m\u001b[0m\u001b[0m\n",
            "\u001b[0;32m<ipython-input-273-359ae2cb53b1>\u001b[0m in \u001b[0;36mAI\u001b[0;34m()\u001b[0m\n\u001b[1;32m      5\u001b[0m     \u001b[0mprobabilite_disc\u001b[0m \u001b[0;34m=\u001b[0m \u001b[0mAI_gen_disc_or_disc_without_input\u001b[0m\u001b[0;34m(\u001b[0m\u001b[0minpt\u001b[0m\u001b[0;34m,\u001b[0m\u001b[0mpart\u001b[0m\u001b[0;34m=\u001b[0m\u001b[0;34m'disc'\u001b[0m\u001b[0;34m)\u001b[0m\u001b[0;34m\u001b[0m\u001b[0;34m\u001b[0m\u001b[0m\n\u001b[1;32m      6\u001b[0m     \u001b[0mgenerated_image\u001b[0m \u001b[0;34m=\u001b[0m \u001b[0mAI_gen_disc_or_disc_without_input\u001b[0m\u001b[0;34m(\u001b[0m\u001b[0minpt\u001b[0m\u001b[0;34m,\u001b[0m\u001b[0mpart\u001b[0m\u001b[0;34m=\u001b[0m\u001b[0;34m'gen'\u001b[0m\u001b[0;34m)\u001b[0m\u001b[0;34m\u001b[0m\u001b[0;34m\u001b[0m\u001b[0m\n\u001b[0;32m----> 7\u001b[0;31m     \u001b[0;32mreturn\u001b[0m \u001b[0mModel\u001b[0m\u001b[0;34m(\u001b[0m\u001b[0minput\u001b[0m\u001b[0;34m=\u001b[0m\u001b[0minpt\u001b[0m\u001b[0;34m,\u001b[0m\u001b[0moutput\u001b[0m\u001b[0;34m=\u001b[0m\u001b[0mprobabilite_gen_disc\u001b[0m\u001b[0;34m)\u001b[0m\u001b[0;34m,\u001b[0m\u001b[0mModel\u001b[0m\u001b[0;34m(\u001b[0m\u001b[0minput\u001b[0m\u001b[0;34m=\u001b[0m\u001b[0minpt\u001b[0m\u001b[0;34m,\u001b[0m\u001b[0moutput\u001b[0m\u001b[0;34m=\u001b[0m\u001b[0mprobabilite_disc\u001b[0m\u001b[0;34m)\u001b[0m\u001b[0;34m,\u001b[0m \u001b[0mModel\u001b[0m\u001b[0;34m(\u001b[0m\u001b[0minput\u001b[0m\u001b[0;34m=\u001b[0m\u001b[0minpt\u001b[0m\u001b[0;34m,\u001b[0m\u001b[0moutput\u001b[0m\u001b[0;34m=\u001b[0m\u001b[0mgenerated_image\u001b[0m\u001b[0;34m)\u001b[0m\u001b[0;34m\u001b[0m\u001b[0;34m\u001b[0m\u001b[0m\n\u001b[0m",
            "\u001b[0;32m/usr/local/lib/python3.6/dist-packages/keras/legacy/interfaces.py\u001b[0m in \u001b[0;36mwrapper\u001b[0;34m(*args, **kwargs)\u001b[0m\n\u001b[1;32m     89\u001b[0m                 warnings.warn('Update your `' + object_name + '` call to the ' +\n\u001b[1;32m     90\u001b[0m                               'Keras 2 API: ' + signature, stacklevel=2)\n\u001b[0;32m---> 91\u001b[0;31m             \u001b[0;32mreturn\u001b[0m \u001b[0mfunc\u001b[0m\u001b[0;34m(\u001b[0m\u001b[0;34m*\u001b[0m\u001b[0margs\u001b[0m\u001b[0;34m,\u001b[0m \u001b[0;34m**\u001b[0m\u001b[0mkwargs\u001b[0m\u001b[0;34m)\u001b[0m\u001b[0;34m\u001b[0m\u001b[0;34m\u001b[0m\u001b[0m\n\u001b[0m\u001b[1;32m     92\u001b[0m         \u001b[0mwrapper\u001b[0m\u001b[0;34m.\u001b[0m\u001b[0m_original_function\u001b[0m \u001b[0;34m=\u001b[0m \u001b[0mfunc\u001b[0m\u001b[0;34m\u001b[0m\u001b[0;34m\u001b[0m\u001b[0m\n\u001b[1;32m     93\u001b[0m         \u001b[0;32mreturn\u001b[0m \u001b[0mwrapper\u001b[0m\u001b[0;34m\u001b[0m\u001b[0;34m\u001b[0m\u001b[0m\n",
            "\u001b[0;32m/usr/local/lib/python3.6/dist-packages/keras/engine/network.py\u001b[0m in \u001b[0;36m__init__\u001b[0;34m(self, *args, **kwargs)\u001b[0m\n\u001b[1;32m     92\u001b[0m                 'inputs' in kwargs and 'outputs' in kwargs):\n\u001b[1;32m     93\u001b[0m             \u001b[0;31m# Graph network\u001b[0m\u001b[0;34m\u001b[0m\u001b[0;34m\u001b[0m\u001b[0;34m\u001b[0m\u001b[0m\n\u001b[0;32m---> 94\u001b[0;31m             \u001b[0mself\u001b[0m\u001b[0;34m.\u001b[0m\u001b[0m_init_graph_network\u001b[0m\u001b[0;34m(\u001b[0m\u001b[0;34m*\u001b[0m\u001b[0margs\u001b[0m\u001b[0;34m,\u001b[0m \u001b[0;34m**\u001b[0m\u001b[0mkwargs\u001b[0m\u001b[0;34m)\u001b[0m\u001b[0;34m\u001b[0m\u001b[0;34m\u001b[0m\u001b[0m\n\u001b[0m\u001b[1;32m     95\u001b[0m         \u001b[0;32melse\u001b[0m\u001b[0;34m:\u001b[0m\u001b[0;34m\u001b[0m\u001b[0;34m\u001b[0m\u001b[0m\n\u001b[1;32m     96\u001b[0m             \u001b[0;31m# Subclassed network\u001b[0m\u001b[0;34m\u001b[0m\u001b[0;34m\u001b[0m\u001b[0;34m\u001b[0m\u001b[0m\n",
            "\u001b[0;32m/usr/local/lib/python3.6/dist-packages/keras/engine/network.py\u001b[0m in \u001b[0;36m_init_graph_network\u001b[0;34m(self, inputs, outputs, name, **kwargs)\u001b[0m\n\u001b[1;32m    235\u001b[0m         \u001b[0;31m# Keep track of the network's nodes and layers.\u001b[0m\u001b[0;34m\u001b[0m\u001b[0;34m\u001b[0m\u001b[0;34m\u001b[0m\u001b[0m\n\u001b[1;32m    236\u001b[0m         nodes, nodes_by_depth, layers, layers_by_depth = _map_graph_network(\n\u001b[0;32m--> 237\u001b[0;31m             self.inputs, self.outputs)\n\u001b[0m\u001b[1;32m    238\u001b[0m         \u001b[0mself\u001b[0m\u001b[0;34m.\u001b[0m\u001b[0m_network_nodes\u001b[0m \u001b[0;34m=\u001b[0m \u001b[0mnodes\u001b[0m\u001b[0;34m\u001b[0m\u001b[0;34m\u001b[0m\u001b[0m\n\u001b[1;32m    239\u001b[0m         \u001b[0mself\u001b[0m\u001b[0;34m.\u001b[0m\u001b[0m_nodes_by_depth\u001b[0m \u001b[0;34m=\u001b[0m \u001b[0mnodes_by_depth\u001b[0m\u001b[0;34m\u001b[0m\u001b[0;34m\u001b[0m\u001b[0m\n",
            "\u001b[0;32m/usr/local/lib/python3.6/dist-packages/keras/engine/network.py\u001b[0m in \u001b[0;36m_map_graph_network\u001b[0;34m(inputs, outputs)\u001b[0m\n\u001b[1;32m   1419\u001b[0m                   \u001b[0mlayer\u001b[0m\u001b[0;34m=\u001b[0m\u001b[0mlayer\u001b[0m\u001b[0;34m,\u001b[0m\u001b[0;34m\u001b[0m\u001b[0;34m\u001b[0m\u001b[0m\n\u001b[1;32m   1420\u001b[0m                   \u001b[0mnode_index\u001b[0m\u001b[0;34m=\u001b[0m\u001b[0mnode_index\u001b[0m\u001b[0;34m,\u001b[0m\u001b[0;34m\u001b[0m\u001b[0;34m\u001b[0m\u001b[0m\n\u001b[0;32m-> 1421\u001b[0;31m                   tensor_index=tensor_index)\n\u001b[0m\u001b[1;32m   1422\u001b[0m \u001b[0;34m\u001b[0m\u001b[0m\n\u001b[1;32m   1423\u001b[0m     \u001b[0;32mfor\u001b[0m \u001b[0mnode\u001b[0m \u001b[0;32min\u001b[0m \u001b[0mreversed\u001b[0m\u001b[0;34m(\u001b[0m\u001b[0mnodes_in_decreasing_depth\u001b[0m\u001b[0;34m)\u001b[0m\u001b[0;34m:\u001b[0m\u001b[0;34m\u001b[0m\u001b[0;34m\u001b[0m\u001b[0m\n",
            "\u001b[0;32m/usr/local/lib/python3.6/dist-packages/keras/engine/network.py\u001b[0m in \u001b[0;36mbuild_map\u001b[0;34m(tensor, finished_nodes, nodes_in_progress, layer, node_index, tensor_index)\u001b[0m\n\u001b[1;32m   1406\u001b[0m             \u001b[0mtensor_index\u001b[0m \u001b[0;34m=\u001b[0m \u001b[0mnode\u001b[0m\u001b[0;34m.\u001b[0m\u001b[0mtensor_indices\u001b[0m\u001b[0;34m[\u001b[0m\u001b[0mi\u001b[0m\u001b[0;34m]\u001b[0m\u001b[0;34m\u001b[0m\u001b[0;34m\u001b[0m\u001b[0m\n\u001b[1;32m   1407\u001b[0m             build_map(x, finished_nodes, nodes_in_progress, layer,\n\u001b[0;32m-> 1408\u001b[0;31m                       node_index, tensor_index)\n\u001b[0m\u001b[1;32m   1409\u001b[0m \u001b[0;34m\u001b[0m\u001b[0m\n\u001b[1;32m   1410\u001b[0m         \u001b[0mfinished_nodes\u001b[0m\u001b[0;34m.\u001b[0m\u001b[0madd\u001b[0m\u001b[0;34m(\u001b[0m\u001b[0mnode\u001b[0m\u001b[0;34m)\u001b[0m\u001b[0;34m\u001b[0m\u001b[0;34m\u001b[0m\u001b[0m\n",
            "\u001b[0;32m/usr/local/lib/python3.6/dist-packages/keras/engine/network.py\u001b[0m in \u001b[0;36mbuild_map\u001b[0;34m(tensor, finished_nodes, nodes_in_progress, layer, node_index, tensor_index)\u001b[0m\n\u001b[1;32m   1406\u001b[0m             \u001b[0mtensor_index\u001b[0m \u001b[0;34m=\u001b[0m \u001b[0mnode\u001b[0m\u001b[0;34m.\u001b[0m\u001b[0mtensor_indices\u001b[0m\u001b[0;34m[\u001b[0m\u001b[0mi\u001b[0m\u001b[0;34m]\u001b[0m\u001b[0;34m\u001b[0m\u001b[0;34m\u001b[0m\u001b[0m\n\u001b[1;32m   1407\u001b[0m             build_map(x, finished_nodes, nodes_in_progress, layer,\n\u001b[0;32m-> 1408\u001b[0;31m                       node_index, tensor_index)\n\u001b[0m\u001b[1;32m   1409\u001b[0m \u001b[0;34m\u001b[0m\u001b[0m\n\u001b[1;32m   1410\u001b[0m         \u001b[0mfinished_nodes\u001b[0m\u001b[0;34m.\u001b[0m\u001b[0madd\u001b[0m\u001b[0;34m(\u001b[0m\u001b[0mnode\u001b[0m\u001b[0;34m)\u001b[0m\u001b[0;34m\u001b[0m\u001b[0;34m\u001b[0m\u001b[0m\n",
            "\u001b[0;32m/usr/local/lib/python3.6/dist-packages/keras/engine/network.py\u001b[0m in \u001b[0;36mbuild_map\u001b[0;34m(tensor, finished_nodes, nodes_in_progress, layer, node_index, tensor_index)\u001b[0m\n\u001b[1;32m   1406\u001b[0m             \u001b[0mtensor_index\u001b[0m \u001b[0;34m=\u001b[0m \u001b[0mnode\u001b[0m\u001b[0;34m.\u001b[0m\u001b[0mtensor_indices\u001b[0m\u001b[0;34m[\u001b[0m\u001b[0mi\u001b[0m\u001b[0;34m]\u001b[0m\u001b[0;34m\u001b[0m\u001b[0;34m\u001b[0m\u001b[0m\n\u001b[1;32m   1407\u001b[0m             build_map(x, finished_nodes, nodes_in_progress, layer,\n\u001b[0;32m-> 1408\u001b[0;31m                       node_index, tensor_index)\n\u001b[0m\u001b[1;32m   1409\u001b[0m \u001b[0;34m\u001b[0m\u001b[0m\n\u001b[1;32m   1410\u001b[0m         \u001b[0mfinished_nodes\u001b[0m\u001b[0;34m.\u001b[0m\u001b[0madd\u001b[0m\u001b[0;34m(\u001b[0m\u001b[0mnode\u001b[0m\u001b[0;34m)\u001b[0m\u001b[0;34m\u001b[0m\u001b[0;34m\u001b[0m\u001b[0m\n",
            "\u001b[0;32m/usr/local/lib/python3.6/dist-packages/keras/engine/network.py\u001b[0m in \u001b[0;36mbuild_map\u001b[0;34m(tensor, finished_nodes, nodes_in_progress, layer, node_index, tensor_index)\u001b[0m\n\u001b[1;32m   1406\u001b[0m             \u001b[0mtensor_index\u001b[0m \u001b[0;34m=\u001b[0m \u001b[0mnode\u001b[0m\u001b[0;34m.\u001b[0m\u001b[0mtensor_indices\u001b[0m\u001b[0;34m[\u001b[0m\u001b[0mi\u001b[0m\u001b[0;34m]\u001b[0m\u001b[0;34m\u001b[0m\u001b[0;34m\u001b[0m\u001b[0m\n\u001b[1;32m   1407\u001b[0m             build_map(x, finished_nodes, nodes_in_progress, layer,\n\u001b[0;32m-> 1408\u001b[0;31m                       node_index, tensor_index)\n\u001b[0m\u001b[1;32m   1409\u001b[0m \u001b[0;34m\u001b[0m\u001b[0m\n\u001b[1;32m   1410\u001b[0m         \u001b[0mfinished_nodes\u001b[0m\u001b[0;34m.\u001b[0m\u001b[0madd\u001b[0m\u001b[0;34m(\u001b[0m\u001b[0mnode\u001b[0m\u001b[0;34m)\u001b[0m\u001b[0;34m\u001b[0m\u001b[0;34m\u001b[0m\u001b[0m\n",
            "\u001b[0;32m/usr/local/lib/python3.6/dist-packages/keras/engine/network.py\u001b[0m in \u001b[0;36mbuild_map\u001b[0;34m(tensor, finished_nodes, nodes_in_progress, layer, node_index, tensor_index)\u001b[0m\n\u001b[1;32m   1406\u001b[0m             \u001b[0mtensor_index\u001b[0m \u001b[0;34m=\u001b[0m \u001b[0mnode\u001b[0m\u001b[0;34m.\u001b[0m\u001b[0mtensor_indices\u001b[0m\u001b[0;34m[\u001b[0m\u001b[0mi\u001b[0m\u001b[0;34m]\u001b[0m\u001b[0;34m\u001b[0m\u001b[0;34m\u001b[0m\u001b[0m\n\u001b[1;32m   1407\u001b[0m             build_map(x, finished_nodes, nodes_in_progress, layer,\n\u001b[0;32m-> 1408\u001b[0;31m                       node_index, tensor_index)\n\u001b[0m\u001b[1;32m   1409\u001b[0m \u001b[0;34m\u001b[0m\u001b[0m\n\u001b[1;32m   1410\u001b[0m         \u001b[0mfinished_nodes\u001b[0m\u001b[0;34m.\u001b[0m\u001b[0madd\u001b[0m\u001b[0;34m(\u001b[0m\u001b[0mnode\u001b[0m\u001b[0;34m)\u001b[0m\u001b[0;34m\u001b[0m\u001b[0;34m\u001b[0m\u001b[0m\n",
            "\u001b[0;32m/usr/local/lib/python3.6/dist-packages/keras/engine/network.py\u001b[0m in \u001b[0;36mbuild_map\u001b[0;34m(tensor, finished_nodes, nodes_in_progress, layer, node_index, tensor_index)\u001b[0m\n\u001b[1;32m   1406\u001b[0m             \u001b[0mtensor_index\u001b[0m \u001b[0;34m=\u001b[0m \u001b[0mnode\u001b[0m\u001b[0;34m.\u001b[0m\u001b[0mtensor_indices\u001b[0m\u001b[0;34m[\u001b[0m\u001b[0mi\u001b[0m\u001b[0;34m]\u001b[0m\u001b[0;34m\u001b[0m\u001b[0;34m\u001b[0m\u001b[0m\n\u001b[1;32m   1407\u001b[0m             build_map(x, finished_nodes, nodes_in_progress, layer,\n\u001b[0;32m-> 1408\u001b[0;31m                       node_index, tensor_index)\n\u001b[0m\u001b[1;32m   1409\u001b[0m \u001b[0;34m\u001b[0m\u001b[0m\n\u001b[1;32m   1410\u001b[0m         \u001b[0mfinished_nodes\u001b[0m\u001b[0;34m.\u001b[0m\u001b[0madd\u001b[0m\u001b[0;34m(\u001b[0m\u001b[0mnode\u001b[0m\u001b[0;34m)\u001b[0m\u001b[0;34m\u001b[0m\u001b[0;34m\u001b[0m\u001b[0m\n",
            "\u001b[0;32m/usr/local/lib/python3.6/dist-packages/keras/engine/network.py\u001b[0m in \u001b[0;36mbuild_map\u001b[0;34m(tensor, finished_nodes, nodes_in_progress, layer, node_index, tensor_index)\u001b[0m\n\u001b[1;32m   1406\u001b[0m             \u001b[0mtensor_index\u001b[0m \u001b[0;34m=\u001b[0m \u001b[0mnode\u001b[0m\u001b[0;34m.\u001b[0m\u001b[0mtensor_indices\u001b[0m\u001b[0;34m[\u001b[0m\u001b[0mi\u001b[0m\u001b[0;34m]\u001b[0m\u001b[0;34m\u001b[0m\u001b[0;34m\u001b[0m\u001b[0m\n\u001b[1;32m   1407\u001b[0m             build_map(x, finished_nodes, nodes_in_progress, layer,\n\u001b[0;32m-> 1408\u001b[0;31m                       node_index, tensor_index)\n\u001b[0m\u001b[1;32m   1409\u001b[0m \u001b[0;34m\u001b[0m\u001b[0m\n\u001b[1;32m   1410\u001b[0m         \u001b[0mfinished_nodes\u001b[0m\u001b[0;34m.\u001b[0m\u001b[0madd\u001b[0m\u001b[0;34m(\u001b[0m\u001b[0mnode\u001b[0m\u001b[0;34m)\u001b[0m\u001b[0;34m\u001b[0m\u001b[0;34m\u001b[0m\u001b[0m\n",
            "\u001b[0;32m/usr/local/lib/python3.6/dist-packages/keras/engine/network.py\u001b[0m in \u001b[0;36mbuild_map\u001b[0;34m(tensor, finished_nodes, nodes_in_progress, layer, node_index, tensor_index)\u001b[0m\n\u001b[1;32m   1406\u001b[0m             \u001b[0mtensor_index\u001b[0m \u001b[0;34m=\u001b[0m \u001b[0mnode\u001b[0m\u001b[0;34m.\u001b[0m\u001b[0mtensor_indices\u001b[0m\u001b[0;34m[\u001b[0m\u001b[0mi\u001b[0m\u001b[0;34m]\u001b[0m\u001b[0;34m\u001b[0m\u001b[0;34m\u001b[0m\u001b[0m\n\u001b[1;32m   1407\u001b[0m             build_map(x, finished_nodes, nodes_in_progress, layer,\n\u001b[0;32m-> 1408\u001b[0;31m                       node_index, tensor_index)\n\u001b[0m\u001b[1;32m   1409\u001b[0m \u001b[0;34m\u001b[0m\u001b[0m\n\u001b[1;32m   1410\u001b[0m         \u001b[0mfinished_nodes\u001b[0m\u001b[0;34m.\u001b[0m\u001b[0madd\u001b[0m\u001b[0;34m(\u001b[0m\u001b[0mnode\u001b[0m\u001b[0;34m)\u001b[0m\u001b[0;34m\u001b[0m\u001b[0;34m\u001b[0m\u001b[0m\n",
            "\u001b[0;32m/usr/local/lib/python3.6/dist-packages/keras/engine/network.py\u001b[0m in \u001b[0;36mbuild_map\u001b[0;34m(tensor, finished_nodes, nodes_in_progress, layer, node_index, tensor_index)\u001b[0m\n\u001b[1;32m   1406\u001b[0m             \u001b[0mtensor_index\u001b[0m \u001b[0;34m=\u001b[0m \u001b[0mnode\u001b[0m\u001b[0;34m.\u001b[0m\u001b[0mtensor_indices\u001b[0m\u001b[0;34m[\u001b[0m\u001b[0mi\u001b[0m\u001b[0;34m]\u001b[0m\u001b[0;34m\u001b[0m\u001b[0;34m\u001b[0m\u001b[0m\n\u001b[1;32m   1407\u001b[0m             build_map(x, finished_nodes, nodes_in_progress, layer,\n\u001b[0;32m-> 1408\u001b[0;31m                       node_index, tensor_index)\n\u001b[0m\u001b[1;32m   1409\u001b[0m \u001b[0;34m\u001b[0m\u001b[0m\n\u001b[1;32m   1410\u001b[0m         \u001b[0mfinished_nodes\u001b[0m\u001b[0;34m.\u001b[0m\u001b[0madd\u001b[0m\u001b[0;34m(\u001b[0m\u001b[0mnode\u001b[0m\u001b[0;34m)\u001b[0m\u001b[0;34m\u001b[0m\u001b[0;34m\u001b[0m\u001b[0m\n",
            "\u001b[0;32m/usr/local/lib/python3.6/dist-packages/keras/engine/network.py\u001b[0m in \u001b[0;36mbuild_map\u001b[0;34m(tensor, finished_nodes, nodes_in_progress, layer, node_index, tensor_index)\u001b[0m\n\u001b[1;32m   1406\u001b[0m             \u001b[0mtensor_index\u001b[0m \u001b[0;34m=\u001b[0m \u001b[0mnode\u001b[0m\u001b[0;34m.\u001b[0m\u001b[0mtensor_indices\u001b[0m\u001b[0;34m[\u001b[0m\u001b[0mi\u001b[0m\u001b[0;34m]\u001b[0m\u001b[0;34m\u001b[0m\u001b[0;34m\u001b[0m\u001b[0m\n\u001b[1;32m   1407\u001b[0m             build_map(x, finished_nodes, nodes_in_progress, layer,\n\u001b[0;32m-> 1408\u001b[0;31m                       node_index, tensor_index)\n\u001b[0m\u001b[1;32m   1409\u001b[0m \u001b[0;34m\u001b[0m\u001b[0m\n\u001b[1;32m   1410\u001b[0m         \u001b[0mfinished_nodes\u001b[0m\u001b[0;34m.\u001b[0m\u001b[0madd\u001b[0m\u001b[0;34m(\u001b[0m\u001b[0mnode\u001b[0m\u001b[0;34m)\u001b[0m\u001b[0;34m\u001b[0m\u001b[0;34m\u001b[0m\u001b[0m\n",
            "\u001b[0;32m/usr/local/lib/python3.6/dist-packages/keras/engine/network.py\u001b[0m in \u001b[0;36mbuild_map\u001b[0;34m(tensor, finished_nodes, nodes_in_progress, layer, node_index, tensor_index)\u001b[0m\n\u001b[1;32m   1406\u001b[0m             \u001b[0mtensor_index\u001b[0m \u001b[0;34m=\u001b[0m \u001b[0mnode\u001b[0m\u001b[0;34m.\u001b[0m\u001b[0mtensor_indices\u001b[0m\u001b[0;34m[\u001b[0m\u001b[0mi\u001b[0m\u001b[0;34m]\u001b[0m\u001b[0;34m\u001b[0m\u001b[0;34m\u001b[0m\u001b[0m\n\u001b[1;32m   1407\u001b[0m             build_map(x, finished_nodes, nodes_in_progress, layer,\n\u001b[0;32m-> 1408\u001b[0;31m                       node_index, tensor_index)\n\u001b[0m\u001b[1;32m   1409\u001b[0m \u001b[0;34m\u001b[0m\u001b[0m\n\u001b[1;32m   1410\u001b[0m         \u001b[0mfinished_nodes\u001b[0m\u001b[0;34m.\u001b[0m\u001b[0madd\u001b[0m\u001b[0;34m(\u001b[0m\u001b[0mnode\u001b[0m\u001b[0;34m)\u001b[0m\u001b[0;34m\u001b[0m\u001b[0;34m\u001b[0m\u001b[0m\n",
            "\u001b[0;32m/usr/local/lib/python3.6/dist-packages/keras/engine/network.py\u001b[0m in \u001b[0;36mbuild_map\u001b[0;34m(tensor, finished_nodes, nodes_in_progress, layer, node_index, tensor_index)\u001b[0m\n\u001b[1;32m   1406\u001b[0m             \u001b[0mtensor_index\u001b[0m \u001b[0;34m=\u001b[0m \u001b[0mnode\u001b[0m\u001b[0;34m.\u001b[0m\u001b[0mtensor_indices\u001b[0m\u001b[0;34m[\u001b[0m\u001b[0mi\u001b[0m\u001b[0;34m]\u001b[0m\u001b[0;34m\u001b[0m\u001b[0;34m\u001b[0m\u001b[0m\n\u001b[1;32m   1407\u001b[0m             build_map(x, finished_nodes, nodes_in_progress, layer,\n\u001b[0;32m-> 1408\u001b[0;31m                       node_index, tensor_index)\n\u001b[0m\u001b[1;32m   1409\u001b[0m \u001b[0;34m\u001b[0m\u001b[0m\n\u001b[1;32m   1410\u001b[0m         \u001b[0mfinished_nodes\u001b[0m\u001b[0;34m.\u001b[0m\u001b[0madd\u001b[0m\u001b[0;34m(\u001b[0m\u001b[0mnode\u001b[0m\u001b[0;34m)\u001b[0m\u001b[0;34m\u001b[0m\u001b[0;34m\u001b[0m\u001b[0m\n",
            "\u001b[0;32m/usr/local/lib/python3.6/dist-packages/keras/engine/network.py\u001b[0m in \u001b[0;36mbuild_map\u001b[0;34m(tensor, finished_nodes, nodes_in_progress, layer, node_index, tensor_index)\u001b[0m\n\u001b[1;32m   1406\u001b[0m             \u001b[0mtensor_index\u001b[0m \u001b[0;34m=\u001b[0m \u001b[0mnode\u001b[0m\u001b[0;34m.\u001b[0m\u001b[0mtensor_indices\u001b[0m\u001b[0;34m[\u001b[0m\u001b[0mi\u001b[0m\u001b[0;34m]\u001b[0m\u001b[0;34m\u001b[0m\u001b[0;34m\u001b[0m\u001b[0m\n\u001b[1;32m   1407\u001b[0m             build_map(x, finished_nodes, nodes_in_progress, layer,\n\u001b[0;32m-> 1408\u001b[0;31m                       node_index, tensor_index)\n\u001b[0m\u001b[1;32m   1409\u001b[0m \u001b[0;34m\u001b[0m\u001b[0m\n\u001b[1;32m   1410\u001b[0m         \u001b[0mfinished_nodes\u001b[0m\u001b[0;34m.\u001b[0m\u001b[0madd\u001b[0m\u001b[0;34m(\u001b[0m\u001b[0mnode\u001b[0m\u001b[0;34m)\u001b[0m\u001b[0;34m\u001b[0m\u001b[0;34m\u001b[0m\u001b[0m\n",
            "\u001b[0;32m/usr/local/lib/python3.6/dist-packages/keras/engine/network.py\u001b[0m in \u001b[0;36mbuild_map\u001b[0;34m(tensor, finished_nodes, nodes_in_progress, layer, node_index, tensor_index)\u001b[0m\n\u001b[1;32m   1406\u001b[0m             \u001b[0mtensor_index\u001b[0m \u001b[0;34m=\u001b[0m \u001b[0mnode\u001b[0m\u001b[0;34m.\u001b[0m\u001b[0mtensor_indices\u001b[0m\u001b[0;34m[\u001b[0m\u001b[0mi\u001b[0m\u001b[0;34m]\u001b[0m\u001b[0;34m\u001b[0m\u001b[0;34m\u001b[0m\u001b[0m\n\u001b[1;32m   1407\u001b[0m             build_map(x, finished_nodes, nodes_in_progress, layer,\n\u001b[0;32m-> 1408\u001b[0;31m                       node_index, tensor_index)\n\u001b[0m\u001b[1;32m   1409\u001b[0m \u001b[0;34m\u001b[0m\u001b[0m\n\u001b[1;32m   1410\u001b[0m         \u001b[0mfinished_nodes\u001b[0m\u001b[0;34m.\u001b[0m\u001b[0madd\u001b[0m\u001b[0;34m(\u001b[0m\u001b[0mnode\u001b[0m\u001b[0;34m)\u001b[0m\u001b[0;34m\u001b[0m\u001b[0;34m\u001b[0m\u001b[0m\n",
            "\u001b[0;32m/usr/local/lib/python3.6/dist-packages/keras/engine/network.py\u001b[0m in \u001b[0;36mbuild_map\u001b[0;34m(tensor, finished_nodes, nodes_in_progress, layer, node_index, tensor_index)\u001b[0m\n\u001b[1;32m   1406\u001b[0m             \u001b[0mtensor_index\u001b[0m \u001b[0;34m=\u001b[0m \u001b[0mnode\u001b[0m\u001b[0;34m.\u001b[0m\u001b[0mtensor_indices\u001b[0m\u001b[0;34m[\u001b[0m\u001b[0mi\u001b[0m\u001b[0;34m]\u001b[0m\u001b[0;34m\u001b[0m\u001b[0;34m\u001b[0m\u001b[0m\n\u001b[1;32m   1407\u001b[0m             build_map(x, finished_nodes, nodes_in_progress, layer,\n\u001b[0;32m-> 1408\u001b[0;31m                       node_index, tensor_index)\n\u001b[0m\u001b[1;32m   1409\u001b[0m \u001b[0;34m\u001b[0m\u001b[0m\n\u001b[1;32m   1410\u001b[0m         \u001b[0mfinished_nodes\u001b[0m\u001b[0;34m.\u001b[0m\u001b[0madd\u001b[0m\u001b[0;34m(\u001b[0m\u001b[0mnode\u001b[0m\u001b[0;34m)\u001b[0m\u001b[0;34m\u001b[0m\u001b[0;34m\u001b[0m\u001b[0m\n",
            "\u001b[0;32m/usr/local/lib/python3.6/dist-packages/keras/engine/network.py\u001b[0m in \u001b[0;36mbuild_map\u001b[0;34m(tensor, finished_nodes, nodes_in_progress, layer, node_index, tensor_index)\u001b[0m\n\u001b[1;32m   1406\u001b[0m             \u001b[0mtensor_index\u001b[0m \u001b[0;34m=\u001b[0m \u001b[0mnode\u001b[0m\u001b[0;34m.\u001b[0m\u001b[0mtensor_indices\u001b[0m\u001b[0;34m[\u001b[0m\u001b[0mi\u001b[0m\u001b[0;34m]\u001b[0m\u001b[0;34m\u001b[0m\u001b[0;34m\u001b[0m\u001b[0m\n\u001b[1;32m   1407\u001b[0m             build_map(x, finished_nodes, nodes_in_progress, layer,\n\u001b[0;32m-> 1408\u001b[0;31m                       node_index, tensor_index)\n\u001b[0m\u001b[1;32m   1409\u001b[0m \u001b[0;34m\u001b[0m\u001b[0m\n\u001b[1;32m   1410\u001b[0m         \u001b[0mfinished_nodes\u001b[0m\u001b[0;34m.\u001b[0m\u001b[0madd\u001b[0m\u001b[0;34m(\u001b[0m\u001b[0mnode\u001b[0m\u001b[0;34m)\u001b[0m\u001b[0;34m\u001b[0m\u001b[0;34m\u001b[0m\u001b[0m\n",
            "\u001b[0;32m/usr/local/lib/python3.6/dist-packages/keras/engine/network.py\u001b[0m in \u001b[0;36mbuild_map\u001b[0;34m(tensor, finished_nodes, nodes_in_progress, layer, node_index, tensor_index)\u001b[0m\n\u001b[1;32m   1406\u001b[0m             \u001b[0mtensor_index\u001b[0m \u001b[0;34m=\u001b[0m \u001b[0mnode\u001b[0m\u001b[0;34m.\u001b[0m\u001b[0mtensor_indices\u001b[0m\u001b[0;34m[\u001b[0m\u001b[0mi\u001b[0m\u001b[0;34m]\u001b[0m\u001b[0;34m\u001b[0m\u001b[0;34m\u001b[0m\u001b[0m\n\u001b[1;32m   1407\u001b[0m             build_map(x, finished_nodes, nodes_in_progress, layer,\n\u001b[0;32m-> 1408\u001b[0;31m                       node_index, tensor_index)\n\u001b[0m\u001b[1;32m   1409\u001b[0m \u001b[0;34m\u001b[0m\u001b[0m\n\u001b[1;32m   1410\u001b[0m         \u001b[0mfinished_nodes\u001b[0m\u001b[0;34m.\u001b[0m\u001b[0madd\u001b[0m\u001b[0;34m(\u001b[0m\u001b[0mnode\u001b[0m\u001b[0;34m)\u001b[0m\u001b[0;34m\u001b[0m\u001b[0;34m\u001b[0m\u001b[0m\n",
            "\u001b[0;32m/usr/local/lib/python3.6/dist-packages/keras/engine/network.py\u001b[0m in \u001b[0;36mbuild_map\u001b[0;34m(tensor, finished_nodes, nodes_in_progress, layer, node_index, tensor_index)\u001b[0m\n\u001b[1;32m   1406\u001b[0m             \u001b[0mtensor_index\u001b[0m \u001b[0;34m=\u001b[0m \u001b[0mnode\u001b[0m\u001b[0;34m.\u001b[0m\u001b[0mtensor_indices\u001b[0m\u001b[0;34m[\u001b[0m\u001b[0mi\u001b[0m\u001b[0;34m]\u001b[0m\u001b[0;34m\u001b[0m\u001b[0;34m\u001b[0m\u001b[0m\n\u001b[1;32m   1407\u001b[0m             build_map(x, finished_nodes, nodes_in_progress, layer,\n\u001b[0;32m-> 1408\u001b[0;31m                       node_index, tensor_index)\n\u001b[0m\u001b[1;32m   1409\u001b[0m \u001b[0;34m\u001b[0m\u001b[0m\n\u001b[1;32m   1410\u001b[0m         \u001b[0mfinished_nodes\u001b[0m\u001b[0;34m.\u001b[0m\u001b[0madd\u001b[0m\u001b[0;34m(\u001b[0m\u001b[0mnode\u001b[0m\u001b[0;34m)\u001b[0m\u001b[0;34m\u001b[0m\u001b[0;34m\u001b[0m\u001b[0m\n",
            "\u001b[0;32m/usr/local/lib/python3.6/dist-packages/keras/engine/network.py\u001b[0m in \u001b[0;36mbuild_map\u001b[0;34m(tensor, finished_nodes, nodes_in_progress, layer, node_index, tensor_index)\u001b[0m\n\u001b[1;32m   1378\u001b[0m             \u001b[0mValueError\u001b[0m\u001b[0;34m:\u001b[0m \u001b[0;32mif\u001b[0m \u001b[0ma\u001b[0m \u001b[0mcycle\u001b[0m \u001b[0;32mis\u001b[0m \u001b[0mdetected\u001b[0m\u001b[0;34m.\u001b[0m\u001b[0;34m\u001b[0m\u001b[0;34m\u001b[0m\u001b[0m\n\u001b[1;32m   1379\u001b[0m         \"\"\"\n\u001b[0;32m-> 1380\u001b[0;31m         \u001b[0mnode\u001b[0m \u001b[0;34m=\u001b[0m \u001b[0mlayer\u001b[0m\u001b[0;34m.\u001b[0m\u001b[0m_inbound_nodes\u001b[0m\u001b[0;34m[\u001b[0m\u001b[0mnode_index\u001b[0m\u001b[0;34m]\u001b[0m\u001b[0;34m\u001b[0m\u001b[0;34m\u001b[0m\u001b[0m\n\u001b[0m\u001b[1;32m   1381\u001b[0m \u001b[0;34m\u001b[0m\u001b[0m\n\u001b[1;32m   1382\u001b[0m         \u001b[0;31m# Prevent cycles.\u001b[0m\u001b[0;34m\u001b[0m\u001b[0;34m\u001b[0m\u001b[0;34m\u001b[0m\u001b[0m\n",
            "\u001b[0;31mAttributeError\u001b[0m: 'NoneType' object has no attribute '_inbound_nodes'"
          ]
        }
      ]
    },
    {
      "cell_type": "code",
      "metadata": {
        "id": "8PPuGTwNTLMJ",
        "colab_type": "code",
        "colab": {}
      },
      "source": [
        ""
      ],
      "execution_count": 0,
      "outputs": []
    }
  ]
}