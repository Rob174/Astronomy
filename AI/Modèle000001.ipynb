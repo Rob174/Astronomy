{
  "nbformat": 4,
  "nbformat_minor": 0,
  "metadata": {
    "colab": {
      "name": "Modèle000001.ipynb",
      "version": "0.3.2",
      "provenance": [],
      "collapsed_sections": [
        "R4se1VpyGHLS"
      ],
      "machine_shape": "hm",
      "include_colab_link": true
    },
    "kernelspec": {
      "name": "python3",
      "display_name": "Python 3"
    },
    "accelerator": "TPU"
  },
  "cells": [
    {
      "cell_type": "markdown",
      "metadata": {
        "id": "view-in-github",
        "colab_type": "text"
      },
      "source": [
        "<a href=\"https://colab.research.google.com/github/Rob174/Astronomy/blob/Astronomy/AI/Mod%C3%A8le000001.ipynb\" target=\"_parent\"><img src=\"https://colab.research.google.com/assets/colab-badge.svg\" alt=\"Open In Colab\"/></a>"
      ]
    },
    {
      "cell_type": "markdown",
      "metadata": {
        "colab_type": "text",
        "id": "k_hAT1OO2lUN"
      },
      "source": [
        "# Fonctions de base"
      ]
    },
    {
      "cell_type": "code",
      "metadata": {
        "colab_type": "code",
        "id": "daqyahLS1u1Z",
        "outputId": "bc99b450-d1d7-4a34-c938-b76653e9cef6",
        "colab": {
          "base_uri": "https://localhost:8080/",
          "height": 207
        }
      },
      "source": [
        "from google.colab import drive\n",
        "drive.mount('/content/drive')\n",
        "%cd '/content/drive/My Drive/TIPE'\n",
        "import os\n",
        "from tensorflow.python.client import device_lib\n",
        "print(\"Utilise le\",str(device_lib.list_local_devices()[0])[15:18])\n",
        "print()\n",
        "print()\n",
        "from google.colab import files\n",
        "import tensorflow as tf\n",
        "from tensorflow.python import debug as tf_debug\n",
        "\n",
        "from keras.layers import Layer\n",
        "import matplotlib.gridspec as gridspec\n",
        "from keras.models import Sequential\n",
        "from keras.layers import Dense, Dropout,concatenate,Subtract,Multiply,Average, Concatenate,Reshape, Add, BatchNormalization\n",
        "from keras.layers import Reshape,Lambda\n",
        "from keras.layers.core import Activation\n",
        "from keras.optimizers import SGD, Adam\n",
        "from keras import models\n",
        "from keras.layers.normalization import BatchNormalization\n",
        "from keras.layers.convolutional import UpSampling2D\n",
        "from keras.layers.convolutional import Convolution2D, AveragePooling2D,MaxPooling2D\n",
        "import keras.losses\n",
        "from keras.layers.core import Flatten\n",
        "from keras import backend as K\n",
        "import numpy as np\n",
        "import scipy\n",
        "from PIL import Image\n",
        "from keras.layers import Input\n",
        "from keras.models import Model\n",
        "import cv2\n",
        "import matplotlib.pyplot as plt\n",
        "images = [\"Galaxies_resized/\"+f for f in os.listdir(\"Galaxies_resized/\")]\n",
        "noises = []"
      ],
      "execution_count": 1,
      "outputs": [
        {
          "output_type": "stream",
          "text": [
            "Go to this URL in a browser: https://accounts.google.com/o/oauth2/auth?client_id=947318989803-6bn6qk8qdgf4n4g3pfee6491hc0brc4i.apps.googleusercontent.com&redirect_uri=urn%3Aietf%3Awg%3Aoauth%3A2.0%3Aoob&scope=email%20https%3A%2F%2Fwww.googleapis.com%2Fauth%2Fdocs.test%20https%3A%2F%2Fwww.googleapis.com%2Fauth%2Fdrive%20https%3A%2F%2Fwww.googleapis.com%2Fauth%2Fdrive.photos.readonly%20https%3A%2F%2Fwww.googleapis.com%2Fauth%2Fpeopleapi.readonly&response_type=code\n",
            "\n",
            "Enter your authorization code:\n",
            "··········\n",
            "Mounted at /content/drive\n",
            "/content/drive/My Drive/TIPE\n",
            "Utilise le CPU\n",
            "\n",
            "\n"
          ],
          "name": "stdout"
        },
        {
          "output_type": "stream",
          "text": [
            "Using TensorFlow backend.\n"
          ],
          "name": "stderr"
        }
      ]
    },
    {
      "cell_type": "code",
      "metadata": {
        "id": "Lyewhn0TDz-9",
        "colab_type": "code",
        "colab": {}
      },
      "source": [
        "# Install latest Tensorflow build\n",
        "# !pip install -q tf-nightly-2.0-preview\n",
        "# from tensorflow import summary\n",
        "# %load_ext notebookµ"
      ],
      "execution_count": 0,
      "outputs": []
    },
    {
      "cell_type": "code",
      "metadata": {
        "id": "mUwUDspDemoM",
        "colab_type": "code",
        "colab": {}
      },
      "source": [
        "# !wget https://bin.equinox.io/c/4VmDzA7iaHb/ngrok-stable-linux-amd64.zip\n",
        "# !unzip ngrok-stable-linux-amd64.zip"
      ],
      "execution_count": 0,
      "outputs": []
    },
    {
      "cell_type": "code",
      "metadata": {
        "id": "wYmeFw_vetQr",
        "colab_type": "code",
        "outputId": "f8279daf-788c-4e07-d0f8-7195d263bb25",
        "colab": {
          "base_uri": "https://localhost:8080/",
          "height": 204
        }
      },
      "source": [
        "LOG_DIR = './log'\n",
        "get_ipython().system_raw(\n",
        "    'tensorboard --logdir {} --host 0.0.0.0 --port 6006 &'\n",
        "    .format(LOG_DIR)\n",
        ")\n",
        "get_ipython().system_raw('./ngrok http 6006 &')\n",
        "! curl -s http://localhost:4040/api/tunnels | python3 -c \\\n",
        "    \"import sys, json; print(json.load(sys.stdin)['tunnels'][0]['public_url'])\""
      ],
      "execution_count": 4,
      "outputs": [
        {
          "output_type": "stream",
          "text": [
            "Traceback (most recent call last):\n",
            "  File \"<string>\", line 1, in <module>\n",
            "  File \"/usr/lib/python3.6/json/__init__.py\", line 299, in load\n",
            "    parse_constant=parse_constant, object_pairs_hook=object_pairs_hook, **kw)\n",
            "  File \"/usr/lib/python3.6/json/__init__.py\", line 354, in loads\n",
            "    return _default_decoder.decode(s)\n",
            "  File \"/usr/lib/python3.6/json/decoder.py\", line 339, in decode\n",
            "    obj, end = self.raw_decode(s, idx=_w(s, 0).end())\n",
            "  File \"/usr/lib/python3.6/json/decoder.py\", line 357, in raw_decode\n",
            "    raise JSONDecodeError(\"Expecting value\", s, err.value) from None\n",
            "json.decoder.JSONDecodeError: Expecting value: line 1 column 1 (char 0)\n"
          ],
          "name": "stdout"
        }
      ]
    },
    {
      "cell_type": "code",
      "metadata": {
        "colab_type": "code",
        "id": "fxnCGK3I2hpP",
        "colab": {}
      },
      "source": [
        "def next_batch(batch_size, images,tailleAttendue,formatArray):#ATTENTION : pr tenter d'améliorer l'apprentissage, on augmente la taille minimale d'image prise\n",
        "    \"\"\"\n",
        "    formatArray : format de sortie des données de l'image ; utiliser numpy\n",
        "    \"\"\"\n",
        "    imageEntreeTensor = []\n",
        "    imageSortieTensor = []\n",
        "    while len(imageEntreeTensor) < batch_size:\n",
        "        try:\n",
        "            np.random.shuffle(images)#choix aléatoire de l'image\n",
        "            image = cv2.imread(images[0])#Ouvre en rgb l'image nettoyée\n",
        "            resizedImage = cv2.resize(image,(tailleAttendue,tailleAttendue))\n",
        "            imageSortieTensor.append(np.array(resizedImage,dtype=formatArray))\n",
        "            imageEntreeTensor.append(np.array(resizedImage,dtype=formatArray))\n",
        "        except:\n",
        "            print(\"Error in next_batch\")\n",
        "    imageEntreeTensor = np.array(imageEntreeTensor,formatArray)\n",
        "    return [imageEntreeTensor,imageEntreeTensor]"
      ],
      "execution_count": 0,
      "outputs": []
    },
    {
      "cell_type": "code",
      "metadata": {
        "colab_type": "code",
        "id": "49nICh8X2kOb",
        "colab": {}
      },
      "source": [
        "def next_batch_bruit_voile(batch_size, images,tailleAttendue,formatArray,facteursVoile,bruitParam,plageVal=[0,255]):#ATTENTION : pr tenter d'améliorer l'apprentissage, on augmente la taille minimale d'image prise\n",
        "    \"\"\"\n",
        "    formatArray : format de sortie des données de l'image ; utiliser numpy\n",
        "    facteurVoile : liste de valeur entre 0 et 1 contenant l'atténuation pour chaque couche de l'image\n",
        "    bruitParam : liste avec dans l'ordre moyenne et écart type\n",
        "    \"\"\"\n",
        "    assert plageVal[0] <= plageVal[1]\n",
        "    assert plageVal[0] <= bruitParam[0] <= plageVal[1]\n",
        "    assert plageVal[0] <= bruitParam[0]-bruitParam[1] <= plageVal[1]\n",
        "    assert plageVal[0] <= bruitParam[0]+bruitParam[1] <= plageVal[1]\n",
        "    \n",
        "    imageEntreeTensor,imageSortieTensor = next_batch(batch_size,  images,tailleAttendue,formatArray)\n",
        "    imageSortieTensorCopy = np.array(imageSortieTensor,dtype=np.float32)\n",
        "    for image in range(imageSortieTensorCopy.shape[0]):\n",
        "        for rgbIndex in range(3):\n",
        "            imageSortieTensorCopy[image,:,:,rgbIndex] *= facteursVoile[rgbIndex]\n",
        "    imageSortieTensorCopy = np.clip(imageSortieTensorCopy + np.random.normal(bruitParam[0],bruitParam[1],imageSortieTensorCopy.shape),plageVal[0],plageVal[1])\n",
        "    return [imageEntreeTensor,np.array(imageSortieTensorCopy,dtype=formatArray)]"
      ],
      "execution_count": 0,
      "outputs": []
    },
    {
      "cell_type": "code",
      "metadata": {
        "colab_type": "code",
        "id": "KZrLh69g3Eel",
        "colab": {}
      },
      "source": [
        "def next_batch_bruit_voile_2(batch_size, images,tailleAttendue,formatArray,facteursVoile,bruitParam,plageVal=[0,255]):#ATTENTION : pr tenter d'améliorer l'apprentissage, on augmente la taille minimale d'image prise\n",
        "    \"\"\"\n",
        "    La versison 2 fait les  modification sélectives de couleurs après avoir ajouté le bruit\n",
        "    formatArray : format de sortie des données de l'image ; utiliser numpy\n",
        "    facteurVoile : liste de valeur entre 0 et 1 contenant l'atténuation pour chaque couche de l'image\n",
        "    bruitParam : liste avec dans l'ordre moyenne et écart type\n",
        "    \"\"\"\n",
        "    assert plageVal[0] <= plageVal[1]\n",
        "    assert plageVal[0] <= bruitParam[0] <= plageVal[1]\n",
        "    assert plageVal[0] <= bruitParam[0]-bruitParam[1] <= plageVal[1]\n",
        "    assert plageVal[0] <= bruitParam[0]+bruitParam[1] <= plageVal[1]\n",
        "    \n",
        "    imageEntreeTensor,imageSortieTensor = next_batch(batch_size,  images,tailleAttendue,formatArray)\n",
        "    imageSortieTensorCopy = np.array(imageSortieTensor,dtype=np.float32)\n",
        "    for image in range(imageSortieTensorCopy.shape[0]):\n",
        "        for rgbIndex in range(3):\n",
        "            imageSortieTensorCopy[image,:,:,rgbIndex] += np.random.normal(bruitParam[0],bruitParam[1])\n",
        "            imageSortieTensorCopy[image,:,:,rgbIndex] *= facteursVoile[rgbIndex]\n",
        "    imageSortieTensorCopy /= np.max(imageSortieTensorCopy)\n",
        "    imageSortieTensorCopy *= plageVal[1]\n",
        "    imageSortieTensorCopy = np.clip(imageSortieTensorCopy,plageVal[0],plageVal[1])\n",
        "    return [imageEntreeTensor,np.array(imageSortieTensorCopy,dtype=formatArray)]"
      ],
      "execution_count": 0,
      "outputs": []
    },
    {
      "cell_type": "code",
      "metadata": {
        "colab_type": "code",
        "id": "6nuvaDIBDp3G",
        "colab": {}
      },
      "source": [
        "def normalisation(arrayL,plageEntree=[0,255],plageSortie=[0,1]):\n",
        "    assert plageEntree != plageSortie\n",
        "    assert plageEntree[1]>0 and plageSortie[1] > 0\n",
        "    formatArray = [array.dtype for array in arrayL]\n",
        "    L = [np.array(array,dtype=np.float) for array in arrayL]\n",
        "    for i in range(len(L)):\n",
        "        L[i] = np.array((L[i]-plageEntree[0])/(plageEntree[1]-plageEntree[0])*(plageSortie[1]-plageSortie[0])+plageSortie[0],formatArray[i])\n",
        "    return L"
      ],
      "execution_count": 0,
      "outputs": []
    },
    {
      "cell_type": "code",
      "metadata": {
        "colab_type": "code",
        "id": "AO_NSKJdVoS9",
        "colab": {}
      },
      "source": [
        "def LarrayFloatToUint(L):\n",
        "    return [np.array(array,np.uint) for array in L]"
      ],
      "execution_count": 0,
      "outputs": []
    },
    {
      "cell_type": "code",
      "metadata": {
        "id": "uOZZ2bGdMLEI",
        "colab_type": "code",
        "colab": {}
      },
      "source": [
        "def tauxApprentissage(epoch,ampl,tau,lim):\n",
        "    taux = ampl*10**-((epoch)/tau)\n",
        "    return taux if taux > lim else lim"
      ],
      "execution_count": 0,
      "outputs": []
    },
    {
      "cell_type": "code",
      "metadata": {
        "id": "5wSOGJdQj6dR",
        "colab_type": "code",
        "colab": {}
      },
      "source": [
        "def differenceAcceptee(epoch,ampl,tau,lim):\n",
        "    taux = ampl*10**-((epoch)/tau)\n",
        "    return taux if taux > lim else lim"
      ],
      "execution_count": 0,
      "outputs": []
    },
    {
      "cell_type": "code",
      "metadata": {
        "id": "drdUov_iYAZG",
        "colab_type": "code",
        "colab": {}
      },
      "source": [
        "def convertToUint(array):\n",
        "    return np.array(normalisation(array,[0,1],[0,255]),dtype=np.uint8)"
      ],
      "execution_count": 0,
      "outputs": []
    },
    {
      "cell_type": "code",
      "metadata": {
        "colab_type": "code",
        "id": "Hp8DhcxaEKU-",
        "colab": {}
      },
      "source": [
        "def convertToUintL(L):\n",
        "    Lresult = []\n",
        "    print(\"Entree : \",len(L))\n",
        "    for i in range(len(L)):\n",
        "        Lresult.append(np.array(normalisation(L[i],[0,1],[0,255]),dtype=np.uint8))\n",
        "    print(\"Sortie : \",len(Lresult))\n",
        "    return Lresult"
      ],
      "execution_count": 0,
      "outputs": []
    },
    {
      "cell_type": "code",
      "metadata": {
        "id": "OF62Ds8TNw4J",
        "colab_type": "code",
        "colab": {}
      },
      "source": [
        "index = np.arange(0,len(images))\n",
        "np.random.shuffle(index)\n",
        "trainingData = [images[i] for i in index[:int(0.6*len(images))]]\n",
        "evalData = [images[i] for i in index[int(0.6*len(images))-1:]]"
      ],
      "execution_count": 0,
      "outputs": []
    },
    {
      "cell_type": "code",
      "metadata": {
        "id": "dXZasifPjmid",
        "colab_type": "code",
        "colab": {}
      },
      "source": [
        "# source : https://stackoverflow.com/questions/46418373/how-to-resize-interpolate-a-tensor-in-keras\n",
        "def interpolation(h,w,inputTensor):\n",
        "    def resize_like(inputTensor,h,w):\n",
        "        return tf.image.resize_nearest_neighbor(inputTensor, [h, w])\n",
        "\n",
        "    return Lambda(resize_like, arguments={'h':h,'w':w})(inputTensor)"
      ],
      "execution_count": 0,
      "outputs": []
    },
    {
      "cell_type": "code",
      "metadata": {
        "id": "exgFsJIgpdt3",
        "colab_type": "code",
        "colab": {
          "base_uri": "https://localhost:8080/",
          "height": 88
        },
        "outputId": "9a0f009c-0ef1-401c-9522-88739e28895e"
      },
      "source": [
        "from keras.layers import Activation\n",
        "from keras.utils.generic_utils import get_custom_objects\n",
        "def SELU(x):\n",
        "    return 1.0507*K.elu(x,alpha=1.67326)\n",
        "\n",
        "get_custom_objects().update({'custom_activation': Activation(SELU)})\n",
        "\n",
        "# A mettre pour le modèle : Activation(SELU)"
      ],
      "execution_count": 16,
      "outputs": [
        {
          "output_type": "stream",
          "text": [
            "WARNING: Logging before flag parsing goes to stderr.\n",
            "W0825 07:46:42.706897 140235038889856 deprecation_wrapper.py:119] From /usr/local/lib/python3.6/dist-packages/keras/backend/tensorflow_backend.py:74: The name tf.get_default_graph is deprecated. Please use tf.compat.v1.get_default_graph instead.\n",
            "\n"
          ],
          "name": "stderr"
        }
      ]
    },
    {
      "cell_type": "code",
      "metadata": {
        "id": "DDebcyPfqaow",
        "colab_type": "code",
        "colab": {}
      },
      "source": [
        "class LRN2D(Layer):#Normalisation de réponse locale\n",
        "    \"\"\"\n",
        "    This code is adapted from pylearn2.\n",
        "    License at: https://github.com/lisa-lab/pylearn2/blob/master/LICENSE.txt\n",
        "    \"\"\"\n",
        "\n",
        "    def __init__(self, alpha=1e-4, k=2, beta=0.75, n=5, **kwargs):\n",
        "        if n % 2 == 0:\n",
        "            raise NotImplementedError(\"LRN2D only works with odd n. n provided: \" + str(n))\n",
        "        super(LRN2D, self).__init__(**kwargs)\n",
        "        self.alpha = alpha\n",
        "        self.k = k\n",
        "        self.beta = beta\n",
        "        self.n = n\n",
        "\n",
        "    def get_output(self, train):\n",
        "        X = self.get_input(train)\n",
        "        b, ch, r, c = K.shape(X)\n",
        "        half_n = self.n // 2\n",
        "        input_sqr = K.square(X)\n",
        "        extra_channels = K.zeros((b, ch + 2 * half_n, r, c))\n",
        "        input_sqr = K.concatenate([extra_channels[:, :half_n, :, :],\n",
        "                                   input_sqr,\n",
        "                                   extra_channels[:, half_n + ch:, :, :]],\n",
        "                                  axis=1)\n",
        "        scale = self.k\n",
        "        for i in range(self.n):\n",
        "            scale += self.alpha * input_sqr[:, i:i + ch, :, :]\n",
        "        scale = scale ** self.beta\n",
        "        return X / scale\n",
        "\n",
        "    def get_config(self):\n",
        "        config = {\"name\": self.__class__.__name__,\n",
        "                  \"alpha\": self.alpha,\n",
        "                  \"k\": self.k,\n",
        "                  \"beta\": self.beta,\n",
        "                  \"n\": self.n}\n",
        "        base_config = super(LRN2D, self).get_config()\n",
        "        return dict(list(base_config.items()) + list(config.items()))"
      ],
      "execution_count": 0,
      "outputs": []
    },
    {
      "cell_type": "code",
      "metadata": {
        "id": "qkYZQGhzV3ff",
        "colab_type": "code",
        "colab": {}
      },
      "source": [
        "# cf https://stackoverflow.com/questions/43784921/how-to-display-custom-images-in-tensorboard-using-keras?noredirect=1#comment85726690_43784921\n",
        "def make_image(tensor):\n",
        "    \"\"\"\n",
        "    Convert an numpy representation image to Image protobuf.\n",
        "    Copied from https://github.com/lanpa/tensorboard-pytorch/\n",
        "    \"\"\"\n",
        "    from PIL import Image\n",
        "    height, width = tensor.shape\n",
        "    image = Image.fromarray(tensor).convert('RGB')\n",
        "    import io\n",
        "    output = io.BytesIO()\n",
        "    image.save(output, format='PNG')\n",
        "    image_string = output.getvalue()\n",
        "    output.close()\n",
        "    CHANNEL = 1\n",
        "    return tf.Summary.Image(height=height,\n",
        "                         width=width,\n",
        "                         colorspace=CHANNEL,\n",
        "                         encoded_image_string=image_string)"
      ],
      "execution_count": 0,
      "outputs": []
    },
    {
      "cell_type": "code",
      "metadata": {
        "id": "QMqHoyWEErBL",
        "colab_type": "code",
        "colab": {}
      },
      "source": [
        "nb_couches = 3\n",
        "def AI_gen_disc_or_disc_without_input(inpt,part='gen_disc'):\n",
        "    print(\"Construction \"+part)\n",
        "    global Llayers\n",
        "    global index_couches\n",
        "    if part == 'gen_disc' or part == 'gen':\n",
        "        with K.name_scope('Generateur'):\n",
        "            couche = Convolution2D(filters=500,kernel_size=(2,2),activation=None,strides=(1,1),padding='SAME',name=str(index_couches)+'_'+'Conv_f500_k2')(inpt)\n",
        "            index_couches += 1\n",
        "            couche = Dropout(name=str(index_couches)+'_'+'dropout',rate=0.25)(couche)\n",
        "            index_couches += 1\n",
        "            couche = LRN2D(name=str(index_couches)+'_'+'batchnorm',n=21,k=2,alpha=10**-4,beta=0.75)(couche)\n",
        "            index_couches += 1\n",
        "            couche = Activation(SELU,name=str(index_couches)+'_'+'activation_SELU')(couche)\n",
        "            index_couches += 1\n",
        "#             Llayers.append([couche,str(index_couches)+'_'+'activation_SELU'])\n",
        "            couche = Convolution2D(filters=100,kernel_size=(2,2),activation=None,strides=(1,1),padding='SAME',name=str(index_couches)+'_'+'Conv_f100_k2')(couche)\n",
        "            index_couches += 1\n",
        "            couche = BatchNormalization(name=str(index_couches)+'_'+'batchnorm')(couche)\n",
        "            index_couches += 1\n",
        "            couche = Activation(SELU,name=str(index_couches)+'_'+'activation_SELU')(couche)\n",
        "            index_couches += 1\n",
        "#             Llayers.append([couche,str(index_couches)+'_'+'activation_SELU'])\n",
        "            couche = Convolution2D(filters=3,kernel_size=(2,2),activation=None,strides=(1,1),padding='SAME',name=str(index_couches)+'_'+'Conv_f3_k2')(couche)\n",
        "            index_couches += 1\n",
        "            couche = BatchNormalization(name=str(index_couches)+'_'+'batchnorm')(couche)   \n",
        "            index_couches += 1\n",
        "            couche = Activation(SELU,name=str(index_couches)+'_'+'activation_SELU')(couche)\n",
        "            index_couches += 1\n",
        "            couche = Dense(nb_couches,activation=None,name=str(index_couches)+'_'+'dense_n3')(couche)\n",
        "            index_couches += 1\n",
        "            couche = BatchNormalization(name=str(index_couches)+'_'+'batchnorm')(couche)   \n",
        "            index_couches += 1\n",
        "            couche = Activation(SELU,name=str(index_couches)+'_'+'activation_SELU')(couche)\n",
        "            index_couches += 1\n",
        "            # couche = Add(name=str(index_couches)+'_'+'add')([couche,inpt])\n",
        "            Llayers.append([couche,str(index_couches)+'_'+'activation_SELU'])\n",
        "            # generator_ouput = couche\n",
        "            if part == 'gen':\n",
        "                return couche\n",
        "    if part == 'gen_disc' or part == 'disc':\n",
        "        with K.name_scope('Discriminateur'):\n",
        "            with K.name_scope('Bruit'):\n",
        "                if part == 'gen_disc':\n",
        "                    bruit = Convolution2D(filters=1,kernel_size=(2,2),activation=None,strides=(1,1),padding='SAME',name=str(index_couches)+'_'+'Conv_f1_k2')(couche)\n",
        "                else:\n",
        "                    bruit = Convolution2D(filters=1,kernel_size=(2,2),activation=None,strides=(1,1),padding='SAME',name=str(index_couches)+'_'+'Conv_f1_k2')(inpt)\n",
        "                index_couches += 1\n",
        "                bruit = BatchNormalization(name=str(index_couches)+'_'+'batchnorm')(bruit)\n",
        "                index_couches += 1\n",
        "                bruit = Activation(SELU,name=str(index_couches)+'_'+'activation_SELU')(bruit)\n",
        "                index_couches += 1\n",
        "                bruit = Convolution2D(filters=nb_couches,kernel_size=(2,2),activation=None,strides=(1,1),padding='SAME',name=str(index_couches)+'_'+'Conv_f3_k2')(bruit)\n",
        "                index_couches += 1\n",
        "                bruit = BatchNormalization(name=str(index_couches)+'_'+'batchnorm')(bruit)\n",
        "                index_couches += 1\n",
        "                bruit = Activation(SELU,name=str(index_couches)+'_'+'activation_SELU')(bruit)\n",
        "                index_couches += 1\n",
        "                if part == 'gen_disc':\n",
        "                    bruit = Subtract(name=str(index_couches)+'_'+'subtract')([couche,bruit])\n",
        "                else:\n",
        "                    bruit = Subtract(name=str(index_couches)+'_'+'subtract')([inpt,bruit])\n",
        "                index_couches += 1\n",
        "#                 Llayers.append([bruit,str(index_couches)+'_'+'subtract'])\n",
        "                bruit = MaxPooling2D(name=str(index_couches)+'_'+'maxpooling',pool_size=3,padding='VALID')(bruit)\n",
        "                index_couches += 1\n",
        "                bruit1 = Convolution2D(filters=1,kernel_size=(2,2),activation=None,strides=(1,1),padding='SAME',name=str(index_couches)+'_'+'Conv_f1_k2')(bruit)\n",
        "                index_couches += 1\n",
        "                bruit1 = BatchNormalization(name=str(index_couches)+'_'+'batchnorm')(bruit)\n",
        "                index_couches += 1\n",
        "                bruit1 = Activation(SELU,name=str(index_couches)+'_'+'activation_SELU')(bruit)\n",
        "                index_couches += 1\n",
        "                bruit1 = Convolution2D(filters=nb_couches,kernel_size=(2,2),activation=None,strides=(1,1),padding='SAME',name=str(index_couches)+'_'+'Conv_f_k2')(bruit)\n",
        "                index_couches += 1\n",
        "                bruit1 = BatchNormalization(name=str(index_couches)+'_'+'batchnorm')(bruit)\n",
        "                index_couches += 1\n",
        "                bruit1 = Activation(SELU,name=str(index_couches)+'_'+'activation_SELU')(bruit)\n",
        "                index_couches += 1\n",
        "                bruit = Subtract(name=str(index_couches)+'_'+'subtract')([bruit,bruit1])\n",
        "                index_couches += 1\n",
        "#                 Llayers.append([bruit,str(index_couches)+'_'+'subtract'])\n",
        "                bruit = MaxPooling2D(name=str(index_couches)+'_'+'maxpooling',pool_size=3,padding='VALID')(bruit)\n",
        "                index_couches += 1\n",
        "#                 Llayers.append([bruit,'disc_bruit_3'])\n",
        "                \n",
        "            with K.name_scope('Traitement_image'):\n",
        "        \n",
        "                def inception(prevShapes):\n",
        "                    import time\n",
        "                    global index_couches\n",
        "                    inpt = Input(shape = prevShapes,name=str(index_couches)+'_'+'inception_input')\n",
        "                    index_couches += 1\n",
        "                    coucheT0 = Convolution2D(filters=100,kernel_size=(1,1),activation=None,strides=(1,1),padding='SAME',name=str(index_couches)+'_'+'Conv_f100_k1')(inpt)\n",
        "                    index_couches += 1\n",
        "                    coucheT1 = Convolution2D(filters=100,kernel_size=(1,1),activation=None,strides=(1,1),padding='SAME',name=str(index_couches)+'_'+'Conv_f100_k1')(inpt)\n",
        "                    index_couches += 1\n",
        "                    coucheT1 = Convolution2D(filters=100,kernel_size=(1,3),activation=None,strides=(1,1),padding='SAME',name=str(index_couches)+'_'+'Conv_f100_k1_3')(coucheT1)\n",
        "                    index_couches += 1\n",
        "                    coucheT1 = Convolution2D(filters=100,kernel_size=(3,1),activation=None,strides=(1,1),padding='SAME',name=str(index_couches)+'_'+'Conv_f100_k3_1')(coucheT1)\n",
        "                    index_couches += 1\n",
        "\n",
        "                    couche = Concatenate(axis=-1,name=str(index_couches)+'_'+'concatenate')([coucheT0,coucheT1])\n",
        "                    index_couches += 1\n",
        "                    couche = Convolution2D(filters=100,kernel_size=(1,1),activation=None,strides=(1,1),padding='SAME',name=str(index_couches)+'_'+'Conv_f100_k1')(couche)\n",
        "                    index_couches += 1\n",
        "                    couche = Add(name=str(index_couches)+'_'+'add')([couche,inpt])  \n",
        "                    return Model(input=inpt,output=couche,name=str(index_couches)+'_'+'Inception_%f'%(time.time()))\n",
        "                \n",
        "                if part == 'gen_disc':\n",
        "                    coucheAdaptation = Convolution2D(filters=100,kernel_size=(1,1),activation=None,strides=(1,1),padding='SAME',name=str(index_couches)+'_'+'Conv_f100_k1')(couche)\n",
        "                else:\n",
        "                    coucheAdaptation = Convolution2D(filters=100,kernel_size=(1,1),activation=None,strides=(1,1),padding='SAME',name=str(index_couches)+'_'+'Conv_f100_k1')(inpt)\n",
        "                index_couches += 1\n",
        "                inceptionModel = inception(coucheAdaptation.get_shape().as_list()[1:])\n",
        "                index_couches += 1\n",
        "                image = inceptionModel(coucheAdaptation)\n",
        "                index_couches += 1\n",
        "                image = LRN2D(name=str(index_couches)+'_'+'local_response_normalizer',n=21,k=2,alpha=10**-4,beta=0.75)(image)\n",
        "                index_couches += 1\n",
        "                image = BatchNormalization(name=str(index_couches)+'_'+'batchnorm')(image)\n",
        "                index_couches += 1\n",
        "                image = Activation(SELU,name=str(index_couches)+'_'+'activation_SELU')(image)\n",
        "                index_couches += 1\n",
        "#                 Llayers.append([image,str(index_couches)+'_'+'activation_SELU'])\n",
        "                index_couches += 1\n",
        "                image = MaxPooling2D(name=str(index_couches)+'_'+'maxpooling',pool_size=3,padding='VALID')(image)\n",
        "                index_couches += 1\n",
        "                inceptionModel = inception(image.get_shape().as_list()[1:])\n",
        "                index_couches += 1\n",
        "                image = inceptionModel(image)\n",
        "                index_couches += 1\n",
        "                image = LRN2D(name=str(index_couches)+'_'+'local_response_normalizer',n=21,k=2,alpha=10**-4,beta=0.75)(image)\n",
        "                index_couches += 1\n",
        "                image = BatchNormalization(name=str(index_couches)+'_'+'batchnorm')(image)\n",
        "                index_couches += 1\n",
        "                image = Activation(SELU,name=str(index_couches)+'_'+'activation_SELU')(image)\n",
        "                index_couches += 1\n",
        "#                 Llayers.append([image,str(index_couches)+'_'+'activation_SELU'])\n",
        "                index_couches += 1\n",
        "                image = MaxPooling2D(name=str(index_couches)+'_'+'maxpooling',pool_size=3,padding='VALID')(image)\n",
        "                index_couches += 1\n",
        "                inceptionModel = inception(image.get_shape().as_list()[1:])\n",
        "                index_couches += 1\n",
        "                image = inceptionModel(image)\n",
        "                index_couches += 1\n",
        "                image = LRN2D(name=str(index_couches)+'_'+'local_response_normalizer',n=21,k=2,alpha=10**-4,beta=0.75)(image)\n",
        "                index_couches += 1\n",
        "                image = BatchNormalization(name=str(index_couches)+'_'+'batchnorm')(image)\n",
        "                index_couches += 1\n",
        "                image = Activation(SELU,name=str(index_couches)+'_'+'activation_SELU')(image)\n",
        "                index_couches += 1\n",
        "#                 Llayers.append([image,str(index_couches)+'_'+'activation_SELU'])\n",
        "                index_couches += 1\n",
        "        \n",
        "            resultatAnalyse = Concatenate(axis=-1,name=str(index_couches)+'_'+'concatenate')([bruit,image])\n",
        "            index_couches += 1\n",
        "            resultatAnalyse = Flatten(name=str(index_couches)+'_'+'flatten')(resultatAnalyse)\n",
        "            index_couches += 1\n",
        "            resultatAnalyse = Dense(500,name=str(index_couches)+'_'+'dense_n500')(resultatAnalyse)\n",
        "            index_couches += 1\n",
        "            resultatAnalyse = Dropout(rate=0.25,name=str(index_couches)+'_'+'dropout')(resultatAnalyse)\n",
        "            index_couches += 1\n",
        "            resultatAnalyse = Activation(SELU,name=str(index_couches)+'_'+'activation_SELU')(resultatAnalyse)\n",
        "            index_couches += 1\n",
        "            probabilite = Dense(1,name=str(index_couches)+'_'+'dense_n1')(resultatAnalyse)\n",
        "            index_couches += 1\n",
        "            probabilite = Activation('sigmoid',name=str(index_couches)+'_'+'activation_sigmoid')(probabilite)\n",
        "        return probabilite"
      ],
      "execution_count": 0,
      "outputs": []
    },
    {
      "cell_type": "code",
      "metadata": {
        "id": "sIbNELPhJLxw",
        "colab_type": "code",
        "colab": {}
      },
      "source": [
        "def AI():\n",
        "    inpt = Input(shape = (199, 199, nb_couches,3,3),name=str(0)+'_'+'Image')\n",
        "    probabilite_gen_disc = AI_gen_disc_or_disc_without_input(inpt,part='gen_disc')\n",
        "    probabilite_disc = AI_gen_disc_or_disc_without_input(inpt,part='disc')\n",
        "    generated_image = AI_gen_disc_or_disc_without_input(inpt,part='gen')\n",
        "    return Model(input=inpt,output=probabilite_gen_disc),Model(input=inpt,output=probabilite_disc), Model(input=inpt,output=generated_image)"
      ],
      "execution_count": 0,
      "outputs": []
    },
    {
      "cell_type": "code",
      "metadata": {
        "id": "dO4ay9Zj-ZqD",
        "colab_type": "code",
        "colab": {}
      },
      "source": [
        "def mean_gen_disc_top_27(disc,gen,gen_disc,input_image,desired_image,indexModele):\n",
        "    path_model = \"Models/Modele\"+str(indexModele)+\"_\"\n",
        "    partial_path_gen_backup = path_model + 'gen' + '_'\n",
        "    partial_path_gen_disc_backup = path_model + 'gen_disc' + '_'\n",
        "    partial_path_disc_backup = path_model + 'disc' + '_'\n",
        "\n",
        "    Lloss = []\n",
        "    Lloss_gen = []\n",
        "    Lloss_gen_disc = []\n",
        "    Lloss_disc = []\n",
        "    \n",
        "    try:\n",
        "        gen.save_weights(partial_path_gen_backup + 'orig.h5')\n",
        "    except:\n",
        "        gen.save_weights(partial_path_gen_backup + 'orig.h5')\n",
        "    try:\n",
        "        gen_disc.save_weights(partial_path_gen_disc_backup + 'orig.h5')\n",
        "    except:\n",
        "        gen_disc.save_weights(partial_path_gen_disc_backup + 'orig.h5')\n",
        "    try:\n",
        "        disc.save_weights(partial_path_disc_backup + 'orig.h5')\n",
        "    except:\n",
        "        disc.save_weights(partial_path_disc_backup + 'orig.h5')\n",
        "\n",
        "    for i in range(3):\n",
        "        gen_backup = partial_path_gen_backup + str(i) + '.h5'\n",
        "        print(\"Training \"+gen_backup)\n",
        "        try:\n",
        "            gen.load_weights(partial_path_gen_backup + 'orig.h5')\n",
        "        except:\n",
        "            gen.load_weights(partial_path_gen_backup + 'orig.h5')\n",
        "        loss = gen.train_on_batch(input_image,desired_image)\n",
        "        try:\n",
        "            gen.save_weights(gen_backup)\n",
        "        except:\n",
        "            gen.save_weights(gen_backup)\n",
        "        Lloss.append([gen_backup,loss])\n",
        "    try:\n",
        "        gen_disc.save_weights(partial_path_gen_disc_backup + 'orig.h5')\n",
        "    except:\n",
        "        gen_disc.save_weights(partial_path_gen_disc_backup + 'orig.h5')\n",
        "    try:\n",
        "        disc.save_weights(partial_path_disc_backup + 'orig.h5')\n",
        "    except:\n",
        "        disc.save_weights(partial_path_disc_backup + 'orig.h5')\n",
        "    print(\"Lloss : \",Lloss)\n",
        "    desired_probability = [1]*input_image.shape[0] # Batch size\n",
        "    Lloss_gen_disc_tmp = []\n",
        "    for index_gen_disc,path_loss_backup in enumerate(Lloss):\n",
        "        try:\n",
        "            gen.load_weights(path_loss_backup[0])\n",
        "        except:\n",
        "            gen.load_weights(path_loss_backup[0])\n",
        "        for i in range(3):\n",
        "            gen_disc_backup = partial_path_gen_disc_backup + str(i) + '.h5'\n",
        "            print(\"Training \"+gen_disc_backup)\n",
        "            try:\n",
        "                gen_disc.load_weights(partial_path_gen_disc_backup + 'orig.h5')\n",
        "            except:\n",
        "                gen_disc.load_weights(partial_path_gen_disc_backup + 'orig.h5')\n",
        "            loss = gen_disc.train_on_batch(input_image,desired_probability)\n",
        "            try:\n",
        "                gen_disc.save_weights(gen_disc_backup)\n",
        "            except:\n",
        "                gen_disc.save_weights(gen_disc_backup)\n",
        "            Lloss_gen_disc_tmp.append(path_loss_backup + [gen_disc_backup,loss])\n",
        "    Lloss = Lloss_gen_disc_tmp\n",
        "    print(\"Lloss : \",Lloss)\n",
        "\n",
        "    desired_probability = [1]*(input_image.shape[0]//2)+[0]*(input_image.shape[0]//2)\n",
        "    Lloss_disc_tmp = []\n",
        "    for index_model,item in enumerate(Lloss):\n",
        "        for i in range(3):\n",
        "            disc_backup = partial_path_disc_backup + str(i) + '.h5'\n",
        "            print(\"Training \"+disc_backup)\n",
        "            try:\n",
        "                gen_disc.load_weights(Lloss[index_model][-2])\n",
        "            except:\n",
        "                gen_disc.load_weights(Lloss[index_model][-2])\n",
        "            loss = disc.train_on_batch(input_image,desired_probability)\n",
        "            try:\n",
        "                disc.save_weights(disc_backup)\n",
        "            except:\n",
        "                disc.save_weights(disc_backup)\n",
        "            Lloss_disc_tmp.append(Lloss[index_model]+[disc_backup,loss])\n",
        "\n",
        "\n",
        "    Lloss = [Lloss_disc_tmp[i] + [(Lloss_disc_tmp[i][1]+Lloss_disc_tmp[i][3]+Lloss_disc_tmp[i][5])/3] for i in range(len(Lloss_disc_tmp))]\n",
        "    print(\"Lloss : \",Lloss)\n",
        "    Lloss.sort(key=lambda elem:elem[-1])\n",
        "    print(\"Lloss sorted : \",Lloss)\n",
        "    try:\n",
        "        gen_disc.load_weights(Lloss[0][2])\n",
        "        disc.load_weights(Lloss[0][-3])\n",
        "    except:\n",
        "        gen_disc.load_weights(Lloss[0][2])\n",
        "        disc.load_weights(Lloss[0][-3])\n",
        "    print(\"Best model back\")\n",
        "    return Lloss[0]"
      ],
      "execution_count": 0,
      "outputs": []
    },
    {
      "cell_type": "code",
      "metadata": {
        "id": "7o352RNtxhvE",
        "colab_type": "code",
        "colab": {}
      },
      "source": [
        "def sauvegardeModele(entree_pure,entree_deterioree,model,iteration_entrainement,summary_writer,batch_size=7):\n",
        "    global Llayers\n",
        "    for canal_image in range(3):\n",
        "        summary_image = tf.Summary(value=[tf.Summary.Value(tag=\"input_pure_canal_\"+str(canal_image), \n",
        "                                image=make_image(entree_pure[0,:,:,canal_image]*255))])\n",
        "        summary_writer.add_summary(summary_image,iteration_entrainement)\n",
        "        summary_image = tf.Summary(value=[tf.Summary.Value(tag=\"input_deterioree_canal_\"+str(canal_image), \n",
        "                                image=make_image(entree_deterioree[0,:,:,canal_image]*255))])\n",
        "        summary_writer.add_summary(summary_image,iteration_entrainement)\n",
        "        \n",
        "    for p,entree in enumerate([entree_pure,entree_deterioree]):\n",
        "        layer_outputs,layer_names = [Llayers[i][0] for i in range(len(Llayers))],[Llayers[i][1] for i in range(len(Llayers))]\n",
        "        print(\"layer_outputs : \",layer_outputs)\n",
        "        model_calcul_image = Model(input=model.input,outputs=[model.output]+layer_outputs)\n",
        "        sorties_couches = model_calcul_image.predict(entree, batch_size=batch_size)[1:]\n",
        "        for index_couche,sortie_couche in enumerate(sorties_couches):\n",
        "            layer_name = layer_names[index_couche]\n",
        "            dim_sortie = sortie_couche.shape\n",
        "            if len(dim_sortie) == 4:\n",
        "                for canal_image in range(dim_sortie[-1]):\n",
        "                    tag = layer_name\n",
        "                    tag += 'pure' if p == 0 else 'deterioree'\n",
        "                    tag += \"_canal_\" + str(canal_image)\n",
        "                    summary_image = tf.Summary(value=[tf.Summary.Value(tag=tag, \n",
        "                                            image=make_image(sortie_couche[0,:,:,canal_image]*255))])\n",
        "                    summary_writer.add_summary(summary_image,iteration_entrainement)\n",
        "    return None"
      ],
      "execution_count": 0,
      "outputs": []
    },
    {
      "cell_type": "code",
      "metadata": {
        "id": "Y1xaVw_4SfiZ",
        "colab_type": "code",
        "colab": {}
      },
      "source": [
        "from google.colab import output\n",
        "def beep():\n",
        "    output.eval_js('new Audio(\"https://upload.wikimedia.org/wikipedia/commons/0/05/Beep-09.ogg\").play()')\n",
        "    return None"
      ],
      "execution_count": 0,
      "outputs": []
    },
    {
      "cell_type": "code",
      "metadata": {
        "id": "c3fMqsjEMJTs",
        "colab_type": "code",
        "colab": {}
      },
      "source": [
        "from __future__ import print_function\n",
        "from ipywidgets import interact, interactive, fixed, interact_manual\n",
        "import ipywidgets as widgets\n",
        "import time\n",
        "continuer = None\n",
        "def block_or_continue():\n",
        "    beep()\n",
        "    print(\"Would you resume training ? True or False ?\")\n",
        "    return bool(input())"
      ],
      "execution_count": 0,
      "outputs": []
    },
    {
      "cell_type": "code",
      "metadata": {
        "id": "JB7xsmOEThUt",
        "colab_type": "code",
        "colab": {}
      },
      "source": [
        "def backup(image,imageBruitee,gen_disc,disc,index,summary_writer):\n",
        "    x = np.concatenate((image,imageBruitee))\n",
        "    sauvegardeModele(image,imageBruitee,gen_disc,index,summary_writer)\n",
        "    p_gen_disc = gen_disc.predict(x)[0]\n",
        "    p_disc = disc.predict(x)[0]\n",
        "\n",
        "    summary_loss = tf.Summary(value=[tf.Summary.Value(tag=\"Probabilité gen-disc img 0 (orig pure) pure : \", \n",
        "                                        simple_value=p_gen_disc) ])\n",
        "    summary_writer.add_summary(summary_loss,index)\n",
        "    summary_loss = tf.Summary(value=[tf.Summary.Value(tag=\"Probabilité disc img 0 (orig pure) pure : \", \n",
        "                                        simple_value=p_disc) ])\n",
        "    summary_writer.add_summary(summary_loss,index)\n",
        "    x_proba = np.concatenate((imageBruitee,imageBruitee))\n",
        "    p_gen_disc = gen_disc.predict(x_proba)[0]\n",
        "    p_disc = disc.predict(x_proba)[0]\n",
        "    summary_loss = tf.Summary(value=[tf.Summary.Value(tag=\"Probabilité gen-disc img 0 (orig détériorée) pure : \", \n",
        "                                        simple_value=p_gen_disc) ])\n",
        "    summary_writer.add_summary(summary_loss,index)\n",
        "    summary_loss = tf.Summary(value=[tf.Summary.Value(tag=\"Probabilité disc img 0 (orig détériorée) pure : \", \n",
        "                                        simple_value=p_disc) ])\n",
        "    summary_writer.add_summary(summary_loss,index)"
      ],
      "execution_count": 0,
      "outputs": []
    },
    {
      "cell_type": "code",
      "metadata": {
        "id": "39XpimsoQARk",
        "colab_type": "code",
        "colab": {}
      },
      "source": [
        "def custom_loss(y_true,y_pred):\n",
        "    return K.mean(K.square(y_pred - y_true),axis=-1)+K.max(K.square(y_pred - y_true),axis=-1)"
      ],
      "execution_count": 0,
      "outputs": []
    },
    {
      "cell_type": "code",
      "metadata": {
        "id": "fDAX-aHtopZ-",
        "colab_type": "code",
        "colab": {}
      },
      "source": [
        "def to_fft(img_tensor):\n",
        "    L = []\n",
        "    print(img_tensor.shape[0],img_tensor.get_shape().as_list())\n",
        "    for index_image in range(img_tensor.get_shape().as_list()[0]):\n",
        "        L.append(to_fft_single(img_tensor[index_image,:,:,:]))\n",
        "    return np.stack(L,axis=0)\n",
        "\n",
        "def to_img(fft_cplx):\n",
        "    return to_uint8_array(np.fft.ifft2(fft_cplx))\n",
        "def to_fft_single(img):\n",
        "    fft_cplx = np.fft.fft2(img)\n",
        "    fft = 20*np.log(np.abs(fft_cplx)+10**-5*np.ones(img.shape))\n",
        "    fft = fft + np.abs(np.min(fft))*np.ones(fft.shape)\n",
        "    fft = fft / (np.max(fft)*np.ones(fft.shape))*(255*np.ones(fft.shape))\n",
        "    fft_uint8 = to_uint8_array(fft)\n",
        "    print(np.max(fft_uint8),np.min(fft_uint8),fft_uint8.shape,fft_uint8.dtype)\n",
        "    return fft_cplx\n",
        "\n",
        "def to_uint8_array(array):\n",
        "    return array.astype(np.uint8)\n",
        "def next_batch_bruit_voile_fft(7,images,199,np.float32,[1,1,1],[50,50]):\n",
        "    image,imageBruitee = next_batch_bruit_voile_2(7,images,199,np.float32,[1,1,1],[50,50])\n",
        "    "
      ],
      "execution_count": 0,
      "outputs": []
    },
    {
      "cell_type": "code",
      "metadata": {
        "id": "1e5YM7WEs6sw",
        "colab_type": "code",
        "outputId": "311cf03a-99e1-47aa-8a56-866c8b0a87e6",
        "colab": {
          "base_uri": "https://localhost:8080/",
          "height": 1000
        }
      },
      "source": [
        "index_couches = 0\n",
        "Llayers = []\n",
        "def train_gen_disc(images,eval_data,indexModele):\n",
        "    gen_disc,disc,gen = AI()\n",
        "    gen_disc_optim = SGD(lr=0.0005, momentum=0.9, nesterov=True)\n",
        "    disc_optim = SGD(lr=0.0005, momentum=0.9, nesterov=True)\n",
        "    gen_optim = SGD(lr=0.0005, momentum=0.9, nesterov=True)\n",
        "    disc.compile(loss='binary_crossentropy', optimizer=disc_optim)\n",
        "    gen_disc.compile(loss='binary_crossentropy', optimizer=gen_disc_optim)\n",
        "    gen.compile(loss=custom_loss, optimizer=gen_optim)\n",
        "    print(\"Layers : \",Llayers)\n",
        "    print(gen_disc.summary())\n",
        "    print(disc.summary())\n",
        "    print(Llayers)\n",
        "    Lloss = []\n",
        "    iterations = 50\n",
        "    index = 0\n",
        "    import datetime\n",
        "    chaine_date = datetime.datetime.today().strftime('%Y-%m-%d_%Hh%Mmin%Ss') #cf http://strftime.org/ et https://www.science-emergence.com/Articles/Obtenir-la-date-daujourdhui-au-format-YYYY-MM-DD-avec-python/\n",
        "    summary_writer = tf.summary.FileWriter(logdir='./logs/Modele'+str(indexModele)+'_gen_disc_'+chaine_date,graph=tf.get_default_graph())\n",
        "    while index < iterations:\n",
        "        image,imageBruitee = next_batch_bruit_voile_2(7,images,199,np.float32,[1,1,1],[50,50])\n",
        "        image,imageBruitee = to_fft_single(image),to_fft_single(imageBruitee)\n",
        "        print(\"Max-min : \",np.max(image),np.min(image))\n",
        "        current_learning_rate = tauxApprentissage(index,10**-4,10,10**-7)\n",
        "        K.set_value(disc.optimizer.lr, current_learning_rate)\n",
        "        K.set_value(gen_disc.optimizer.lr, current_learning_rate)\n",
        "        current_learning_rate = tauxApprentissage(index,1,15,10**-7)\n",
        "        K.set_value(gen.optimizer.lr, current_learning_rate)\n",
        "        x = np.concatenate((image,imageBruitee))\n",
        "        loss = mean_gen_disc_top_27(disc,gen,gen_disc,np.concatenate((image,imageBruitee)),np.concatenate((image,image)),indexModele)\n",
        "        Lloss.append(loss)\n",
        "        print(\"Iteration %i : gen, erreur : %f, gen_disc, erreur : %f ; disc, erreur : %f ; erreur moyenne : %f\"%(index,loss[1],loss[3],loss[-2],loss[-1]))\n",
        "        summary_loss = tf.Summary(value=[tf.Summary.Value(tag=\"Erreur gen : MSE\", \n",
        "                                             simple_value=loss[1]) ])\n",
        "        summary_writer.add_summary(summary_loss,index)\n",
        "        summary_loss = tf.Summary(value=[tf.Summary.Value(tag=\"Erreur gen-disc : binary-crossentropy\", \n",
        "                                             simple_value=loss[3]) ])\n",
        "        summary_writer.add_summary(summary_loss,index)\n",
        "        summary_loss = tf.Summary(value=[tf.Summary.Value(tag=\"Erreur disc : binary-crossentropy\", \n",
        "                                             simple_value=loss[-2]) ])\n",
        "        summary_writer.add_summary(summary_loss,index)\n",
        "        summary_loss = tf.Summary(value=[tf.Summary.Value(tag=\"Erreur moyenne : binary-crossentropy\", \n",
        "                                             simple_value=loss[-1]) ])\n",
        "        summary_writer.add_summary(summary_loss,index)\n",
        "        \n",
        "        if index % 5 == 0:\n",
        "            backup(image,imageBruitee,gen_disc,disc,index,summary_writer)\n",
        "        index += 1\n",
        "    summary_writer.close()\n",
        "Lloss = train_gen_disc(images,evalData,9)"
      ],
      "execution_count": 28,
      "outputs": [
        {
          "output_type": "stream",
          "text": [
            "W0825 07:46:43.448566 140235038889856 deprecation_wrapper.py:119] From /usr/local/lib/python3.6/dist-packages/keras/backend/tensorflow_backend.py:517: The name tf.placeholder is deprecated. Please use tf.compat.v1.placeholder instead.\n",
            "\n",
            "W0825 07:46:43.463369 140235038889856 deprecation_wrapper.py:119] From /usr/local/lib/python3.6/dist-packages/keras/backend/tensorflow_backend.py:4138: The name tf.random_uniform is deprecated. Please use tf.random.uniform instead.\n",
            "\n",
            "W0825 07:46:43.508391 140235038889856 deprecation_wrapper.py:119] From /usr/local/lib/python3.6/dist-packages/keras/backend/tensorflow_backend.py:133: The name tf.placeholder_with_default is deprecated. Please use tf.compat.v1.placeholder_with_default instead.\n",
            "\n",
            "W0825 07:46:43.518463 140235038889856 deprecation.py:506] From /usr/local/lib/python3.6/dist-packages/keras/backend/tensorflow_backend.py:3445: calling dropout (from tensorflow.python.ops.nn_ops) with keep_prob is deprecated and will be removed in a future version.\n",
            "Instructions for updating:\n",
            "Please use `rate` instead of `keep_prob`. Rate should be set to `rate = 1 - keep_prob`.\n",
            "W0825 07:46:43.538836 140235038889856 deprecation.py:323] From /usr/local/lib/python3.6/dist-packages/keras/backend/tensorflow_backend.py:3217: add_dispatch_support.<locals>.wrapper (from tensorflow.python.ops.array_ops) is deprecated and will be removed in a future version.\n",
            "Instructions for updating:\n",
            "Use tf.where in 2.0, which has the same broadcast rule as np.where\n",
            "W0825 07:46:43.568229 140235038889856 deprecation_wrapper.py:119] From /usr/local/lib/python3.6/dist-packages/keras/backend/tensorflow_backend.py:174: The name tf.get_default_session is deprecated. Please use tf.compat.v1.get_default_session instead.\n",
            "\n"
          ],
          "name": "stderr"
        },
        {
          "output_type": "stream",
          "text": [
            "Construction gen_disc\n"
          ],
          "name": "stdout"
        },
        {
          "output_type": "stream",
          "text": [
            "W0825 07:46:43.831947 140235038889856 deprecation_wrapper.py:119] From /usr/local/lib/python3.6/dist-packages/keras/backend/tensorflow_backend.py:1834: The name tf.nn.fused_batch_norm is deprecated. Please use tf.compat.v1.nn.fused_batch_norm instead.\n",
            "\n",
            "W0825 07:46:44.392923 140235038889856 deprecation_wrapper.py:119] From /usr/local/lib/python3.6/dist-packages/keras/backend/tensorflow_backend.py:3976: The name tf.nn.max_pool is deprecated. Please use tf.nn.max_pool2d instead.\n",
            "\n",
            "/usr/local/lib/python3.6/dist-packages/ipykernel_launcher.py:107: UserWarning: Update your `Model` call to the Keras 2 API: `Model(name=\"37_Inception_1566719204.636860\", inputs=Tensor(\"Di..., outputs=Tensor(\"Di...)`\n",
            "/usr/local/lib/python3.6/dist-packages/ipykernel_launcher.py:107: UserWarning: Update your `Model` call to the Keras 2 API: `Model(name=\"51_Inception_1566719204.789430\", inputs=Tensor(\"Di..., outputs=Tensor(\"Di...)`\n",
            "/usr/local/lib/python3.6/dist-packages/ipykernel_launcher.py:107: UserWarning: Update your `Model` call to the Keras 2 API: `Model(name=\"65_Inception_1566719204.937675\", inputs=Tensor(\"Di..., outputs=Tensor(\"Di...)`\n"
          ],
          "name": "stderr"
        },
        {
          "output_type": "stream",
          "text": [
            "Construction disc\n"
          ],
          "name": "stdout"
        },
        {
          "output_type": "stream",
          "text": [
            "/usr/local/lib/python3.6/dist-packages/ipykernel_launcher.py:107: UserWarning: Update your `Model` call to the Keras 2 API: `Model(name=\"101_Inception_1566719205.621401\", inputs=Tensor(\"Di..., outputs=Tensor(\"Di...)`\n",
            "/usr/local/lib/python3.6/dist-packages/ipykernel_launcher.py:107: UserWarning: Update your `Model` call to the Keras 2 API: `Model(name=\"115_Inception_1566719205.764932\", inputs=Tensor(\"Di..., outputs=Tensor(\"Di...)`\n",
            "/usr/local/lib/python3.6/dist-packages/ipykernel_launcher.py:107: UserWarning: Update your `Model` call to the Keras 2 API: `Model(name=\"129_Inception_1566719205.911847\", inputs=Tensor(\"Di..., outputs=Tensor(\"Di...)`\n"
          ],
          "name": "stderr"
        },
        {
          "output_type": "stream",
          "text": [
            "Construction gen\n"
          ],
          "name": "stdout"
        },
        {
          "output_type": "stream",
          "text": [
            "/usr/local/lib/python3.6/dist-packages/ipykernel_launcher.py:6: UserWarning: Update your `Model` call to the Keras 2 API: `Model(inputs=Tensor(\"0_..., outputs=Tensor(\"Di...)`\n",
            "  \n",
            "/usr/local/lib/python3.6/dist-packages/ipykernel_launcher.py:6: UserWarning: Update your `Model` call to the Keras 2 API: `Model(inputs=Tensor(\"0_..., outputs=Tensor(\"Ge...)`\n",
            "  \n",
            "W0825 07:46:46.539362 140235038889856 deprecation_wrapper.py:119] From /usr/local/lib/python3.6/dist-packages/keras/optimizers.py:790: The name tf.train.Optimizer is deprecated. Please use tf.compat.v1.train.Optimizer instead.\n",
            "\n"
          ],
          "name": "stderr"
        },
        {
          "output_type": "stream",
          "text": [
            "Layers :  [[<tf.Tensor 'Generateur/12_activation_SELU/mul_1:0' shape=(?, 199, 199, 3) dtype=float32>, '13_activation_SELU'], [<tf.Tensor 'Generateur_1/153_activation_SELU/mul_1:0' shape=(?, 199, 199, 3) dtype=float32>, '154_activation_SELU']]\n",
            "__________________________________________________________________________________________________\n",
            "Layer (type)                    Output Shape         Param #     Connected to                     \n",
            "==================================================================================================\n",
            "0_Image (InputLayer)            (None, 199, 199, 3)  0                                            \n",
            "__________________________________________________________________________________________________\n",
            "0_Conv_f500_k2 (Conv2D)         (None, 199, 199, 500 6500        0_Image[0][0]                    \n",
            "__________________________________________________________________________________________________\n",
            "1_dropout (Dropout)             (None, 199, 199, 500 0           0_Conv_f500_k2[0][0]             \n",
            "__________________________________________________________________________________________________\n",
            "2_batchnorm (LRN2D)             (None, 199, 199, 500 0           1_dropout[0][0]                  \n",
            "__________________________________________________________________________________________________\n",
            "3_activation_SELU (Activation)  (None, 199, 199, 500 0           2_batchnorm[0][0]                \n",
            "__________________________________________________________________________________________________\n",
            "4_Conv_f100_k2 (Conv2D)         (None, 199, 199, 100 200100      3_activation_SELU[0][0]          \n",
            "__________________________________________________________________________________________________\n",
            "5_batchnorm (BatchNormalization (None, 199, 199, 100 400         4_Conv_f100_k2[0][0]             \n",
            "__________________________________________________________________________________________________\n",
            "6_activation_SELU (Activation)  (None, 199, 199, 100 0           5_batchnorm[0][0]                \n",
            "__________________________________________________________________________________________________\n",
            "7_Conv_f3_k2 (Conv2D)           (None, 199, 199, 3)  1203        6_activation_SELU[0][0]          \n",
            "__________________________________________________________________________________________________\n",
            "8_batchnorm (BatchNormalization (None, 199, 199, 3)  12          7_Conv_f3_k2[0][0]               \n",
            "__________________________________________________________________________________________________\n",
            "9_activation_SELU (Activation)  (None, 199, 199, 3)  0           8_batchnorm[0][0]                \n",
            "__________________________________________________________________________________________________\n",
            "10_dense_n3 (Dense)             (None, 199, 199, 3)  12          9_activation_SELU[0][0]          \n",
            "__________________________________________________________________________________________________\n",
            "11_batchnorm (BatchNormalizatio (None, 199, 199, 3)  12          10_dense_n3[0][0]                \n",
            "__________________________________________________________________________________________________\n",
            "12_activation_SELU (Activation) (None, 199, 199, 3)  0           11_batchnorm[0][0]               \n",
            "__________________________________________________________________________________________________\n",
            "29_Conv_f100_k1 (Conv2D)        (None, 199, 199, 100 400         12_activation_SELU[0][0]         \n",
            "__________________________________________________________________________________________________\n",
            "37_Inception_1566719204.636860  (None, 199, 199, 100 100500      29_Conv_f100_k1[0][0]            \n",
            "__________________________________________________________________________________________________\n",
            "39_local_response_normalizer (L (None, 199, 199, 100 0           37_Inception_1566719204.636860[1]\n",
            "__________________________________________________________________________________________________\n",
            "40_batchnorm (BatchNormalizatio (None, 199, 199, 100 400         39_local_response_normalizer[0][0\n",
            "__________________________________________________________________________________________________\n",
            "13_Conv_f1_k2 (Conv2D)          (None, 199, 199, 1)  13          12_activation_SELU[0][0]         \n",
            "__________________________________________________________________________________________________\n",
            "41_activation_SELU (Activation) (None, 199, 199, 100 0           40_batchnorm[0][0]               \n",
            "__________________________________________________________________________________________________\n",
            "14_batchnorm (BatchNormalizatio (None, 199, 199, 1)  4           13_Conv_f1_k2[0][0]              \n",
            "__________________________________________________________________________________________________\n",
            "43_maxpooling (MaxPooling2D)    (None, 66, 66, 100)  0           41_activation_SELU[0][0]         \n",
            "__________________________________________________________________________________________________\n",
            "15_activation_SELU (Activation) (None, 199, 199, 1)  0           14_batchnorm[0][0]               \n",
            "__________________________________________________________________________________________________\n",
            "51_Inception_1566719204.789430  (None, 66, 66, 100)  100500      43_maxpooling[0][0]              \n",
            "__________________________________________________________________________________________________\n",
            "16_Conv_f3_k2 (Conv2D)          (None, 199, 199, 3)  15          15_activation_SELU[0][0]         \n",
            "__________________________________________________________________________________________________\n",
            "53_local_response_normalizer (L (None, 66, 66, 100)  0           51_Inception_1566719204.789430[1]\n",
            "__________________________________________________________________________________________________\n",
            "17_batchnorm (BatchNormalizatio (None, 199, 199, 3)  12          16_Conv_f3_k2[0][0]              \n",
            "__________________________________________________________________________________________________\n",
            "54_batchnorm (BatchNormalizatio (None, 66, 66, 100)  400         53_local_response_normalizer[0][0\n",
            "__________________________________________________________________________________________________\n",
            "18_activation_SELU (Activation) (None, 199, 199, 3)  0           17_batchnorm[0][0]               \n",
            "__________________________________________________________________________________________________\n",
            "55_activation_SELU (Activation) (None, 66, 66, 100)  0           54_batchnorm[0][0]               \n",
            "__________________________________________________________________________________________________\n",
            "19_subtract (Subtract)          (None, 199, 199, 3)  0           12_activation_SELU[0][0]         \n",
            "                                                                 18_activation_SELU[0][0]         \n",
            "__________________________________________________________________________________________________\n",
            "57_maxpooling (MaxPooling2D)    (None, 22, 22, 100)  0           55_activation_SELU[0][0]         \n",
            "__________________________________________________________________________________________________\n",
            "20_maxpooling (MaxPooling2D)    (None, 66, 66, 3)    0           19_subtract[0][0]                \n",
            "__________________________________________________________________________________________________\n",
            "65_Inception_1566719204.937675  (None, 22, 22, 100)  100500      57_maxpooling[0][0]              \n",
            "__________________________________________________________________________________________________\n",
            "26_activation_SELU (Activation) (None, 66, 66, 3)    0           20_maxpooling[0][0]              \n",
            "__________________________________________________________________________________________________\n",
            "67_local_response_normalizer (L (None, 22, 22, 100)  0           65_Inception_1566719204.937675[1]\n",
            "__________________________________________________________________________________________________\n",
            "27_subtract (Subtract)          (None, 66, 66, 3)    0           20_maxpooling[0][0]              \n",
            "                                                                 26_activation_SELU[0][0]         \n",
            "__________________________________________________________________________________________________\n",
            "68_batchnorm (BatchNormalizatio (None, 22, 22, 100)  400         67_local_response_normalizer[0][0\n",
            "__________________________________________________________________________________________________\n",
            "28_maxpooling (MaxPooling2D)    (None, 22, 22, 3)    0           27_subtract[0][0]                \n",
            "__________________________________________________________________________________________________\n",
            "69_activation_SELU (Activation) (None, 22, 22, 100)  0           68_batchnorm[0][0]               \n",
            "__________________________________________________________________________________________________\n",
            "71_concatenate (Concatenate)    (None, 22, 22, 103)  0           28_maxpooling[0][0]              \n",
            "                                                                 69_activation_SELU[0][0]         \n",
            "__________________________________________________________________________________________________\n",
            "72_flatten (Flatten)            (None, 49852)        0           71_concatenate[0][0]             \n",
            "__________________________________________________________________________________________________\n",
            "73_dense_n500 (Dense)           (None, 500)          24926500    72_flatten[0][0]                 \n",
            "__________________________________________________________________________________________________\n",
            "74_dropout (Dropout)            (None, 500)          0           73_dense_n500[0][0]              \n",
            "__________________________________________________________________________________________________\n",
            "75_activation_SELU (Activation) (None, 500)          0           74_dropout[0][0]                 \n",
            "__________________________________________________________________________________________________\n",
            "76_dense_n1 (Dense)             (None, 1)            501         75_activation_SELU[0][0]         \n",
            "__________________________________________________________________________________________________\n",
            "77_activation_sigmoid (Activati (None, 1)            0           76_dense_n1[0][0]                \n",
            "==================================================================================================\n",
            "Total params: 25,438,384\n",
            "Trainable params: 25,437,564\n",
            "Non-trainable params: 820\n",
            "__________________________________________________________________________________________________\n",
            "None\n",
            "__________________________________________________________________________________________________\n",
            "Layer (type)                    Output Shape         Param #     Connected to                     \n",
            "==================================================================================================\n",
            "0_Image (InputLayer)            (None, 199, 199, 3)  0                                            \n",
            "__________________________________________________________________________________________________\n",
            "93_Conv_f100_k1 (Conv2D)        (None, 199, 199, 100 400         0_Image[0][0]                    \n",
            "__________________________________________________________________________________________________\n",
            "101_Inception_1566719205.621401 (None, 199, 199, 100 100500      93_Conv_f100_k1[0][0]            \n",
            "__________________________________________________________________________________________________\n",
            "103_local_response_normalizer ( (None, 199, 199, 100 0           101_Inception_1566719205.621401[1\n",
            "__________________________________________________________________________________________________\n",
            "104_batchnorm (BatchNormalizati (None, 199, 199, 100 400         103_local_response_normalizer[0][\n",
            "__________________________________________________________________________________________________\n",
            "77_Conv_f1_k2 (Conv2D)          (None, 199, 199, 1)  13          0_Image[0][0]                    \n",
            "__________________________________________________________________________________________________\n",
            "105_activation_SELU (Activation (None, 199, 199, 100 0           104_batchnorm[0][0]              \n",
            "__________________________________________________________________________________________________\n",
            "78_batchnorm (BatchNormalizatio (None, 199, 199, 1)  4           77_Conv_f1_k2[0][0]              \n",
            "__________________________________________________________________________________________________\n",
            "107_maxpooling (MaxPooling2D)   (None, 66, 66, 100)  0           105_activation_SELU[0][0]        \n",
            "__________________________________________________________________________________________________\n",
            "79_activation_SELU (Activation) (None, 199, 199, 1)  0           78_batchnorm[0][0]               \n",
            "__________________________________________________________________________________________________\n",
            "115_Inception_1566719205.764932 (None, 66, 66, 100)  100500      107_maxpooling[0][0]             \n",
            "__________________________________________________________________________________________________\n",
            "80_Conv_f3_k2 (Conv2D)          (None, 199, 199, 3)  15          79_activation_SELU[0][0]         \n",
            "__________________________________________________________________________________________________\n",
            "117_local_response_normalizer ( (None, 66, 66, 100)  0           115_Inception_1566719205.764932[1\n",
            "__________________________________________________________________________________________________\n",
            "81_batchnorm (BatchNormalizatio (None, 199, 199, 3)  12          80_Conv_f3_k2[0][0]              \n",
            "__________________________________________________________________________________________________\n",
            "118_batchnorm (BatchNormalizati (None, 66, 66, 100)  400         117_local_response_normalizer[0][\n",
            "__________________________________________________________________________________________________\n",
            "82_activation_SELU (Activation) (None, 199, 199, 3)  0           81_batchnorm[0][0]               \n",
            "__________________________________________________________________________________________________\n",
            "119_activation_SELU (Activation (None, 66, 66, 100)  0           118_batchnorm[0][0]              \n",
            "__________________________________________________________________________________________________\n",
            "83_subtract (Subtract)          (None, 199, 199, 3)  0           0_Image[0][0]                    \n",
            "                                                                 82_activation_SELU[0][0]         \n",
            "__________________________________________________________________________________________________\n",
            "121_maxpooling (MaxPooling2D)   (None, 22, 22, 100)  0           119_activation_SELU[0][0]        \n",
            "__________________________________________________________________________________________________\n",
            "84_maxpooling (MaxPooling2D)    (None, 66, 66, 3)    0           83_subtract[0][0]                \n",
            "__________________________________________________________________________________________________\n",
            "129_Inception_1566719205.911847 (None, 22, 22, 100)  100500      121_maxpooling[0][0]             \n",
            "__________________________________________________________________________________________________\n",
            "90_activation_SELU (Activation) (None, 66, 66, 3)    0           84_maxpooling[0][0]              \n",
            "__________________________________________________________________________________________________\n",
            "131_local_response_normalizer ( (None, 22, 22, 100)  0           129_Inception_1566719205.911847[1\n",
            "__________________________________________________________________________________________________\n",
            "91_subtract (Subtract)          (None, 66, 66, 3)    0           84_maxpooling[0][0]              \n",
            "                                                                 90_activation_SELU[0][0]         \n",
            "__________________________________________________________________________________________________\n",
            "132_batchnorm (BatchNormalizati (None, 22, 22, 100)  400         131_local_response_normalizer[0][\n",
            "__________________________________________________________________________________________________\n",
            "92_maxpooling (MaxPooling2D)    (None, 22, 22, 3)    0           91_subtract[0][0]                \n",
            "__________________________________________________________________________________________________\n",
            "133_activation_SELU (Activation (None, 22, 22, 100)  0           132_batchnorm[0][0]              \n",
            "__________________________________________________________________________________________________\n",
            "135_concatenate (Concatenate)   (None, 22, 22, 103)  0           92_maxpooling[0][0]              \n",
            "                                                                 133_activation_SELU[0][0]        \n",
            "__________________________________________________________________________________________________\n",
            "136_flatten (Flatten)           (None, 49852)        0           135_concatenate[0][0]            \n",
            "__________________________________________________________________________________________________\n",
            "137_dense_n500 (Dense)          (None, 500)          24926500    136_flatten[0][0]                \n",
            "__________________________________________________________________________________________________\n",
            "138_dropout (Dropout)           (None, 500)          0           137_dense_n500[0][0]             \n",
            "__________________________________________________________________________________________________\n",
            "139_activation_SELU (Activation (None, 500)          0           138_dropout[0][0]                \n",
            "__________________________________________________________________________________________________\n",
            "140_dense_n1 (Dense)            (None, 1)            501         139_activation_SELU[0][0]        \n",
            "__________________________________________________________________________________________________\n",
            "141_activation_sigmoid (Activat (None, 1)            0           140_dense_n1[0][0]               \n",
            "==================================================================================================\n",
            "Total params: 25,230,145\n",
            "Trainable params: 25,229,537\n",
            "Non-trainable params: 608\n",
            "__________________________________________________________________________________________________\n",
            "None\n",
            "[[<tf.Tensor 'Generateur/12_activation_SELU/mul_1:0' shape=(?, 199, 199, 3) dtype=float32>, '13_activation_SELU'], [<tf.Tensor 'Generateur_1/153_activation_SELU/mul_1:0' shape=(?, 199, 199, 3) dtype=float32>, '154_activation_SELU']]\n",
            "255 0 (7, 199, 199, 3) uint8\n",
            "255 0 (7, 199, 199, 3) uint8\n",
            "Max-min :  (37050+0j) (-18446.651514319543-1225.6191983827462j)\n",
            "Training Models/Modele9_gen_0.h5\n"
          ],
          "name": "stdout"
        },
        {
          "output_type": "stream",
          "text": [
            "/usr/local/lib/python3.6/dist-packages/numpy/core/numeric.py:538: ComplexWarning: Casting complex values to real discards the imaginary part\n",
            "  return array(a, dtype, copy=False, order=order)\n"
          ],
          "name": "stderr"
        },
        {
          "output_type": "stream",
          "text": [
            "Training Models/Modele9_gen_1.h5\n",
            "Training Models/Modele9_gen_2.h5\n",
            "Lloss :  [['Models/Modele9_gen_0.h5', 1742167.0], ['Models/Modele9_gen_1.h5', 1742163.8], ['Models/Modele9_gen_2.h5', 1742167.1]]\n",
            "Training Models/Modele9_gen_disc_0.h5\n"
          ],
          "name": "stdout"
        },
        {
          "output_type": "stream",
          "text": [
            "/usr/local/lib/python3.6/dist-packages/numpy/core/numeric.py:538: ComplexWarning: Casting complex values to real discards the imaginary part\n",
            "  return array(a, dtype, copy=False, order=order)\n"
          ],
          "name": "stderr"
        },
        {
          "output_type": "stream",
          "text": [
            "Training Models/Modele9_gen_disc_1.h5\n",
            "Training Models/Modele9_gen_disc_2.h5\n",
            "Training Models/Modele9_gen_disc_0.h5\n",
            "Training Models/Modele9_gen_disc_1.h5\n",
            "Training Models/Modele9_gen_disc_2.h5\n",
            "Training Models/Modele9_gen_disc_0.h5\n",
            "Training Models/Modele9_gen_disc_1.h5\n",
            "Training Models/Modele9_gen_disc_2.h5\n",
            "Lloss :  [['Models/Modele9_gen_0.h5', 1742167.0, 'Models/Modele9_gen_disc_0.h5', 0.47328544], ['Models/Modele9_gen_0.h5', 1742167.0, 'Models/Modele9_gen_disc_1.h5', 0.5074226], ['Models/Modele9_gen_0.h5', 1742167.0, 'Models/Modele9_gen_disc_2.h5', 0.27421924], ['Models/Modele9_gen_1.h5', 1742163.8, 'Models/Modele9_gen_disc_0.h5', 0.32451057], ['Models/Modele9_gen_1.h5', 1742163.8, 'Models/Modele9_gen_disc_1.h5', 0.3980658], ['Models/Modele9_gen_1.h5', 1742163.8, 'Models/Modele9_gen_disc_2.h5', 0.18359229], ['Models/Modele9_gen_2.h5', 1742167.1, 'Models/Modele9_gen_disc_0.h5', 0.49956495], ['Models/Modele9_gen_2.h5', 1742167.1, 'Models/Modele9_gen_disc_1.h5', 0.41460568], ['Models/Modele9_gen_2.h5', 1742167.1, 'Models/Modele9_gen_disc_2.h5', 0.3104393]]\n",
            "Training Models/Modele9_disc_0.h5\n"
          ],
          "name": "stdout"
        },
        {
          "output_type": "stream",
          "text": [
            "/usr/local/lib/python3.6/dist-packages/numpy/core/numeric.py:538: ComplexWarning: Casting complex values to real discards the imaginary part\n",
            "  return array(a, dtype, copy=False, order=order)\n"
          ],
          "name": "stderr"
        },
        {
          "output_type": "stream",
          "text": [
            "Training Models/Modele9_disc_1.h5\n",
            "Training Models/Modele9_disc_2.h5\n",
            "Training Models/Modele9_disc_0.h5\n",
            "Training Models/Modele9_disc_1.h5\n",
            "Training Models/Modele9_disc_2.h5\n",
            "Training Models/Modele9_disc_0.h5\n",
            "Training Models/Modele9_disc_1.h5\n",
            "Training Models/Modele9_disc_2.h5\n",
            "Training Models/Modele9_disc_0.h5\n",
            "Training Models/Modele9_disc_1.h5\n",
            "Training Models/Modele9_disc_2.h5\n",
            "Training Models/Modele9_disc_0.h5\n",
            "Training Models/Modele9_disc_1.h5\n",
            "Training Models/Modele9_disc_2.h5\n",
            "Training Models/Modele9_disc_0.h5\n",
            "Training Models/Modele9_disc_1.h5\n"
          ],
          "name": "stdout"
        },
        {
          "output_type": "error",
          "ename": "KeyboardInterrupt",
          "evalue": "ignored",
          "traceback": [
            "\u001b[0;31m---------------------------------------------------------------------------\u001b[0m",
            "\u001b[0;31mKeyboardInterrupt\u001b[0m                         Traceback (most recent call last)",
            "\u001b[0;32m<ipython-input-28-35c13cf324d2>\u001b[0m in \u001b[0;36m<module>\u001b[0;34m()\u001b[0m\n\u001b[1;32m     49\u001b[0m         \u001b[0mindex\u001b[0m \u001b[0;34m+=\u001b[0m \u001b[0;36m1\u001b[0m\u001b[0;34m\u001b[0m\u001b[0;34m\u001b[0m\u001b[0m\n\u001b[1;32m     50\u001b[0m     \u001b[0msummary_writer\u001b[0m\u001b[0;34m.\u001b[0m\u001b[0mclose\u001b[0m\u001b[0;34m(\u001b[0m\u001b[0;34m)\u001b[0m\u001b[0;34m\u001b[0m\u001b[0;34m\u001b[0m\u001b[0m\n\u001b[0;32m---> 51\u001b[0;31m \u001b[0mLloss\u001b[0m \u001b[0;34m=\u001b[0m \u001b[0mtrain_gen_disc\u001b[0m\u001b[0;34m(\u001b[0m\u001b[0mimages\u001b[0m\u001b[0;34m,\u001b[0m\u001b[0mevalData\u001b[0m\u001b[0;34m,\u001b[0m\u001b[0;36m9\u001b[0m\u001b[0;34m)\u001b[0m\u001b[0;34m\u001b[0m\u001b[0;34m\u001b[0m\u001b[0m\n\u001b[0m",
            "\u001b[0;32m<ipython-input-28-35c13cf324d2>\u001b[0m in \u001b[0;36mtrain_gen_disc\u001b[0;34m(images, eval_data, indexModele)\u001b[0m\n\u001b[1;32m     29\u001b[0m         \u001b[0mK\u001b[0m\u001b[0;34m.\u001b[0m\u001b[0mset_value\u001b[0m\u001b[0;34m(\u001b[0m\u001b[0mgen\u001b[0m\u001b[0;34m.\u001b[0m\u001b[0moptimizer\u001b[0m\u001b[0;34m.\u001b[0m\u001b[0mlr\u001b[0m\u001b[0;34m,\u001b[0m \u001b[0mcurrent_learning_rate\u001b[0m\u001b[0;34m)\u001b[0m\u001b[0;34m\u001b[0m\u001b[0;34m\u001b[0m\u001b[0m\n\u001b[1;32m     30\u001b[0m         \u001b[0mx\u001b[0m \u001b[0;34m=\u001b[0m \u001b[0mnp\u001b[0m\u001b[0;34m.\u001b[0m\u001b[0mconcatenate\u001b[0m\u001b[0;34m(\u001b[0m\u001b[0;34m(\u001b[0m\u001b[0mimage\u001b[0m\u001b[0;34m,\u001b[0m\u001b[0mimageBruitee\u001b[0m\u001b[0;34m)\u001b[0m\u001b[0;34m)\u001b[0m\u001b[0;34m\u001b[0m\u001b[0;34m\u001b[0m\u001b[0m\n\u001b[0;32m---> 31\u001b[0;31m         \u001b[0mloss\u001b[0m \u001b[0;34m=\u001b[0m \u001b[0mmean_gen_disc_top_27\u001b[0m\u001b[0;34m(\u001b[0m\u001b[0mdisc\u001b[0m\u001b[0;34m,\u001b[0m\u001b[0mgen\u001b[0m\u001b[0;34m,\u001b[0m\u001b[0mgen_disc\u001b[0m\u001b[0;34m,\u001b[0m\u001b[0mnp\u001b[0m\u001b[0;34m.\u001b[0m\u001b[0mconcatenate\u001b[0m\u001b[0;34m(\u001b[0m\u001b[0;34m(\u001b[0m\u001b[0mimage\u001b[0m\u001b[0;34m,\u001b[0m\u001b[0mimageBruitee\u001b[0m\u001b[0;34m)\u001b[0m\u001b[0;34m)\u001b[0m\u001b[0;34m,\u001b[0m\u001b[0mnp\u001b[0m\u001b[0;34m.\u001b[0m\u001b[0mconcatenate\u001b[0m\u001b[0;34m(\u001b[0m\u001b[0;34m(\u001b[0m\u001b[0mimage\u001b[0m\u001b[0;34m,\u001b[0m\u001b[0mimage\u001b[0m\u001b[0;34m)\u001b[0m\u001b[0;34m)\u001b[0m\u001b[0;34m,\u001b[0m\u001b[0mindexModele\u001b[0m\u001b[0;34m)\u001b[0m\u001b[0;34m\u001b[0m\u001b[0;34m\u001b[0m\u001b[0m\n\u001b[0m\u001b[1;32m     32\u001b[0m         \u001b[0mLloss\u001b[0m\u001b[0;34m.\u001b[0m\u001b[0mappend\u001b[0m\u001b[0;34m(\u001b[0m\u001b[0mloss\u001b[0m\u001b[0;34m)\u001b[0m\u001b[0;34m\u001b[0m\u001b[0;34m\u001b[0m\u001b[0m\n\u001b[1;32m     33\u001b[0m         \u001b[0mprint\u001b[0m\u001b[0;34m(\u001b[0m\u001b[0;34m\"Iteration %i : gen, erreur : %f, gen_disc, erreur : %f ; disc, erreur : %f ; erreur moyenne : %f\"\u001b[0m\u001b[0;34m%\u001b[0m\u001b[0;34m(\u001b[0m\u001b[0mindex\u001b[0m\u001b[0;34m,\u001b[0m\u001b[0mloss\u001b[0m\u001b[0;34m[\u001b[0m\u001b[0;36m1\u001b[0m\u001b[0;34m]\u001b[0m\u001b[0;34m,\u001b[0m\u001b[0mloss\u001b[0m\u001b[0;34m[\u001b[0m\u001b[0;36m3\u001b[0m\u001b[0;34m]\u001b[0m\u001b[0;34m,\u001b[0m\u001b[0mloss\u001b[0m\u001b[0;34m[\u001b[0m\u001b[0;34m-\u001b[0m\u001b[0;36m2\u001b[0m\u001b[0;34m]\u001b[0m\u001b[0;34m,\u001b[0m\u001b[0mloss\u001b[0m\u001b[0;34m[\u001b[0m\u001b[0;34m-\u001b[0m\u001b[0;36m1\u001b[0m\u001b[0;34m]\u001b[0m\u001b[0;34m)\u001b[0m\u001b[0;34m)\u001b[0m\u001b[0;34m\u001b[0m\u001b[0;34m\u001b[0m\u001b[0m\n",
            "\u001b[0;32m<ipython-input-21-ab2dbb58b41a>\u001b[0m in \u001b[0;36mmean_gen_disc_top_27\u001b[0;34m(disc, gen, gen_disc, input_image, desired_image, indexModele)\u001b[0m\n\u001b[1;32m     78\u001b[0m             \u001b[0;32mexcept\u001b[0m\u001b[0;34m:\u001b[0m\u001b[0;34m\u001b[0m\u001b[0;34m\u001b[0m\u001b[0m\n\u001b[1;32m     79\u001b[0m                 \u001b[0mgen_disc\u001b[0m\u001b[0;34m.\u001b[0m\u001b[0mload_weights\u001b[0m\u001b[0;34m(\u001b[0m\u001b[0mLloss\u001b[0m\u001b[0;34m[\u001b[0m\u001b[0mindex_model\u001b[0m\u001b[0;34m]\u001b[0m\u001b[0;34m[\u001b[0m\u001b[0;34m-\u001b[0m\u001b[0;36m2\u001b[0m\u001b[0;34m]\u001b[0m\u001b[0;34m)\u001b[0m\u001b[0;34m\u001b[0m\u001b[0;34m\u001b[0m\u001b[0m\n\u001b[0;32m---> 80\u001b[0;31m             \u001b[0mloss\u001b[0m \u001b[0;34m=\u001b[0m \u001b[0mdisc\u001b[0m\u001b[0;34m.\u001b[0m\u001b[0mtrain_on_batch\u001b[0m\u001b[0;34m(\u001b[0m\u001b[0minput_image\u001b[0m\u001b[0;34m,\u001b[0m\u001b[0mdesired_probability\u001b[0m\u001b[0;34m)\u001b[0m\u001b[0;34m\u001b[0m\u001b[0;34m\u001b[0m\u001b[0m\n\u001b[0m\u001b[1;32m     81\u001b[0m             \u001b[0;32mtry\u001b[0m\u001b[0;34m:\u001b[0m\u001b[0;34m\u001b[0m\u001b[0;34m\u001b[0m\u001b[0m\n\u001b[1;32m     82\u001b[0m                 \u001b[0mdisc\u001b[0m\u001b[0;34m.\u001b[0m\u001b[0msave_weights\u001b[0m\u001b[0;34m(\u001b[0m\u001b[0mdisc_backup\u001b[0m\u001b[0;34m)\u001b[0m\u001b[0;34m\u001b[0m\u001b[0;34m\u001b[0m\u001b[0m\n",
            "\u001b[0;32m/usr/local/lib/python3.6/dist-packages/keras/engine/training.py\u001b[0m in \u001b[0;36mtrain_on_batch\u001b[0;34m(self, x, y, sample_weight, class_weight)\u001b[0m\n\u001b[1;32m   1215\u001b[0m             \u001b[0mins\u001b[0m \u001b[0;34m=\u001b[0m \u001b[0mx\u001b[0m \u001b[0;34m+\u001b[0m \u001b[0my\u001b[0m \u001b[0;34m+\u001b[0m \u001b[0msample_weights\u001b[0m\u001b[0;34m\u001b[0m\u001b[0;34m\u001b[0m\u001b[0m\n\u001b[1;32m   1216\u001b[0m         \u001b[0mself\u001b[0m\u001b[0;34m.\u001b[0m\u001b[0m_make_train_function\u001b[0m\u001b[0;34m(\u001b[0m\u001b[0;34m)\u001b[0m\u001b[0;34m\u001b[0m\u001b[0;34m\u001b[0m\u001b[0m\n\u001b[0;32m-> 1217\u001b[0;31m         \u001b[0moutputs\u001b[0m \u001b[0;34m=\u001b[0m \u001b[0mself\u001b[0m\u001b[0;34m.\u001b[0m\u001b[0mtrain_function\u001b[0m\u001b[0;34m(\u001b[0m\u001b[0mins\u001b[0m\u001b[0;34m)\u001b[0m\u001b[0;34m\u001b[0m\u001b[0;34m\u001b[0m\u001b[0m\n\u001b[0m\u001b[1;32m   1218\u001b[0m         \u001b[0;32mreturn\u001b[0m \u001b[0munpack_singleton\u001b[0m\u001b[0;34m(\u001b[0m\u001b[0moutputs\u001b[0m\u001b[0;34m)\u001b[0m\u001b[0;34m\u001b[0m\u001b[0;34m\u001b[0m\u001b[0m\n\u001b[1;32m   1219\u001b[0m \u001b[0;34m\u001b[0m\u001b[0m\n",
            "\u001b[0;32m/usr/local/lib/python3.6/dist-packages/keras/backend/tensorflow_backend.py\u001b[0m in \u001b[0;36m__call__\u001b[0;34m(self, inputs)\u001b[0m\n\u001b[1;32m   2713\u001b[0m                 \u001b[0;32mreturn\u001b[0m \u001b[0mself\u001b[0m\u001b[0;34m.\u001b[0m\u001b[0m_legacy_call\u001b[0m\u001b[0;34m(\u001b[0m\u001b[0minputs\u001b[0m\u001b[0;34m)\u001b[0m\u001b[0;34m\u001b[0m\u001b[0;34m\u001b[0m\u001b[0m\n\u001b[1;32m   2714\u001b[0m \u001b[0;34m\u001b[0m\u001b[0m\n\u001b[0;32m-> 2715\u001b[0;31m             \u001b[0;32mreturn\u001b[0m \u001b[0mself\u001b[0m\u001b[0;34m.\u001b[0m\u001b[0m_call\u001b[0m\u001b[0;34m(\u001b[0m\u001b[0minputs\u001b[0m\u001b[0;34m)\u001b[0m\u001b[0;34m\u001b[0m\u001b[0;34m\u001b[0m\u001b[0m\n\u001b[0m\u001b[1;32m   2716\u001b[0m         \u001b[0;32melse\u001b[0m\u001b[0;34m:\u001b[0m\u001b[0;34m\u001b[0m\u001b[0;34m\u001b[0m\u001b[0m\n\u001b[1;32m   2717\u001b[0m             \u001b[0;32mif\u001b[0m \u001b[0mpy_any\u001b[0m\u001b[0;34m(\u001b[0m\u001b[0mis_tensor\u001b[0m\u001b[0;34m(\u001b[0m\u001b[0mx\u001b[0m\u001b[0;34m)\u001b[0m \u001b[0;32mfor\u001b[0m \u001b[0mx\u001b[0m \u001b[0;32min\u001b[0m \u001b[0minputs\u001b[0m\u001b[0;34m)\u001b[0m\u001b[0;34m:\u001b[0m\u001b[0;34m\u001b[0m\u001b[0;34m\u001b[0m\u001b[0m\n",
            "\u001b[0;32m/usr/local/lib/python3.6/dist-packages/keras/backend/tensorflow_backend.py\u001b[0m in \u001b[0;36m_call\u001b[0;34m(self, inputs)\u001b[0m\n\u001b[1;32m   2673\u001b[0m             \u001b[0mfetched\u001b[0m \u001b[0;34m=\u001b[0m \u001b[0mself\u001b[0m\u001b[0;34m.\u001b[0m\u001b[0m_callable_fn\u001b[0m\u001b[0;34m(\u001b[0m\u001b[0;34m*\u001b[0m\u001b[0marray_vals\u001b[0m\u001b[0;34m,\u001b[0m \u001b[0mrun_metadata\u001b[0m\u001b[0;34m=\u001b[0m\u001b[0mself\u001b[0m\u001b[0;34m.\u001b[0m\u001b[0mrun_metadata\u001b[0m\u001b[0;34m)\u001b[0m\u001b[0;34m\u001b[0m\u001b[0;34m\u001b[0m\u001b[0m\n\u001b[1;32m   2674\u001b[0m         \u001b[0;32melse\u001b[0m\u001b[0;34m:\u001b[0m\u001b[0;34m\u001b[0m\u001b[0;34m\u001b[0m\u001b[0m\n\u001b[0;32m-> 2675\u001b[0;31m             \u001b[0mfetched\u001b[0m \u001b[0;34m=\u001b[0m \u001b[0mself\u001b[0m\u001b[0;34m.\u001b[0m\u001b[0m_callable_fn\u001b[0m\u001b[0;34m(\u001b[0m\u001b[0;34m*\u001b[0m\u001b[0marray_vals\u001b[0m\u001b[0;34m)\u001b[0m\u001b[0;34m\u001b[0m\u001b[0;34m\u001b[0m\u001b[0m\n\u001b[0m\u001b[1;32m   2676\u001b[0m         \u001b[0;32mreturn\u001b[0m \u001b[0mfetched\u001b[0m\u001b[0;34m[\u001b[0m\u001b[0;34m:\u001b[0m\u001b[0mlen\u001b[0m\u001b[0;34m(\u001b[0m\u001b[0mself\u001b[0m\u001b[0;34m.\u001b[0m\u001b[0moutputs\u001b[0m\u001b[0;34m)\u001b[0m\u001b[0;34m]\u001b[0m\u001b[0;34m\u001b[0m\u001b[0;34m\u001b[0m\u001b[0m\n\u001b[1;32m   2677\u001b[0m \u001b[0;34m\u001b[0m\u001b[0m\n",
            "\u001b[0;32m/usr/local/lib/python3.6/dist-packages/tensorflow/python/client/session.py\u001b[0m in \u001b[0;36m__call__\u001b[0;34m(self, *args, **kwargs)\u001b[0m\n\u001b[1;32m   1456\u001b[0m         ret = tf_session.TF_SessionRunCallable(self._session._session,\n\u001b[1;32m   1457\u001b[0m                                                \u001b[0mself\u001b[0m\u001b[0;34m.\u001b[0m\u001b[0m_handle\u001b[0m\u001b[0;34m,\u001b[0m \u001b[0margs\u001b[0m\u001b[0;34m,\u001b[0m\u001b[0;34m\u001b[0m\u001b[0;34m\u001b[0m\u001b[0m\n\u001b[0;32m-> 1458\u001b[0;31m                                                run_metadata_ptr)\n\u001b[0m\u001b[1;32m   1459\u001b[0m         \u001b[0;32mif\u001b[0m \u001b[0mrun_metadata\u001b[0m\u001b[0;34m:\u001b[0m\u001b[0;34m\u001b[0m\u001b[0;34m\u001b[0m\u001b[0m\n\u001b[1;32m   1460\u001b[0m           \u001b[0mproto_data\u001b[0m \u001b[0;34m=\u001b[0m \u001b[0mtf_session\u001b[0m\u001b[0;34m.\u001b[0m\u001b[0mTF_GetBuffer\u001b[0m\u001b[0;34m(\u001b[0m\u001b[0mrun_metadata_ptr\u001b[0m\u001b[0;34m)\u001b[0m\u001b[0;34m\u001b[0m\u001b[0;34m\u001b[0m\u001b[0m\n",
            "\u001b[0;31mKeyboardInterrupt\u001b[0m: "
          ]
        }
      ]
    },
    {
      "cell_type": "code",
      "metadata": {
        "id": "8PPuGTwNTLMJ",
        "colab_type": "code",
        "colab": {}
      },
      "source": [
        ""
      ],
      "execution_count": 0,
      "outputs": []
    }
  ]
}