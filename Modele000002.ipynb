{
  "nbformat": 4,
  "nbformat_minor": 0,
  "metadata": {
    "colab": {
      "name": "Modele000002.ipynb",
      "provenance": [],
      "collapsed_sections": [],
      "machine_shape": "hm",
      "authorship_tag": "ABX9TyPtUqkrStP+jap5oBLzeM1l",
      "include_colab_link": true
    },
    "kernelspec": {
      "name": "python3",
      "display_name": "Python 3"
    }
  },
  "cells": [
    {
      "cell_type": "markdown",
      "metadata": {
        "id": "view-in-github",
        "colab_type": "text"
      },
      "source": [
        "<a href=\"https://colab.research.google.com/github/Rob174/Astronomy/blob/Astronomy/Modele000002.ipynb\" target=\"_parent\"><img src=\"https://colab.research.google.com/assets/colab-badge.svg\" alt=\"Open In Colab\"/></a>"
      ]
    },
    {
      "cell_type": "code",
      "metadata": {
        "id": "f-4ZUsJdxOlq",
        "colab_type": "code",
        "outputId": "55d7c027-aa48-465d-e42c-4240fcfd2788",
        "colab": {
          "base_uri": "https://localhost:8080/",
          "height": 749
        }
      },
      "source": [
        "\n",
        "##Python / Colab\n",
        "from google.colab import files\n",
        "from google.colab import drive\n",
        "import os\n",
        "from IPython.display import Image as imgIPython\n",
        "from IPython.display import clear_output,display\n",
        "import IPython\n",
        "## Tensorflow keras\n",
        "try:\n",
        "  !pip install -q tf-nightly\n",
        "except Exception:\n",
        "  pass\n",
        "import tensorflow as tf\n",
        "from tensorflow.keras import backend as K\n",
        "\n",
        "from tensorflow.python import debug as tf_debug\n",
        "from tensorflow.python.client import device_lib\n",
        "\n",
        "from tensorflow.keras.models import Sequential\n",
        "\n",
        "from tensorflow.keras.layers import Layer\n",
        "from tensorflow.keras.layers import Input\n",
        "from tensorflow.keras.layers import Dense,Conv2D,Convolution2D,Activation,Conv2DTranspose\n",
        "from tensorflow.keras.layers import MaxPooling2D,AveragePooling2D\n",
        "from tensorflow.keras.layers import Dropout,Reshape,BatchNormalization\n",
        "from tensorflow.keras.layers import concatenate,Concatenate,Subtract,Multiply,Average,Add\n",
        "from tensorflow.keras.layers import UpSampling2D, Reshape,Flatten\n",
        "from tensorflow.keras.layers import Lambda\n",
        "\n",
        "from tensorflow.keras.optimizers import SGD, Adam\n",
        "from tensorflow.keras import models\n",
        "from tensorflow.keras.models import Model, Sequential\n",
        "import tensorflow.keras.losses\n",
        "## Math libraries\n",
        "import numpy as np\n",
        "import scipy\n",
        "import matplotlib.gridspec as gridspec\n",
        "import matplotlib.pyplot as plt\n",
        "##Images\n",
        "from PIL import Image\n",
        "import cv2\n",
        "## Graph\n",
        "from graphviz import render\n",
        "from graphviz import Digraph,Graph\n",
        "drive.mount('/content/drive')\n",
        "%cd '/content/drive/My Drive/TIPE'\n",
        "#Dataset\n",
        "from __future__ import absolute_import, division, print_function, unicode_literals\n",
        "import random\n",
        "import pathlib\n",
        "import shutil\n",
        "import time\n",
        "#Debugage\n",
        "from IPython.display import clear_output\n",
        "#Hyperparameters tuning\n",
        "try:\n",
        "    !pip install -U keras-tuner #De https://github.com/keras-team/keras-tuner\n",
        "except Exception:\n",
        "    pass\n",
        "from kerastuner import BayesianOptimization\n",
        "from tensorboard.plugins.hparams import api as hp"
      ],
      "execution_count": 1,
      "outputs": [
        {
          "output_type": "stream",
          "text": [
            "\u001b[K     |████████████████████████████████| 515.7MB 28kB/s \n",
            "\u001b[K     |████████████████████████████████| 460kB 52.1MB/s \n",
            "\u001b[K     |████████████████████████████████| 2.9MB 43.2MB/s \n",
            "\u001b[K     |████████████████████████████████| 2.8MB 21.1MB/s \n",
            "\u001b[K     |████████████████████████████████| 778kB 58.9MB/s \n",
            "\u001b[31mERROR: tensorflow 1.15.0 has requirement gast==0.2.2, but you'll have gast 0.3.3 which is incompatible.\u001b[0m\n",
            "\u001b[?25hGo to this URL in a browser: https://accounts.google.com/o/oauth2/auth?client_id=947318989803-6bn6qk8qdgf4n4g3pfee6491hc0brc4i.apps.googleusercontent.com&redirect_uri=urn%3aietf%3awg%3aoauth%3a2.0%3aoob&response_type=code&scope=email%20https%3a%2f%2fwww.googleapis.com%2fauth%2fdocs.test%20https%3a%2f%2fwww.googleapis.com%2fauth%2fdrive%20https%3a%2f%2fwww.googleapis.com%2fauth%2fdrive.photos.readonly%20https%3a%2f%2fwww.googleapis.com%2fauth%2fpeopleapi.readonly\n",
            "\n",
            "Enter your authorization code:\n",
            "··········\n",
            "Mounted at /content/drive\n",
            "/content/drive/My Drive/TIPE\n",
            "Collecting keras-tuner\n",
            "\u001b[?25l  Downloading https://files.pythonhosted.org/packages/a7/f7/4b41b6832abf4c9bef71a664dc563adb25afc5812831667c6db572b1a261/keras-tuner-1.0.1.tar.gz (54kB)\n",
            "\u001b[K     |████████████████████████████████| 61kB 1.9MB/s \n",
            "\u001b[?25hRequirement already satisfied, skipping upgrade: future in /usr/local/lib/python3.6/dist-packages (from keras-tuner) (0.16.0)\n",
            "Requirement already satisfied, skipping upgrade: numpy in /usr/local/lib/python3.6/dist-packages (from keras-tuner) (1.17.5)\n",
            "Requirement already satisfied, skipping upgrade: tabulate in /usr/local/lib/python3.6/dist-packages (from keras-tuner) (0.8.6)\n",
            "Collecting terminaltables\n",
            "  Downloading https://files.pythonhosted.org/packages/9b/c4/4a21174f32f8a7e1104798c445dacdc1d4df86f2f26722767034e4de4bff/terminaltables-3.1.0.tar.gz\n",
            "Collecting colorama\n",
            "  Downloading https://files.pythonhosted.org/packages/c9/dc/45cdef1b4d119eb96316b3117e6d5708a08029992b2fee2c143c7a0a5cc5/colorama-0.4.3-py2.py3-none-any.whl\n",
            "Requirement already satisfied, skipping upgrade: tqdm in /usr/local/lib/python3.6/dist-packages (from keras-tuner) (4.28.1)\n",
            "Requirement already satisfied, skipping upgrade: requests in /usr/local/lib/python3.6/dist-packages (from keras-tuner) (2.21.0)\n",
            "Requirement already satisfied, skipping upgrade: scipy in /usr/local/lib/python3.6/dist-packages (from keras-tuner) (1.4.1)\n",
            "Requirement already satisfied, skipping upgrade: scikit-learn in /usr/local/lib/python3.6/dist-packages (from keras-tuner) (0.22.1)\n",
            "Requirement already satisfied, skipping upgrade: urllib3<1.25,>=1.21.1 in /usr/local/lib/python3.6/dist-packages (from requests->keras-tuner) (1.24.3)\n",
            "Requirement already satisfied, skipping upgrade: certifi>=2017.4.17 in /usr/local/lib/python3.6/dist-packages (from requests->keras-tuner) (2019.11.28)\n",
            "Requirement already satisfied, skipping upgrade: chardet<3.1.0,>=3.0.2 in /usr/local/lib/python3.6/dist-packages (from requests->keras-tuner) (3.0.4)\n",
            "Requirement already satisfied, skipping upgrade: idna<2.9,>=2.5 in /usr/local/lib/python3.6/dist-packages (from requests->keras-tuner) (2.8)\n",
            "Requirement already satisfied, skipping upgrade: joblib>=0.11 in /usr/local/lib/python3.6/dist-packages (from scikit-learn->keras-tuner) (0.14.1)\n",
            "Building wheels for collected packages: keras-tuner, terminaltables\n",
            "  Building wheel for keras-tuner (setup.py) ... \u001b[?25l\u001b[?25hdone\n",
            "  Created wheel for keras-tuner: filename=keras_tuner-1.0.1-cp36-none-any.whl size=73200 sha256=e82ef08007b296c96371c85c47ac60e020b94837cf587877146c5e834d146550\n",
            "  Stored in directory: /root/.cache/pip/wheels/b9/cc/62/52716b70dd90f3db12519233c3a93a5360bc672da1a10ded43\n",
            "  Building wheel for terminaltables (setup.py) ... \u001b[?25l\u001b[?25hdone\n",
            "  Created wheel for terminaltables: filename=terminaltables-3.1.0-cp36-none-any.whl size=15356 sha256=f497e1ddd4f13ee3573d131bd4492f169decd9d9f69e68bb69ba2f3440adc2a3\n",
            "  Stored in directory: /root/.cache/pip/wheels/30/6b/50/6c75775b681fb36cdfac7f19799888ef9d8813aff9e379663e\n",
            "Successfully built keras-tuner terminaltables\n",
            "Installing collected packages: terminaltables, colorama, keras-tuner\n",
            "Successfully installed colorama-0.4.3 keras-tuner-1.0.1 terminaltables-3.1.0\n"
          ],
          "name": "stdout"
        }
      ]
    },
    {
      "cell_type": "markdown",
      "metadata": {
        "id": "mMma_lMW-29B",
        "colab_type": "text"
      },
      "source": [
        "#Dataset"
      ]
    },
    {
      "cell_type": "code",
      "metadata": {
        "id": "7oQm7uLvDnR5",
        "colab_type": "code",
        "colab": {}
      },
      "source": [
        "#@title { display-mode: \"form\" }\n",
        "\n",
        "dossier_TIPE = \"/content/drive/My Drive/TIPE/\"#@param {type:\"string\"}"
      ],
      "execution_count": 0,
      "outputs": []
    },
    {
      "cell_type": "markdown",
      "metadata": {
        "id": "KsMYSENdqe4s",
        "colab_type": "text"
      },
      "source": [
        "Vérification des datasets"
      ]
    },
    {
      "cell_type": "code",
      "metadata": {
        "id": "D4Yngt9NqhPE",
        "colab_type": "code",
        "outputId": "580d6259-d5c4-4a90-b466-ed69c5c00dfd",
        "colab": {
          "base_uri": "https://localhost:8080/",
          "height": 52
        }
      },
      "source": [
        "path = dossier_TIPE+\"Galaxies_resized/\"\n",
        "dossiers = [\"Train\",\"Validation\",\"Test\"]\n",
        "compte = []\n",
        "for d in dossiers:\n",
        "    compte.append(len(os.listdir(path+d)))\n",
        "print([c/sum(compte) for c in compte])\n",
        "print([c/10 for c in compte])"
      ],
      "execution_count": 3,
      "outputs": [
        {
          "output_type": "stream",
          "text": [
            "[0.6089108910891089, 0.297029702970297, 0.09405940594059406]\n",
            "[24.6, 12.0, 3.8]\n"
          ],
          "name": "stdout"
        }
      ]
    },
    {
      "cell_type": "markdown",
      "metadata": {
        "id": "ac2TLlgRMArx",
        "colab_type": "text"
      },
      "source": [
        "Création des classes de dataset Tensorflow"
      ]
    },
    {
      "cell_type": "code",
      "metadata": {
        "id": "V_ptcujmA35w",
        "colab_type": "code",
        "colab": {}
      },
      "source": [
        "#D'après https://stackoverflow.com/questions/54590363/create-tensorflow-dataset-from-image-local-directory\n",
        "class ArtificialDataset(tf.data.Dataset):\n",
        "    def open_imgs(x):\n",
        "        img = tf.io.read_file(x)\n",
        "        img = tf.image.decode_jpeg(img)\n",
        "        img = tf.image.convert_image_dtype(img, tf.float32)\n",
        "        img = tf.image.resize(img, [256, 256])\n",
        "        img = tf.clip_by_value(img,0,1)\n",
        "        return img\n",
        "        \n",
        "    def _generator():\n",
        "        for img_batch in ArtificialDataset.donnees:\n",
        "            cleans = []\n",
        "            for i,img in enumerate(img_batch):\n",
        "                clean = ArtificialDataset.open_imgs(img)\n",
        "                cleans.append(clean)\n",
        "            cleans_t = tf.stack(cleans)\n",
        "            yield (cleans_t)\n",
        "    \n",
        "    def __new__(cls,nom):\n",
        "        ArtificialDataset.donnees = tf.data.Dataset.list_files(dossier_TIPE+\"Galaxies_resized/\"+nom+\"/*.jpg\").shuffle(len(os.listdir(dossier_TIPE+\"Galaxies_resized/\"+nom))).batch(10)\n",
        "        #voir doc from_generator https://github.com/tensorflow/tensorflow/blob/f2b2563c6ce2001a117cd7adb36f303903e907ec/tensorflow/python/data/ops/dataset_ops.py#L669\n",
        "        return tf.data.Dataset.from_generator(\n",
        "            cls._generator,\n",
        "            output_types=(tf.dtypes.float32),\n",
        "            output_shapes=(tf.TensorShape([None,256,256,3])), #https://www.tensorflow.org/api_docs/python/tf/TensorShape?version=nightly\n",
        "            args=None\n",
        "        )"
      ],
      "execution_count": 0,
      "outputs": []
    },
    {
      "cell_type": "code",
      "metadata": {
        "id": "LaNp7kHZAMET",
        "colab_type": "code",
        "colab": {}
      },
      "source": [
        "\n",
        "#Bruit gaussien origine : https://stackoverflow.com/questions/59286171/gaussian-blur-image-in-dataset-pipeline-in-tensorflow\n",
        "def _gaussian_kernel(kernel_size, sigma, n_channels, dtype):\n",
        "    \"\"\"Génère le noyau de la couche de convolution du flou gaussien\"\"\"\n",
        "    x = tf.range(-kernel_size // 2 + 1, kernel_size // 2 + 1, dtype=dtype)\n",
        "    g = tf.math.exp(-(tf.pow(x, 2) / (2 * tf.pow(tf.cast(sigma, dtype), 2))))\n",
        "    g_norm2d = tf.pow(tf.reduce_sum(g), 2)\n",
        "    g_kernel = tf.tensordot(g, g, axes=0) / g_norm2d\n",
        "    g_kernel = tf.expand_dims(g_kernel, axis=-1)\n",
        "    return tf.expand_dims(tf.tile(g_kernel, (1, 1, n_channels)), axis=-1)\n",
        "\n",
        "def apply_blur(img):\n",
        "    \"\"\"Applique le flou gaussien\"\"\"\n",
        "    img = tf.reshape(img,[1,256,256,3])\n",
        "    blur = _gaussian_kernel(3, 2, 3, img.dtype)\n",
        "    img = tf.nn.depthwise_conv2d(img, blur, [1,1,1,1], 'SAME')\n",
        "    return tf.reshape(img,[256,256,3])\n",
        "def bruitage(img):\n",
        "    #Bruitage\n",
        "    img_noise = tf.image.adjust_saturation(img,.8)\n",
        "    img_noise = apply_blur(img_noise)\n",
        "    img_noise = tf.image.adjust_contrast(img_noise,tf.reduce_sum(tf.random.uniform(shape=(1,),dtype=tf.float32,minval=0.1,maxval=0.2)))\n",
        "    ajout = 0.1\n",
        "    img_noise = img_noise+tf.concat([tf.ones(shape=[256,256,1])*ajout,tf.zeros(shape=[256,256,2])],axis=-1)\n",
        "    img_noise = tf.image.adjust_brightness(img_noise,-ajout)\n",
        "    img_noise = tf.image.adjust_hue(img_noise,tf.reduce_sum(tf.random.uniform(shape=(1,),dtype=tf.float32,minval=0.06,maxval=0.09)))\n",
        "    img_noise = tf.clip_by_value(img_noise,0,1)\n",
        "    return img_noise\n",
        "def traitement(img_batch):\n",
        "    \"\"\"Modification par image\"\"\"\n",
        "    noised = tf.map_fn(bruitage,img_batch)\n",
        "    img_noise_batch = tf.concat([tf.slice(noised,[0,0,0,0],[len(img_batch)//2,256,256,3]),tf.slice(img_batch,[len(img_batch)//2,0,0,0],[len(img_batch)-len(img_batch)//2,256,256,3])],axis=0)\n",
        "    return img_batch,img_noise_batch"
      ],
      "execution_count": 0,
      "outputs": []
    },
    {
      "cell_type": "markdown",
      "metadata": {
        "id": "LAG5ZZmOrNFj",
        "colab_type": "text"
      },
      "source": [
        "# Modèle"
      ]
    },
    {
      "cell_type": "markdown",
      "metadata": {
        "id": "9T-0l-CqrPPf",
        "colab_type": "text"
      },
      "source": [
        "## Couche de convolution et déconvolution liée"
      ]
    },
    {
      "cell_type": "code",
      "metadata": {
        "id": "n7YrTyJjr-Yz",
        "colab_type": "code",
        "colab": {}
      },
      "source": [
        "class Conv2DTranspose_tied(Conv2DTranspose):\n",
        "    def __init__(self,\n",
        "               filters,\n",
        "               kernel_size,\n",
        "               strides=(1, 1),\n",
        "               padding='valid',\n",
        "               output_padding=None,\n",
        "               data_format=None,\n",
        "               dilation_rate=(1, 1),\n",
        "               activation=None,\n",
        "               use_bias=True,\n",
        "               kernel_initializer='glorot_uniform',\n",
        "               bias_initializer='zeros',\n",
        "               kernel_regularizer=None,\n",
        "               bias_regularizer=None,\n",
        "               activity_regularizer=None,\n",
        "               kernel_constraint=None,\n",
        "               bias_constraint=None,\n",
        "               tied_to = None,\n",
        "               **kwargs):\n",
        "        self.tied_to = tied_to\n",
        "        self.initial_weights = tied_to.initial_weights\n",
        "        super(Conv2DTranspose_tied, self).__init__(\n",
        "            filters=filters,\n",
        "            kernel_size=kernel_size,\n",
        "            strides=strides,\n",
        "            padding=padding,\n",
        "            data_format=data_format,\n",
        "            dilation_rate=dilation_rate,\n",
        "            activation=activations.get(activation),\n",
        "            use_bias=use_bias,\n",
        "            kernel_initializer=initializers.get(kernel_initializer),\n",
        "            bias_initializer=initializers.get(bias_initializer),\n",
        "            kernel_regularizer=regularizers.get(kernel_regularizer),\n",
        "            bias_regularizer=regularizers.get(bias_regularizer),\n",
        "            activity_regularizer=regularizers.get(activity_regularizer),\n",
        "            kernel_constraint=constraints.get(kernel_constraint),\n",
        "            bias_constraint=constraints.get(bias_constraint),\n",
        "            **kwargs)\n",
        "    def build(self,input_shape):\n",
        "        super(Conv2DTranspose_tied, self).build(self,input_shape)\n",
        "        self.initial_weights = tied_to.initial_weights\n",
        "    def call(self, inputs):\n",
        "        self.kernel = tf.transpose(self.tied_to.kernel, (1, 0, 2, 3))\n",
        "        if self.bias:\n",
        "            if self.dim_ordering == 'th':\n",
        "                output += K.reshape(self.b, (1, self.nb_filter, 1, 1))\n",
        "            elif self.dim_ordering == 'tf':\n",
        "                output += K.reshape(self.b, (1, 1, 1, self.nb_filter))\n",
        "            else:\n",
        "                raise Exception('Invalid dim_ordering: ' + self.dim_ordering)\n",
        "        output = self.activation(output)\n",
        "        return output\n",
        "        if self._recreate_conv_op(inputs):\n",
        "            self._convolution_op = nn_ops.Convolution(\n",
        "                inputs.get_shape(),\n",
        "                filter_shape=self.kernel.shape,\n",
        "                dilation_rate=self.dilation_rate,\n",
        "                strides=self.strides,\n",
        "                padding=self._padding_op,\n",
        "                data_format=self._conv_op_data_format)\n",
        "\n",
        "        # Apply causal padding to inputs for Conv1D.\n",
        "        if self.padding == 'causal' and self.__class__.__name__ == 'Conv1D':\n",
        "            ts = array_ops.pad(inputs, self._compute_causal_padding())\n",
        "\n",
        "        outputs = self._convolution_op(inputs, self.kernel)\n",
        "\n",
        "        if self.use_bias:\n",
        "            if self.data_format == 'channels_first':\n",
        "                if self.rank == 1:\n",
        "                    # nn.bias_add does not accept a 1D input tensor.\n",
        "                    bias = array_ops.reshape(self.bias, (1, self.filters, 1))\n",
        "                    outputs += bias\n",
        "                else:\n",
        "                    outputs = nn.bias_add(outputs, self.bias, data_format='NCHW')\n",
        "        else:\n",
        "            outputs = nn.bias_add(outputs, self.bias, data_format='NHWC')\n",
        "\n",
        "        if self.activation is not None:\n",
        "            return self.activation(outputs)\n",
        "        return outputs"
      ],
      "execution_count": 0,
      "outputs": []
    },
    {
      "cell_type": "markdown",
      "metadata": {
        "id": "yTNsNGfJeQJy",
        "colab_type": "text"
      },
      "source": [
        "# Autoencoeur simple"
      ]
    },
    {
      "cell_type": "markdown",
      "metadata": {
        "id": "80WoAqb_eqIk",
        "colab_type": "text"
      },
      "source": [
        "On met en place de l'optimisation bayesienne pour former le reseau au mieux sachant que :\n",
        "\n",
        "L'image fait $$256=2⁸$$ pixels \n",
        "\n",
        "un max pooling donnant $$output = \\frac{output}{2}$$ avec un stride de 2 et un noyau de 2\n",
        "\n",
        "une couche de déconvolution donne :\n",
        "\n",
        "\n",
        "$$newSize = (size - 1)\\cdot stride + k$$ sans padding\n",
        "\n",
        "\n",
        "\n",
        "\n",
        "\n",
        "\n",
        "\n",
        "\n",
        "\n"
      ]
    },
    {
      "cell_type": "markdown",
      "metadata": {
        "id": "TIJB47MB3aVR",
        "colab_type": "text"
      },
      "source": [
        "On peut donc avoir entre 0 et 8 réductions de taille\n",
        "\n",
        "Donc \n",
        "- 0 --> 8 Pooling avec `strides=2, padding='VALID', kernel=2` \n",
        "- couches de convolution\n",
        "    - en nombre libre de toute contrainte théoriquement mais `en pratique on cherchera à en minimiser le nombre\n",
        "    - étant liée `obligatoirement à la couche suivante` et peut-être `à d'autres couche de même taille d'image`\n",
        "    - `kernel` entre 1 et 3\n",
        "    - nombre de `filtre` entre 1 et 500\n",
        "- autant de deconvolution que de pooling\n",
        "    - `kernel=2`\n",
        "    - `stride=2`\n",
        "\n",
        "L'idée est de faire un modèle pas trop compliqué pour commencer càd :\n",
        "- sans batch normalisation\n",
        "\n",
        "\n",
        "`On augmente le nombre de couche de convolution possibles`"
      ]
    },
    {
      "cell_type": "code",
      "metadata": {
        "id": "f87aXY35kL9_",
        "colab_type": "code",
        "cellView": "form",
        "colab": {}
      },
      "source": [
        "#{ display-mode: \"form\" }\n",
        "nb_max_conv_par_etage = 9#@param {type:'number'}\n",
        "possibilites_filtres = [1,3,10,50,100,500]#@param {type:'string'}"
      ],
      "execution_count": 0,
      "outputs": []
    },
    {
      "cell_type": "markdown",
      "metadata": {
        "id": "F4XozE2huN98",
        "colab_type": "text"
      },
      "source": [
        "On commence avec keras-tuner donnant plus de possibilité (nombre variable de couches) puis on continuera à nombre de couche fixées pour visualiser sur le tensorboard"
      ]
    },
    {
      "cell_type": "code",
      "metadata": {
        "id": "yYPc7VuV7x6y",
        "colab_type": "code",
        "colab": {}
      },
      "source": [
        "init_time = 0\n",
        "end_time = 0\n",
        "def loss\n",
        "def modele(hp):\n",
        "    init_time = time.time()\n",
        "    couche_inpt = Input(shape=(256,256,3),dtype=tf.dtypes.float32,name='Entree_env10x256x256x3')\n",
        "    couche = convolution(hp,0,couche_inpt,'desc')\n",
        "    couche = couche_inpt\n",
        "    nb_pool = hp.Int('nb_pool',min_value=0,max_value=8,default=0)\n",
        "    # print(nb_pool)\n",
        "    for index_pooling in range(nb_pool):\n",
        "        type_pool = hp.Choice('pool_type_%d'%index_pooling,['avg','max'],default='max')\n",
        "        # print(\"1 : \",couche.get_shape())\n",
        "        if type_pool == 'avg':\n",
        "            # print(\"2 : \",couche.get_shape())\n",
        "            couche = AveragePooling2D(pool_size=2,strides=2,padding='VALID',name='AveragePool_etg_%d'%(index_pooling))(couche)\n",
        "        else:\n",
        "            # print(\"3 : \",couche.get_shape())\n",
        "            couche = MaxPooling2D(pool_size=2,strides=2,padding='VALID',name='MaxPool_etg_%d'%(index_pooling))(couche)\n",
        "        # print(\"4 : \",couche.get_shape())\n",
        "        couche = convolution(hp,index_pooling+1,couche,'desc')\n",
        "        # print(\"Après conv : \",couche.get_shape())\n",
        "    for index_deconv in range(nb_pool):\n",
        "        filters = hp.Choice('filtre_deconv_etg_%d_%s'%(index_deconv,'remont'),possibilites_filtres,default=1)\n",
        "        couche = Conv2DTranspose(filters=filters,kernel_size=2,strides=2,name='TransposedConv_Deconv_etg_%d_f%d'%(filters,index_deconv))(couche)\n",
        "        couche = convolution(hp,index_deconv,couche,'remont')\n",
        "    couche = Conv2D(filters=3,kernel_size=2,padding='SAME',name='Convolution_fin_k%d_f%d_activ_%s'%(3,2,'linear'))(couche)\n",
        "    model = Model(inputs=couche_inpt,outputs=couche,name='Debruiteur')\n",
        "    model.compile(optimizer=Adam(hp.Choice('learning_rate', [1e-2, 1e-3, 1e-4,1e-5,1e-6],default=1e-4),\n",
        "                                                     beta_1=hp.Float('beta_1',8e-1,1.2,default=0.99),\n",
        "                                                     beta_2=hp.Float('beta_2',8e-1,1.2,default=0.99)),\n",
        "                  loss='MSE',metrics=['accuracy'])\n",
        "    return model\n",
        "def convolution(hp,etage,inpt,pool_txt):\n",
        "    couche = inpt\n",
        "    L_conv_param = []\n",
        "    nb_conv = hp.Int('nb_conv_etg_%d_%s'%(etage,pool_txt),min_value=0,max_value=nb_max_conv_par_etage+1,default=1)\n",
        "    for index_conv in range(nb_conv):\n",
        "        filters = hp.Choice('filtre_conv_index_%d_etg_%d_%s'%(index_conv,etage,pool_txt),possibilites_filtres,default=1)\n",
        "        kernel = hp.Choice('kernel_conv_index_%d_etg_%d_%s'%(index_conv,etage,pool_txt),[2,3],default=2)\n",
        "        activ = hp.Choice(\"activation_conv_index_%d_etg_%d_%s\"%(index_conv,etage,pool_txt),['linear','relu','elu','selu','tanh'],default='relu')\n",
        "        couche = Conv2D(filters=filters,\n",
        "                             kernel_size=kernel,\n",
        "                             padding='SAME',\n",
        "                             activation=activ,\n",
        "                             name='Convolution_%s_etg_%d_id_%d_k%d_f%d_activ_%s'%(pool_txt,etage,index_conv,filters,kernel,activ))(couche)\n",
        "    return couche"
      ],
      "execution_count": 0,
      "outputs": []
    },
    {
      "cell_type": "code",
      "metadata": {
        "id": "xRSnFakGEP7M",
        "colab_type": "code",
        "colab": {}
      },
      "source": [
        "tuner = BayesianOptimization(\n",
        "    modele,\n",
        "    objective='val_accuracy',\n",
        "    max_trials=25,\n",
        "    executions_per_trial=3,\n",
        "    directory='Bayesian_optimization',\n",
        "    project_name='Modele000002_Keras_Bayesian_9conv3'\n",
        ")\n",
        "# tuner.search_space_summary()"
      ],
      "execution_count": 0,
      "outputs": []
    },
    {
      "cell_type": "code",
      "metadata": {
        "id": "UpIY-Hc9xwL6",
        "colab_type": "code",
        "outputId": "d9435493-3a72-4199-93d3-22d042caed9e",
        "colab": {
          "base_uri": "https://localhost:8080/",
          "height": 1000
        }
      },
      "source": [
        "dataset_train = ArtificialDataset(nom=\"Train\").map(traitement,num_parallel_calls=tf.data.experimental.AUTOTUNE).cache().prefetch(tf.data.experimental.AUTOTUNE)\n",
        "dataset_val = ArtificialDataset(nom=\"Validation\").map(traitement,num_parallel_calls=tf.data.experimental.AUTOTUNE).cache().prefetch(tf.data.experimental.AUTOTUNE)\n",
        "\n",
        "tuner.search(dataset_train,\n",
        "             epochs=5,\n",
        "             validation_data=dataset_val,\n",
        "             callbacks=[tf.keras.callbacks.EarlyStopping(min_delta=1e-4)])\n"
      ],
      "execution_count": 0,
      "outputs": [
        {
          "output_type": "stream",
          "text": [
            "Epoch 1/5\n",
            "12/12 [==============================] - 13s 1s/step - loss: nan - accuracy: 0.8278 - val_loss: nan - val_accuracy: 0.8211\n",
            "Epoch 1/5\n",
            "12/12 [==============================] - 7s 574ms/step - loss: nan - accuracy: 0.8278 - val_loss: nan - val_accuracy: 0.8211\n",
            "Epoch 1/5\n",
            "12/12 [==============================] - 7s 573ms/step - loss: nan - accuracy: 0.8241 - val_loss: nan - val_accuracy: 0.8211\n"
          ],
          "name": "stdout"
        },
        {
          "output_type": "stream",
          "text": [
            "/usr/local/lib/python3.6/dist-packages/kerastuner/engine/metrics_tracking.py:92: RuntimeWarning: All-NaN axis encountered\n",
            "  return np.nanmin(values)\n"
          ],
          "name": "stderr"
        },
        {
          "output_type": "display_data",
          "data": {
            "text/html": [
              "<span style=\"color:#4527A0\"><h1 style=\"font-size:18px\">Trial complete</h1></span>"
            ],
            "text/plain": [
              "<IPython.core.display.HTML object>"
            ]
          },
          "metadata": {
            "tags": []
          }
        },
        {
          "output_type": "display_data",
          "data": {
            "text/html": [
              "<span style=\"color:#4527A0\"><h1 style=\"font-size:18px\">Trial summary</h1></span>"
            ],
            "text/plain": [
              "<IPython.core.display.HTML object>"
            ]
          },
          "metadata": {
            "tags": []
          }
        },
        {
          "output_type": "display_data",
          "data": {
            "text/html": [
              "<span style=\"color:cyan\"> |-Trial ID: 9b06857b76db533ca9378fd223cdaa21</span>"
            ],
            "text/plain": [
              "<IPython.core.display.HTML object>"
            ]
          },
          "metadata": {
            "tags": []
          }
        },
        {
          "output_type": "display_data",
          "data": {
            "text/html": [
              "<span style=\"color:cyan\"> |-Score: 0.821066677570343</span>"
            ],
            "text/plain": [
              "<IPython.core.display.HTML object>"
            ]
          },
          "metadata": {
            "tags": []
          }
        },
        {
          "output_type": "display_data",
          "data": {
            "text/html": [
              "<span style=\"color:cyan\"> |-Best step: 0</span>"
            ],
            "text/plain": [
              "<IPython.core.display.HTML object>"
            ]
          },
          "metadata": {
            "tags": []
          }
        },
        {
          "output_type": "display_data",
          "data": {
            "text/html": [
              "<span style=\"color:#7E57C2\"><h2 style=\"font-size:16px\">Hyperparameters:</h2></span>"
            ],
            "text/plain": [
              "<IPython.core.display.HTML object>"
            ]
          },
          "metadata": {
            "tags": []
          }
        },
        {
          "output_type": "display_data",
          "data": {
            "text/html": [
              "<span style=\"color:cyan\"> |-activation_conv_index_0_etg_0_desc: linear</span>"
            ],
            "text/plain": [
              "<IPython.core.display.HTML object>"
            ]
          },
          "metadata": {
            "tags": []
          }
        },
        {
          "output_type": "display_data",
          "data": {
            "text/html": [
              "<span style=\"color:blue\"> |-activation_conv_index_0_etg_0_remont: relu</span>"
            ],
            "text/plain": [
              "<IPython.core.display.HTML object>"
            ]
          },
          "metadata": {
            "tags": []
          }
        },
        {
          "output_type": "display_data",
          "data": {
            "text/html": [
              "<span style=\"color:cyan\"> |-activation_conv_index_0_etg_1_desc: relu</span>"
            ],
            "text/plain": [
              "<IPython.core.display.HTML object>"
            ]
          },
          "metadata": {
            "tags": []
          }
        },
        {
          "output_type": "display_data",
          "data": {
            "text/html": [
              "<span style=\"color:blue\"> |-activation_conv_index_0_etg_1_remont: relu</span>"
            ],
            "text/plain": [
              "<IPython.core.display.HTML object>"
            ]
          },
          "metadata": {
            "tags": []
          }
        },
        {
          "output_type": "display_data",
          "data": {
            "text/html": [
              "<span style=\"color:cyan\"> |-activation_conv_index_0_etg_2_desc: relu</span>"
            ],
            "text/plain": [
              "<IPython.core.display.HTML object>"
            ]
          },
          "metadata": {
            "tags": []
          }
        },
        {
          "output_type": "display_data",
          "data": {
            "text/html": [
              "<span style=\"color:blue\"> |-activation_conv_index_0_etg_2_remont: relu</span>"
            ],
            "text/plain": [
              "<IPython.core.display.HTML object>"
            ]
          },
          "metadata": {
            "tags": []
          }
        },
        {
          "output_type": "display_data",
          "data": {
            "text/html": [
              "<span style=\"color:cyan\"> |-activation_conv_index_0_etg_3_desc: relu</span>"
            ],
            "text/plain": [
              "<IPython.core.display.HTML object>"
            ]
          },
          "metadata": {
            "tags": []
          }
        },
        {
          "output_type": "display_data",
          "data": {
            "text/html": [
              "<span style=\"color:blue\"> |-activation_conv_index_0_etg_3_remont: relu</span>"
            ],
            "text/plain": [
              "<IPython.core.display.HTML object>"
            ]
          },
          "metadata": {
            "tags": []
          }
        },
        {
          "output_type": "display_data",
          "data": {
            "text/html": [
              "<span style=\"color:cyan\"> |-activation_conv_index_0_etg_4_desc: relu</span>"
            ],
            "text/plain": [
              "<IPython.core.display.HTML object>"
            ]
          },
          "metadata": {
            "tags": []
          }
        },
        {
          "output_type": "display_data",
          "data": {
            "text/html": [
              "<span style=\"color:blue\"> |-activation_conv_index_1_etg_0_desc: relu</span>"
            ],
            "text/plain": [
              "<IPython.core.display.HTML object>"
            ]
          },
          "metadata": {
            "tags": []
          }
        },
        {
          "output_type": "display_data",
          "data": {
            "text/html": [
              "<span style=\"color:cyan\"> |-beta_1: 0.8408195767992387</span>"
            ],
            "text/plain": [
              "<IPython.core.display.HTML object>"
            ]
          },
          "metadata": {
            "tags": []
          }
        },
        {
          "output_type": "display_data",
          "data": {
            "text/html": [
              "<span style=\"color:blue\"> |-beta_2: 1.0201697823395157</span>"
            ],
            "text/plain": [
              "<IPython.core.display.HTML object>"
            ]
          },
          "metadata": {
            "tags": []
          }
        },
        {
          "output_type": "display_data",
          "data": {
            "text/html": [
              "<span style=\"color:cyan\"> |-filtre_conv_index_0_etg_0_desc: 10</span>"
            ],
            "text/plain": [
              "<IPython.core.display.HTML object>"
            ]
          },
          "metadata": {
            "tags": []
          }
        },
        {
          "output_type": "display_data",
          "data": {
            "text/html": [
              "<span style=\"color:blue\"> |-filtre_conv_index_0_etg_0_remont: 1</span>"
            ],
            "text/plain": [
              "<IPython.core.display.HTML object>"
            ]
          },
          "metadata": {
            "tags": []
          }
        },
        {
          "output_type": "display_data",
          "data": {
            "text/html": [
              "<span style=\"color:cyan\"> |-filtre_conv_index_0_etg_1_desc: 1</span>"
            ],
            "text/plain": [
              "<IPython.core.display.HTML object>"
            ]
          },
          "metadata": {
            "tags": []
          }
        },
        {
          "output_type": "display_data",
          "data": {
            "text/html": [
              "<span style=\"color:blue\"> |-filtre_conv_index_0_etg_1_remont: 1</span>"
            ],
            "text/plain": [
              "<IPython.core.display.HTML object>"
            ]
          },
          "metadata": {
            "tags": []
          }
        },
        {
          "output_type": "display_data",
          "data": {
            "text/html": [
              "<span style=\"color:cyan\"> |-filtre_conv_index_0_etg_2_desc: 1</span>"
            ],
            "text/plain": [
              "<IPython.core.display.HTML object>"
            ]
          },
          "metadata": {
            "tags": []
          }
        },
        {
          "output_type": "display_data",
          "data": {
            "text/html": [
              "<span style=\"color:blue\"> |-filtre_conv_index_0_etg_2_remont: 1</span>"
            ],
            "text/plain": [
              "<IPython.core.display.HTML object>"
            ]
          },
          "metadata": {
            "tags": []
          }
        },
        {
          "output_type": "display_data",
          "data": {
            "text/html": [
              "<span style=\"color:cyan\"> |-filtre_conv_index_0_etg_3_desc: 1</span>"
            ],
            "text/plain": [
              "<IPython.core.display.HTML object>"
            ]
          },
          "metadata": {
            "tags": []
          }
        },
        {
          "output_type": "display_data",
          "data": {
            "text/html": [
              "<span style=\"color:blue\"> |-filtre_conv_index_0_etg_3_remont: 1</span>"
            ],
            "text/plain": [
              "<IPython.core.display.HTML object>"
            ]
          },
          "metadata": {
            "tags": []
          }
        },
        {
          "output_type": "display_data",
          "data": {
            "text/html": [
              "<span style=\"color:cyan\"> |-filtre_conv_index_0_etg_4_desc: 1</span>"
            ],
            "text/plain": [
              "<IPython.core.display.HTML object>"
            ]
          },
          "metadata": {
            "tags": []
          }
        },
        {
          "output_type": "display_data",
          "data": {
            "text/html": [
              "<span style=\"color:blue\"> |-filtre_conv_index_1_etg_0_desc: 1</span>"
            ],
            "text/plain": [
              "<IPython.core.display.HTML object>"
            ]
          },
          "metadata": {
            "tags": []
          }
        },
        {
          "output_type": "display_data",
          "data": {
            "text/html": [
              "<span style=\"color:cyan\"> |-filtre_deconv_etg_0_remont: 1</span>"
            ],
            "text/plain": [
              "<IPython.core.display.HTML object>"
            ]
          },
          "metadata": {
            "tags": []
          }
        },
        {
          "output_type": "display_data",
          "data": {
            "text/html": [
              "<span style=\"color:blue\"> |-filtre_deconv_etg_1_remont: 1</span>"
            ],
            "text/plain": [
              "<IPython.core.display.HTML object>"
            ]
          },
          "metadata": {
            "tags": []
          }
        },
        {
          "output_type": "display_data",
          "data": {
            "text/html": [
              "<span style=\"color:cyan\"> |-filtre_deconv_etg_2_remont: 1</span>"
            ],
            "text/plain": [
              "<IPython.core.display.HTML object>"
            ]
          },
          "metadata": {
            "tags": []
          }
        },
        {
          "output_type": "display_data",
          "data": {
            "text/html": [
              "<span style=\"color:blue\"> |-filtre_deconv_etg_3_remont: 1</span>"
            ],
            "text/plain": [
              "<IPython.core.display.HTML object>"
            ]
          },
          "metadata": {
            "tags": []
          }
        },
        {
          "output_type": "display_data",
          "data": {
            "text/html": [
              "<span style=\"color:cyan\"> |-kernel_conv_index_0_etg_0_desc: 2</span>"
            ],
            "text/plain": [
              "<IPython.core.display.HTML object>"
            ]
          },
          "metadata": {
            "tags": []
          }
        },
        {
          "output_type": "display_data",
          "data": {
            "text/html": [
              "<span style=\"color:blue\"> |-kernel_conv_index_0_etg_0_remont: 2</span>"
            ],
            "text/plain": [
              "<IPython.core.display.HTML object>"
            ]
          },
          "metadata": {
            "tags": []
          }
        },
        {
          "output_type": "display_data",
          "data": {
            "text/html": [
              "<span style=\"color:cyan\"> |-kernel_conv_index_0_etg_1_desc: 2</span>"
            ],
            "text/plain": [
              "<IPython.core.display.HTML object>"
            ]
          },
          "metadata": {
            "tags": []
          }
        },
        {
          "output_type": "display_data",
          "data": {
            "text/html": [
              "<span style=\"color:blue\"> |-kernel_conv_index_0_etg_1_remont: 2</span>"
            ],
            "text/plain": [
              "<IPython.core.display.HTML object>"
            ]
          },
          "metadata": {
            "tags": []
          }
        },
        {
          "output_type": "display_data",
          "data": {
            "text/html": [
              "<span style=\"color:cyan\"> |-kernel_conv_index_0_etg_2_desc: 2</span>"
            ],
            "text/plain": [
              "<IPython.core.display.HTML object>"
            ]
          },
          "metadata": {
            "tags": []
          }
        },
        {
          "output_type": "display_data",
          "data": {
            "text/html": [
              "<span style=\"color:blue\"> |-kernel_conv_index_0_etg_2_remont: 2</span>"
            ],
            "text/plain": [
              "<IPython.core.display.HTML object>"
            ]
          },
          "metadata": {
            "tags": []
          }
        },
        {
          "output_type": "display_data",
          "data": {
            "text/html": [
              "<span style=\"color:cyan\"> |-kernel_conv_index_0_etg_3_desc: 2</span>"
            ],
            "text/plain": [
              "<IPython.core.display.HTML object>"
            ]
          },
          "metadata": {
            "tags": []
          }
        },
        {
          "output_type": "display_data",
          "data": {
            "text/html": [
              "<span style=\"color:blue\"> |-kernel_conv_index_0_etg_3_remont: 2</span>"
            ],
            "text/plain": [
              "<IPython.core.display.HTML object>"
            ]
          },
          "metadata": {
            "tags": []
          }
        },
        {
          "output_type": "display_data",
          "data": {
            "text/html": [
              "<span style=\"color:cyan\"> |-kernel_conv_index_0_etg_4_desc: 2</span>"
            ],
            "text/plain": [
              "<IPython.core.display.HTML object>"
            ]
          },
          "metadata": {
            "tags": []
          }
        },
        {
          "output_type": "display_data",
          "data": {
            "text/html": [
              "<span style=\"color:blue\"> |-kernel_conv_index_1_etg_0_desc: 2</span>"
            ],
            "text/plain": [
              "<IPython.core.display.HTML object>"
            ]
          },
          "metadata": {
            "tags": []
          }
        },
        {
          "output_type": "display_data",
          "data": {
            "text/html": [
              "<span style=\"color:cyan\"> |-learning_rate: 0.01</span>"
            ],
            "text/plain": [
              "<IPython.core.display.HTML object>"
            ]
          },
          "metadata": {
            "tags": []
          }
        },
        {
          "output_type": "display_data",
          "data": {
            "text/html": [
              "<span style=\"color:blue\"> |-nb_conv_etg_0_desc: 2</span>"
            ],
            "text/plain": [
              "<IPython.core.display.HTML object>"
            ]
          },
          "metadata": {
            "tags": []
          }
        },
        {
          "output_type": "display_data",
          "data": {
            "text/html": [
              "<span style=\"color:cyan\"> |-nb_conv_etg_0_remont: 1</span>"
            ],
            "text/plain": [
              "<IPython.core.display.HTML object>"
            ]
          },
          "metadata": {
            "tags": []
          }
        },
        {
          "output_type": "display_data",
          "data": {
            "text/html": [
              "<span style=\"color:blue\"> |-nb_conv_etg_1_desc: 1</span>"
            ],
            "text/plain": [
              "<IPython.core.display.HTML object>"
            ]
          },
          "metadata": {
            "tags": []
          }
        },
        {
          "output_type": "display_data",
          "data": {
            "text/html": [
              "<span style=\"color:cyan\"> |-nb_conv_etg_1_remont: 1</span>"
            ],
            "text/plain": [
              "<IPython.core.display.HTML object>"
            ]
          },
          "metadata": {
            "tags": []
          }
        },
        {
          "output_type": "display_data",
          "data": {
            "text/html": [
              "<span style=\"color:blue\"> |-nb_conv_etg_2_desc: 1</span>"
            ],
            "text/plain": [
              "<IPython.core.display.HTML object>"
            ]
          },
          "metadata": {
            "tags": []
          }
        },
        {
          "output_type": "display_data",
          "data": {
            "text/html": [
              "<span style=\"color:cyan\"> |-nb_conv_etg_2_remont: 1</span>"
            ],
            "text/plain": [
              "<IPython.core.display.HTML object>"
            ]
          },
          "metadata": {
            "tags": []
          }
        },
        {
          "output_type": "display_data",
          "data": {
            "text/html": [
              "<span style=\"color:blue\"> |-nb_conv_etg_3_desc: 1</span>"
            ],
            "text/plain": [
              "<IPython.core.display.HTML object>"
            ]
          },
          "metadata": {
            "tags": []
          }
        },
        {
          "output_type": "display_data",
          "data": {
            "text/html": [
              "<span style=\"color:cyan\"> |-nb_conv_etg_3_remont: 1</span>"
            ],
            "text/plain": [
              "<IPython.core.display.HTML object>"
            ]
          },
          "metadata": {
            "tags": []
          }
        },
        {
          "output_type": "display_data",
          "data": {
            "text/html": [
              "<span style=\"color:blue\"> |-nb_conv_etg_4_desc: 1</span>"
            ],
            "text/plain": [
              "<IPython.core.display.HTML object>"
            ]
          },
          "metadata": {
            "tags": []
          }
        },
        {
          "output_type": "display_data",
          "data": {
            "text/html": [
              "<span style=\"color:cyan\"> |-nb_pool: 4</span>"
            ],
            "text/plain": [
              "<IPython.core.display.HTML object>"
            ]
          },
          "metadata": {
            "tags": []
          }
        },
        {
          "output_type": "display_data",
          "data": {
            "text/html": [
              "<span style=\"color:blue\"> |-pool_type_0: max</span>"
            ],
            "text/plain": [
              "<IPython.core.display.HTML object>"
            ]
          },
          "metadata": {
            "tags": []
          }
        },
        {
          "output_type": "display_data",
          "data": {
            "text/html": [
              "<span style=\"color:cyan\"> |-pool_type_1: max</span>"
            ],
            "text/plain": [
              "<IPython.core.display.HTML object>"
            ]
          },
          "metadata": {
            "tags": []
          }
        },
        {
          "output_type": "display_data",
          "data": {
            "text/html": [
              "<span style=\"color:blue\"> |-pool_type_2: max</span>"
            ],
            "text/plain": [
              "<IPython.core.display.HTML object>"
            ]
          },
          "metadata": {
            "tags": []
          }
        },
        {
          "output_type": "display_data",
          "data": {
            "text/html": [
              "<span style=\"color:cyan\"> |-pool_type_3: max</span>"
            ],
            "text/plain": [
              "<IPython.core.display.HTML object>"
            ]
          },
          "metadata": {
            "tags": []
          }
        },
        {
          "output_type": "stream",
          "text": [
            "Epoch 1/5\n",
            "12/12 [==============================] - 3s 232ms/step - loss: 0.0102 - accuracy: 0.1462 - val_loss: 0.0078 - val_accuracy: 0.1887\n",
            "Epoch 2/5\n",
            "12/12 [==============================] - 3s 228ms/step - loss: 0.0067 - accuracy: 0.2710 - val_loss: 0.0049 - val_accuracy: 0.3355\n",
            "Epoch 3/5\n",
            "12/12 [==============================] - 3s 236ms/step - loss: 0.0043 - accuracy: 0.5044 - val_loss: 0.0036 - val_accuracy: 0.7406\n",
            "Epoch 4/5\n",
            "12/12 [==============================] - 3s 230ms/step - loss: 0.0039 - accuracy: 0.7663 - val_loss: 0.0049 - val_accuracy: 0.8105\n",
            "Epoch 1/5\n",
            "12/12 [==============================] - 3s 236ms/step - loss: 0.0405 - accuracy: 0.1896 - val_loss: 0.0360 - val_accuracy: 0.2026\n",
            "Epoch 2/5\n",
            "12/12 [==============================] - 3s 229ms/step - loss: 0.0320 - accuracy: 0.1938 - val_loss: 0.0279 - val_accuracy: 0.1781\n",
            "Epoch 3/5\n",
            "12/12 [==============================] - 3s 230ms/step - loss: 0.0243 - accuracy: 0.1659 - val_loss: 0.0206 - val_accuracy: 0.1691\n",
            "Epoch 4/5\n",
            "12/12 [==============================] - 3s 232ms/step - loss: 0.0176 - accuracy: 0.1530 - val_loss: 0.0146 - val_accuracy: 0.1521\n",
            "Epoch 5/5\n",
            "12/12 [==============================] - 3s 227ms/step - loss: 0.0124 - accuracy: 0.1355 - val_loss: 0.0103 - val_accuracy: 0.1349\n",
            "Epoch 1/5\n",
            "12/12 [==============================] - 3s 232ms/step - loss: 0.0203 - accuracy: 0.1401 - val_loss: 0.0167 - val_accuracy: 0.1757\n",
            "Epoch 2/5\n",
            "12/12 [==============================] - 3s 227ms/step - loss: 0.0145 - accuracy: 0.1974 - val_loss: 0.0114 - val_accuracy: 0.2218\n",
            "Epoch 3/5\n",
            "12/12 [==============================] - 3s 228ms/step - loss: 0.0096 - accuracy: 0.2875 - val_loss: 0.0072 - val_accuracy: 0.3290\n",
            "Epoch 4/5\n",
            "12/12 [==============================] - 3s 227ms/step - loss: 0.0060 - accuracy: 0.4113 - val_loss: 0.0046 - val_accuracy: 0.6058\n",
            "Epoch 5/5\n",
            "12/12 [==============================] - 3s 226ms/step - loss: 0.0044 - accuracy: 0.6806 - val_loss: 0.0046 - val_accuracy: 0.7435\n"
          ],
          "name": "stdout"
        },
        {
          "output_type": "display_data",
          "data": {
            "text/html": [
              "<span style=\"color:#4527A0\"><h1 style=\"font-size:18px\">Trial complete</h1></span>"
            ],
            "text/plain": [
              "<IPython.core.display.HTML object>"
            ]
          },
          "metadata": {
            "tags": []
          }
        },
        {
          "output_type": "display_data",
          "data": {
            "text/html": [
              "<span style=\"color:#4527A0\"><h1 style=\"font-size:18px\">Trial summary</h1></span>"
            ],
            "text/plain": [
              "<IPython.core.display.HTML object>"
            ]
          },
          "metadata": {
            "tags": []
          }
        },
        {
          "output_type": "display_data",
          "data": {
            "text/html": [
              "<span style=\"color:cyan\"> |-Trial ID: 4bfe1da7a87c090cbb4b3515a833b27b</span>"
            ],
            "text/plain": [
              "<IPython.core.display.HTML object>"
            ]
          },
          "metadata": {
            "tags": []
          }
        },
        {
          "output_type": "display_data",
          "data": {
            "text/html": [
              "<span style=\"color:cyan\"> |-Score: 0.5855624427398046</span>"
            ],
            "text/plain": [
              "<IPython.core.display.HTML object>"
            ]
          },
          "metadata": {
            "tags": []
          }
        },
        {
          "output_type": "display_data",
          "data": {
            "text/html": [
              "<span style=\"color:cyan\"> |-Best step: 0</span>"
            ],
            "text/plain": [
              "<IPython.core.display.HTML object>"
            ]
          },
          "metadata": {
            "tags": []
          }
        },
        {
          "output_type": "display_data",
          "data": {
            "text/html": [
              "<span style=\"color:#7E57C2\"><h2 style=\"font-size:16px\">Hyperparameters:</h2></span>"
            ],
            "text/plain": [
              "<IPython.core.display.HTML object>"
            ]
          },
          "metadata": {
            "tags": []
          }
        },
        {
          "output_type": "display_data",
          "data": {
            "text/html": [
              "<span style=\"color:cyan\"> |-activation_conv_index_0_etg_0_desc: relu</span>"
            ],
            "text/plain": [
              "<IPython.core.display.HTML object>"
            ]
          },
          "metadata": {
            "tags": []
          }
        },
        {
          "output_type": "display_data",
          "data": {
            "text/html": [
              "<span style=\"color:blue\"> |-activation_conv_index_0_etg_0_remont: tanh</span>"
            ],
            "text/plain": [
              "<IPython.core.display.HTML object>"
            ]
          },
          "metadata": {
            "tags": []
          }
        },
        {
          "output_type": "display_data",
          "data": {
            "text/html": [
              "<span style=\"color:cyan\"> |-activation_conv_index_0_etg_1_desc: relu</span>"
            ],
            "text/plain": [
              "<IPython.core.display.HTML object>"
            ]
          },
          "metadata": {
            "tags": []
          }
        },
        {
          "output_type": "display_data",
          "data": {
            "text/html": [
              "<span style=\"color:blue\"> |-activation_conv_index_0_etg_1_remont: linear</span>"
            ],
            "text/plain": [
              "<IPython.core.display.HTML object>"
            ]
          },
          "metadata": {
            "tags": []
          }
        },
        {
          "output_type": "display_data",
          "data": {
            "text/html": [
              "<span style=\"color:cyan\"> |-activation_conv_index_0_etg_2_desc: tanh</span>"
            ],
            "text/plain": [
              "<IPython.core.display.HTML object>"
            ]
          },
          "metadata": {
            "tags": []
          }
        },
        {
          "output_type": "display_data",
          "data": {
            "text/html": [
              "<span style=\"color:blue\"> |-activation_conv_index_0_etg_2_remont: elu</span>"
            ],
            "text/plain": [
              "<IPython.core.display.HTML object>"
            ]
          },
          "metadata": {
            "tags": []
          }
        },
        {
          "output_type": "display_data",
          "data": {
            "text/html": [
              "<span style=\"color:cyan\"> |-activation_conv_index_0_etg_3_desc: linear</span>"
            ],
            "text/plain": [
              "<IPython.core.display.HTML object>"
            ]
          },
          "metadata": {
            "tags": []
          }
        },
        {
          "output_type": "display_data",
          "data": {
            "text/html": [
              "<span style=\"color:blue\"> |-activation_conv_index_0_etg_3_remont: selu</span>"
            ],
            "text/plain": [
              "<IPython.core.display.HTML object>"
            ]
          },
          "metadata": {
            "tags": []
          }
        },
        {
          "output_type": "display_data",
          "data": {
            "text/html": [
              "<span style=\"color:cyan\"> |-activation_conv_index_0_etg_4_desc: tanh</span>"
            ],
            "text/plain": [
              "<IPython.core.display.HTML object>"
            ]
          },
          "metadata": {
            "tags": []
          }
        },
        {
          "output_type": "display_data",
          "data": {
            "text/html": [
              "<span style=\"color:blue\"> |-activation_conv_index_1_etg_0_desc: tanh</span>"
            ],
            "text/plain": [
              "<IPython.core.display.HTML object>"
            ]
          },
          "metadata": {
            "tags": []
          }
        },
        {
          "output_type": "display_data",
          "data": {
            "text/html": [
              "<span style=\"color:cyan\"> |-activation_conv_index_2_etg_0_desc: relu</span>"
            ],
            "text/plain": [
              "<IPython.core.display.HTML object>"
            ]
          },
          "metadata": {
            "tags": []
          }
        },
        {
          "output_type": "display_data",
          "data": {
            "text/html": [
              "<span style=\"color:blue\"> |-activation_conv_index_3_etg_0_desc: relu</span>"
            ],
            "text/plain": [
              "<IPython.core.display.HTML object>"
            ]
          },
          "metadata": {
            "tags": []
          }
        },
        {
          "output_type": "display_data",
          "data": {
            "text/html": [
              "<span style=\"color:cyan\"> |-beta_1: 1.1852690291879062</span>"
            ],
            "text/plain": [
              "<IPython.core.display.HTML object>"
            ]
          },
          "metadata": {
            "tags": []
          }
        },
        {
          "output_type": "display_data",
          "data": {
            "text/html": [
              "<span style=\"color:blue\"> |-beta_2: 0.9905700298918018</span>"
            ],
            "text/plain": [
              "<IPython.core.display.HTML object>"
            ]
          },
          "metadata": {
            "tags": []
          }
        },
        {
          "output_type": "display_data",
          "data": {
            "text/html": [
              "<span style=\"color:cyan\"> |-filtre_conv_index_0_etg_0_desc: 500</span>"
            ],
            "text/plain": [
              "<IPython.core.display.HTML object>"
            ]
          },
          "metadata": {
            "tags": []
          }
        },
        {
          "output_type": "display_data",
          "data": {
            "text/html": [
              "<span style=\"color:blue\"> |-filtre_conv_index_0_etg_0_remont: 10</span>"
            ],
            "text/plain": [
              "<IPython.core.display.HTML object>"
            ]
          },
          "metadata": {
            "tags": []
          }
        },
        {
          "output_type": "display_data",
          "data": {
            "text/html": [
              "<span style=\"color:cyan\"> |-filtre_conv_index_0_etg_1_desc: 3</span>"
            ],
            "text/plain": [
              "<IPython.core.display.HTML object>"
            ]
          },
          "metadata": {
            "tags": []
          }
        },
        {
          "output_type": "display_data",
          "data": {
            "text/html": [
              "<span style=\"color:blue\"> |-filtre_conv_index_0_etg_1_remont: 1</span>"
            ],
            "text/plain": [
              "<IPython.core.display.HTML object>"
            ]
          },
          "metadata": {
            "tags": []
          }
        },
        {
          "output_type": "display_data",
          "data": {
            "text/html": [
              "<span style=\"color:cyan\"> |-filtre_conv_index_0_etg_2_desc: 1</span>"
            ],
            "text/plain": [
              "<IPython.core.display.HTML object>"
            ]
          },
          "metadata": {
            "tags": []
          }
        },
        {
          "output_type": "display_data",
          "data": {
            "text/html": [
              "<span style=\"color:blue\"> |-filtre_conv_index_0_etg_2_remont: 10</span>"
            ],
            "text/plain": [
              "<IPython.core.display.HTML object>"
            ]
          },
          "metadata": {
            "tags": []
          }
        },
        {
          "output_type": "display_data",
          "data": {
            "text/html": [
              "<span style=\"color:cyan\"> |-filtre_conv_index_0_etg_3_desc: 10</span>"
            ],
            "text/plain": [
              "<IPython.core.display.HTML object>"
            ]
          },
          "metadata": {
            "tags": []
          }
        },
        {
          "output_type": "display_data",
          "data": {
            "text/html": [
              "<span style=\"color:blue\"> |-filtre_conv_index_0_etg_3_remont: 3</span>"
            ],
            "text/plain": [
              "<IPython.core.display.HTML object>"
            ]
          },
          "metadata": {
            "tags": []
          }
        },
        {
          "output_type": "display_data",
          "data": {
            "text/html": [
              "<span style=\"color:cyan\"> |-filtre_conv_index_0_etg_4_desc: 50</span>"
            ],
            "text/plain": [
              "<IPython.core.display.HTML object>"
            ]
          },
          "metadata": {
            "tags": []
          }
        },
        {
          "output_type": "display_data",
          "data": {
            "text/html": [
              "<span style=\"color:blue\"> |-filtre_conv_index_1_etg_0_desc: 50</span>"
            ],
            "text/plain": [
              "<IPython.core.display.HTML object>"
            ]
          },
          "metadata": {
            "tags": []
          }
        },
        {
          "output_type": "display_data",
          "data": {
            "text/html": [
              "<span style=\"color:cyan\"> |-filtre_conv_index_2_etg_0_desc: 1</span>"
            ],
            "text/plain": [
              "<IPython.core.display.HTML object>"
            ]
          },
          "metadata": {
            "tags": []
          }
        },
        {
          "output_type": "display_data",
          "data": {
            "text/html": [
              "<span style=\"color:blue\"> |-filtre_conv_index_3_etg_0_desc: 1</span>"
            ],
            "text/plain": [
              "<IPython.core.display.HTML object>"
            ]
          },
          "metadata": {
            "tags": []
          }
        },
        {
          "output_type": "display_data",
          "data": {
            "text/html": [
              "<span style=\"color:cyan\"> |-filtre_deconv_etg_0_remont: 3</span>"
            ],
            "text/plain": [
              "<IPython.core.display.HTML object>"
            ]
          },
          "metadata": {
            "tags": []
          }
        },
        {
          "output_type": "display_data",
          "data": {
            "text/html": [
              "<span style=\"color:blue\"> |-filtre_deconv_etg_1_remont: 50</span>"
            ],
            "text/plain": [
              "<IPython.core.display.HTML object>"
            ]
          },
          "metadata": {
            "tags": []
          }
        },
        {
          "output_type": "display_data",
          "data": {
            "text/html": [
              "<span style=\"color:cyan\"> |-filtre_deconv_etg_2_remont: 100</span>"
            ],
            "text/plain": [
              "<IPython.core.display.HTML object>"
            ]
          },
          "metadata": {
            "tags": []
          }
        },
        {
          "output_type": "display_data",
          "data": {
            "text/html": [
              "<span style=\"color:blue\"> |-filtre_deconv_etg_3_remont: 3</span>"
            ],
            "text/plain": [
              "<IPython.core.display.HTML object>"
            ]
          },
          "metadata": {
            "tags": []
          }
        },
        {
          "output_type": "display_data",
          "data": {
            "text/html": [
              "<span style=\"color:cyan\"> |-kernel_conv_index_0_etg_0_desc: 2</span>"
            ],
            "text/plain": [
              "<IPython.core.display.HTML object>"
            ]
          },
          "metadata": {
            "tags": []
          }
        },
        {
          "output_type": "display_data",
          "data": {
            "text/html": [
              "<span style=\"color:blue\"> |-kernel_conv_index_0_etg_0_remont: 3</span>"
            ],
            "text/plain": [
              "<IPython.core.display.HTML object>"
            ]
          },
          "metadata": {
            "tags": []
          }
        },
        {
          "output_type": "display_data",
          "data": {
            "text/html": [
              "<span style=\"color:cyan\"> |-kernel_conv_index_0_etg_1_desc: 3</span>"
            ],
            "text/plain": [
              "<IPython.core.display.HTML object>"
            ]
          },
          "metadata": {
            "tags": []
          }
        },
        {
          "output_type": "display_data",
          "data": {
            "text/html": [
              "<span style=\"color:blue\"> |-kernel_conv_index_0_etg_1_remont: 3</span>"
            ],
            "text/plain": [
              "<IPython.core.display.HTML object>"
            ]
          },
          "metadata": {
            "tags": []
          }
        },
        {
          "output_type": "display_data",
          "data": {
            "text/html": [
              "<span style=\"color:cyan\"> |-kernel_conv_index_0_etg_2_desc: 3</span>"
            ],
            "text/plain": [
              "<IPython.core.display.HTML object>"
            ]
          },
          "metadata": {
            "tags": []
          }
        },
        {
          "output_type": "display_data",
          "data": {
            "text/html": [
              "<span style=\"color:blue\"> |-kernel_conv_index_0_etg_2_remont: 2</span>"
            ],
            "text/plain": [
              "<IPython.core.display.HTML object>"
            ]
          },
          "metadata": {
            "tags": []
          }
        },
        {
          "output_type": "display_data",
          "data": {
            "text/html": [
              "<span style=\"color:cyan\"> |-kernel_conv_index_0_etg_3_desc: 3</span>"
            ],
            "text/plain": [
              "<IPython.core.display.HTML object>"
            ]
          },
          "metadata": {
            "tags": []
          }
        },
        {
          "output_type": "display_data",
          "data": {
            "text/html": [
              "<span style=\"color:blue\"> |-kernel_conv_index_0_etg_3_remont: 3</span>"
            ],
            "text/plain": [
              "<IPython.core.display.HTML object>"
            ]
          },
          "metadata": {
            "tags": []
          }
        },
        {
          "output_type": "display_data",
          "data": {
            "text/html": [
              "<span style=\"color:cyan\"> |-kernel_conv_index_0_etg_4_desc: 3</span>"
            ],
            "text/plain": [
              "<IPython.core.display.HTML object>"
            ]
          },
          "metadata": {
            "tags": []
          }
        },
        {
          "output_type": "display_data",
          "data": {
            "text/html": [
              "<span style=\"color:blue\"> |-kernel_conv_index_1_etg_0_desc: 2</span>"
            ],
            "text/plain": [
              "<IPython.core.display.HTML object>"
            ]
          },
          "metadata": {
            "tags": []
          }
        },
        {
          "output_type": "display_data",
          "data": {
            "text/html": [
              "<span style=\"color:cyan\"> |-kernel_conv_index_2_etg_0_desc: 2</span>"
            ],
            "text/plain": [
              "<IPython.core.display.HTML object>"
            ]
          },
          "metadata": {
            "tags": []
          }
        },
        {
          "output_type": "display_data",
          "data": {
            "text/html": [
              "<span style=\"color:blue\"> |-kernel_conv_index_3_etg_0_desc: 2</span>"
            ],
            "text/plain": [
              "<IPython.core.display.HTML object>"
            ]
          },
          "metadata": {
            "tags": []
          }
        },
        {
          "output_type": "display_data",
          "data": {
            "text/html": [
              "<span style=\"color:cyan\"> |-learning_rate: 0.001</span>"
            ],
            "text/plain": [
              "<IPython.core.display.HTML object>"
            ]
          },
          "metadata": {
            "tags": []
          }
        },
        {
          "output_type": "display_data",
          "data": {
            "text/html": [
              "<span style=\"color:blue\"> |-nb_conv_etg_0_desc: 4</span>"
            ],
            "text/plain": [
              "<IPython.core.display.HTML object>"
            ]
          },
          "metadata": {
            "tags": []
          }
        },
        {
          "output_type": "display_data",
          "data": {
            "text/html": [
              "<span style=\"color:cyan\"> |-nb_conv_etg_0_remont: 2</span>"
            ],
            "text/plain": [
              "<IPython.core.display.HTML object>"
            ]
          },
          "metadata": {
            "tags": []
          }
        },
        {
          "output_type": "display_data",
          "data": {
            "text/html": [
              "<span style=\"color:blue\"> |-nb_conv_etg_1_desc: 6</span>"
            ],
            "text/plain": [
              "<IPython.core.display.HTML object>"
            ]
          },
          "metadata": {
            "tags": []
          }
        },
        {
          "output_type": "display_data",
          "data": {
            "text/html": [
              "<span style=\"color:cyan\"> |-nb_conv_etg_1_remont: 9</span>"
            ],
            "text/plain": [
              "<IPython.core.display.HTML object>"
            ]
          },
          "metadata": {
            "tags": []
          }
        },
        {
          "output_type": "display_data",
          "data": {
            "text/html": [
              "<span style=\"color:blue\"> |-nb_conv_etg_2_desc: 0</span>"
            ],
            "text/plain": [
              "<IPython.core.display.HTML object>"
            ]
          },
          "metadata": {
            "tags": []
          }
        },
        {
          "output_type": "display_data",
          "data": {
            "text/html": [
              "<span style=\"color:cyan\"> |-nb_conv_etg_2_remont: 3</span>"
            ],
            "text/plain": [
              "<IPython.core.display.HTML object>"
            ]
          },
          "metadata": {
            "tags": []
          }
        },
        {
          "output_type": "display_data",
          "data": {
            "text/html": [
              "<span style=\"color:blue\"> |-nb_conv_etg_3_desc: 3</span>"
            ],
            "text/plain": [
              "<IPython.core.display.HTML object>"
            ]
          },
          "metadata": {
            "tags": []
          }
        },
        {
          "output_type": "display_data",
          "data": {
            "text/html": [
              "<span style=\"color:cyan\"> |-nb_conv_etg_3_remont: 2</span>"
            ],
            "text/plain": [
              "<IPython.core.display.HTML object>"
            ]
          },
          "metadata": {
            "tags": []
          }
        },
        {
          "output_type": "display_data",
          "data": {
            "text/html": [
              "<span style=\"color:blue\"> |-nb_conv_etg_4_desc: 8</span>"
            ],
            "text/plain": [
              "<IPython.core.display.HTML object>"
            ]
          },
          "metadata": {
            "tags": []
          }
        },
        {
          "output_type": "display_data",
          "data": {
            "text/html": [
              "<span style=\"color:cyan\"> |-nb_pool: 0</span>"
            ],
            "text/plain": [
              "<IPython.core.display.HTML object>"
            ]
          },
          "metadata": {
            "tags": []
          }
        },
        {
          "output_type": "display_data",
          "data": {
            "text/html": [
              "<span style=\"color:blue\"> |-pool_type_0: max</span>"
            ],
            "text/plain": [
              "<IPython.core.display.HTML object>"
            ]
          },
          "metadata": {
            "tags": []
          }
        },
        {
          "output_type": "display_data",
          "data": {
            "text/html": [
              "<span style=\"color:cyan\"> |-pool_type_1: avg</span>"
            ],
            "text/plain": [
              "<IPython.core.display.HTML object>"
            ]
          },
          "metadata": {
            "tags": []
          }
        },
        {
          "output_type": "display_data",
          "data": {
            "text/html": [
              "<span style=\"color:blue\"> |-pool_type_2: max</span>"
            ],
            "text/plain": [
              "<IPython.core.display.HTML object>"
            ]
          },
          "metadata": {
            "tags": []
          }
        },
        {
          "output_type": "display_data",
          "data": {
            "text/html": [
              "<span style=\"color:cyan\"> |-pool_type_3: avg</span>"
            ],
            "text/plain": [
              "<IPython.core.display.HTML object>"
            ]
          },
          "metadata": {
            "tags": []
          }
        },
        {
          "output_type": "stream",
          "text": [
            "Epoch 1/5\n",
            "12/12 [==============================] - 21s 2s/step - loss: 0.0073 - accuracy: 0.7638 - val_loss: 0.0076 - val_accuracy: 0.8211\n",
            "Epoch 2/5\n",
            "12/12 [==============================] - 20s 2s/step - loss: 0.0073 - accuracy: 0.8278 - val_loss: 0.0076 - val_accuracy: 0.8211\n",
            "Epoch 1/5\n",
            "12/12 [==============================] - 20s 2s/step - loss: 0.0073 - accuracy: 0.7638 - val_loss: 0.0076 - val_accuracy: 0.8211\n",
            "Epoch 2/5\n",
            "12/12 [==============================] - 19s 2s/step - loss: 0.0073 - accuracy: 0.8278 - val_loss: 0.0076 - val_accuracy: 0.8211\n",
            "Epoch 1/5\n",
            "12/12 [==============================] - 19s 2s/step - loss: 0.0073 - accuracy: 0.7638 - val_loss: 0.0076 - val_accuracy: 0.8211\n",
            "Epoch 2/5\n",
            "12/12 [==============================] - 21s 2s/step - loss: 0.0073 - accuracy: 0.8278 - val_loss: 0.0076 - val_accuracy: 0.8211\n"
          ],
          "name": "stdout"
        },
        {
          "output_type": "display_data",
          "data": {
            "text/html": [
              "<span style=\"color:#4527A0\"><h1 style=\"font-size:18px\">Trial complete</h1></span>"
            ],
            "text/plain": [
              "<IPython.core.display.HTML object>"
            ]
          },
          "metadata": {
            "tags": []
          }
        },
        {
          "output_type": "display_data",
          "data": {
            "text/html": [
              "<span style=\"color:#4527A0\"><h1 style=\"font-size:18px\">Trial summary</h1></span>"
            ],
            "text/plain": [
              "<IPython.core.display.HTML object>"
            ]
          },
          "metadata": {
            "tags": []
          }
        },
        {
          "output_type": "display_data",
          "data": {
            "text/html": [
              "<span style=\"color:cyan\"> |-Trial ID: 066364b4c6e27cfc5eac8901f97ea1ee</span>"
            ],
            "text/plain": [
              "<IPython.core.display.HTML object>"
            ]
          },
          "metadata": {
            "tags": []
          }
        },
        {
          "output_type": "display_data",
          "data": {
            "text/html": [
              "<span style=\"color:cyan\"> |-Score: 0.821066677570343</span>"
            ],
            "text/plain": [
              "<IPython.core.display.HTML object>"
            ]
          },
          "metadata": {
            "tags": []
          }
        },
        {
          "output_type": "display_data",
          "data": {
            "text/html": [
              "<span style=\"color:cyan\"> |-Best step: 0</span>"
            ],
            "text/plain": [
              "<IPython.core.display.HTML object>"
            ]
          },
          "metadata": {
            "tags": []
          }
        },
        {
          "output_type": "display_data",
          "data": {
            "text/html": [
              "<span style=\"color:#7E57C2\"><h2 style=\"font-size:16px\">Hyperparameters:</h2></span>"
            ],
            "text/plain": [
              "<IPython.core.display.HTML object>"
            ]
          },
          "metadata": {
            "tags": []
          }
        },
        {
          "output_type": "display_data",
          "data": {
            "text/html": [
              "<span style=\"color:cyan\"> |-activation_conv_index_0_etg_0_desc: tanh</span>"
            ],
            "text/plain": [
              "<IPython.core.display.HTML object>"
            ]
          },
          "metadata": {
            "tags": []
          }
        },
        {
          "output_type": "display_data",
          "data": {
            "text/html": [
              "<span style=\"color:blue\"> |-activation_conv_index_0_etg_0_remont: tanh</span>"
            ],
            "text/plain": [
              "<IPython.core.display.HTML object>"
            ]
          },
          "metadata": {
            "tags": []
          }
        },
        {
          "output_type": "display_data",
          "data": {
            "text/html": [
              "<span style=\"color:cyan\"> |-activation_conv_index_0_etg_1_desc: tanh</span>"
            ],
            "text/plain": [
              "<IPython.core.display.HTML object>"
            ]
          },
          "metadata": {
            "tags": []
          }
        },
        {
          "output_type": "display_data",
          "data": {
            "text/html": [
              "<span style=\"color:blue\"> |-activation_conv_index_0_etg_1_remont: tanh</span>"
            ],
            "text/plain": [
              "<IPython.core.display.HTML object>"
            ]
          },
          "metadata": {
            "tags": []
          }
        },
        {
          "output_type": "display_data",
          "data": {
            "text/html": [
              "<span style=\"color:cyan\"> |-activation_conv_index_0_etg_2_desc: linear</span>"
            ],
            "text/plain": [
              "<IPython.core.display.HTML object>"
            ]
          },
          "metadata": {
            "tags": []
          }
        },
        {
          "output_type": "display_data",
          "data": {
            "text/html": [
              "<span style=\"color:blue\"> |-activation_conv_index_0_etg_2_remont: linear</span>"
            ],
            "text/plain": [
              "<IPython.core.display.HTML object>"
            ]
          },
          "metadata": {
            "tags": []
          }
        },
        {
          "output_type": "display_data",
          "data": {
            "text/html": [
              "<span style=\"color:cyan\"> |-activation_conv_index_0_etg_3_desc: tanh</span>"
            ],
            "text/plain": [
              "<IPython.core.display.HTML object>"
            ]
          },
          "metadata": {
            "tags": []
          }
        },
        {
          "output_type": "display_data",
          "data": {
            "text/html": [
              "<span style=\"color:blue\"> |-activation_conv_index_0_etg_3_remont: linear</span>"
            ],
            "text/plain": [
              "<IPython.core.display.HTML object>"
            ]
          },
          "metadata": {
            "tags": []
          }
        },
        {
          "output_type": "display_data",
          "data": {
            "text/html": [
              "<span style=\"color:cyan\"> |-activation_conv_index_0_etg_4_desc: linear</span>"
            ],
            "text/plain": [
              "<IPython.core.display.HTML object>"
            ]
          },
          "metadata": {
            "tags": []
          }
        },
        {
          "output_type": "display_data",
          "data": {
            "text/html": [
              "<span style=\"color:blue\"> |-activation_conv_index_0_etg_4_remont: relu</span>"
            ],
            "text/plain": [
              "<IPython.core.display.HTML object>"
            ]
          },
          "metadata": {
            "tags": []
          }
        },
        {
          "output_type": "display_data",
          "data": {
            "text/html": [
              "<span style=\"color:cyan\"> |-activation_conv_index_0_etg_5_desc: relu</span>"
            ],
            "text/plain": [
              "<IPython.core.display.HTML object>"
            ]
          },
          "metadata": {
            "tags": []
          }
        },
        {
          "output_type": "display_data",
          "data": {
            "text/html": [
              "<span style=\"color:blue\"> |-activation_conv_index_0_etg_5_remont: relu</span>"
            ],
            "text/plain": [
              "<IPython.core.display.HTML object>"
            ]
          },
          "metadata": {
            "tags": []
          }
        },
        {
          "output_type": "display_data",
          "data": {
            "text/html": [
              "<span style=\"color:cyan\"> |-activation_conv_index_0_etg_6_desc: relu</span>"
            ],
            "text/plain": [
              "<IPython.core.display.HTML object>"
            ]
          },
          "metadata": {
            "tags": []
          }
        },
        {
          "output_type": "display_data",
          "data": {
            "text/html": [
              "<span style=\"color:blue\"> |-activation_conv_index_0_etg_6_remont: relu</span>"
            ],
            "text/plain": [
              "<IPython.core.display.HTML object>"
            ]
          },
          "metadata": {
            "tags": []
          }
        },
        {
          "output_type": "display_data",
          "data": {
            "text/html": [
              "<span style=\"color:cyan\"> |-activation_conv_index_0_etg_7_desc: relu</span>"
            ],
            "text/plain": [
              "<IPython.core.display.HTML object>"
            ]
          },
          "metadata": {
            "tags": []
          }
        },
        {
          "output_type": "display_data",
          "data": {
            "text/html": [
              "<span style=\"color:blue\"> |-activation_conv_index_0_etg_7_remont: relu</span>"
            ],
            "text/plain": [
              "<IPython.core.display.HTML object>"
            ]
          },
          "metadata": {
            "tags": []
          }
        },
        {
          "output_type": "display_data",
          "data": {
            "text/html": [
              "<span style=\"color:cyan\"> |-activation_conv_index_0_etg_8_desc: relu</span>"
            ],
            "text/plain": [
              "<IPython.core.display.HTML object>"
            ]
          },
          "metadata": {
            "tags": []
          }
        },
        {
          "output_type": "display_data",
          "data": {
            "text/html": [
              "<span style=\"color:blue\"> |-activation_conv_index_1_etg_0_desc: linear</span>"
            ],
            "text/plain": [
              "<IPython.core.display.HTML object>"
            ]
          },
          "metadata": {
            "tags": []
          }
        },
        {
          "output_type": "display_data",
          "data": {
            "text/html": [
              "<span style=\"color:cyan\"> |-activation_conv_index_1_etg_0_remont: relu</span>"
            ],
            "text/plain": [
              "<IPython.core.display.HTML object>"
            ]
          },
          "metadata": {
            "tags": []
          }
        },
        {
          "output_type": "display_data",
          "data": {
            "text/html": [
              "<span style=\"color:blue\"> |-activation_conv_index_1_etg_2_desc: relu</span>"
            ],
            "text/plain": [
              "<IPython.core.display.HTML object>"
            ]
          },
          "metadata": {
            "tags": []
          }
        },
        {
          "output_type": "display_data",
          "data": {
            "text/html": [
              "<span style=\"color:cyan\"> |-activation_conv_index_1_etg_2_remont: relu</span>"
            ],
            "text/plain": [
              "<IPython.core.display.HTML object>"
            ]
          },
          "metadata": {
            "tags": []
          }
        },
        {
          "output_type": "display_data",
          "data": {
            "text/html": [
              "<span style=\"color:blue\"> |-activation_conv_index_1_etg_3_desc: relu</span>"
            ],
            "text/plain": [
              "<IPython.core.display.HTML object>"
            ]
          },
          "metadata": {
            "tags": []
          }
        },
        {
          "output_type": "display_data",
          "data": {
            "text/html": [
              "<span style=\"color:cyan\"> |-activation_conv_index_1_etg_3_remont: relu</span>"
            ],
            "text/plain": [
              "<IPython.core.display.HTML object>"
            ]
          },
          "metadata": {
            "tags": []
          }
        },
        {
          "output_type": "display_data",
          "data": {
            "text/html": [
              "<span style=\"color:blue\"> |-activation_conv_index_2_etg_0_desc: tanh</span>"
            ],
            "text/plain": [
              "<IPython.core.display.HTML object>"
            ]
          },
          "metadata": {
            "tags": []
          }
        },
        {
          "output_type": "display_data",
          "data": {
            "text/html": [
              "<span style=\"color:cyan\"> |-activation_conv_index_2_etg_0_remont: relu</span>"
            ],
            "text/plain": [
              "<IPython.core.display.HTML object>"
            ]
          },
          "metadata": {
            "tags": []
          }
        },
        {
          "output_type": "display_data",
          "data": {
            "text/html": [
              "<span style=\"color:blue\"> |-activation_conv_index_2_etg_2_desc: relu</span>"
            ],
            "text/plain": [
              "<IPython.core.display.HTML object>"
            ]
          },
          "metadata": {
            "tags": []
          }
        },
        {
          "output_type": "display_data",
          "data": {
            "text/html": [
              "<span style=\"color:cyan\"> |-activation_conv_index_2_etg_2_remont: relu</span>"
            ],
            "text/plain": [
              "<IPython.core.display.HTML object>"
            ]
          },
          "metadata": {
            "tags": []
          }
        },
        {
          "output_type": "display_data",
          "data": {
            "text/html": [
              "<span style=\"color:blue\"> |-activation_conv_index_2_etg_3_desc: relu</span>"
            ],
            "text/plain": [
              "<IPython.core.display.HTML object>"
            ]
          },
          "metadata": {
            "tags": []
          }
        },
        {
          "output_type": "display_data",
          "data": {
            "text/html": [
              "<span style=\"color:cyan\"> |-activation_conv_index_2_etg_3_remont: relu</span>"
            ],
            "text/plain": [
              "<IPython.core.display.HTML object>"
            ]
          },
          "metadata": {
            "tags": []
          }
        },
        {
          "output_type": "display_data",
          "data": {
            "text/html": [
              "<span style=\"color:blue\"> |-activation_conv_index_3_etg_0_desc: linear</span>"
            ],
            "text/plain": [
              "<IPython.core.display.HTML object>"
            ]
          },
          "metadata": {
            "tags": []
          }
        },
        {
          "output_type": "display_data",
          "data": {
            "text/html": [
              "<span style=\"color:cyan\"> |-activation_conv_index_3_etg_0_remont: relu</span>"
            ],
            "text/plain": [
              "<IPython.core.display.HTML object>"
            ]
          },
          "metadata": {
            "tags": []
          }
        },
        {
          "output_type": "display_data",
          "data": {
            "text/html": [
              "<span style=\"color:blue\"> |-activation_conv_index_3_etg_2_desc: relu</span>"
            ],
            "text/plain": [
              "<IPython.core.display.HTML object>"
            ]
          },
          "metadata": {
            "tags": []
          }
        },
        {
          "output_type": "display_data",
          "data": {
            "text/html": [
              "<span style=\"color:cyan\"> |-activation_conv_index_3_etg_2_remont: relu</span>"
            ],
            "text/plain": [
              "<IPython.core.display.HTML object>"
            ]
          },
          "metadata": {
            "tags": []
          }
        },
        {
          "output_type": "display_data",
          "data": {
            "text/html": [
              "<span style=\"color:blue\"> |-activation_conv_index_3_etg_3_desc: relu</span>"
            ],
            "text/plain": [
              "<IPython.core.display.HTML object>"
            ]
          },
          "metadata": {
            "tags": []
          }
        },
        {
          "output_type": "display_data",
          "data": {
            "text/html": [
              "<span style=\"color:cyan\"> |-activation_conv_index_3_etg_3_remont: relu</span>"
            ],
            "text/plain": [
              "<IPython.core.display.HTML object>"
            ]
          },
          "metadata": {
            "tags": []
          }
        },
        {
          "output_type": "display_data",
          "data": {
            "text/html": [
              "<span style=\"color:blue\"> |-activation_conv_index_4_etg_0_desc: relu</span>"
            ],
            "text/plain": [
              "<IPython.core.display.HTML object>"
            ]
          },
          "metadata": {
            "tags": []
          }
        },
        {
          "output_type": "display_data",
          "data": {
            "text/html": [
              "<span style=\"color:cyan\"> |-activation_conv_index_4_etg_0_remont: relu</span>"
            ],
            "text/plain": [
              "<IPython.core.display.HTML object>"
            ]
          },
          "metadata": {
            "tags": []
          }
        },
        {
          "output_type": "display_data",
          "data": {
            "text/html": [
              "<span style=\"color:blue\"> |-activation_conv_index_4_etg_2_desc: relu</span>"
            ],
            "text/plain": [
              "<IPython.core.display.HTML object>"
            ]
          },
          "metadata": {
            "tags": []
          }
        },
        {
          "output_type": "display_data",
          "data": {
            "text/html": [
              "<span style=\"color:cyan\"> |-activation_conv_index_4_etg_2_remont: relu</span>"
            ],
            "text/plain": [
              "<IPython.core.display.HTML object>"
            ]
          },
          "metadata": {
            "tags": []
          }
        },
        {
          "output_type": "display_data",
          "data": {
            "text/html": [
              "<span style=\"color:blue\"> |-activation_conv_index_4_etg_3_desc: relu</span>"
            ],
            "text/plain": [
              "<IPython.core.display.HTML object>"
            ]
          },
          "metadata": {
            "tags": []
          }
        },
        {
          "output_type": "display_data",
          "data": {
            "text/html": [
              "<span style=\"color:cyan\"> |-activation_conv_index_4_etg_3_remont: relu</span>"
            ],
            "text/plain": [
              "<IPython.core.display.HTML object>"
            ]
          },
          "metadata": {
            "tags": []
          }
        },
        {
          "output_type": "display_data",
          "data": {
            "text/html": [
              "<span style=\"color:blue\"> |-activation_conv_index_5_etg_0_desc: relu</span>"
            ],
            "text/plain": [
              "<IPython.core.display.HTML object>"
            ]
          },
          "metadata": {
            "tags": []
          }
        },
        {
          "output_type": "display_data",
          "data": {
            "text/html": [
              "<span style=\"color:cyan\"> |-activation_conv_index_5_etg_0_remont: relu</span>"
            ],
            "text/plain": [
              "<IPython.core.display.HTML object>"
            ]
          },
          "metadata": {
            "tags": []
          }
        },
        {
          "output_type": "display_data",
          "data": {
            "text/html": [
              "<span style=\"color:blue\"> |-activation_conv_index_5_etg_2_desc: relu</span>"
            ],
            "text/plain": [
              "<IPython.core.display.HTML object>"
            ]
          },
          "metadata": {
            "tags": []
          }
        },
        {
          "output_type": "display_data",
          "data": {
            "text/html": [
              "<span style=\"color:cyan\"> |-activation_conv_index_5_etg_2_remont: relu</span>"
            ],
            "text/plain": [
              "<IPython.core.display.HTML object>"
            ]
          },
          "metadata": {
            "tags": []
          }
        },
        {
          "output_type": "display_data",
          "data": {
            "text/html": [
              "<span style=\"color:blue\"> |-activation_conv_index_5_etg_3_desc: relu</span>"
            ],
            "text/plain": [
              "<IPython.core.display.HTML object>"
            ]
          },
          "metadata": {
            "tags": []
          }
        },
        {
          "output_type": "display_data",
          "data": {
            "text/html": [
              "<span style=\"color:cyan\"> |-activation_conv_index_5_etg_3_remont: relu</span>"
            ],
            "text/plain": [
              "<IPython.core.display.HTML object>"
            ]
          },
          "metadata": {
            "tags": []
          }
        },
        {
          "output_type": "display_data",
          "data": {
            "text/html": [
              "<span style=\"color:blue\"> |-activation_conv_index_6_etg_0_desc: relu</span>"
            ],
            "text/plain": [
              "<IPython.core.display.HTML object>"
            ]
          },
          "metadata": {
            "tags": []
          }
        },
        {
          "output_type": "display_data",
          "data": {
            "text/html": [
              "<span style=\"color:cyan\"> |-activation_conv_index_6_etg_0_remont: relu</span>"
            ],
            "text/plain": [
              "<IPython.core.display.HTML object>"
            ]
          },
          "metadata": {
            "tags": []
          }
        },
        {
          "output_type": "display_data",
          "data": {
            "text/html": [
              "<span style=\"color:blue\"> |-activation_conv_index_6_etg_2_desc: relu</span>"
            ],
            "text/plain": [
              "<IPython.core.display.HTML object>"
            ]
          },
          "metadata": {
            "tags": []
          }
        },
        {
          "output_type": "display_data",
          "data": {
            "text/html": [
              "<span style=\"color:cyan\"> |-activation_conv_index_6_etg_2_remont: relu</span>"
            ],
            "text/plain": [
              "<IPython.core.display.HTML object>"
            ]
          },
          "metadata": {
            "tags": []
          }
        },
        {
          "output_type": "display_data",
          "data": {
            "text/html": [
              "<span style=\"color:blue\"> |-activation_conv_index_6_etg_3_desc: relu</span>"
            ],
            "text/plain": [
              "<IPython.core.display.HTML object>"
            ]
          },
          "metadata": {
            "tags": []
          }
        },
        {
          "output_type": "display_data",
          "data": {
            "text/html": [
              "<span style=\"color:cyan\"> |-activation_conv_index_6_etg_3_remont: relu</span>"
            ],
            "text/plain": [
              "<IPython.core.display.HTML object>"
            ]
          },
          "metadata": {
            "tags": []
          }
        },
        {
          "output_type": "display_data",
          "data": {
            "text/html": [
              "<span style=\"color:blue\"> |-activation_conv_index_7_etg_0_desc: relu</span>"
            ],
            "text/plain": [
              "<IPython.core.display.HTML object>"
            ]
          },
          "metadata": {
            "tags": []
          }
        },
        {
          "output_type": "display_data",
          "data": {
            "text/html": [
              "<span style=\"color:cyan\"> |-activation_conv_index_7_etg_0_remont: relu</span>"
            ],
            "text/plain": [
              "<IPython.core.display.HTML object>"
            ]
          },
          "metadata": {
            "tags": []
          }
        },
        {
          "output_type": "display_data",
          "data": {
            "text/html": [
              "<span style=\"color:blue\"> |-activation_conv_index_7_etg_2_desc: relu</span>"
            ],
            "text/plain": [
              "<IPython.core.display.HTML object>"
            ]
          },
          "metadata": {
            "tags": []
          }
        },
        {
          "output_type": "display_data",
          "data": {
            "text/html": [
              "<span style=\"color:cyan\"> |-activation_conv_index_7_etg_2_remont: relu</span>"
            ],
            "text/plain": [
              "<IPython.core.display.HTML object>"
            ]
          },
          "metadata": {
            "tags": []
          }
        },
        {
          "output_type": "display_data",
          "data": {
            "text/html": [
              "<span style=\"color:blue\"> |-activation_conv_index_7_etg_3_desc: relu</span>"
            ],
            "text/plain": [
              "<IPython.core.display.HTML object>"
            ]
          },
          "metadata": {
            "tags": []
          }
        },
        {
          "output_type": "display_data",
          "data": {
            "text/html": [
              "<span style=\"color:cyan\"> |-activation_conv_index_7_etg_3_remont: relu</span>"
            ],
            "text/plain": [
              "<IPython.core.display.HTML object>"
            ]
          },
          "metadata": {
            "tags": []
          }
        },
        {
          "output_type": "display_data",
          "data": {
            "text/html": [
              "<span style=\"color:blue\"> |-activation_conv_index_8_etg_0_desc: relu</span>"
            ],
            "text/plain": [
              "<IPython.core.display.HTML object>"
            ]
          },
          "metadata": {
            "tags": []
          }
        },
        {
          "output_type": "display_data",
          "data": {
            "text/html": [
              "<span style=\"color:cyan\"> |-activation_conv_index_8_etg_0_remont: relu</span>"
            ],
            "text/plain": [
              "<IPython.core.display.HTML object>"
            ]
          },
          "metadata": {
            "tags": []
          }
        },
        {
          "output_type": "display_data",
          "data": {
            "text/html": [
              "<span style=\"color:blue\"> |-activation_conv_index_8_etg_2_desc: relu</span>"
            ],
            "text/plain": [
              "<IPython.core.display.HTML object>"
            ]
          },
          "metadata": {
            "tags": []
          }
        },
        {
          "output_type": "display_data",
          "data": {
            "text/html": [
              "<span style=\"color:cyan\"> |-activation_conv_index_8_etg_2_remont: relu</span>"
            ],
            "text/plain": [
              "<IPython.core.display.HTML object>"
            ]
          },
          "metadata": {
            "tags": []
          }
        },
        {
          "output_type": "display_data",
          "data": {
            "text/html": [
              "<span style=\"color:blue\"> |-activation_conv_index_8_etg_3_desc: relu</span>"
            ],
            "text/plain": [
              "<IPython.core.display.HTML object>"
            ]
          },
          "metadata": {
            "tags": []
          }
        },
        {
          "output_type": "display_data",
          "data": {
            "text/html": [
              "<span style=\"color:cyan\"> |-activation_conv_index_8_etg_3_remont: relu</span>"
            ],
            "text/plain": [
              "<IPython.core.display.HTML object>"
            ]
          },
          "metadata": {
            "tags": []
          }
        },
        {
          "output_type": "display_data",
          "data": {
            "text/html": [
              "<span style=\"color:blue\"> |-activation_conv_index_9_etg_0_desc: relu</span>"
            ],
            "text/plain": [
              "<IPython.core.display.HTML object>"
            ]
          },
          "metadata": {
            "tags": []
          }
        },
        {
          "output_type": "display_data",
          "data": {
            "text/html": [
              "<span style=\"color:cyan\"> |-activation_conv_index_9_etg_0_remont: relu</span>"
            ],
            "text/plain": [
              "<IPython.core.display.HTML object>"
            ]
          },
          "metadata": {
            "tags": []
          }
        },
        {
          "output_type": "display_data",
          "data": {
            "text/html": [
              "<span style=\"color:blue\"> |-activation_conv_index_9_etg_2_desc: relu</span>"
            ],
            "text/plain": [
              "<IPython.core.display.HTML object>"
            ]
          },
          "metadata": {
            "tags": []
          }
        },
        {
          "output_type": "display_data",
          "data": {
            "text/html": [
              "<span style=\"color:cyan\"> |-activation_conv_index_9_etg_2_remont: relu</span>"
            ],
            "text/plain": [
              "<IPython.core.display.HTML object>"
            ]
          },
          "metadata": {
            "tags": []
          }
        },
        {
          "output_type": "display_data",
          "data": {
            "text/html": [
              "<span style=\"color:blue\"> |-activation_conv_index_9_etg_3_desc: relu</span>"
            ],
            "text/plain": [
              "<IPython.core.display.HTML object>"
            ]
          },
          "metadata": {
            "tags": []
          }
        },
        {
          "output_type": "display_data",
          "data": {
            "text/html": [
              "<span style=\"color:cyan\"> |-activation_conv_index_9_etg_3_remont: relu</span>"
            ],
            "text/plain": [
              "<IPython.core.display.HTML object>"
            ]
          },
          "metadata": {
            "tags": []
          }
        },
        {
          "output_type": "display_data",
          "data": {
            "text/html": [
              "<span style=\"color:blue\"> |-beta_1: 0.8</span>"
            ],
            "text/plain": [
              "<IPython.core.display.HTML object>"
            ]
          },
          "metadata": {
            "tags": []
          }
        },
        {
          "output_type": "display_data",
          "data": {
            "text/html": [
              "<span style=\"color:cyan\"> |-beta_2: 0.8</span>"
            ],
            "text/plain": [
              "<IPython.core.display.HTML object>"
            ]
          },
          "metadata": {
            "tags": []
          }
        },
        {
          "output_type": "display_data",
          "data": {
            "text/html": [
              "<span style=\"color:blue\"> |-filtre_conv_index_0_etg_0_desc: 1</span>"
            ],
            "text/plain": [
              "<IPython.core.display.HTML object>"
            ]
          },
          "metadata": {
            "tags": []
          }
        },
        {
          "output_type": "display_data",
          "data": {
            "text/html": [
              "<span style=\"color:cyan\"> |-filtre_conv_index_0_etg_0_remont: 500</span>"
            ],
            "text/plain": [
              "<IPython.core.display.HTML object>"
            ]
          },
          "metadata": {
            "tags": []
          }
        },
        {
          "output_type": "display_data",
          "data": {
            "text/html": [
              "<span style=\"color:blue\"> |-filtre_conv_index_0_etg_1_desc: 500</span>"
            ],
            "text/plain": [
              "<IPython.core.display.HTML object>"
            ]
          },
          "metadata": {
            "tags": []
          }
        },
        {
          "output_type": "display_data",
          "data": {
            "text/html": [
              "<span style=\"color:cyan\"> |-filtre_conv_index_0_etg_1_remont: 500</span>"
            ],
            "text/plain": [
              "<IPython.core.display.HTML object>"
            ]
          },
          "metadata": {
            "tags": []
          }
        },
        {
          "output_type": "display_data",
          "data": {
            "text/html": [
              "<span style=\"color:blue\"> |-filtre_conv_index_0_etg_2_desc: 500</span>"
            ],
            "text/plain": [
              "<IPython.core.display.HTML object>"
            ]
          },
          "metadata": {
            "tags": []
          }
        },
        {
          "output_type": "display_data",
          "data": {
            "text/html": [
              "<span style=\"color:cyan\"> |-filtre_conv_index_0_etg_2_remont: 1</span>"
            ],
            "text/plain": [
              "<IPython.core.display.HTML object>"
            ]
          },
          "metadata": {
            "tags": []
          }
        },
        {
          "output_type": "display_data",
          "data": {
            "text/html": [
              "<span style=\"color:blue\"> |-filtre_conv_index_0_etg_3_desc: 500</span>"
            ],
            "text/plain": [
              "<IPython.core.display.HTML object>"
            ]
          },
          "metadata": {
            "tags": []
          }
        },
        {
          "output_type": "display_data",
          "data": {
            "text/html": [
              "<span style=\"color:cyan\"> |-filtre_conv_index_0_etg_3_remont: 500</span>"
            ],
            "text/plain": [
              "<IPython.core.display.HTML object>"
            ]
          },
          "metadata": {
            "tags": []
          }
        },
        {
          "output_type": "display_data",
          "data": {
            "text/html": [
              "<span style=\"color:blue\"> |-filtre_conv_index_0_etg_4_desc: 500</span>"
            ],
            "text/plain": [
              "<IPython.core.display.HTML object>"
            ]
          },
          "metadata": {
            "tags": []
          }
        },
        {
          "output_type": "display_data",
          "data": {
            "text/html": [
              "<span style=\"color:cyan\"> |-filtre_conv_index_0_etg_4_remont: 1</span>"
            ],
            "text/plain": [
              "<IPython.core.display.HTML object>"
            ]
          },
          "metadata": {
            "tags": []
          }
        },
        {
          "output_type": "display_data",
          "data": {
            "text/html": [
              "<span style=\"color:blue\"> |-filtre_conv_index_0_etg_5_desc: 1</span>"
            ],
            "text/plain": [
              "<IPython.core.display.HTML object>"
            ]
          },
          "metadata": {
            "tags": []
          }
        },
        {
          "output_type": "display_data",
          "data": {
            "text/html": [
              "<span style=\"color:cyan\"> |-filtre_conv_index_0_etg_5_remont: 1</span>"
            ],
            "text/plain": [
              "<IPython.core.display.HTML object>"
            ]
          },
          "metadata": {
            "tags": []
          }
        },
        {
          "output_type": "display_data",
          "data": {
            "text/html": [
              "<span style=\"color:blue\"> |-filtre_conv_index_0_etg_6_desc: 1</span>"
            ],
            "text/plain": [
              "<IPython.core.display.HTML object>"
            ]
          },
          "metadata": {
            "tags": []
          }
        },
        {
          "output_type": "display_data",
          "data": {
            "text/html": [
              "<span style=\"color:cyan\"> |-filtre_conv_index_0_etg_6_remont: 1</span>"
            ],
            "text/plain": [
              "<IPython.core.display.HTML object>"
            ]
          },
          "metadata": {
            "tags": []
          }
        },
        {
          "output_type": "display_data",
          "data": {
            "text/html": [
              "<span style=\"color:blue\"> |-filtre_conv_index_0_etg_7_desc: 1</span>"
            ],
            "text/plain": [
              "<IPython.core.display.HTML object>"
            ]
          },
          "metadata": {
            "tags": []
          }
        },
        {
          "output_type": "display_data",
          "data": {
            "text/html": [
              "<span style=\"color:cyan\"> |-filtre_conv_index_0_etg_7_remont: 1</span>"
            ],
            "text/plain": [
              "<IPython.core.display.HTML object>"
            ]
          },
          "metadata": {
            "tags": []
          }
        },
        {
          "output_type": "display_data",
          "data": {
            "text/html": [
              "<span style=\"color:blue\"> |-filtre_conv_index_0_etg_8_desc: 1</span>"
            ],
            "text/plain": [
              "<IPython.core.display.HTML object>"
            ]
          },
          "metadata": {
            "tags": []
          }
        },
        {
          "output_type": "display_data",
          "data": {
            "text/html": [
              "<span style=\"color:cyan\"> |-filtre_conv_index_1_etg_0_desc: 500</span>"
            ],
            "text/plain": [
              "<IPython.core.display.HTML object>"
            ]
          },
          "metadata": {
            "tags": []
          }
        },
        {
          "output_type": "display_data",
          "data": {
            "text/html": [
              "<span style=\"color:blue\"> |-filtre_conv_index_1_etg_0_remont: 1</span>"
            ],
            "text/plain": [
              "<IPython.core.display.HTML object>"
            ]
          },
          "metadata": {
            "tags": []
          }
        },
        {
          "output_type": "display_data",
          "data": {
            "text/html": [
              "<span style=\"color:cyan\"> |-filtre_conv_index_1_etg_2_desc: 1</span>"
            ],
            "text/plain": [
              "<IPython.core.display.HTML object>"
            ]
          },
          "metadata": {
            "tags": []
          }
        },
        {
          "output_type": "display_data",
          "data": {
            "text/html": [
              "<span style=\"color:blue\"> |-filtre_conv_index_1_etg_2_remont: 1</span>"
            ],
            "text/plain": [
              "<IPython.core.display.HTML object>"
            ]
          },
          "metadata": {
            "tags": []
          }
        },
        {
          "output_type": "display_data",
          "data": {
            "text/html": [
              "<span style=\"color:cyan\"> |-filtre_conv_index_1_etg_3_desc: 1</span>"
            ],
            "text/plain": [
              "<IPython.core.display.HTML object>"
            ]
          },
          "metadata": {
            "tags": []
          }
        },
        {
          "output_type": "display_data",
          "data": {
            "text/html": [
              "<span style=\"color:blue\"> |-filtre_conv_index_1_etg_3_remont: 1</span>"
            ],
            "text/plain": [
              "<IPython.core.display.HTML object>"
            ]
          },
          "metadata": {
            "tags": []
          }
        },
        {
          "output_type": "display_data",
          "data": {
            "text/html": [
              "<span style=\"color:cyan\"> |-filtre_conv_index_2_etg_0_desc: 500</span>"
            ],
            "text/plain": [
              "<IPython.core.display.HTML object>"
            ]
          },
          "metadata": {
            "tags": []
          }
        },
        {
          "output_type": "display_data",
          "data": {
            "text/html": [
              "<span style=\"color:blue\"> |-filtre_conv_index_2_etg_0_remont: 1</span>"
            ],
            "text/plain": [
              "<IPython.core.display.HTML object>"
            ]
          },
          "metadata": {
            "tags": []
          }
        },
        {
          "output_type": "display_data",
          "data": {
            "text/html": [
              "<span style=\"color:cyan\"> |-filtre_conv_index_2_etg_2_desc: 1</span>"
            ],
            "text/plain": [
              "<IPython.core.display.HTML object>"
            ]
          },
          "metadata": {
            "tags": []
          }
        },
        {
          "output_type": "display_data",
          "data": {
            "text/html": [
              "<span style=\"color:blue\"> |-filtre_conv_index_2_etg_2_remont: 1</span>"
            ],
            "text/plain": [
              "<IPython.core.display.HTML object>"
            ]
          },
          "metadata": {
            "tags": []
          }
        },
        {
          "output_type": "display_data",
          "data": {
            "text/html": [
              "<span style=\"color:cyan\"> |-filtre_conv_index_2_etg_3_desc: 1</span>"
            ],
            "text/plain": [
              "<IPython.core.display.HTML object>"
            ]
          },
          "metadata": {
            "tags": []
          }
        },
        {
          "output_type": "display_data",
          "data": {
            "text/html": [
              "<span style=\"color:blue\"> |-filtre_conv_index_2_etg_3_remont: 1</span>"
            ],
            "text/plain": [
              "<IPython.core.display.HTML object>"
            ]
          },
          "metadata": {
            "tags": []
          }
        },
        {
          "output_type": "display_data",
          "data": {
            "text/html": [
              "<span style=\"color:cyan\"> |-filtre_conv_index_3_etg_0_desc: 500</span>"
            ],
            "text/plain": [
              "<IPython.core.display.HTML object>"
            ]
          },
          "metadata": {
            "tags": []
          }
        },
        {
          "output_type": "display_data",
          "data": {
            "text/html": [
              "<span style=\"color:blue\"> |-filtre_conv_index_3_etg_0_remont: 1</span>"
            ],
            "text/plain": [
              "<IPython.core.display.HTML object>"
            ]
          },
          "metadata": {
            "tags": []
          }
        },
        {
          "output_type": "display_data",
          "data": {
            "text/html": [
              "<span style=\"color:cyan\"> |-filtre_conv_index_3_etg_2_desc: 1</span>"
            ],
            "text/plain": [
              "<IPython.core.display.HTML object>"
            ]
          },
          "metadata": {
            "tags": []
          }
        },
        {
          "output_type": "display_data",
          "data": {
            "text/html": [
              "<span style=\"color:blue\"> |-filtre_conv_index_3_etg_2_remont: 1</span>"
            ],
            "text/plain": [
              "<IPython.core.display.HTML object>"
            ]
          },
          "metadata": {
            "tags": []
          }
        },
        {
          "output_type": "display_data",
          "data": {
            "text/html": [
              "<span style=\"color:cyan\"> |-filtre_conv_index_3_etg_3_desc: 1</span>"
            ],
            "text/plain": [
              "<IPython.core.display.HTML object>"
            ]
          },
          "metadata": {
            "tags": []
          }
        },
        {
          "output_type": "display_data",
          "data": {
            "text/html": [
              "<span style=\"color:blue\"> |-filtre_conv_index_3_etg_3_remont: 1</span>"
            ],
            "text/plain": [
              "<IPython.core.display.HTML object>"
            ]
          },
          "metadata": {
            "tags": []
          }
        },
        {
          "output_type": "display_data",
          "data": {
            "text/html": [
              "<span style=\"color:cyan\"> |-filtre_conv_index_4_etg_0_desc: 1</span>"
            ],
            "text/plain": [
              "<IPython.core.display.HTML object>"
            ]
          },
          "metadata": {
            "tags": []
          }
        },
        {
          "output_type": "display_data",
          "data": {
            "text/html": [
              "<span style=\"color:blue\"> |-filtre_conv_index_4_etg_0_remont: 1</span>"
            ],
            "text/plain": [
              "<IPython.core.display.HTML object>"
            ]
          },
          "metadata": {
            "tags": []
          }
        },
        {
          "output_type": "display_data",
          "data": {
            "text/html": [
              "<span style=\"color:cyan\"> |-filtre_conv_index_4_etg_2_desc: 1</span>"
            ],
            "text/plain": [
              "<IPython.core.display.HTML object>"
            ]
          },
          "metadata": {
            "tags": []
          }
        },
        {
          "output_type": "display_data",
          "data": {
            "text/html": [
              "<span style=\"color:blue\"> |-filtre_conv_index_4_etg_2_remont: 1</span>"
            ],
            "text/plain": [
              "<IPython.core.display.HTML object>"
            ]
          },
          "metadata": {
            "tags": []
          }
        },
        {
          "output_type": "display_data",
          "data": {
            "text/html": [
              "<span style=\"color:cyan\"> |-filtre_conv_index_4_etg_3_desc: 1</span>"
            ],
            "text/plain": [
              "<IPython.core.display.HTML object>"
            ]
          },
          "metadata": {
            "tags": []
          }
        },
        {
          "output_type": "display_data",
          "data": {
            "text/html": [
              "<span style=\"color:blue\"> |-filtre_conv_index_4_etg_3_remont: 1</span>"
            ],
            "text/plain": [
              "<IPython.core.display.HTML object>"
            ]
          },
          "metadata": {
            "tags": []
          }
        },
        {
          "output_type": "display_data",
          "data": {
            "text/html": [
              "<span style=\"color:cyan\"> |-filtre_conv_index_5_etg_0_desc: 1</span>"
            ],
            "text/plain": [
              "<IPython.core.display.HTML object>"
            ]
          },
          "metadata": {
            "tags": []
          }
        },
        {
          "output_type": "display_data",
          "data": {
            "text/html": [
              "<span style=\"color:blue\"> |-filtre_conv_index_5_etg_0_remont: 1</span>"
            ],
            "text/plain": [
              "<IPython.core.display.HTML object>"
            ]
          },
          "metadata": {
            "tags": []
          }
        },
        {
          "output_type": "display_data",
          "data": {
            "text/html": [
              "<span style=\"color:cyan\"> |-filtre_conv_index_5_etg_2_desc: 1</span>"
            ],
            "text/plain": [
              "<IPython.core.display.HTML object>"
            ]
          },
          "metadata": {
            "tags": []
          }
        },
        {
          "output_type": "display_data",
          "data": {
            "text/html": [
              "<span style=\"color:blue\"> |-filtre_conv_index_5_etg_2_remont: 1</span>"
            ],
            "text/plain": [
              "<IPython.core.display.HTML object>"
            ]
          },
          "metadata": {
            "tags": []
          }
        },
        {
          "output_type": "display_data",
          "data": {
            "text/html": [
              "<span style=\"color:cyan\"> |-filtre_conv_index_5_etg_3_desc: 1</span>"
            ],
            "text/plain": [
              "<IPython.core.display.HTML object>"
            ]
          },
          "metadata": {
            "tags": []
          }
        },
        {
          "output_type": "display_data",
          "data": {
            "text/html": [
              "<span style=\"color:blue\"> |-filtre_conv_index_5_etg_3_remont: 1</span>"
            ],
            "text/plain": [
              "<IPython.core.display.HTML object>"
            ]
          },
          "metadata": {
            "tags": []
          }
        },
        {
          "output_type": "display_data",
          "data": {
            "text/html": [
              "<span style=\"color:cyan\"> |-filtre_conv_index_6_etg_0_desc: 1</span>"
            ],
            "text/plain": [
              "<IPython.core.display.HTML object>"
            ]
          },
          "metadata": {
            "tags": []
          }
        },
        {
          "output_type": "display_data",
          "data": {
            "text/html": [
              "<span style=\"color:blue\"> |-filtre_conv_index_6_etg_0_remont: 1</span>"
            ],
            "text/plain": [
              "<IPython.core.display.HTML object>"
            ]
          },
          "metadata": {
            "tags": []
          }
        },
        {
          "output_type": "display_data",
          "data": {
            "text/html": [
              "<span style=\"color:cyan\"> |-filtre_conv_index_6_etg_2_desc: 1</span>"
            ],
            "text/plain": [
              "<IPython.core.display.HTML object>"
            ]
          },
          "metadata": {
            "tags": []
          }
        },
        {
          "output_type": "display_data",
          "data": {
            "text/html": [
              "<span style=\"color:blue\"> |-filtre_conv_index_6_etg_2_remont: 1</span>"
            ],
            "text/plain": [
              "<IPython.core.display.HTML object>"
            ]
          },
          "metadata": {
            "tags": []
          }
        },
        {
          "output_type": "display_data",
          "data": {
            "text/html": [
              "<span style=\"color:cyan\"> |-filtre_conv_index_6_etg_3_desc: 1</span>"
            ],
            "text/plain": [
              "<IPython.core.display.HTML object>"
            ]
          },
          "metadata": {
            "tags": []
          }
        },
        {
          "output_type": "display_data",
          "data": {
            "text/html": [
              "<span style=\"color:blue\"> |-filtre_conv_index_6_etg_3_remont: 1</span>"
            ],
            "text/plain": [
              "<IPython.core.display.HTML object>"
            ]
          },
          "metadata": {
            "tags": []
          }
        },
        {
          "output_type": "display_data",
          "data": {
            "text/html": [
              "<span style=\"color:cyan\"> |-filtre_conv_index_7_etg_0_desc: 1</span>"
            ],
            "text/plain": [
              "<IPython.core.display.HTML object>"
            ]
          },
          "metadata": {
            "tags": []
          }
        },
        {
          "output_type": "display_data",
          "data": {
            "text/html": [
              "<span style=\"color:blue\"> |-filtre_conv_index_7_etg_0_remont: 1</span>"
            ],
            "text/plain": [
              "<IPython.core.display.HTML object>"
            ]
          },
          "metadata": {
            "tags": []
          }
        },
        {
          "output_type": "display_data",
          "data": {
            "text/html": [
              "<span style=\"color:cyan\"> |-filtre_conv_index_7_etg_2_desc: 1</span>"
            ],
            "text/plain": [
              "<IPython.core.display.HTML object>"
            ]
          },
          "metadata": {
            "tags": []
          }
        },
        {
          "output_type": "display_data",
          "data": {
            "text/html": [
              "<span style=\"color:blue\"> |-filtre_conv_index_7_etg_2_remont: 1</span>"
            ],
            "text/plain": [
              "<IPython.core.display.HTML object>"
            ]
          },
          "metadata": {
            "tags": []
          }
        },
        {
          "output_type": "display_data",
          "data": {
            "text/html": [
              "<span style=\"color:cyan\"> |-filtre_conv_index_7_etg_3_desc: 1</span>"
            ],
            "text/plain": [
              "<IPython.core.display.HTML object>"
            ]
          },
          "metadata": {
            "tags": []
          }
        },
        {
          "output_type": "display_data",
          "data": {
            "text/html": [
              "<span style=\"color:blue\"> |-filtre_conv_index_7_etg_3_remont: 1</span>"
            ],
            "text/plain": [
              "<IPython.core.display.HTML object>"
            ]
          },
          "metadata": {
            "tags": []
          }
        },
        {
          "output_type": "display_data",
          "data": {
            "text/html": [
              "<span style=\"color:cyan\"> |-filtre_conv_index_8_etg_0_desc: 1</span>"
            ],
            "text/plain": [
              "<IPython.core.display.HTML object>"
            ]
          },
          "metadata": {
            "tags": []
          }
        },
        {
          "output_type": "display_data",
          "data": {
            "text/html": [
              "<span style=\"color:blue\"> |-filtre_conv_index_8_etg_0_remont: 1</span>"
            ],
            "text/plain": [
              "<IPython.core.display.HTML object>"
            ]
          },
          "metadata": {
            "tags": []
          }
        },
        {
          "output_type": "display_data",
          "data": {
            "text/html": [
              "<span style=\"color:cyan\"> |-filtre_conv_index_8_etg_2_desc: 1</span>"
            ],
            "text/plain": [
              "<IPython.core.display.HTML object>"
            ]
          },
          "metadata": {
            "tags": []
          }
        },
        {
          "output_type": "display_data",
          "data": {
            "text/html": [
              "<span style=\"color:blue\"> |-filtre_conv_index_8_etg_2_remont: 1</span>"
            ],
            "text/plain": [
              "<IPython.core.display.HTML object>"
            ]
          },
          "metadata": {
            "tags": []
          }
        },
        {
          "output_type": "display_data",
          "data": {
            "text/html": [
              "<span style=\"color:cyan\"> |-filtre_conv_index_8_etg_3_desc: 1</span>"
            ],
            "text/plain": [
              "<IPython.core.display.HTML object>"
            ]
          },
          "metadata": {
            "tags": []
          }
        },
        {
          "output_type": "display_data",
          "data": {
            "text/html": [
              "<span style=\"color:blue\"> |-filtre_conv_index_8_etg_3_remont: 1</span>"
            ],
            "text/plain": [
              "<IPython.core.display.HTML object>"
            ]
          },
          "metadata": {
            "tags": []
          }
        },
        {
          "output_type": "display_data",
          "data": {
            "text/html": [
              "<span style=\"color:cyan\"> |-filtre_conv_index_9_etg_0_desc: 1</span>"
            ],
            "text/plain": [
              "<IPython.core.display.HTML object>"
            ]
          },
          "metadata": {
            "tags": []
          }
        },
        {
          "output_type": "display_data",
          "data": {
            "text/html": [
              "<span style=\"color:blue\"> |-filtre_conv_index_9_etg_0_remont: 1</span>"
            ],
            "text/plain": [
              "<IPython.core.display.HTML object>"
            ]
          },
          "metadata": {
            "tags": []
          }
        },
        {
          "output_type": "display_data",
          "data": {
            "text/html": [
              "<span style=\"color:cyan\"> |-filtre_conv_index_9_etg_2_desc: 1</span>"
            ],
            "text/plain": [
              "<IPython.core.display.HTML object>"
            ]
          },
          "metadata": {
            "tags": []
          }
        },
        {
          "output_type": "display_data",
          "data": {
            "text/html": [
              "<span style=\"color:blue\"> |-filtre_conv_index_9_etg_2_remont: 1</span>"
            ],
            "text/plain": [
              "<IPython.core.display.HTML object>"
            ]
          },
          "metadata": {
            "tags": []
          }
        },
        {
          "output_type": "display_data",
          "data": {
            "text/html": [
              "<span style=\"color:cyan\"> |-filtre_conv_index_9_etg_3_desc: 1</span>"
            ],
            "text/plain": [
              "<IPython.core.display.HTML object>"
            ]
          },
          "metadata": {
            "tags": []
          }
        },
        {
          "output_type": "display_data",
          "data": {
            "text/html": [
              "<span style=\"color:blue\"> |-filtre_conv_index_9_etg_3_remont: 1</span>"
            ],
            "text/plain": [
              "<IPython.core.display.HTML object>"
            ]
          },
          "metadata": {
            "tags": []
          }
        },
        {
          "output_type": "display_data",
          "data": {
            "text/html": [
              "<span style=\"color:cyan\"> |-filtre_deconv_etg_0_remont: 1</span>"
            ],
            "text/plain": [
              "<IPython.core.display.HTML object>"
            ]
          },
          "metadata": {
            "tags": []
          }
        },
        {
          "output_type": "display_data",
          "data": {
            "text/html": [
              "<span style=\"color:blue\"> |-filtre_deconv_etg_1_remont: 500</span>"
            ],
            "text/plain": [
              "<IPython.core.display.HTML object>"
            ]
          },
          "metadata": {
            "tags": []
          }
        },
        {
          "output_type": "display_data",
          "data": {
            "text/html": [
              "<span style=\"color:cyan\"> |-filtre_deconv_etg_2_remont: 500</span>"
            ],
            "text/plain": [
              "<IPython.core.display.HTML object>"
            ]
          },
          "metadata": {
            "tags": []
          }
        },
        {
          "output_type": "display_data",
          "data": {
            "text/html": [
              "<span style=\"color:blue\"> |-filtre_deconv_etg_3_remont: 500</span>"
            ],
            "text/plain": [
              "<IPython.core.display.HTML object>"
            ]
          },
          "metadata": {
            "tags": []
          }
        },
        {
          "output_type": "display_data",
          "data": {
            "text/html": [
              "<span style=\"color:cyan\"> |-filtre_deconv_etg_4_remont: 1</span>"
            ],
            "text/plain": [
              "<IPython.core.display.HTML object>"
            ]
          },
          "metadata": {
            "tags": []
          }
        },
        {
          "output_type": "display_data",
          "data": {
            "text/html": [
              "<span style=\"color:blue\"> |-filtre_deconv_etg_5_remont: 1</span>"
            ],
            "text/plain": [
              "<IPython.core.display.HTML object>"
            ]
          },
          "metadata": {
            "tags": []
          }
        },
        {
          "output_type": "display_data",
          "data": {
            "text/html": [
              "<span style=\"color:cyan\"> |-filtre_deconv_etg_6_remont: 1</span>"
            ],
            "text/plain": [
              "<IPython.core.display.HTML object>"
            ]
          },
          "metadata": {
            "tags": []
          }
        },
        {
          "output_type": "display_data",
          "data": {
            "text/html": [
              "<span style=\"color:blue\"> |-filtre_deconv_etg_7_remont: 1</span>"
            ],
            "text/plain": [
              "<IPython.core.display.HTML object>"
            ]
          },
          "metadata": {
            "tags": []
          }
        },
        {
          "output_type": "display_data",
          "data": {
            "text/html": [
              "<span style=\"color:cyan\"> |-kernel_conv_index_0_etg_0_desc: 3</span>"
            ],
            "text/plain": [
              "<IPython.core.display.HTML object>"
            ]
          },
          "metadata": {
            "tags": []
          }
        },
        {
          "output_type": "display_data",
          "data": {
            "text/html": [
              "<span style=\"color:blue\"> |-kernel_conv_index_0_etg_0_remont: 2</span>"
            ],
            "text/plain": [
              "<IPython.core.display.HTML object>"
            ]
          },
          "metadata": {
            "tags": []
          }
        },
        {
          "output_type": "display_data",
          "data": {
            "text/html": [
              "<span style=\"color:cyan\"> |-kernel_conv_index_0_etg_1_desc: 2</span>"
            ],
            "text/plain": [
              "<IPython.core.display.HTML object>"
            ]
          },
          "metadata": {
            "tags": []
          }
        },
        {
          "output_type": "display_data",
          "data": {
            "text/html": [
              "<span style=\"color:blue\"> |-kernel_conv_index_0_etg_1_remont: 2</span>"
            ],
            "text/plain": [
              "<IPython.core.display.HTML object>"
            ]
          },
          "metadata": {
            "tags": []
          }
        },
        {
          "output_type": "display_data",
          "data": {
            "text/html": [
              "<span style=\"color:cyan\"> |-kernel_conv_index_0_etg_2_desc: 2</span>"
            ],
            "text/plain": [
              "<IPython.core.display.HTML object>"
            ]
          },
          "metadata": {
            "tags": []
          }
        },
        {
          "output_type": "display_data",
          "data": {
            "text/html": [
              "<span style=\"color:blue\"> |-kernel_conv_index_0_etg_2_remont: 3</span>"
            ],
            "text/plain": [
              "<IPython.core.display.HTML object>"
            ]
          },
          "metadata": {
            "tags": []
          }
        },
        {
          "output_type": "display_data",
          "data": {
            "text/html": [
              "<span style=\"color:cyan\"> |-kernel_conv_index_0_etg_3_desc: 2</span>"
            ],
            "text/plain": [
              "<IPython.core.display.HTML object>"
            ]
          },
          "metadata": {
            "tags": []
          }
        },
        {
          "output_type": "display_data",
          "data": {
            "text/html": [
              "<span style=\"color:blue\"> |-kernel_conv_index_0_etg_3_remont: 3</span>"
            ],
            "text/plain": [
              "<IPython.core.display.HTML object>"
            ]
          },
          "metadata": {
            "tags": []
          }
        },
        {
          "output_type": "display_data",
          "data": {
            "text/html": [
              "<span style=\"color:cyan\"> |-kernel_conv_index_0_etg_4_desc: 2</span>"
            ],
            "text/plain": [
              "<IPython.core.display.HTML object>"
            ]
          },
          "metadata": {
            "tags": []
          }
        },
        {
          "output_type": "display_data",
          "data": {
            "text/html": [
              "<span style=\"color:blue\"> |-kernel_conv_index_0_etg_4_remont: 2</span>"
            ],
            "text/plain": [
              "<IPython.core.display.HTML object>"
            ]
          },
          "metadata": {
            "tags": []
          }
        },
        {
          "output_type": "display_data",
          "data": {
            "text/html": [
              "<span style=\"color:cyan\"> |-kernel_conv_index_0_etg_5_desc: 2</span>"
            ],
            "text/plain": [
              "<IPython.core.display.HTML object>"
            ]
          },
          "metadata": {
            "tags": []
          }
        },
        {
          "output_type": "display_data",
          "data": {
            "text/html": [
              "<span style=\"color:blue\"> |-kernel_conv_index_0_etg_5_remont: 2</span>"
            ],
            "text/plain": [
              "<IPython.core.display.HTML object>"
            ]
          },
          "metadata": {
            "tags": []
          }
        },
        {
          "output_type": "display_data",
          "data": {
            "text/html": [
              "<span style=\"color:cyan\"> |-kernel_conv_index_0_etg_6_desc: 2</span>"
            ],
            "text/plain": [
              "<IPython.core.display.HTML object>"
            ]
          },
          "metadata": {
            "tags": []
          }
        },
        {
          "output_type": "display_data",
          "data": {
            "text/html": [
              "<span style=\"color:blue\"> |-kernel_conv_index_0_etg_6_remont: 2</span>"
            ],
            "text/plain": [
              "<IPython.core.display.HTML object>"
            ]
          },
          "metadata": {
            "tags": []
          }
        },
        {
          "output_type": "display_data",
          "data": {
            "text/html": [
              "<span style=\"color:cyan\"> |-kernel_conv_index_0_etg_7_desc: 2</span>"
            ],
            "text/plain": [
              "<IPython.core.display.HTML object>"
            ]
          },
          "metadata": {
            "tags": []
          }
        },
        {
          "output_type": "display_data",
          "data": {
            "text/html": [
              "<span style=\"color:blue\"> |-kernel_conv_index_0_etg_7_remont: 2</span>"
            ],
            "text/plain": [
              "<IPython.core.display.HTML object>"
            ]
          },
          "metadata": {
            "tags": []
          }
        },
        {
          "output_type": "display_data",
          "data": {
            "text/html": [
              "<span style=\"color:cyan\"> |-kernel_conv_index_0_etg_8_desc: 2</span>"
            ],
            "text/plain": [
              "<IPython.core.display.HTML object>"
            ]
          },
          "metadata": {
            "tags": []
          }
        },
        {
          "output_type": "display_data",
          "data": {
            "text/html": [
              "<span style=\"color:blue\"> |-kernel_conv_index_1_etg_0_desc: 3</span>"
            ],
            "text/plain": [
              "<IPython.core.display.HTML object>"
            ]
          },
          "metadata": {
            "tags": []
          }
        },
        {
          "output_type": "display_data",
          "data": {
            "text/html": [
              "<span style=\"color:cyan\"> |-kernel_conv_index_1_etg_0_remont: 2</span>"
            ],
            "text/plain": [
              "<IPython.core.display.HTML object>"
            ]
          },
          "metadata": {
            "tags": []
          }
        },
        {
          "output_type": "display_data",
          "data": {
            "text/html": [
              "<span style=\"color:blue\"> |-kernel_conv_index_1_etg_2_desc: 2</span>"
            ],
            "text/plain": [
              "<IPython.core.display.HTML object>"
            ]
          },
          "metadata": {
            "tags": []
          }
        },
        {
          "output_type": "display_data",
          "data": {
            "text/html": [
              "<span style=\"color:cyan\"> |-kernel_conv_index_1_etg_2_remont: 2</span>"
            ],
            "text/plain": [
              "<IPython.core.display.HTML object>"
            ]
          },
          "metadata": {
            "tags": []
          }
        },
        {
          "output_type": "display_data",
          "data": {
            "text/html": [
              "<span style=\"color:blue\"> |-kernel_conv_index_1_etg_3_desc: 2</span>"
            ],
            "text/plain": [
              "<IPython.core.display.HTML object>"
            ]
          },
          "metadata": {
            "tags": []
          }
        },
        {
          "output_type": "display_data",
          "data": {
            "text/html": [
              "<span style=\"color:cyan\"> |-kernel_conv_index_1_etg_3_remont: 2</span>"
            ],
            "text/plain": [
              "<IPython.core.display.HTML object>"
            ]
          },
          "metadata": {
            "tags": []
          }
        },
        {
          "output_type": "display_data",
          "data": {
            "text/html": [
              "<span style=\"color:blue\"> |-kernel_conv_index_2_etg_0_desc: 3</span>"
            ],
            "text/plain": [
              "<IPython.core.display.HTML object>"
            ]
          },
          "metadata": {
            "tags": []
          }
        },
        {
          "output_type": "display_data",
          "data": {
            "text/html": [
              "<span style=\"color:cyan\"> |-kernel_conv_index_2_etg_0_remont: 2</span>"
            ],
            "text/plain": [
              "<IPython.core.display.HTML object>"
            ]
          },
          "metadata": {
            "tags": []
          }
        },
        {
          "output_type": "display_data",
          "data": {
            "text/html": [
              "<span style=\"color:blue\"> |-kernel_conv_index_2_etg_2_desc: 2</span>"
            ],
            "text/plain": [
              "<IPython.core.display.HTML object>"
            ]
          },
          "metadata": {
            "tags": []
          }
        },
        {
          "output_type": "display_data",
          "data": {
            "text/html": [
              "<span style=\"color:cyan\"> |-kernel_conv_index_2_etg_2_remont: 2</span>"
            ],
            "text/plain": [
              "<IPython.core.display.HTML object>"
            ]
          },
          "metadata": {
            "tags": []
          }
        },
        {
          "output_type": "display_data",
          "data": {
            "text/html": [
              "<span style=\"color:blue\"> |-kernel_conv_index_2_etg_3_desc: 2</span>"
            ],
            "text/plain": [
              "<IPython.core.display.HTML object>"
            ]
          },
          "metadata": {
            "tags": []
          }
        },
        {
          "output_type": "display_data",
          "data": {
            "text/html": [
              "<span style=\"color:cyan\"> |-kernel_conv_index_2_etg_3_remont: 2</span>"
            ],
            "text/plain": [
              "<IPython.core.display.HTML object>"
            ]
          },
          "metadata": {
            "tags": []
          }
        },
        {
          "output_type": "display_data",
          "data": {
            "text/html": [
              "<span style=\"color:blue\"> |-kernel_conv_index_3_etg_0_desc: 3</span>"
            ],
            "text/plain": [
              "<IPython.core.display.HTML object>"
            ]
          },
          "metadata": {
            "tags": []
          }
        },
        {
          "output_type": "display_data",
          "data": {
            "text/html": [
              "<span style=\"color:cyan\"> |-kernel_conv_index_3_etg_0_remont: 2</span>"
            ],
            "text/plain": [
              "<IPython.core.display.HTML object>"
            ]
          },
          "metadata": {
            "tags": []
          }
        },
        {
          "output_type": "display_data",
          "data": {
            "text/html": [
              "<span style=\"color:blue\"> |-kernel_conv_index_3_etg_2_desc: 2</span>"
            ],
            "text/plain": [
              "<IPython.core.display.HTML object>"
            ]
          },
          "metadata": {
            "tags": []
          }
        },
        {
          "output_type": "display_data",
          "data": {
            "text/html": [
              "<span style=\"color:cyan\"> |-kernel_conv_index_3_etg_2_remont: 2</span>"
            ],
            "text/plain": [
              "<IPython.core.display.HTML object>"
            ]
          },
          "metadata": {
            "tags": []
          }
        },
        {
          "output_type": "display_data",
          "data": {
            "text/html": [
              "<span style=\"color:blue\"> |-kernel_conv_index_3_etg_3_desc: 2</span>"
            ],
            "text/plain": [
              "<IPython.core.display.HTML object>"
            ]
          },
          "metadata": {
            "tags": []
          }
        },
        {
          "output_type": "display_data",
          "data": {
            "text/html": [
              "<span style=\"color:cyan\"> |-kernel_conv_index_3_etg_3_remont: 2</span>"
            ],
            "text/plain": [
              "<IPython.core.display.HTML object>"
            ]
          },
          "metadata": {
            "tags": []
          }
        },
        {
          "output_type": "display_data",
          "data": {
            "text/html": [
              "<span style=\"color:blue\"> |-kernel_conv_index_4_etg_0_desc: 2</span>"
            ],
            "text/plain": [
              "<IPython.core.display.HTML object>"
            ]
          },
          "metadata": {
            "tags": []
          }
        },
        {
          "output_type": "display_data",
          "data": {
            "text/html": [
              "<span style=\"color:cyan\"> |-kernel_conv_index_4_etg_0_remont: 2</span>"
            ],
            "text/plain": [
              "<IPython.core.display.HTML object>"
            ]
          },
          "metadata": {
            "tags": []
          }
        },
        {
          "output_type": "display_data",
          "data": {
            "text/html": [
              "<span style=\"color:blue\"> |-kernel_conv_index_4_etg_2_desc: 2</span>"
            ],
            "text/plain": [
              "<IPython.core.display.HTML object>"
            ]
          },
          "metadata": {
            "tags": []
          }
        },
        {
          "output_type": "display_data",
          "data": {
            "text/html": [
              "<span style=\"color:cyan\"> |-kernel_conv_index_4_etg_2_remont: 2</span>"
            ],
            "text/plain": [
              "<IPython.core.display.HTML object>"
            ]
          },
          "metadata": {
            "tags": []
          }
        },
        {
          "output_type": "display_data",
          "data": {
            "text/html": [
              "<span style=\"color:blue\"> |-kernel_conv_index_4_etg_3_desc: 2</span>"
            ],
            "text/plain": [
              "<IPython.core.display.HTML object>"
            ]
          },
          "metadata": {
            "tags": []
          }
        },
        {
          "output_type": "display_data",
          "data": {
            "text/html": [
              "<span style=\"color:cyan\"> |-kernel_conv_index_4_etg_3_remont: 2</span>"
            ],
            "text/plain": [
              "<IPython.core.display.HTML object>"
            ]
          },
          "metadata": {
            "tags": []
          }
        },
        {
          "output_type": "display_data",
          "data": {
            "text/html": [
              "<span style=\"color:blue\"> |-kernel_conv_index_5_etg_0_desc: 2</span>"
            ],
            "text/plain": [
              "<IPython.core.display.HTML object>"
            ]
          },
          "metadata": {
            "tags": []
          }
        },
        {
          "output_type": "display_data",
          "data": {
            "text/html": [
              "<span style=\"color:cyan\"> |-kernel_conv_index_5_etg_0_remont: 2</span>"
            ],
            "text/plain": [
              "<IPython.core.display.HTML object>"
            ]
          },
          "metadata": {
            "tags": []
          }
        },
        {
          "output_type": "display_data",
          "data": {
            "text/html": [
              "<span style=\"color:blue\"> |-kernel_conv_index_5_etg_2_desc: 2</span>"
            ],
            "text/plain": [
              "<IPython.core.display.HTML object>"
            ]
          },
          "metadata": {
            "tags": []
          }
        },
        {
          "output_type": "display_data",
          "data": {
            "text/html": [
              "<span style=\"color:cyan\"> |-kernel_conv_index_5_etg_2_remont: 2</span>"
            ],
            "text/plain": [
              "<IPython.core.display.HTML object>"
            ]
          },
          "metadata": {
            "tags": []
          }
        },
        {
          "output_type": "display_data",
          "data": {
            "text/html": [
              "<span style=\"color:blue\"> |-kernel_conv_index_5_etg_3_desc: 2</span>"
            ],
            "text/plain": [
              "<IPython.core.display.HTML object>"
            ]
          },
          "metadata": {
            "tags": []
          }
        },
        {
          "output_type": "display_data",
          "data": {
            "text/html": [
              "<span style=\"color:cyan\"> |-kernel_conv_index_5_etg_3_remont: 2</span>"
            ],
            "text/plain": [
              "<IPython.core.display.HTML object>"
            ]
          },
          "metadata": {
            "tags": []
          }
        },
        {
          "output_type": "display_data",
          "data": {
            "text/html": [
              "<span style=\"color:blue\"> |-kernel_conv_index_6_etg_0_desc: 2</span>"
            ],
            "text/plain": [
              "<IPython.core.display.HTML object>"
            ]
          },
          "metadata": {
            "tags": []
          }
        },
        {
          "output_type": "display_data",
          "data": {
            "text/html": [
              "<span style=\"color:cyan\"> |-kernel_conv_index_6_etg_0_remont: 2</span>"
            ],
            "text/plain": [
              "<IPython.core.display.HTML object>"
            ]
          },
          "metadata": {
            "tags": []
          }
        },
        {
          "output_type": "display_data",
          "data": {
            "text/html": [
              "<span style=\"color:blue\"> |-kernel_conv_index_6_etg_2_desc: 2</span>"
            ],
            "text/plain": [
              "<IPython.core.display.HTML object>"
            ]
          },
          "metadata": {
            "tags": []
          }
        },
        {
          "output_type": "display_data",
          "data": {
            "text/html": [
              "<span style=\"color:cyan\"> |-kernel_conv_index_6_etg_2_remont: 2</span>"
            ],
            "text/plain": [
              "<IPython.core.display.HTML object>"
            ]
          },
          "metadata": {
            "tags": []
          }
        },
        {
          "output_type": "display_data",
          "data": {
            "text/html": [
              "<span style=\"color:blue\"> |-kernel_conv_index_6_etg_3_desc: 2</span>"
            ],
            "text/plain": [
              "<IPython.core.display.HTML object>"
            ]
          },
          "metadata": {
            "tags": []
          }
        },
        {
          "output_type": "display_data",
          "data": {
            "text/html": [
              "<span style=\"color:cyan\"> |-kernel_conv_index_6_etg_3_remont: 2</span>"
            ],
            "text/plain": [
              "<IPython.core.display.HTML object>"
            ]
          },
          "metadata": {
            "tags": []
          }
        },
        {
          "output_type": "display_data",
          "data": {
            "text/html": [
              "<span style=\"color:blue\"> |-kernel_conv_index_7_etg_0_desc: 2</span>"
            ],
            "text/plain": [
              "<IPython.core.display.HTML object>"
            ]
          },
          "metadata": {
            "tags": []
          }
        },
        {
          "output_type": "display_data",
          "data": {
            "text/html": [
              "<span style=\"color:cyan\"> |-kernel_conv_index_7_etg_0_remont: 2</span>"
            ],
            "text/plain": [
              "<IPython.core.display.HTML object>"
            ]
          },
          "metadata": {
            "tags": []
          }
        },
        {
          "output_type": "display_data",
          "data": {
            "text/html": [
              "<span style=\"color:blue\"> |-kernel_conv_index_7_etg_2_desc: 2</span>"
            ],
            "text/plain": [
              "<IPython.core.display.HTML object>"
            ]
          },
          "metadata": {
            "tags": []
          }
        },
        {
          "output_type": "display_data",
          "data": {
            "text/html": [
              "<span style=\"color:cyan\"> |-kernel_conv_index_7_etg_2_remont: 2</span>"
            ],
            "text/plain": [
              "<IPython.core.display.HTML object>"
            ]
          },
          "metadata": {
            "tags": []
          }
        },
        {
          "output_type": "display_data",
          "data": {
            "text/html": [
              "<span style=\"color:blue\"> |-kernel_conv_index_7_etg_3_desc: 2</span>"
            ],
            "text/plain": [
              "<IPython.core.display.HTML object>"
            ]
          },
          "metadata": {
            "tags": []
          }
        },
        {
          "output_type": "display_data",
          "data": {
            "text/html": [
              "<span style=\"color:cyan\"> |-kernel_conv_index_7_etg_3_remont: 2</span>"
            ],
            "text/plain": [
              "<IPython.core.display.HTML object>"
            ]
          },
          "metadata": {
            "tags": []
          }
        },
        {
          "output_type": "display_data",
          "data": {
            "text/html": [
              "<span style=\"color:blue\"> |-kernel_conv_index_8_etg_0_desc: 2</span>"
            ],
            "text/plain": [
              "<IPython.core.display.HTML object>"
            ]
          },
          "metadata": {
            "tags": []
          }
        },
        {
          "output_type": "display_data",
          "data": {
            "text/html": [
              "<span style=\"color:cyan\"> |-kernel_conv_index_8_etg_0_remont: 2</span>"
            ],
            "text/plain": [
              "<IPython.core.display.HTML object>"
            ]
          },
          "metadata": {
            "tags": []
          }
        },
        {
          "output_type": "display_data",
          "data": {
            "text/html": [
              "<span style=\"color:blue\"> |-kernel_conv_index_8_etg_2_desc: 2</span>"
            ],
            "text/plain": [
              "<IPython.core.display.HTML object>"
            ]
          },
          "metadata": {
            "tags": []
          }
        },
        {
          "output_type": "display_data",
          "data": {
            "text/html": [
              "<span style=\"color:cyan\"> |-kernel_conv_index_8_etg_2_remont: 2</span>"
            ],
            "text/plain": [
              "<IPython.core.display.HTML object>"
            ]
          },
          "metadata": {
            "tags": []
          }
        },
        {
          "output_type": "display_data",
          "data": {
            "text/html": [
              "<span style=\"color:blue\"> |-kernel_conv_index_8_etg_3_desc: 2</span>"
            ],
            "text/plain": [
              "<IPython.core.display.HTML object>"
            ]
          },
          "metadata": {
            "tags": []
          }
        },
        {
          "output_type": "display_data",
          "data": {
            "text/html": [
              "<span style=\"color:cyan\"> |-kernel_conv_index_8_etg_3_remont: 2</span>"
            ],
            "text/plain": [
              "<IPython.core.display.HTML object>"
            ]
          },
          "metadata": {
            "tags": []
          }
        },
        {
          "output_type": "display_data",
          "data": {
            "text/html": [
              "<span style=\"color:blue\"> |-kernel_conv_index_9_etg_0_desc: 2</span>"
            ],
            "text/plain": [
              "<IPython.core.display.HTML object>"
            ]
          },
          "metadata": {
            "tags": []
          }
        },
        {
          "output_type": "display_data",
          "data": {
            "text/html": [
              "<span style=\"color:cyan\"> |-kernel_conv_index_9_etg_0_remont: 2</span>"
            ],
            "text/plain": [
              "<IPython.core.display.HTML object>"
            ]
          },
          "metadata": {
            "tags": []
          }
        },
        {
          "output_type": "display_data",
          "data": {
            "text/html": [
              "<span style=\"color:blue\"> |-kernel_conv_index_9_etg_2_desc: 2</span>"
            ],
            "text/plain": [
              "<IPython.core.display.HTML object>"
            ]
          },
          "metadata": {
            "tags": []
          }
        },
        {
          "output_type": "display_data",
          "data": {
            "text/html": [
              "<span style=\"color:cyan\"> |-kernel_conv_index_9_etg_2_remont: 2</span>"
            ],
            "text/plain": [
              "<IPython.core.display.HTML object>"
            ]
          },
          "metadata": {
            "tags": []
          }
        },
        {
          "output_type": "display_data",
          "data": {
            "text/html": [
              "<span style=\"color:blue\"> |-kernel_conv_index_9_etg_3_desc: 2</span>"
            ],
            "text/plain": [
              "<IPython.core.display.HTML object>"
            ]
          },
          "metadata": {
            "tags": []
          }
        },
        {
          "output_type": "display_data",
          "data": {
            "text/html": [
              "<span style=\"color:cyan\"> |-kernel_conv_index_9_etg_3_remont: 2</span>"
            ],
            "text/plain": [
              "<IPython.core.display.HTML object>"
            ]
          },
          "metadata": {
            "tags": []
          }
        },
        {
          "output_type": "display_data",
          "data": {
            "text/html": [
              "<span style=\"color:blue\"> |-learning_rate: 1e-06</span>"
            ],
            "text/plain": [
              "<IPython.core.display.HTML object>"
            ]
          },
          "metadata": {
            "tags": []
          }
        },
        {
          "output_type": "display_data",
          "data": {
            "text/html": [
              "<span style=\"color:cyan\"> |-nb_conv_etg_0_desc: 10</span>"
            ],
            "text/plain": [
              "<IPython.core.display.HTML object>"
            ]
          },
          "metadata": {
            "tags": []
          }
        },
        {
          "output_type": "display_data",
          "data": {
            "text/html": [
              "<span style=\"color:blue\"> |-nb_conv_etg_0_remont: 10</span>"
            ],
            "text/plain": [
              "<IPython.core.display.HTML object>"
            ]
          },
          "metadata": {
            "tags": []
          }
        },
        {
          "output_type": "display_data",
          "data": {
            "text/html": [
              "<span style=\"color:cyan\"> |-nb_conv_etg_1_desc: 0</span>"
            ],
            "text/plain": [
              "<IPython.core.display.HTML object>"
            ]
          },
          "metadata": {
            "tags": []
          }
        },
        {
          "output_type": "display_data",
          "data": {
            "text/html": [
              "<span style=\"color:blue\"> |-nb_conv_etg_1_remont: 0</span>"
            ],
            "text/plain": [
              "<IPython.core.display.HTML object>"
            ]
          },
          "metadata": {
            "tags": []
          }
        },
        {
          "output_type": "display_data",
          "data": {
            "text/html": [
              "<span style=\"color:cyan\"> |-nb_conv_etg_2_desc: 10</span>"
            ],
            "text/plain": [
              "<IPython.core.display.HTML object>"
            ]
          },
          "metadata": {
            "tags": []
          }
        },
        {
          "output_type": "display_data",
          "data": {
            "text/html": [
              "<span style=\"color:blue\"> |-nb_conv_etg_2_remont: 10</span>"
            ],
            "text/plain": [
              "<IPython.core.display.HTML object>"
            ]
          },
          "metadata": {
            "tags": []
          }
        },
        {
          "output_type": "display_data",
          "data": {
            "text/html": [
              "<span style=\"color:cyan\"> |-nb_conv_etg_3_desc: 10</span>"
            ],
            "text/plain": [
              "<IPython.core.display.HTML object>"
            ]
          },
          "metadata": {
            "tags": []
          }
        },
        {
          "output_type": "display_data",
          "data": {
            "text/html": [
              "<span style=\"color:blue\"> |-nb_conv_etg_3_remont: 10</span>"
            ],
            "text/plain": [
              "<IPython.core.display.HTML object>"
            ]
          },
          "metadata": {
            "tags": []
          }
        },
        {
          "output_type": "display_data",
          "data": {
            "text/html": [
              "<span style=\"color:cyan\"> |-nb_conv_etg_4_desc: 0</span>"
            ],
            "text/plain": [
              "<IPython.core.display.HTML object>"
            ]
          },
          "metadata": {
            "tags": []
          }
        },
        {
          "output_type": "display_data",
          "data": {
            "text/html": [
              "<span style=\"color:blue\"> |-nb_conv_etg_4_remont: 1</span>"
            ],
            "text/plain": [
              "<IPython.core.display.HTML object>"
            ]
          },
          "metadata": {
            "tags": []
          }
        },
        {
          "output_type": "display_data",
          "data": {
            "text/html": [
              "<span style=\"color:cyan\"> |-nb_conv_etg_5_desc: 1</span>"
            ],
            "text/plain": [
              "<IPython.core.display.HTML object>"
            ]
          },
          "metadata": {
            "tags": []
          }
        },
        {
          "output_type": "display_data",
          "data": {
            "text/html": [
              "<span style=\"color:blue\"> |-nb_conv_etg_5_remont: 1</span>"
            ],
            "text/plain": [
              "<IPython.core.display.HTML object>"
            ]
          },
          "metadata": {
            "tags": []
          }
        },
        {
          "output_type": "display_data",
          "data": {
            "text/html": [
              "<span style=\"color:cyan\"> |-nb_conv_etg_6_desc: 1</span>"
            ],
            "text/plain": [
              "<IPython.core.display.HTML object>"
            ]
          },
          "metadata": {
            "tags": []
          }
        },
        {
          "output_type": "display_data",
          "data": {
            "text/html": [
              "<span style=\"color:blue\"> |-nb_conv_etg_6_remont: 1</span>"
            ],
            "text/plain": [
              "<IPython.core.display.HTML object>"
            ]
          },
          "metadata": {
            "tags": []
          }
        },
        {
          "output_type": "display_data",
          "data": {
            "text/html": [
              "<span style=\"color:cyan\"> |-nb_conv_etg_7_desc: 1</span>"
            ],
            "text/plain": [
              "<IPython.core.display.HTML object>"
            ]
          },
          "metadata": {
            "tags": []
          }
        },
        {
          "output_type": "display_data",
          "data": {
            "text/html": [
              "<span style=\"color:blue\"> |-nb_conv_etg_7_remont: 1</span>"
            ],
            "text/plain": [
              "<IPython.core.display.HTML object>"
            ]
          },
          "metadata": {
            "tags": []
          }
        },
        {
          "output_type": "display_data",
          "data": {
            "text/html": [
              "<span style=\"color:cyan\"> |-nb_conv_etg_8_desc: 1</span>"
            ],
            "text/plain": [
              "<IPython.core.display.HTML object>"
            ]
          },
          "metadata": {
            "tags": []
          }
        },
        {
          "output_type": "display_data",
          "data": {
            "text/html": [
              "<span style=\"color:blue\"> |-nb_pool: 8</span>"
            ],
            "text/plain": [
              "<IPython.core.display.HTML object>"
            ]
          },
          "metadata": {
            "tags": []
          }
        },
        {
          "output_type": "display_data",
          "data": {
            "text/html": [
              "<span style=\"color:cyan\"> |-pool_type_0: avg</span>"
            ],
            "text/plain": [
              "<IPython.core.display.HTML object>"
            ]
          },
          "metadata": {
            "tags": []
          }
        },
        {
          "output_type": "display_data",
          "data": {
            "text/html": [
              "<span style=\"color:blue\"> |-pool_type_1: max</span>"
            ],
            "text/plain": [
              "<IPython.core.display.HTML object>"
            ]
          },
          "metadata": {
            "tags": []
          }
        },
        {
          "output_type": "display_data",
          "data": {
            "text/html": [
              "<span style=\"color:cyan\"> |-pool_type_2: avg</span>"
            ],
            "text/plain": [
              "<IPython.core.display.HTML object>"
            ]
          },
          "metadata": {
            "tags": []
          }
        },
        {
          "output_type": "display_data",
          "data": {
            "text/html": [
              "<span style=\"color:blue\"> |-pool_type_3: max</span>"
            ],
            "text/plain": [
              "<IPython.core.display.HTML object>"
            ]
          },
          "metadata": {
            "tags": []
          }
        },
        {
          "output_type": "display_data",
          "data": {
            "text/html": [
              "<span style=\"color:cyan\"> |-pool_type_4: max</span>"
            ],
            "text/plain": [
              "<IPython.core.display.HTML object>"
            ]
          },
          "metadata": {
            "tags": []
          }
        },
        {
          "output_type": "display_data",
          "data": {
            "text/html": [
              "<span style=\"color:blue\"> |-pool_type_5: max</span>"
            ],
            "text/plain": [
              "<IPython.core.display.HTML object>"
            ]
          },
          "metadata": {
            "tags": []
          }
        },
        {
          "output_type": "display_data",
          "data": {
            "text/html": [
              "<span style=\"color:cyan\"> |-pool_type_6: max</span>"
            ],
            "text/plain": [
              "<IPython.core.display.HTML object>"
            ]
          },
          "metadata": {
            "tags": []
          }
        },
        {
          "output_type": "display_data",
          "data": {
            "text/html": [
              "<span style=\"color:blue\"> |-pool_type_7: max</span>"
            ],
            "text/plain": [
              "<IPython.core.display.HTML object>"
            ]
          },
          "metadata": {
            "tags": []
          }
        },
        {
          "output_type": "stream",
          "text": [
            "Epoch 1/5\n",
            "12/12 [==============================] - 1315s 110s/step - loss: nan - accuracy: 0.8278 - val_loss: nan - val_accuracy: 0.8211\n",
            "Epoch 1/5\n",
            "12/12 [==============================] - 1315s 110s/step - loss: nan - accuracy: 0.8278 - val_loss: nan - val_accuracy: 0.8211\n",
            "Epoch 1/5\n",
            "12/12 [==============================] - 1315s 110s/step - loss: nan - accuracy: 0.8278 - val_loss: nan - val_accuracy: 0.8211\n"
          ],
          "name": "stdout"
        },
        {
          "output_type": "stream",
          "text": [
            "/usr/local/lib/python3.6/dist-packages/kerastuner/engine/metrics_tracking.py:92: RuntimeWarning: All-NaN axis encountered\n",
            "  return np.nanmin(values)\n"
          ],
          "name": "stderr"
        },
        {
          "output_type": "display_data",
          "data": {
            "text/html": [
              "<span style=\"color:#4527A0\"><h1 style=\"font-size:18px\">Trial complete</h1></span>"
            ],
            "text/plain": [
              "<IPython.core.display.HTML object>"
            ]
          },
          "metadata": {
            "tags": []
          }
        },
        {
          "output_type": "display_data",
          "data": {
            "text/html": [
              "<span style=\"color:#4527A0\"><h1 style=\"font-size:18px\">Trial summary</h1></span>"
            ],
            "text/plain": [
              "<IPython.core.display.HTML object>"
            ]
          },
          "metadata": {
            "tags": []
          }
        },
        {
          "output_type": "display_data",
          "data": {
            "text/html": [
              "<span style=\"color:cyan\"> |-Trial ID: 07c7b11c0cba520dcf27e8c2d92a8b3b</span>"
            ],
            "text/plain": [
              "<IPython.core.display.HTML object>"
            ]
          },
          "metadata": {
            "tags": []
          }
        },
        {
          "output_type": "display_data",
          "data": {
            "text/html": [
              "<span style=\"color:cyan\"> |-Score: 0.821066677570343</span>"
            ],
            "text/plain": [
              "<IPython.core.display.HTML object>"
            ]
          },
          "metadata": {
            "tags": []
          }
        },
        {
          "output_type": "display_data",
          "data": {
            "text/html": [
              "<span style=\"color:cyan\"> |-Best step: 0</span>"
            ],
            "text/plain": [
              "<IPython.core.display.HTML object>"
            ]
          },
          "metadata": {
            "tags": []
          }
        },
        {
          "output_type": "display_data",
          "data": {
            "text/html": [
              "<span style=\"color:#7E57C2\"><h2 style=\"font-size:16px\">Hyperparameters:</h2></span>"
            ],
            "text/plain": [
              "<IPython.core.display.HTML object>"
            ]
          },
          "metadata": {
            "tags": []
          }
        },
        {
          "output_type": "display_data",
          "data": {
            "text/html": [
              "<span style=\"color:cyan\"> |-activation_conv_index_0_etg_0_desc: linear</span>"
            ],
            "text/plain": [
              "<IPython.core.display.HTML object>"
            ]
          },
          "metadata": {
            "tags": []
          }
        },
        {
          "output_type": "display_data",
          "data": {
            "text/html": [
              "<span style=\"color:blue\"> |-activation_conv_index_0_etg_0_remont: linear</span>"
            ],
            "text/plain": [
              "<IPython.core.display.HTML object>"
            ]
          },
          "metadata": {
            "tags": []
          }
        },
        {
          "output_type": "display_data",
          "data": {
            "text/html": [
              "<span style=\"color:cyan\"> |-activation_conv_index_0_etg_1_desc: linear</span>"
            ],
            "text/plain": [
              "<IPython.core.display.HTML object>"
            ]
          },
          "metadata": {
            "tags": []
          }
        },
        {
          "output_type": "display_data",
          "data": {
            "text/html": [
              "<span style=\"color:blue\"> |-activation_conv_index_0_etg_1_remont: tanh</span>"
            ],
            "text/plain": [
              "<IPython.core.display.HTML object>"
            ]
          },
          "metadata": {
            "tags": []
          }
        },
        {
          "output_type": "display_data",
          "data": {
            "text/html": [
              "<span style=\"color:cyan\"> |-activation_conv_index_0_etg_2_desc: linear</span>"
            ],
            "text/plain": [
              "<IPython.core.display.HTML object>"
            ]
          },
          "metadata": {
            "tags": []
          }
        },
        {
          "output_type": "display_data",
          "data": {
            "text/html": [
              "<span style=\"color:blue\"> |-activation_conv_index_0_etg_2_remont: tanh</span>"
            ],
            "text/plain": [
              "<IPython.core.display.HTML object>"
            ]
          },
          "metadata": {
            "tags": []
          }
        },
        {
          "output_type": "display_data",
          "data": {
            "text/html": [
              "<span style=\"color:cyan\"> |-activation_conv_index_0_etg_3_desc: tanh</span>"
            ],
            "text/plain": [
              "<IPython.core.display.HTML object>"
            ]
          },
          "metadata": {
            "tags": []
          }
        },
        {
          "output_type": "display_data",
          "data": {
            "text/html": [
              "<span style=\"color:blue\"> |-activation_conv_index_0_etg_3_remont: linear</span>"
            ],
            "text/plain": [
              "<IPython.core.display.HTML object>"
            ]
          },
          "metadata": {
            "tags": []
          }
        },
        {
          "output_type": "display_data",
          "data": {
            "text/html": [
              "<span style=\"color:cyan\"> |-activation_conv_index_0_etg_4_desc: linear</span>"
            ],
            "text/plain": [
              "<IPython.core.display.HTML object>"
            ]
          },
          "metadata": {
            "tags": []
          }
        },
        {
          "output_type": "display_data",
          "data": {
            "text/html": [
              "<span style=\"color:blue\"> |-activation_conv_index_0_etg_4_remont: tanh</span>"
            ],
            "text/plain": [
              "<IPython.core.display.HTML object>"
            ]
          },
          "metadata": {
            "tags": []
          }
        },
        {
          "output_type": "display_data",
          "data": {
            "text/html": [
              "<span style=\"color:cyan\"> |-activation_conv_index_0_etg_5_desc: tanh</span>"
            ],
            "text/plain": [
              "<IPython.core.display.HTML object>"
            ]
          },
          "metadata": {
            "tags": []
          }
        },
        {
          "output_type": "display_data",
          "data": {
            "text/html": [
              "<span style=\"color:blue\"> |-activation_conv_index_0_etg_5_remont: tanh</span>"
            ],
            "text/plain": [
              "<IPython.core.display.HTML object>"
            ]
          },
          "metadata": {
            "tags": []
          }
        },
        {
          "output_type": "display_data",
          "data": {
            "text/html": [
              "<span style=\"color:cyan\"> |-activation_conv_index_0_etg_6_desc: linear</span>"
            ],
            "text/plain": [
              "<IPython.core.display.HTML object>"
            ]
          },
          "metadata": {
            "tags": []
          }
        },
        {
          "output_type": "display_data",
          "data": {
            "text/html": [
              "<span style=\"color:blue\"> |-activation_conv_index_0_etg_6_remont: linear</span>"
            ],
            "text/plain": [
              "<IPython.core.display.HTML object>"
            ]
          },
          "metadata": {
            "tags": []
          }
        },
        {
          "output_type": "display_data",
          "data": {
            "text/html": [
              "<span style=\"color:cyan\"> |-activation_conv_index_0_etg_7_desc: tanh</span>"
            ],
            "text/plain": [
              "<IPython.core.display.HTML object>"
            ]
          },
          "metadata": {
            "tags": []
          }
        },
        {
          "output_type": "display_data",
          "data": {
            "text/html": [
              "<span style=\"color:blue\"> |-activation_conv_index_0_etg_7_remont: tanh</span>"
            ],
            "text/plain": [
              "<IPython.core.display.HTML object>"
            ]
          },
          "metadata": {
            "tags": []
          }
        },
        {
          "output_type": "display_data",
          "data": {
            "text/html": [
              "<span style=\"color:cyan\"> |-activation_conv_index_0_etg_8_desc: tanh</span>"
            ],
            "text/plain": [
              "<IPython.core.display.HTML object>"
            ]
          },
          "metadata": {
            "tags": []
          }
        },
        {
          "output_type": "display_data",
          "data": {
            "text/html": [
              "<span style=\"color:blue\"> |-activation_conv_index_1_etg_0_desc: linear</span>"
            ],
            "text/plain": [
              "<IPython.core.display.HTML object>"
            ]
          },
          "metadata": {
            "tags": []
          }
        },
        {
          "output_type": "display_data",
          "data": {
            "text/html": [
              "<span style=\"color:cyan\"> |-activation_conv_index_1_etg_0_remont: linear</span>"
            ],
            "text/plain": [
              "<IPython.core.display.HTML object>"
            ]
          },
          "metadata": {
            "tags": []
          }
        },
        {
          "output_type": "display_data",
          "data": {
            "text/html": [
              "<span style=\"color:blue\"> |-activation_conv_index_1_etg_2_desc: tanh</span>"
            ],
            "text/plain": [
              "<IPython.core.display.HTML object>"
            ]
          },
          "metadata": {
            "tags": []
          }
        },
        {
          "output_type": "display_data",
          "data": {
            "text/html": [
              "<span style=\"color:cyan\"> |-activation_conv_index_1_etg_2_remont: tanh</span>"
            ],
            "text/plain": [
              "<IPython.core.display.HTML object>"
            ]
          },
          "metadata": {
            "tags": []
          }
        },
        {
          "output_type": "display_data",
          "data": {
            "text/html": [
              "<span style=\"color:blue\"> |-activation_conv_index_1_etg_3_desc: tanh</span>"
            ],
            "text/plain": [
              "<IPython.core.display.HTML object>"
            ]
          },
          "metadata": {
            "tags": []
          }
        },
        {
          "output_type": "display_data",
          "data": {
            "text/html": [
              "<span style=\"color:cyan\"> |-activation_conv_index_1_etg_3_remont: tanh</span>"
            ],
            "text/plain": [
              "<IPython.core.display.HTML object>"
            ]
          },
          "metadata": {
            "tags": []
          }
        },
        {
          "output_type": "display_data",
          "data": {
            "text/html": [
              "<span style=\"color:blue\"> |-activation_conv_index_1_etg_4_remont: relu</span>"
            ],
            "text/plain": [
              "<IPython.core.display.HTML object>"
            ]
          },
          "metadata": {
            "tags": []
          }
        },
        {
          "output_type": "display_data",
          "data": {
            "text/html": [
              "<span style=\"color:cyan\"> |-activation_conv_index_1_etg_5_remont: relu</span>"
            ],
            "text/plain": [
              "<IPython.core.display.HTML object>"
            ]
          },
          "metadata": {
            "tags": []
          }
        },
        {
          "output_type": "display_data",
          "data": {
            "text/html": [
              "<span style=\"color:blue\"> |-activation_conv_index_1_etg_6_desc: relu</span>"
            ],
            "text/plain": [
              "<IPython.core.display.HTML object>"
            ]
          },
          "metadata": {
            "tags": []
          }
        },
        {
          "output_type": "display_data",
          "data": {
            "text/html": [
              "<span style=\"color:cyan\"> |-activation_conv_index_1_etg_6_remont: relu</span>"
            ],
            "text/plain": [
              "<IPython.core.display.HTML object>"
            ]
          },
          "metadata": {
            "tags": []
          }
        },
        {
          "output_type": "display_data",
          "data": {
            "text/html": [
              "<span style=\"color:blue\"> |-activation_conv_index_1_etg_7_desc: relu</span>"
            ],
            "text/plain": [
              "<IPython.core.display.HTML object>"
            ]
          },
          "metadata": {
            "tags": []
          }
        },
        {
          "output_type": "display_data",
          "data": {
            "text/html": [
              "<span style=\"color:cyan\"> |-activation_conv_index_1_etg_7_remont: relu</span>"
            ],
            "text/plain": [
              "<IPython.core.display.HTML object>"
            ]
          },
          "metadata": {
            "tags": []
          }
        },
        {
          "output_type": "display_data",
          "data": {
            "text/html": [
              "<span style=\"color:blue\"> |-activation_conv_index_1_etg_8_desc: relu</span>"
            ],
            "text/plain": [
              "<IPython.core.display.HTML object>"
            ]
          },
          "metadata": {
            "tags": []
          }
        },
        {
          "output_type": "display_data",
          "data": {
            "text/html": [
              "<span style=\"color:cyan\"> |-activation_conv_index_2_etg_0_desc: tanh</span>"
            ],
            "text/plain": [
              "<IPython.core.display.HTML object>"
            ]
          },
          "metadata": {
            "tags": []
          }
        },
        {
          "output_type": "display_data",
          "data": {
            "text/html": [
              "<span style=\"color:blue\"> |-activation_conv_index_2_etg_0_remont: linear</span>"
            ],
            "text/plain": [
              "<IPython.core.display.HTML object>"
            ]
          },
          "metadata": {
            "tags": []
          }
        },
        {
          "output_type": "display_data",
          "data": {
            "text/html": [
              "<span style=\"color:cyan\"> |-activation_conv_index_2_etg_2_desc: tanh</span>"
            ],
            "text/plain": [
              "<IPython.core.display.HTML object>"
            ]
          },
          "metadata": {
            "tags": []
          }
        },
        {
          "output_type": "display_data",
          "data": {
            "text/html": [
              "<span style=\"color:blue\"> |-activation_conv_index_2_etg_2_remont: tanh</span>"
            ],
            "text/plain": [
              "<IPython.core.display.HTML object>"
            ]
          },
          "metadata": {
            "tags": []
          }
        },
        {
          "output_type": "display_data",
          "data": {
            "text/html": [
              "<span style=\"color:cyan\"> |-activation_conv_index_2_etg_3_desc: linear</span>"
            ],
            "text/plain": [
              "<IPython.core.display.HTML object>"
            ]
          },
          "metadata": {
            "tags": []
          }
        },
        {
          "output_type": "display_data",
          "data": {
            "text/html": [
              "<span style=\"color:blue\"> |-activation_conv_index_2_etg_3_remont: tanh</span>"
            ],
            "text/plain": [
              "<IPython.core.display.HTML object>"
            ]
          },
          "metadata": {
            "tags": []
          }
        },
        {
          "output_type": "display_data",
          "data": {
            "text/html": [
              "<span style=\"color:cyan\"> |-activation_conv_index_2_etg_4_remont: relu</span>"
            ],
            "text/plain": [
              "<IPython.core.display.HTML object>"
            ]
          },
          "metadata": {
            "tags": []
          }
        },
        {
          "output_type": "display_data",
          "data": {
            "text/html": [
              "<span style=\"color:blue\"> |-activation_conv_index_2_etg_5_remont: relu</span>"
            ],
            "text/plain": [
              "<IPython.core.display.HTML object>"
            ]
          },
          "metadata": {
            "tags": []
          }
        },
        {
          "output_type": "display_data",
          "data": {
            "text/html": [
              "<span style=\"color:cyan\"> |-activation_conv_index_2_etg_6_desc: relu</span>"
            ],
            "text/plain": [
              "<IPython.core.display.HTML object>"
            ]
          },
          "metadata": {
            "tags": []
          }
        },
        {
          "output_type": "display_data",
          "data": {
            "text/html": [
              "<span style=\"color:blue\"> |-activation_conv_index_2_etg_6_remont: relu</span>"
            ],
            "text/plain": [
              "<IPython.core.display.HTML object>"
            ]
          },
          "metadata": {
            "tags": []
          }
        },
        {
          "output_type": "display_data",
          "data": {
            "text/html": [
              "<span style=\"color:cyan\"> |-activation_conv_index_2_etg_7_desc: relu</span>"
            ],
            "text/plain": [
              "<IPython.core.display.HTML object>"
            ]
          },
          "metadata": {
            "tags": []
          }
        },
        {
          "output_type": "display_data",
          "data": {
            "text/html": [
              "<span style=\"color:blue\"> |-activation_conv_index_2_etg_7_remont: relu</span>"
            ],
            "text/plain": [
              "<IPython.core.display.HTML object>"
            ]
          },
          "metadata": {
            "tags": []
          }
        },
        {
          "output_type": "display_data",
          "data": {
            "text/html": [
              "<span style=\"color:cyan\"> |-activation_conv_index_2_etg_8_desc: relu</span>"
            ],
            "text/plain": [
              "<IPython.core.display.HTML object>"
            ]
          },
          "metadata": {
            "tags": []
          }
        },
        {
          "output_type": "display_data",
          "data": {
            "text/html": [
              "<span style=\"color:blue\"> |-activation_conv_index_3_etg_0_desc: tanh</span>"
            ],
            "text/plain": [
              "<IPython.core.display.HTML object>"
            ]
          },
          "metadata": {
            "tags": []
          }
        },
        {
          "output_type": "display_data",
          "data": {
            "text/html": [
              "<span style=\"color:cyan\"> |-activation_conv_index_3_etg_0_remont: tanh</span>"
            ],
            "text/plain": [
              "<IPython.core.display.HTML object>"
            ]
          },
          "metadata": {
            "tags": []
          }
        },
        {
          "output_type": "display_data",
          "data": {
            "text/html": [
              "<span style=\"color:blue\"> |-activation_conv_index_3_etg_2_desc: tanh</span>"
            ],
            "text/plain": [
              "<IPython.core.display.HTML object>"
            ]
          },
          "metadata": {
            "tags": []
          }
        },
        {
          "output_type": "display_data",
          "data": {
            "text/html": [
              "<span style=\"color:cyan\"> |-activation_conv_index_3_etg_2_remont: tanh</span>"
            ],
            "text/plain": [
              "<IPython.core.display.HTML object>"
            ]
          },
          "metadata": {
            "tags": []
          }
        },
        {
          "output_type": "display_data",
          "data": {
            "text/html": [
              "<span style=\"color:blue\"> |-activation_conv_index_3_etg_3_desc: tanh</span>"
            ],
            "text/plain": [
              "<IPython.core.display.HTML object>"
            ]
          },
          "metadata": {
            "tags": []
          }
        },
        {
          "output_type": "display_data",
          "data": {
            "text/html": [
              "<span style=\"color:cyan\"> |-activation_conv_index_3_etg_3_remont: tanh</span>"
            ],
            "text/plain": [
              "<IPython.core.display.HTML object>"
            ]
          },
          "metadata": {
            "tags": []
          }
        },
        {
          "output_type": "display_data",
          "data": {
            "text/html": [
              "<span style=\"color:blue\"> |-activation_conv_index_3_etg_4_remont: relu</span>"
            ],
            "text/plain": [
              "<IPython.core.display.HTML object>"
            ]
          },
          "metadata": {
            "tags": []
          }
        },
        {
          "output_type": "display_data",
          "data": {
            "text/html": [
              "<span style=\"color:cyan\"> |-activation_conv_index_3_etg_5_remont: relu</span>"
            ],
            "text/plain": [
              "<IPython.core.display.HTML object>"
            ]
          },
          "metadata": {
            "tags": []
          }
        },
        {
          "output_type": "display_data",
          "data": {
            "text/html": [
              "<span style=\"color:blue\"> |-activation_conv_index_3_etg_6_desc: relu</span>"
            ],
            "text/plain": [
              "<IPython.core.display.HTML object>"
            ]
          },
          "metadata": {
            "tags": []
          }
        },
        {
          "output_type": "display_data",
          "data": {
            "text/html": [
              "<span style=\"color:cyan\"> |-activation_conv_index_3_etg_6_remont: relu</span>"
            ],
            "text/plain": [
              "<IPython.core.display.HTML object>"
            ]
          },
          "metadata": {
            "tags": []
          }
        },
        {
          "output_type": "display_data",
          "data": {
            "text/html": [
              "<span style=\"color:blue\"> |-activation_conv_index_3_etg_7_desc: relu</span>"
            ],
            "text/plain": [
              "<IPython.core.display.HTML object>"
            ]
          },
          "metadata": {
            "tags": []
          }
        },
        {
          "output_type": "display_data",
          "data": {
            "text/html": [
              "<span style=\"color:cyan\"> |-activation_conv_index_3_etg_7_remont: relu</span>"
            ],
            "text/plain": [
              "<IPython.core.display.HTML object>"
            ]
          },
          "metadata": {
            "tags": []
          }
        },
        {
          "output_type": "display_data",
          "data": {
            "text/html": [
              "<span style=\"color:blue\"> |-activation_conv_index_3_etg_8_desc: relu</span>"
            ],
            "text/plain": [
              "<IPython.core.display.HTML object>"
            ]
          },
          "metadata": {
            "tags": []
          }
        },
        {
          "output_type": "display_data",
          "data": {
            "text/html": [
              "<span style=\"color:cyan\"> |-activation_conv_index_4_etg_0_desc: tanh</span>"
            ],
            "text/plain": [
              "<IPython.core.display.HTML object>"
            ]
          },
          "metadata": {
            "tags": []
          }
        },
        {
          "output_type": "display_data",
          "data": {
            "text/html": [
              "<span style=\"color:blue\"> |-activation_conv_index_4_etg_0_remont: tanh</span>"
            ],
            "text/plain": [
              "<IPython.core.display.HTML object>"
            ]
          },
          "metadata": {
            "tags": []
          }
        },
        {
          "output_type": "display_data",
          "data": {
            "text/html": [
              "<span style=\"color:cyan\"> |-activation_conv_index_4_etg_2_desc: linear</span>"
            ],
            "text/plain": [
              "<IPython.core.display.HTML object>"
            ]
          },
          "metadata": {
            "tags": []
          }
        },
        {
          "output_type": "display_data",
          "data": {
            "text/html": [
              "<span style=\"color:blue\"> |-activation_conv_index_4_etg_2_remont: linear</span>"
            ],
            "text/plain": [
              "<IPython.core.display.HTML object>"
            ]
          },
          "metadata": {
            "tags": []
          }
        },
        {
          "output_type": "display_data",
          "data": {
            "text/html": [
              "<span style=\"color:cyan\"> |-activation_conv_index_4_etg_3_desc: tanh</span>"
            ],
            "text/plain": [
              "<IPython.core.display.HTML object>"
            ]
          },
          "metadata": {
            "tags": []
          }
        },
        {
          "output_type": "display_data",
          "data": {
            "text/html": [
              "<span style=\"color:blue\"> |-activation_conv_index_4_etg_3_remont: tanh</span>"
            ],
            "text/plain": [
              "<IPython.core.display.HTML object>"
            ]
          },
          "metadata": {
            "tags": []
          }
        },
        {
          "output_type": "display_data",
          "data": {
            "text/html": [
              "<span style=\"color:cyan\"> |-activation_conv_index_4_etg_4_remont: relu</span>"
            ],
            "text/plain": [
              "<IPython.core.display.HTML object>"
            ]
          },
          "metadata": {
            "tags": []
          }
        },
        {
          "output_type": "display_data",
          "data": {
            "text/html": [
              "<span style=\"color:blue\"> |-activation_conv_index_4_etg_5_remont: relu</span>"
            ],
            "text/plain": [
              "<IPython.core.display.HTML object>"
            ]
          },
          "metadata": {
            "tags": []
          }
        },
        {
          "output_type": "display_data",
          "data": {
            "text/html": [
              "<span style=\"color:cyan\"> |-activation_conv_index_4_etg_6_desc: relu</span>"
            ],
            "text/plain": [
              "<IPython.core.display.HTML object>"
            ]
          },
          "metadata": {
            "tags": []
          }
        },
        {
          "output_type": "display_data",
          "data": {
            "text/html": [
              "<span style=\"color:blue\"> |-activation_conv_index_4_etg_6_remont: relu</span>"
            ],
            "text/plain": [
              "<IPython.core.display.HTML object>"
            ]
          },
          "metadata": {
            "tags": []
          }
        },
        {
          "output_type": "display_data",
          "data": {
            "text/html": [
              "<span style=\"color:cyan\"> |-activation_conv_index_4_etg_7_desc: relu</span>"
            ],
            "text/plain": [
              "<IPython.core.display.HTML object>"
            ]
          },
          "metadata": {
            "tags": []
          }
        },
        {
          "output_type": "display_data",
          "data": {
            "text/html": [
              "<span style=\"color:blue\"> |-activation_conv_index_4_etg_7_remont: relu</span>"
            ],
            "text/plain": [
              "<IPython.core.display.HTML object>"
            ]
          },
          "metadata": {
            "tags": []
          }
        },
        {
          "output_type": "display_data",
          "data": {
            "text/html": [
              "<span style=\"color:cyan\"> |-activation_conv_index_4_etg_8_desc: relu</span>"
            ],
            "text/plain": [
              "<IPython.core.display.HTML object>"
            ]
          },
          "metadata": {
            "tags": []
          }
        },
        {
          "output_type": "display_data",
          "data": {
            "text/html": [
              "<span style=\"color:blue\"> |-activation_conv_index_5_etg_0_desc: linear</span>"
            ],
            "text/plain": [
              "<IPython.core.display.HTML object>"
            ]
          },
          "metadata": {
            "tags": []
          }
        },
        {
          "output_type": "display_data",
          "data": {
            "text/html": [
              "<span style=\"color:cyan\"> |-activation_conv_index_5_etg_0_remont: tanh</span>"
            ],
            "text/plain": [
              "<IPython.core.display.HTML object>"
            ]
          },
          "metadata": {
            "tags": []
          }
        },
        {
          "output_type": "display_data",
          "data": {
            "text/html": [
              "<span style=\"color:blue\"> |-activation_conv_index_5_etg_2_desc: tanh</span>"
            ],
            "text/plain": [
              "<IPython.core.display.HTML object>"
            ]
          },
          "metadata": {
            "tags": []
          }
        },
        {
          "output_type": "display_data",
          "data": {
            "text/html": [
              "<span style=\"color:cyan\"> |-activation_conv_index_5_etg_2_remont: tanh</span>"
            ],
            "text/plain": [
              "<IPython.core.display.HTML object>"
            ]
          },
          "metadata": {
            "tags": []
          }
        },
        {
          "output_type": "display_data",
          "data": {
            "text/html": [
              "<span style=\"color:blue\"> |-activation_conv_index_5_etg_3_desc: tanh</span>"
            ],
            "text/plain": [
              "<IPython.core.display.HTML object>"
            ]
          },
          "metadata": {
            "tags": []
          }
        },
        {
          "output_type": "display_data",
          "data": {
            "text/html": [
              "<span style=\"color:cyan\"> |-activation_conv_index_5_etg_3_remont: tanh</span>"
            ],
            "text/plain": [
              "<IPython.core.display.HTML object>"
            ]
          },
          "metadata": {
            "tags": []
          }
        },
        {
          "output_type": "display_data",
          "data": {
            "text/html": [
              "<span style=\"color:blue\"> |-activation_conv_index_5_etg_4_remont: relu</span>"
            ],
            "text/plain": [
              "<IPython.core.display.HTML object>"
            ]
          },
          "metadata": {
            "tags": []
          }
        },
        {
          "output_type": "display_data",
          "data": {
            "text/html": [
              "<span style=\"color:cyan\"> |-activation_conv_index_5_etg_5_remont: relu</span>"
            ],
            "text/plain": [
              "<IPython.core.display.HTML object>"
            ]
          },
          "metadata": {
            "tags": []
          }
        },
        {
          "output_type": "display_data",
          "data": {
            "text/html": [
              "<span style=\"color:blue\"> |-activation_conv_index_5_etg_6_desc: relu</span>"
            ],
            "text/plain": [
              "<IPython.core.display.HTML object>"
            ]
          },
          "metadata": {
            "tags": []
          }
        },
        {
          "output_type": "display_data",
          "data": {
            "text/html": [
              "<span style=\"color:cyan\"> |-activation_conv_index_5_etg_6_remont: relu</span>"
            ],
            "text/plain": [
              "<IPython.core.display.HTML object>"
            ]
          },
          "metadata": {
            "tags": []
          }
        },
        {
          "output_type": "display_data",
          "data": {
            "text/html": [
              "<span style=\"color:blue\"> |-activation_conv_index_5_etg_7_desc: relu</span>"
            ],
            "text/plain": [
              "<IPython.core.display.HTML object>"
            ]
          },
          "metadata": {
            "tags": []
          }
        },
        {
          "output_type": "display_data",
          "data": {
            "text/html": [
              "<span style=\"color:cyan\"> |-activation_conv_index_5_etg_7_remont: relu</span>"
            ],
            "text/plain": [
              "<IPython.core.display.HTML object>"
            ]
          },
          "metadata": {
            "tags": []
          }
        },
        {
          "output_type": "display_data",
          "data": {
            "text/html": [
              "<span style=\"color:blue\"> |-activation_conv_index_5_etg_8_desc: relu</span>"
            ],
            "text/plain": [
              "<IPython.core.display.HTML object>"
            ]
          },
          "metadata": {
            "tags": []
          }
        },
        {
          "output_type": "display_data",
          "data": {
            "text/html": [
              "<span style=\"color:cyan\"> |-activation_conv_index_6_etg_0_desc: tanh</span>"
            ],
            "text/plain": [
              "<IPython.core.display.HTML object>"
            ]
          },
          "metadata": {
            "tags": []
          }
        },
        {
          "output_type": "display_data",
          "data": {
            "text/html": [
              "<span style=\"color:blue\"> |-activation_conv_index_6_etg_0_remont: tanh</span>"
            ],
            "text/plain": [
              "<IPython.core.display.HTML object>"
            ]
          },
          "metadata": {
            "tags": []
          }
        },
        {
          "output_type": "display_data",
          "data": {
            "text/html": [
              "<span style=\"color:cyan\"> |-activation_conv_index_6_etg_2_desc: tanh</span>"
            ],
            "text/plain": [
              "<IPython.core.display.HTML object>"
            ]
          },
          "metadata": {
            "tags": []
          }
        },
        {
          "output_type": "display_data",
          "data": {
            "text/html": [
              "<span style=\"color:blue\"> |-activation_conv_index_6_etg_2_remont: tanh</span>"
            ],
            "text/plain": [
              "<IPython.core.display.HTML object>"
            ]
          },
          "metadata": {
            "tags": []
          }
        },
        {
          "output_type": "display_data",
          "data": {
            "text/html": [
              "<span style=\"color:cyan\"> |-activation_conv_index_6_etg_3_desc: tanh</span>"
            ],
            "text/plain": [
              "<IPython.core.display.HTML object>"
            ]
          },
          "metadata": {
            "tags": []
          }
        },
        {
          "output_type": "display_data",
          "data": {
            "text/html": [
              "<span style=\"color:blue\"> |-activation_conv_index_6_etg_3_remont: tanh</span>"
            ],
            "text/plain": [
              "<IPython.core.display.HTML object>"
            ]
          },
          "metadata": {
            "tags": []
          }
        },
        {
          "output_type": "display_data",
          "data": {
            "text/html": [
              "<span style=\"color:cyan\"> |-activation_conv_index_6_etg_4_remont: relu</span>"
            ],
            "text/plain": [
              "<IPython.core.display.HTML object>"
            ]
          },
          "metadata": {
            "tags": []
          }
        },
        {
          "output_type": "display_data",
          "data": {
            "text/html": [
              "<span style=\"color:blue\"> |-activation_conv_index_6_etg_5_remont: relu</span>"
            ],
            "text/plain": [
              "<IPython.core.display.HTML object>"
            ]
          },
          "metadata": {
            "tags": []
          }
        },
        {
          "output_type": "display_data",
          "data": {
            "text/html": [
              "<span style=\"color:cyan\"> |-activation_conv_index_6_etg_6_desc: relu</span>"
            ],
            "text/plain": [
              "<IPython.core.display.HTML object>"
            ]
          },
          "metadata": {
            "tags": []
          }
        },
        {
          "output_type": "display_data",
          "data": {
            "text/html": [
              "<span style=\"color:blue\"> |-activation_conv_index_6_etg_6_remont: relu</span>"
            ],
            "text/plain": [
              "<IPython.core.display.HTML object>"
            ]
          },
          "metadata": {
            "tags": []
          }
        },
        {
          "output_type": "display_data",
          "data": {
            "text/html": [
              "<span style=\"color:cyan\"> |-activation_conv_index_6_etg_7_desc: relu</span>"
            ],
            "text/plain": [
              "<IPython.core.display.HTML object>"
            ]
          },
          "metadata": {
            "tags": []
          }
        },
        {
          "output_type": "display_data",
          "data": {
            "text/html": [
              "<span style=\"color:blue\"> |-activation_conv_index_6_etg_7_remont: relu</span>"
            ],
            "text/plain": [
              "<IPython.core.display.HTML object>"
            ]
          },
          "metadata": {
            "tags": []
          }
        },
        {
          "output_type": "display_data",
          "data": {
            "text/html": [
              "<span style=\"color:cyan\"> |-activation_conv_index_6_etg_8_desc: relu</span>"
            ],
            "text/plain": [
              "<IPython.core.display.HTML object>"
            ]
          },
          "metadata": {
            "tags": []
          }
        },
        {
          "output_type": "display_data",
          "data": {
            "text/html": [
              "<span style=\"color:blue\"> |-activation_conv_index_7_etg_0_desc: tanh</span>"
            ],
            "text/plain": [
              "<IPython.core.display.HTML object>"
            ]
          },
          "metadata": {
            "tags": []
          }
        },
        {
          "output_type": "display_data",
          "data": {
            "text/html": [
              "<span style=\"color:cyan\"> |-activation_conv_index_7_etg_0_remont: tanh</span>"
            ],
            "text/plain": [
              "<IPython.core.display.HTML object>"
            ]
          },
          "metadata": {
            "tags": []
          }
        },
        {
          "output_type": "display_data",
          "data": {
            "text/html": [
              "<span style=\"color:blue\"> |-activation_conv_index_7_etg_2_desc: tanh</span>"
            ],
            "text/plain": [
              "<IPython.core.display.HTML object>"
            ]
          },
          "metadata": {
            "tags": []
          }
        },
        {
          "output_type": "display_data",
          "data": {
            "text/html": [
              "<span style=\"color:cyan\"> |-activation_conv_index_7_etg_2_remont: linear</span>"
            ],
            "text/plain": [
              "<IPython.core.display.HTML object>"
            ]
          },
          "metadata": {
            "tags": []
          }
        },
        {
          "output_type": "display_data",
          "data": {
            "text/html": [
              "<span style=\"color:blue\"> |-activation_conv_index_7_etg_3_desc: tanh</span>"
            ],
            "text/plain": [
              "<IPython.core.display.HTML object>"
            ]
          },
          "metadata": {
            "tags": []
          }
        },
        {
          "output_type": "display_data",
          "data": {
            "text/html": [
              "<span style=\"color:cyan\"> |-activation_conv_index_7_etg_3_remont: tanh</span>"
            ],
            "text/plain": [
              "<IPython.core.display.HTML object>"
            ]
          },
          "metadata": {
            "tags": []
          }
        },
        {
          "output_type": "display_data",
          "data": {
            "text/html": [
              "<span style=\"color:blue\"> |-activation_conv_index_7_etg_4_remont: relu</span>"
            ],
            "text/plain": [
              "<IPython.core.display.HTML object>"
            ]
          },
          "metadata": {
            "tags": []
          }
        },
        {
          "output_type": "display_data",
          "data": {
            "text/html": [
              "<span style=\"color:cyan\"> |-activation_conv_index_7_etg_5_remont: relu</span>"
            ],
            "text/plain": [
              "<IPython.core.display.HTML object>"
            ]
          },
          "metadata": {
            "tags": []
          }
        },
        {
          "output_type": "display_data",
          "data": {
            "text/html": [
              "<span style=\"color:blue\"> |-activation_conv_index_7_etg_6_desc: relu</span>"
            ],
            "text/plain": [
              "<IPython.core.display.HTML object>"
            ]
          },
          "metadata": {
            "tags": []
          }
        },
        {
          "output_type": "display_data",
          "data": {
            "text/html": [
              "<span style=\"color:cyan\"> |-activation_conv_index_7_etg_6_remont: relu</span>"
            ],
            "text/plain": [
              "<IPython.core.display.HTML object>"
            ]
          },
          "metadata": {
            "tags": []
          }
        },
        {
          "output_type": "display_data",
          "data": {
            "text/html": [
              "<span style=\"color:blue\"> |-activation_conv_index_7_etg_7_desc: relu</span>"
            ],
            "text/plain": [
              "<IPython.core.display.HTML object>"
            ]
          },
          "metadata": {
            "tags": []
          }
        },
        {
          "output_type": "display_data",
          "data": {
            "text/html": [
              "<span style=\"color:cyan\"> |-activation_conv_index_7_etg_7_remont: relu</span>"
            ],
            "text/plain": [
              "<IPython.core.display.HTML object>"
            ]
          },
          "metadata": {
            "tags": []
          }
        },
        {
          "output_type": "display_data",
          "data": {
            "text/html": [
              "<span style=\"color:blue\"> |-activation_conv_index_7_etg_8_desc: relu</span>"
            ],
            "text/plain": [
              "<IPython.core.display.HTML object>"
            ]
          },
          "metadata": {
            "tags": []
          }
        },
        {
          "output_type": "display_data",
          "data": {
            "text/html": [
              "<span style=\"color:cyan\"> |-activation_conv_index_8_etg_0_desc: tanh</span>"
            ],
            "text/plain": [
              "<IPython.core.display.HTML object>"
            ]
          },
          "metadata": {
            "tags": []
          }
        },
        {
          "output_type": "display_data",
          "data": {
            "text/html": [
              "<span style=\"color:blue\"> |-activation_conv_index_8_etg_0_remont: tanh</span>"
            ],
            "text/plain": [
              "<IPython.core.display.HTML object>"
            ]
          },
          "metadata": {
            "tags": []
          }
        },
        {
          "output_type": "display_data",
          "data": {
            "text/html": [
              "<span style=\"color:cyan\"> |-activation_conv_index_8_etg_2_desc: tanh</span>"
            ],
            "text/plain": [
              "<IPython.core.display.HTML object>"
            ]
          },
          "metadata": {
            "tags": []
          }
        },
        {
          "output_type": "display_data",
          "data": {
            "text/html": [
              "<span style=\"color:blue\"> |-activation_conv_index_8_etg_2_remont: tanh</span>"
            ],
            "text/plain": [
              "<IPython.core.display.HTML object>"
            ]
          },
          "metadata": {
            "tags": []
          }
        },
        {
          "output_type": "display_data",
          "data": {
            "text/html": [
              "<span style=\"color:cyan\"> |-activation_conv_index_8_etg_3_desc: tanh</span>"
            ],
            "text/plain": [
              "<IPython.core.display.HTML object>"
            ]
          },
          "metadata": {
            "tags": []
          }
        },
        {
          "output_type": "display_data",
          "data": {
            "text/html": [
              "<span style=\"color:blue\"> |-activation_conv_index_8_etg_3_remont: tanh</span>"
            ],
            "text/plain": [
              "<IPython.core.display.HTML object>"
            ]
          },
          "metadata": {
            "tags": []
          }
        },
        {
          "output_type": "display_data",
          "data": {
            "text/html": [
              "<span style=\"color:cyan\"> |-activation_conv_index_8_etg_4_remont: relu</span>"
            ],
            "text/plain": [
              "<IPython.core.display.HTML object>"
            ]
          },
          "metadata": {
            "tags": []
          }
        },
        {
          "output_type": "display_data",
          "data": {
            "text/html": [
              "<span style=\"color:blue\"> |-activation_conv_index_8_etg_5_remont: relu</span>"
            ],
            "text/plain": [
              "<IPython.core.display.HTML object>"
            ]
          },
          "metadata": {
            "tags": []
          }
        },
        {
          "output_type": "display_data",
          "data": {
            "text/html": [
              "<span style=\"color:cyan\"> |-activation_conv_index_8_etg_6_desc: relu</span>"
            ],
            "text/plain": [
              "<IPython.core.display.HTML object>"
            ]
          },
          "metadata": {
            "tags": []
          }
        },
        {
          "output_type": "display_data",
          "data": {
            "text/html": [
              "<span style=\"color:blue\"> |-activation_conv_index_8_etg_6_remont: relu</span>"
            ],
            "text/plain": [
              "<IPython.core.display.HTML object>"
            ]
          },
          "metadata": {
            "tags": []
          }
        },
        {
          "output_type": "display_data",
          "data": {
            "text/html": [
              "<span style=\"color:cyan\"> |-activation_conv_index_8_etg_7_desc: relu</span>"
            ],
            "text/plain": [
              "<IPython.core.display.HTML object>"
            ]
          },
          "metadata": {
            "tags": []
          }
        },
        {
          "output_type": "display_data",
          "data": {
            "text/html": [
              "<span style=\"color:blue\"> |-activation_conv_index_8_etg_7_remont: relu</span>"
            ],
            "text/plain": [
              "<IPython.core.display.HTML object>"
            ]
          },
          "metadata": {
            "tags": []
          }
        },
        {
          "output_type": "display_data",
          "data": {
            "text/html": [
              "<span style=\"color:cyan\"> |-activation_conv_index_8_etg_8_desc: relu</span>"
            ],
            "text/plain": [
              "<IPython.core.display.HTML object>"
            ]
          },
          "metadata": {
            "tags": []
          }
        },
        {
          "output_type": "display_data",
          "data": {
            "text/html": [
              "<span style=\"color:blue\"> |-activation_conv_index_9_etg_0_desc: tanh</span>"
            ],
            "text/plain": [
              "<IPython.core.display.HTML object>"
            ]
          },
          "metadata": {
            "tags": []
          }
        },
        {
          "output_type": "display_data",
          "data": {
            "text/html": [
              "<span style=\"color:cyan\"> |-activation_conv_index_9_etg_0_remont: tanh</span>"
            ],
            "text/plain": [
              "<IPython.core.display.HTML object>"
            ]
          },
          "metadata": {
            "tags": []
          }
        },
        {
          "output_type": "display_data",
          "data": {
            "text/html": [
              "<span style=\"color:blue\"> |-activation_conv_index_9_etg_2_desc: tanh</span>"
            ],
            "text/plain": [
              "<IPython.core.display.HTML object>"
            ]
          },
          "metadata": {
            "tags": []
          }
        },
        {
          "output_type": "display_data",
          "data": {
            "text/html": [
              "<span style=\"color:cyan\"> |-activation_conv_index_9_etg_2_remont: linear</span>"
            ],
            "text/plain": [
              "<IPython.core.display.HTML object>"
            ]
          },
          "metadata": {
            "tags": []
          }
        },
        {
          "output_type": "display_data",
          "data": {
            "text/html": [
              "<span style=\"color:blue\"> |-activation_conv_index_9_etg_3_desc: linear</span>"
            ],
            "text/plain": [
              "<IPython.core.display.HTML object>"
            ]
          },
          "metadata": {
            "tags": []
          }
        },
        {
          "output_type": "display_data",
          "data": {
            "text/html": [
              "<span style=\"color:cyan\"> |-activation_conv_index_9_etg_3_remont: tanh</span>"
            ],
            "text/plain": [
              "<IPython.core.display.HTML object>"
            ]
          },
          "metadata": {
            "tags": []
          }
        },
        {
          "output_type": "display_data",
          "data": {
            "text/html": [
              "<span style=\"color:blue\"> |-activation_conv_index_9_etg_4_remont: relu</span>"
            ],
            "text/plain": [
              "<IPython.core.display.HTML object>"
            ]
          },
          "metadata": {
            "tags": []
          }
        },
        {
          "output_type": "display_data",
          "data": {
            "text/html": [
              "<span style=\"color:cyan\"> |-activation_conv_index_9_etg_5_remont: relu</span>"
            ],
            "text/plain": [
              "<IPython.core.display.HTML object>"
            ]
          },
          "metadata": {
            "tags": []
          }
        },
        {
          "output_type": "display_data",
          "data": {
            "text/html": [
              "<span style=\"color:blue\"> |-activation_conv_index_9_etg_6_desc: relu</span>"
            ],
            "text/plain": [
              "<IPython.core.display.HTML object>"
            ]
          },
          "metadata": {
            "tags": []
          }
        },
        {
          "output_type": "display_data",
          "data": {
            "text/html": [
              "<span style=\"color:cyan\"> |-activation_conv_index_9_etg_6_remont: relu</span>"
            ],
            "text/plain": [
              "<IPython.core.display.HTML object>"
            ]
          },
          "metadata": {
            "tags": []
          }
        },
        {
          "output_type": "display_data",
          "data": {
            "text/html": [
              "<span style=\"color:blue\"> |-activation_conv_index_9_etg_7_desc: relu</span>"
            ],
            "text/plain": [
              "<IPython.core.display.HTML object>"
            ]
          },
          "metadata": {
            "tags": []
          }
        },
        {
          "output_type": "display_data",
          "data": {
            "text/html": [
              "<span style=\"color:cyan\"> |-activation_conv_index_9_etg_7_remont: relu</span>"
            ],
            "text/plain": [
              "<IPython.core.display.HTML object>"
            ]
          },
          "metadata": {
            "tags": []
          }
        },
        {
          "output_type": "display_data",
          "data": {
            "text/html": [
              "<span style=\"color:blue\"> |-activation_conv_index_9_etg_8_desc: relu</span>"
            ],
            "text/plain": [
              "<IPython.core.display.HTML object>"
            ]
          },
          "metadata": {
            "tags": []
          }
        },
        {
          "output_type": "display_data",
          "data": {
            "text/html": [
              "<span style=\"color:cyan\"> |-beta_1: 0.8</span>"
            ],
            "text/plain": [
              "<IPython.core.display.HTML object>"
            ]
          },
          "metadata": {
            "tags": []
          }
        },
        {
          "output_type": "display_data",
          "data": {
            "text/html": [
              "<span style=\"color:blue\"> |-beta_2: 1.2</span>"
            ],
            "text/plain": [
              "<IPython.core.display.HTML object>"
            ]
          },
          "metadata": {
            "tags": []
          }
        },
        {
          "output_type": "display_data",
          "data": {
            "text/html": [
              "<span style=\"color:cyan\"> |-filtre_conv_index_0_etg_0_desc: 1</span>"
            ],
            "text/plain": [
              "<IPython.core.display.HTML object>"
            ]
          },
          "metadata": {
            "tags": []
          }
        },
        {
          "output_type": "display_data",
          "data": {
            "text/html": [
              "<span style=\"color:blue\"> |-filtre_conv_index_0_etg_0_remont: 1</span>"
            ],
            "text/plain": [
              "<IPython.core.display.HTML object>"
            ]
          },
          "metadata": {
            "tags": []
          }
        },
        {
          "output_type": "display_data",
          "data": {
            "text/html": [
              "<span style=\"color:cyan\"> |-filtre_conv_index_0_etg_1_desc: 500</span>"
            ],
            "text/plain": [
              "<IPython.core.display.HTML object>"
            ]
          },
          "metadata": {
            "tags": []
          }
        },
        {
          "output_type": "display_data",
          "data": {
            "text/html": [
              "<span style=\"color:blue\"> |-filtre_conv_index_0_etg_1_remont: 500</span>"
            ],
            "text/plain": [
              "<IPython.core.display.HTML object>"
            ]
          },
          "metadata": {
            "tags": []
          }
        },
        {
          "output_type": "display_data",
          "data": {
            "text/html": [
              "<span style=\"color:cyan\"> |-filtre_conv_index_0_etg_2_desc: 500</span>"
            ],
            "text/plain": [
              "<IPython.core.display.HTML object>"
            ]
          },
          "metadata": {
            "tags": []
          }
        },
        {
          "output_type": "display_data",
          "data": {
            "text/html": [
              "<span style=\"color:blue\"> |-filtre_conv_index_0_etg_2_remont: 500</span>"
            ],
            "text/plain": [
              "<IPython.core.display.HTML object>"
            ]
          },
          "metadata": {
            "tags": []
          }
        },
        {
          "output_type": "display_data",
          "data": {
            "text/html": [
              "<span style=\"color:cyan\"> |-filtre_conv_index_0_etg_3_desc: 1</span>"
            ],
            "text/plain": [
              "<IPython.core.display.HTML object>"
            ]
          },
          "metadata": {
            "tags": []
          }
        },
        {
          "output_type": "display_data",
          "data": {
            "text/html": [
              "<span style=\"color:blue\"> |-filtre_conv_index_0_etg_3_remont: 1</span>"
            ],
            "text/plain": [
              "<IPython.core.display.HTML object>"
            ]
          },
          "metadata": {
            "tags": []
          }
        },
        {
          "output_type": "display_data",
          "data": {
            "text/html": [
              "<span style=\"color:cyan\"> |-filtre_conv_index_0_etg_4_desc: 1</span>"
            ],
            "text/plain": [
              "<IPython.core.display.HTML object>"
            ]
          },
          "metadata": {
            "tags": []
          }
        },
        {
          "output_type": "display_data",
          "data": {
            "text/html": [
              "<span style=\"color:blue\"> |-filtre_conv_index_0_etg_4_remont: 500</span>"
            ],
            "text/plain": [
              "<IPython.core.display.HTML object>"
            ]
          },
          "metadata": {
            "tags": []
          }
        },
        {
          "output_type": "display_data",
          "data": {
            "text/html": [
              "<span style=\"color:cyan\"> |-filtre_conv_index_0_etg_5_desc: 500</span>"
            ],
            "text/plain": [
              "<IPython.core.display.HTML object>"
            ]
          },
          "metadata": {
            "tags": []
          }
        },
        {
          "output_type": "display_data",
          "data": {
            "text/html": [
              "<span style=\"color:blue\"> |-filtre_conv_index_0_etg_5_remont: 500</span>"
            ],
            "text/plain": [
              "<IPython.core.display.HTML object>"
            ]
          },
          "metadata": {
            "tags": []
          }
        },
        {
          "output_type": "display_data",
          "data": {
            "text/html": [
              "<span style=\"color:cyan\"> |-filtre_conv_index_0_etg_6_desc: 500</span>"
            ],
            "text/plain": [
              "<IPython.core.display.HTML object>"
            ]
          },
          "metadata": {
            "tags": []
          }
        },
        {
          "output_type": "display_data",
          "data": {
            "text/html": [
              "<span style=\"color:blue\"> |-filtre_conv_index_0_etg_6_remont: 500</span>"
            ],
            "text/plain": [
              "<IPython.core.display.HTML object>"
            ]
          },
          "metadata": {
            "tags": []
          }
        },
        {
          "output_type": "display_data",
          "data": {
            "text/html": [
              "<span style=\"color:cyan\"> |-filtre_conv_index_0_etg_7_desc: 500</span>"
            ],
            "text/plain": [
              "<IPython.core.display.HTML object>"
            ]
          },
          "metadata": {
            "tags": []
          }
        },
        {
          "output_type": "display_data",
          "data": {
            "text/html": [
              "<span style=\"color:blue\"> |-filtre_conv_index_0_etg_7_remont: 500</span>"
            ],
            "text/plain": [
              "<IPython.core.display.HTML object>"
            ]
          },
          "metadata": {
            "tags": []
          }
        },
        {
          "output_type": "display_data",
          "data": {
            "text/html": [
              "<span style=\"color:cyan\"> |-filtre_conv_index_0_etg_8_desc: 500</span>"
            ],
            "text/plain": [
              "<IPython.core.display.HTML object>"
            ]
          },
          "metadata": {
            "tags": []
          }
        },
        {
          "output_type": "display_data",
          "data": {
            "text/html": [
              "<span style=\"color:blue\"> |-filtre_conv_index_1_etg_0_desc: 1</span>"
            ],
            "text/plain": [
              "<IPython.core.display.HTML object>"
            ]
          },
          "metadata": {
            "tags": []
          }
        },
        {
          "output_type": "display_data",
          "data": {
            "text/html": [
              "<span style=\"color:cyan\"> |-filtre_conv_index_1_etg_0_remont: 500</span>"
            ],
            "text/plain": [
              "<IPython.core.display.HTML object>"
            ]
          },
          "metadata": {
            "tags": []
          }
        },
        {
          "output_type": "display_data",
          "data": {
            "text/html": [
              "<span style=\"color:blue\"> |-filtre_conv_index_1_etg_2_desc: 500</span>"
            ],
            "text/plain": [
              "<IPython.core.display.HTML object>"
            ]
          },
          "metadata": {
            "tags": []
          }
        },
        {
          "output_type": "display_data",
          "data": {
            "text/html": [
              "<span style=\"color:cyan\"> |-filtre_conv_index_1_etg_2_remont: 500</span>"
            ],
            "text/plain": [
              "<IPython.core.display.HTML object>"
            ]
          },
          "metadata": {
            "tags": []
          }
        },
        {
          "output_type": "display_data",
          "data": {
            "text/html": [
              "<span style=\"color:blue\"> |-filtre_conv_index_1_etg_3_desc: 500</span>"
            ],
            "text/plain": [
              "<IPython.core.display.HTML object>"
            ]
          },
          "metadata": {
            "tags": []
          }
        },
        {
          "output_type": "display_data",
          "data": {
            "text/html": [
              "<span style=\"color:cyan\"> |-filtre_conv_index_1_etg_3_remont: 500</span>"
            ],
            "text/plain": [
              "<IPython.core.display.HTML object>"
            ]
          },
          "metadata": {
            "tags": []
          }
        },
        {
          "output_type": "display_data",
          "data": {
            "text/html": [
              "<span style=\"color:blue\"> |-filtre_conv_index_1_etg_4_remont: 1</span>"
            ],
            "text/plain": [
              "<IPython.core.display.HTML object>"
            ]
          },
          "metadata": {
            "tags": []
          }
        },
        {
          "output_type": "display_data",
          "data": {
            "text/html": [
              "<span style=\"color:cyan\"> |-filtre_conv_index_1_etg_5_remont: 1</span>"
            ],
            "text/plain": [
              "<IPython.core.display.HTML object>"
            ]
          },
          "metadata": {
            "tags": []
          }
        },
        {
          "output_type": "display_data",
          "data": {
            "text/html": [
              "<span style=\"color:blue\"> |-filtre_conv_index_1_etg_6_desc: 1</span>"
            ],
            "text/plain": [
              "<IPython.core.display.HTML object>"
            ]
          },
          "metadata": {
            "tags": []
          }
        },
        {
          "output_type": "display_data",
          "data": {
            "text/html": [
              "<span style=\"color:cyan\"> |-filtre_conv_index_1_etg_6_remont: 1</span>"
            ],
            "text/plain": [
              "<IPython.core.display.HTML object>"
            ]
          },
          "metadata": {
            "tags": []
          }
        },
        {
          "output_type": "display_data",
          "data": {
            "text/html": [
              "<span style=\"color:blue\"> |-filtre_conv_index_1_etg_7_desc: 1</span>"
            ],
            "text/plain": [
              "<IPython.core.display.HTML object>"
            ]
          },
          "metadata": {
            "tags": []
          }
        },
        {
          "output_type": "display_data",
          "data": {
            "text/html": [
              "<span style=\"color:cyan\"> |-filtre_conv_index_1_etg_7_remont: 1</span>"
            ],
            "text/plain": [
              "<IPython.core.display.HTML object>"
            ]
          },
          "metadata": {
            "tags": []
          }
        },
        {
          "output_type": "display_data",
          "data": {
            "text/html": [
              "<span style=\"color:blue\"> |-filtre_conv_index_1_etg_8_desc: 1</span>"
            ],
            "text/plain": [
              "<IPython.core.display.HTML object>"
            ]
          },
          "metadata": {
            "tags": []
          }
        },
        {
          "output_type": "display_data",
          "data": {
            "text/html": [
              "<span style=\"color:cyan\"> |-filtre_conv_index_2_etg_0_desc: 500</span>"
            ],
            "text/plain": [
              "<IPython.core.display.HTML object>"
            ]
          },
          "metadata": {
            "tags": []
          }
        },
        {
          "output_type": "display_data",
          "data": {
            "text/html": [
              "<span style=\"color:blue\"> |-filtre_conv_index_2_etg_0_remont: 500</span>"
            ],
            "text/plain": [
              "<IPython.core.display.HTML object>"
            ]
          },
          "metadata": {
            "tags": []
          }
        },
        {
          "output_type": "display_data",
          "data": {
            "text/html": [
              "<span style=\"color:cyan\"> |-filtre_conv_index_2_etg_2_desc: 500</span>"
            ],
            "text/plain": [
              "<IPython.core.display.HTML object>"
            ]
          },
          "metadata": {
            "tags": []
          }
        },
        {
          "output_type": "display_data",
          "data": {
            "text/html": [
              "<span style=\"color:blue\"> |-filtre_conv_index_2_etg_2_remont: 500</span>"
            ],
            "text/plain": [
              "<IPython.core.display.HTML object>"
            ]
          },
          "metadata": {
            "tags": []
          }
        },
        {
          "output_type": "display_data",
          "data": {
            "text/html": [
              "<span style=\"color:cyan\"> |-filtre_conv_index_2_etg_3_desc: 500</span>"
            ],
            "text/plain": [
              "<IPython.core.display.HTML object>"
            ]
          },
          "metadata": {
            "tags": []
          }
        },
        {
          "output_type": "display_data",
          "data": {
            "text/html": [
              "<span style=\"color:blue\"> |-filtre_conv_index_2_etg_3_remont: 500</span>"
            ],
            "text/plain": [
              "<IPython.core.display.HTML object>"
            ]
          },
          "metadata": {
            "tags": []
          }
        },
        {
          "output_type": "display_data",
          "data": {
            "text/html": [
              "<span style=\"color:cyan\"> |-filtre_conv_index_2_etg_4_remont: 1</span>"
            ],
            "text/plain": [
              "<IPython.core.display.HTML object>"
            ]
          },
          "metadata": {
            "tags": []
          }
        },
        {
          "output_type": "display_data",
          "data": {
            "text/html": [
              "<span style=\"color:blue\"> |-filtre_conv_index_2_etg_5_remont: 1</span>"
            ],
            "text/plain": [
              "<IPython.core.display.HTML object>"
            ]
          },
          "metadata": {
            "tags": []
          }
        },
        {
          "output_type": "display_data",
          "data": {
            "text/html": [
              "<span style=\"color:cyan\"> |-filtre_conv_index_2_etg_6_desc: 1</span>"
            ],
            "text/plain": [
              "<IPython.core.display.HTML object>"
            ]
          },
          "metadata": {
            "tags": []
          }
        },
        {
          "output_type": "display_data",
          "data": {
            "text/html": [
              "<span style=\"color:blue\"> |-filtre_conv_index_2_etg_6_remont: 1</span>"
            ],
            "text/plain": [
              "<IPython.core.display.HTML object>"
            ]
          },
          "metadata": {
            "tags": []
          }
        },
        {
          "output_type": "display_data",
          "data": {
            "text/html": [
              "<span style=\"color:cyan\"> |-filtre_conv_index_2_etg_7_desc: 1</span>"
            ],
            "text/plain": [
              "<IPython.core.display.HTML object>"
            ]
          },
          "metadata": {
            "tags": []
          }
        },
        {
          "output_type": "display_data",
          "data": {
            "text/html": [
              "<span style=\"color:blue\"> |-filtre_conv_index_2_etg_7_remont: 1</span>"
            ],
            "text/plain": [
              "<IPython.core.display.HTML object>"
            ]
          },
          "metadata": {
            "tags": []
          }
        },
        {
          "output_type": "display_data",
          "data": {
            "text/html": [
              "<span style=\"color:cyan\"> |-filtre_conv_index_2_etg_8_desc: 1</span>"
            ],
            "text/plain": [
              "<IPython.core.display.HTML object>"
            ]
          },
          "metadata": {
            "tags": []
          }
        },
        {
          "output_type": "display_data",
          "data": {
            "text/html": [
              "<span style=\"color:blue\"> |-filtre_conv_index_3_etg_0_desc: 500</span>"
            ],
            "text/plain": [
              "<IPython.core.display.HTML object>"
            ]
          },
          "metadata": {
            "tags": []
          }
        },
        {
          "output_type": "display_data",
          "data": {
            "text/html": [
              "<span style=\"color:cyan\"> |-filtre_conv_index_3_etg_0_remont: 1</span>"
            ],
            "text/plain": [
              "<IPython.core.display.HTML object>"
            ]
          },
          "metadata": {
            "tags": []
          }
        },
        {
          "output_type": "display_data",
          "data": {
            "text/html": [
              "<span style=\"color:blue\"> |-filtre_conv_index_3_etg_2_desc: 500</span>"
            ],
            "text/plain": [
              "<IPython.core.display.HTML object>"
            ]
          },
          "metadata": {
            "tags": []
          }
        },
        {
          "output_type": "display_data",
          "data": {
            "text/html": [
              "<span style=\"color:cyan\"> |-filtre_conv_index_3_etg_2_remont: 500</span>"
            ],
            "text/plain": [
              "<IPython.core.display.HTML object>"
            ]
          },
          "metadata": {
            "tags": []
          }
        },
        {
          "output_type": "display_data",
          "data": {
            "text/html": [
              "<span style=\"color:blue\"> |-filtre_conv_index_3_etg_3_desc: 500</span>"
            ],
            "text/plain": [
              "<IPython.core.display.HTML object>"
            ]
          },
          "metadata": {
            "tags": []
          }
        },
        {
          "output_type": "display_data",
          "data": {
            "text/html": [
              "<span style=\"color:cyan\"> |-filtre_conv_index_3_etg_3_remont: 500</span>"
            ],
            "text/plain": [
              "<IPython.core.display.HTML object>"
            ]
          },
          "metadata": {
            "tags": []
          }
        },
        {
          "output_type": "display_data",
          "data": {
            "text/html": [
              "<span style=\"color:blue\"> |-filtre_conv_index_3_etg_4_remont: 1</span>"
            ],
            "text/plain": [
              "<IPython.core.display.HTML object>"
            ]
          },
          "metadata": {
            "tags": []
          }
        },
        {
          "output_type": "display_data",
          "data": {
            "text/html": [
              "<span style=\"color:cyan\"> |-filtre_conv_index_3_etg_5_remont: 1</span>"
            ],
            "text/plain": [
              "<IPython.core.display.HTML object>"
            ]
          },
          "metadata": {
            "tags": []
          }
        },
        {
          "output_type": "display_data",
          "data": {
            "text/html": [
              "<span style=\"color:blue\"> |-filtre_conv_index_3_etg_6_desc: 1</span>"
            ],
            "text/plain": [
              "<IPython.core.display.HTML object>"
            ]
          },
          "metadata": {
            "tags": []
          }
        },
        {
          "output_type": "display_data",
          "data": {
            "text/html": [
              "<span style=\"color:cyan\"> |-filtre_conv_index_3_etg_6_remont: 1</span>"
            ],
            "text/plain": [
              "<IPython.core.display.HTML object>"
            ]
          },
          "metadata": {
            "tags": []
          }
        },
        {
          "output_type": "display_data",
          "data": {
            "text/html": [
              "<span style=\"color:blue\"> |-filtre_conv_index_3_etg_7_desc: 1</span>"
            ],
            "text/plain": [
              "<IPython.core.display.HTML object>"
            ]
          },
          "metadata": {
            "tags": []
          }
        },
        {
          "output_type": "display_data",
          "data": {
            "text/html": [
              "<span style=\"color:cyan\"> |-filtre_conv_index_3_etg_7_remont: 1</span>"
            ],
            "text/plain": [
              "<IPython.core.display.HTML object>"
            ]
          },
          "metadata": {
            "tags": []
          }
        },
        {
          "output_type": "display_data",
          "data": {
            "text/html": [
              "<span style=\"color:blue\"> |-filtre_conv_index_3_etg_8_desc: 1</span>"
            ],
            "text/plain": [
              "<IPython.core.display.HTML object>"
            ]
          },
          "metadata": {
            "tags": []
          }
        },
        {
          "output_type": "display_data",
          "data": {
            "text/html": [
              "<span style=\"color:cyan\"> |-filtre_conv_index_4_etg_0_desc: 500</span>"
            ],
            "text/plain": [
              "<IPython.core.display.HTML object>"
            ]
          },
          "metadata": {
            "tags": []
          }
        },
        {
          "output_type": "display_data",
          "data": {
            "text/html": [
              "<span style=\"color:blue\"> |-filtre_conv_index_4_etg_0_remont: 500</span>"
            ],
            "text/plain": [
              "<IPython.core.display.HTML object>"
            ]
          },
          "metadata": {
            "tags": []
          }
        },
        {
          "output_type": "display_data",
          "data": {
            "text/html": [
              "<span style=\"color:cyan\"> |-filtre_conv_index_4_etg_2_desc: 500</span>"
            ],
            "text/plain": [
              "<IPython.core.display.HTML object>"
            ]
          },
          "metadata": {
            "tags": []
          }
        },
        {
          "output_type": "display_data",
          "data": {
            "text/html": [
              "<span style=\"color:blue\"> |-filtre_conv_index_4_etg_2_remont: 500</span>"
            ],
            "text/plain": [
              "<IPython.core.display.HTML object>"
            ]
          },
          "metadata": {
            "tags": []
          }
        },
        {
          "output_type": "display_data",
          "data": {
            "text/html": [
              "<span style=\"color:cyan\"> |-filtre_conv_index_4_etg_3_desc: 500</span>"
            ],
            "text/plain": [
              "<IPython.core.display.HTML object>"
            ]
          },
          "metadata": {
            "tags": []
          }
        },
        {
          "output_type": "display_data",
          "data": {
            "text/html": [
              "<span style=\"color:blue\"> |-filtre_conv_index_4_etg_3_remont: 500</span>"
            ],
            "text/plain": [
              "<IPython.core.display.HTML object>"
            ]
          },
          "metadata": {
            "tags": []
          }
        },
        {
          "output_type": "display_data",
          "data": {
            "text/html": [
              "<span style=\"color:cyan\"> |-filtre_conv_index_4_etg_4_remont: 1</span>"
            ],
            "text/plain": [
              "<IPython.core.display.HTML object>"
            ]
          },
          "metadata": {
            "tags": []
          }
        },
        {
          "output_type": "display_data",
          "data": {
            "text/html": [
              "<span style=\"color:blue\"> |-filtre_conv_index_4_etg_5_remont: 1</span>"
            ],
            "text/plain": [
              "<IPython.core.display.HTML object>"
            ]
          },
          "metadata": {
            "tags": []
          }
        },
        {
          "output_type": "display_data",
          "data": {
            "text/html": [
              "<span style=\"color:cyan\"> |-filtre_conv_index_4_etg_6_desc: 1</span>"
            ],
            "text/plain": [
              "<IPython.core.display.HTML object>"
            ]
          },
          "metadata": {
            "tags": []
          }
        },
        {
          "output_type": "display_data",
          "data": {
            "text/html": [
              "<span style=\"color:blue\"> |-filtre_conv_index_4_etg_6_remont: 1</span>"
            ],
            "text/plain": [
              "<IPython.core.display.HTML object>"
            ]
          },
          "metadata": {
            "tags": []
          }
        },
        {
          "output_type": "display_data",
          "data": {
            "text/html": [
              "<span style=\"color:cyan\"> |-filtre_conv_index_4_etg_7_desc: 1</span>"
            ],
            "text/plain": [
              "<IPython.core.display.HTML object>"
            ]
          },
          "metadata": {
            "tags": []
          }
        },
        {
          "output_type": "display_data",
          "data": {
            "text/html": [
              "<span style=\"color:blue\"> |-filtre_conv_index_4_etg_7_remont: 1</span>"
            ],
            "text/plain": [
              "<IPython.core.display.HTML object>"
            ]
          },
          "metadata": {
            "tags": []
          }
        },
        {
          "output_type": "display_data",
          "data": {
            "text/html": [
              "<span style=\"color:cyan\"> |-filtre_conv_index_4_etg_8_desc: 1</span>"
            ],
            "text/plain": [
              "<IPython.core.display.HTML object>"
            ]
          },
          "metadata": {
            "tags": []
          }
        },
        {
          "output_type": "display_data",
          "data": {
            "text/html": [
              "<span style=\"color:blue\"> |-filtre_conv_index_5_etg_0_desc: 500</span>"
            ],
            "text/plain": [
              "<IPython.core.display.HTML object>"
            ]
          },
          "metadata": {
            "tags": []
          }
        },
        {
          "output_type": "display_data",
          "data": {
            "text/html": [
              "<span style=\"color:cyan\"> |-filtre_conv_index_5_etg_0_remont: 500</span>"
            ],
            "text/plain": [
              "<IPython.core.display.HTML object>"
            ]
          },
          "metadata": {
            "tags": []
          }
        },
        {
          "output_type": "display_data",
          "data": {
            "text/html": [
              "<span style=\"color:blue\"> |-filtre_conv_index_5_etg_2_desc: 500</span>"
            ],
            "text/plain": [
              "<IPython.core.display.HTML object>"
            ]
          },
          "metadata": {
            "tags": []
          }
        },
        {
          "output_type": "display_data",
          "data": {
            "text/html": [
              "<span style=\"color:cyan\"> |-filtre_conv_index_5_etg_2_remont: 500</span>"
            ],
            "text/plain": [
              "<IPython.core.display.HTML object>"
            ]
          },
          "metadata": {
            "tags": []
          }
        },
        {
          "output_type": "display_data",
          "data": {
            "text/html": [
              "<span style=\"color:blue\"> |-filtre_conv_index_5_etg_3_desc: 500</span>"
            ],
            "text/plain": [
              "<IPython.core.display.HTML object>"
            ]
          },
          "metadata": {
            "tags": []
          }
        },
        {
          "output_type": "display_data",
          "data": {
            "text/html": [
              "<span style=\"color:cyan\"> |-filtre_conv_index_5_etg_3_remont: 500</span>"
            ],
            "text/plain": [
              "<IPython.core.display.HTML object>"
            ]
          },
          "metadata": {
            "tags": []
          }
        },
        {
          "output_type": "display_data",
          "data": {
            "text/html": [
              "<span style=\"color:blue\"> |-filtre_conv_index_5_etg_4_remont: 1</span>"
            ],
            "text/plain": [
              "<IPython.core.display.HTML object>"
            ]
          },
          "metadata": {
            "tags": []
          }
        },
        {
          "output_type": "display_data",
          "data": {
            "text/html": [
              "<span style=\"color:cyan\"> |-filtre_conv_index_5_etg_5_remont: 1</span>"
            ],
            "text/plain": [
              "<IPython.core.display.HTML object>"
            ]
          },
          "metadata": {
            "tags": []
          }
        },
        {
          "output_type": "display_data",
          "data": {
            "text/html": [
              "<span style=\"color:blue\"> |-filtre_conv_index_5_etg_6_desc: 1</span>"
            ],
            "text/plain": [
              "<IPython.core.display.HTML object>"
            ]
          },
          "metadata": {
            "tags": []
          }
        },
        {
          "output_type": "display_data",
          "data": {
            "text/html": [
              "<span style=\"color:cyan\"> |-filtre_conv_index_5_etg_6_remont: 1</span>"
            ],
            "text/plain": [
              "<IPython.core.display.HTML object>"
            ]
          },
          "metadata": {
            "tags": []
          }
        },
        {
          "output_type": "display_data",
          "data": {
            "text/html": [
              "<span style=\"color:blue\"> |-filtre_conv_index_5_etg_7_desc: 1</span>"
            ],
            "text/plain": [
              "<IPython.core.display.HTML object>"
            ]
          },
          "metadata": {
            "tags": []
          }
        },
        {
          "output_type": "display_data",
          "data": {
            "text/html": [
              "<span style=\"color:cyan\"> |-filtre_conv_index_5_etg_7_remont: 1</span>"
            ],
            "text/plain": [
              "<IPython.core.display.HTML object>"
            ]
          },
          "metadata": {
            "tags": []
          }
        },
        {
          "output_type": "display_data",
          "data": {
            "text/html": [
              "<span style=\"color:blue\"> |-filtre_conv_index_5_etg_8_desc: 1</span>"
            ],
            "text/plain": [
              "<IPython.core.display.HTML object>"
            ]
          },
          "metadata": {
            "tags": []
          }
        },
        {
          "output_type": "display_data",
          "data": {
            "text/html": [
              "<span style=\"color:cyan\"> |-filtre_conv_index_6_etg_0_desc: 500</span>"
            ],
            "text/plain": [
              "<IPython.core.display.HTML object>"
            ]
          },
          "metadata": {
            "tags": []
          }
        },
        {
          "output_type": "display_data",
          "data": {
            "text/html": [
              "<span style=\"color:blue\"> |-filtre_conv_index_6_etg_0_remont: 500</span>"
            ],
            "text/plain": [
              "<IPython.core.display.HTML object>"
            ]
          },
          "metadata": {
            "tags": []
          }
        },
        {
          "output_type": "display_data",
          "data": {
            "text/html": [
              "<span style=\"color:cyan\"> |-filtre_conv_index_6_etg_2_desc: 500</span>"
            ],
            "text/plain": [
              "<IPython.core.display.HTML object>"
            ]
          },
          "metadata": {
            "tags": []
          }
        },
        {
          "output_type": "display_data",
          "data": {
            "text/html": [
              "<span style=\"color:blue\"> |-filtre_conv_index_6_etg_2_remont: 500</span>"
            ],
            "text/plain": [
              "<IPython.core.display.HTML object>"
            ]
          },
          "metadata": {
            "tags": []
          }
        },
        {
          "output_type": "display_data",
          "data": {
            "text/html": [
              "<span style=\"color:cyan\"> |-filtre_conv_index_6_etg_3_desc: 500</span>"
            ],
            "text/plain": [
              "<IPython.core.display.HTML object>"
            ]
          },
          "metadata": {
            "tags": []
          }
        },
        {
          "output_type": "display_data",
          "data": {
            "text/html": [
              "<span style=\"color:blue\"> |-filtre_conv_index_6_etg_3_remont: 500</span>"
            ],
            "text/plain": [
              "<IPython.core.display.HTML object>"
            ]
          },
          "metadata": {
            "tags": []
          }
        },
        {
          "output_type": "display_data",
          "data": {
            "text/html": [
              "<span style=\"color:cyan\"> |-filtre_conv_index_6_etg_4_remont: 1</span>"
            ],
            "text/plain": [
              "<IPython.core.display.HTML object>"
            ]
          },
          "metadata": {
            "tags": []
          }
        },
        {
          "output_type": "display_data",
          "data": {
            "text/html": [
              "<span style=\"color:blue\"> |-filtre_conv_index_6_etg_5_remont: 1</span>"
            ],
            "text/plain": [
              "<IPython.core.display.HTML object>"
            ]
          },
          "metadata": {
            "tags": []
          }
        },
        {
          "output_type": "display_data",
          "data": {
            "text/html": [
              "<span style=\"color:cyan\"> |-filtre_conv_index_6_etg_6_desc: 1</span>"
            ],
            "text/plain": [
              "<IPython.core.display.HTML object>"
            ]
          },
          "metadata": {
            "tags": []
          }
        },
        {
          "output_type": "display_data",
          "data": {
            "text/html": [
              "<span style=\"color:blue\"> |-filtre_conv_index_6_etg_6_remont: 1</span>"
            ],
            "text/plain": [
              "<IPython.core.display.HTML object>"
            ]
          },
          "metadata": {
            "tags": []
          }
        },
        {
          "output_type": "display_data",
          "data": {
            "text/html": [
              "<span style=\"color:cyan\"> |-filtre_conv_index_6_etg_7_desc: 1</span>"
            ],
            "text/plain": [
              "<IPython.core.display.HTML object>"
            ]
          },
          "metadata": {
            "tags": []
          }
        },
        {
          "output_type": "display_data",
          "data": {
            "text/html": [
              "<span style=\"color:blue\"> |-filtre_conv_index_6_etg_7_remont: 1</span>"
            ],
            "text/plain": [
              "<IPython.core.display.HTML object>"
            ]
          },
          "metadata": {
            "tags": []
          }
        },
        {
          "output_type": "display_data",
          "data": {
            "text/html": [
              "<span style=\"color:cyan\"> |-filtre_conv_index_6_etg_8_desc: 1</span>"
            ],
            "text/plain": [
              "<IPython.core.display.HTML object>"
            ]
          },
          "metadata": {
            "tags": []
          }
        },
        {
          "output_type": "display_data",
          "data": {
            "text/html": [
              "<span style=\"color:blue\"> |-filtre_conv_index_7_etg_0_desc: 500</span>"
            ],
            "text/plain": [
              "<IPython.core.display.HTML object>"
            ]
          },
          "metadata": {
            "tags": []
          }
        },
        {
          "output_type": "display_data",
          "data": {
            "text/html": [
              "<span style=\"color:cyan\"> |-filtre_conv_index_7_etg_0_remont: 500</span>"
            ],
            "text/plain": [
              "<IPython.core.display.HTML object>"
            ]
          },
          "metadata": {
            "tags": []
          }
        },
        {
          "output_type": "display_data",
          "data": {
            "text/html": [
              "<span style=\"color:blue\"> |-filtre_conv_index_7_etg_2_desc: 500</span>"
            ],
            "text/plain": [
              "<IPython.core.display.HTML object>"
            ]
          },
          "metadata": {
            "tags": []
          }
        },
        {
          "output_type": "display_data",
          "data": {
            "text/html": [
              "<span style=\"color:cyan\"> |-filtre_conv_index_7_etg_2_remont: 500</span>"
            ],
            "text/plain": [
              "<IPython.core.display.HTML object>"
            ]
          },
          "metadata": {
            "tags": []
          }
        },
        {
          "output_type": "display_data",
          "data": {
            "text/html": [
              "<span style=\"color:blue\"> |-filtre_conv_index_7_etg_3_desc: 500</span>"
            ],
            "text/plain": [
              "<IPython.core.display.HTML object>"
            ]
          },
          "metadata": {
            "tags": []
          }
        },
        {
          "output_type": "display_data",
          "data": {
            "text/html": [
              "<span style=\"color:cyan\"> |-filtre_conv_index_7_etg_3_remont: 500</span>"
            ],
            "text/plain": [
              "<IPython.core.display.HTML object>"
            ]
          },
          "metadata": {
            "tags": []
          }
        },
        {
          "output_type": "display_data",
          "data": {
            "text/html": [
              "<span style=\"color:blue\"> |-filtre_conv_index_7_etg_4_remont: 1</span>"
            ],
            "text/plain": [
              "<IPython.core.display.HTML object>"
            ]
          },
          "metadata": {
            "tags": []
          }
        },
        {
          "output_type": "display_data",
          "data": {
            "text/html": [
              "<span style=\"color:cyan\"> |-filtre_conv_index_7_etg_5_remont: 1</span>"
            ],
            "text/plain": [
              "<IPython.core.display.HTML object>"
            ]
          },
          "metadata": {
            "tags": []
          }
        },
        {
          "output_type": "display_data",
          "data": {
            "text/html": [
              "<span style=\"color:blue\"> |-filtre_conv_index_7_etg_6_desc: 1</span>"
            ],
            "text/plain": [
              "<IPython.core.display.HTML object>"
            ]
          },
          "metadata": {
            "tags": []
          }
        },
        {
          "output_type": "display_data",
          "data": {
            "text/html": [
              "<span style=\"color:cyan\"> |-filtre_conv_index_7_etg_6_remont: 1</span>"
            ],
            "text/plain": [
              "<IPython.core.display.HTML object>"
            ]
          },
          "metadata": {
            "tags": []
          }
        },
        {
          "output_type": "display_data",
          "data": {
            "text/html": [
              "<span style=\"color:blue\"> |-filtre_conv_index_7_etg_7_desc: 1</span>"
            ],
            "text/plain": [
              "<IPython.core.display.HTML object>"
            ]
          },
          "metadata": {
            "tags": []
          }
        },
        {
          "output_type": "display_data",
          "data": {
            "text/html": [
              "<span style=\"color:cyan\"> |-filtre_conv_index_7_etg_7_remont: 1</span>"
            ],
            "text/plain": [
              "<IPython.core.display.HTML object>"
            ]
          },
          "metadata": {
            "tags": []
          }
        },
        {
          "output_type": "display_data",
          "data": {
            "text/html": [
              "<span style=\"color:blue\"> |-filtre_conv_index_7_etg_8_desc: 1</span>"
            ],
            "text/plain": [
              "<IPython.core.display.HTML object>"
            ]
          },
          "metadata": {
            "tags": []
          }
        },
        {
          "output_type": "display_data",
          "data": {
            "text/html": [
              "<span style=\"color:cyan\"> |-filtre_conv_index_8_etg_0_desc: 500</span>"
            ],
            "text/plain": [
              "<IPython.core.display.HTML object>"
            ]
          },
          "metadata": {
            "tags": []
          }
        },
        {
          "output_type": "display_data",
          "data": {
            "text/html": [
              "<span style=\"color:blue\"> |-filtre_conv_index_8_etg_0_remont: 500</span>"
            ],
            "text/plain": [
              "<IPython.core.display.HTML object>"
            ]
          },
          "metadata": {
            "tags": []
          }
        },
        {
          "output_type": "display_data",
          "data": {
            "text/html": [
              "<span style=\"color:cyan\"> |-filtre_conv_index_8_etg_2_desc: 500</span>"
            ],
            "text/plain": [
              "<IPython.core.display.HTML object>"
            ]
          },
          "metadata": {
            "tags": []
          }
        },
        {
          "output_type": "display_data",
          "data": {
            "text/html": [
              "<span style=\"color:blue\"> |-filtre_conv_index_8_etg_2_remont: 500</span>"
            ],
            "text/plain": [
              "<IPython.core.display.HTML object>"
            ]
          },
          "metadata": {
            "tags": []
          }
        },
        {
          "output_type": "display_data",
          "data": {
            "text/html": [
              "<span style=\"color:cyan\"> |-filtre_conv_index_8_etg_3_desc: 500</span>"
            ],
            "text/plain": [
              "<IPython.core.display.HTML object>"
            ]
          },
          "metadata": {
            "tags": []
          }
        },
        {
          "output_type": "display_data",
          "data": {
            "text/html": [
              "<span style=\"color:blue\"> |-filtre_conv_index_8_etg_3_remont: 500</span>"
            ],
            "text/plain": [
              "<IPython.core.display.HTML object>"
            ]
          },
          "metadata": {
            "tags": []
          }
        },
        {
          "output_type": "display_data",
          "data": {
            "text/html": [
              "<span style=\"color:cyan\"> |-filtre_conv_index_8_etg_4_remont: 1</span>"
            ],
            "text/plain": [
              "<IPython.core.display.HTML object>"
            ]
          },
          "metadata": {
            "tags": []
          }
        },
        {
          "output_type": "display_data",
          "data": {
            "text/html": [
              "<span style=\"color:blue\"> |-filtre_conv_index_8_etg_5_remont: 1</span>"
            ],
            "text/plain": [
              "<IPython.core.display.HTML object>"
            ]
          },
          "metadata": {
            "tags": []
          }
        },
        {
          "output_type": "display_data",
          "data": {
            "text/html": [
              "<span style=\"color:cyan\"> |-filtre_conv_index_8_etg_6_desc: 1</span>"
            ],
            "text/plain": [
              "<IPython.core.display.HTML object>"
            ]
          },
          "metadata": {
            "tags": []
          }
        },
        {
          "output_type": "display_data",
          "data": {
            "text/html": [
              "<span style=\"color:blue\"> |-filtre_conv_index_8_etg_6_remont: 1</span>"
            ],
            "text/plain": [
              "<IPython.core.display.HTML object>"
            ]
          },
          "metadata": {
            "tags": []
          }
        },
        {
          "output_type": "display_data",
          "data": {
            "text/html": [
              "<span style=\"color:cyan\"> |-filtre_conv_index_8_etg_7_desc: 1</span>"
            ],
            "text/plain": [
              "<IPython.core.display.HTML object>"
            ]
          },
          "metadata": {
            "tags": []
          }
        },
        {
          "output_type": "display_data",
          "data": {
            "text/html": [
              "<span style=\"color:blue\"> |-filtre_conv_index_8_etg_7_remont: 1</span>"
            ],
            "text/plain": [
              "<IPython.core.display.HTML object>"
            ]
          },
          "metadata": {
            "tags": []
          }
        },
        {
          "output_type": "display_data",
          "data": {
            "text/html": [
              "<span style=\"color:cyan\"> |-filtre_conv_index_8_etg_8_desc: 1</span>"
            ],
            "text/plain": [
              "<IPython.core.display.HTML object>"
            ]
          },
          "metadata": {
            "tags": []
          }
        },
        {
          "output_type": "display_data",
          "data": {
            "text/html": [
              "<span style=\"color:blue\"> |-filtre_conv_index_9_etg_0_desc: 500</span>"
            ],
            "text/plain": [
              "<IPython.core.display.HTML object>"
            ]
          },
          "metadata": {
            "tags": []
          }
        },
        {
          "output_type": "display_data",
          "data": {
            "text/html": [
              "<span style=\"color:cyan\"> |-filtre_conv_index_9_etg_0_remont: 500</span>"
            ],
            "text/plain": [
              "<IPython.core.display.HTML object>"
            ]
          },
          "metadata": {
            "tags": []
          }
        },
        {
          "output_type": "display_data",
          "data": {
            "text/html": [
              "<span style=\"color:blue\"> |-filtre_conv_index_9_etg_2_desc: 500</span>"
            ],
            "text/plain": [
              "<IPython.core.display.HTML object>"
            ]
          },
          "metadata": {
            "tags": []
          }
        },
        {
          "output_type": "display_data",
          "data": {
            "text/html": [
              "<span style=\"color:cyan\"> |-filtre_conv_index_9_etg_2_remont: 500</span>"
            ],
            "text/plain": [
              "<IPython.core.display.HTML object>"
            ]
          },
          "metadata": {
            "tags": []
          }
        },
        {
          "output_type": "display_data",
          "data": {
            "text/html": [
              "<span style=\"color:blue\"> |-filtre_conv_index_9_etg_3_desc: 500</span>"
            ],
            "text/plain": [
              "<IPython.core.display.HTML object>"
            ]
          },
          "metadata": {
            "tags": []
          }
        },
        {
          "output_type": "display_data",
          "data": {
            "text/html": [
              "<span style=\"color:cyan\"> |-filtre_conv_index_9_etg_3_remont: 500</span>"
            ],
            "text/plain": [
              "<IPython.core.display.HTML object>"
            ]
          },
          "metadata": {
            "tags": []
          }
        },
        {
          "output_type": "display_data",
          "data": {
            "text/html": [
              "<span style=\"color:blue\"> |-filtre_conv_index_9_etg_4_remont: 1</span>"
            ],
            "text/plain": [
              "<IPython.core.display.HTML object>"
            ]
          },
          "metadata": {
            "tags": []
          }
        },
        {
          "output_type": "display_data",
          "data": {
            "text/html": [
              "<span style=\"color:cyan\"> |-filtre_conv_index_9_etg_5_remont: 1</span>"
            ],
            "text/plain": [
              "<IPython.core.display.HTML object>"
            ]
          },
          "metadata": {
            "tags": []
          }
        },
        {
          "output_type": "display_data",
          "data": {
            "text/html": [
              "<span style=\"color:blue\"> |-filtre_conv_index_9_etg_6_desc: 1</span>"
            ],
            "text/plain": [
              "<IPython.core.display.HTML object>"
            ]
          },
          "metadata": {
            "tags": []
          }
        },
        {
          "output_type": "display_data",
          "data": {
            "text/html": [
              "<span style=\"color:cyan\"> |-filtre_conv_index_9_etg_6_remont: 1</span>"
            ],
            "text/plain": [
              "<IPython.core.display.HTML object>"
            ]
          },
          "metadata": {
            "tags": []
          }
        },
        {
          "output_type": "display_data",
          "data": {
            "text/html": [
              "<span style=\"color:blue\"> |-filtre_conv_index_9_etg_7_desc: 1</span>"
            ],
            "text/plain": [
              "<IPython.core.display.HTML object>"
            ]
          },
          "metadata": {
            "tags": []
          }
        },
        {
          "output_type": "display_data",
          "data": {
            "text/html": [
              "<span style=\"color:cyan\"> |-filtre_conv_index_9_etg_7_remont: 1</span>"
            ],
            "text/plain": [
              "<IPython.core.display.HTML object>"
            ]
          },
          "metadata": {
            "tags": []
          }
        },
        {
          "output_type": "display_data",
          "data": {
            "text/html": [
              "<span style=\"color:blue\"> |-filtre_conv_index_9_etg_8_desc: 1</span>"
            ],
            "text/plain": [
              "<IPython.core.display.HTML object>"
            ]
          },
          "metadata": {
            "tags": []
          }
        },
        {
          "output_type": "display_data",
          "data": {
            "text/html": [
              "<span style=\"color:cyan\"> |-filtre_deconv_etg_0_remont: 500</span>"
            ],
            "text/plain": [
              "<IPython.core.display.HTML object>"
            ]
          },
          "metadata": {
            "tags": []
          }
        },
        {
          "output_type": "display_data",
          "data": {
            "text/html": [
              "<span style=\"color:blue\"> |-filtre_deconv_etg_1_remont: 1</span>"
            ],
            "text/plain": [
              "<IPython.core.display.HTML object>"
            ]
          },
          "metadata": {
            "tags": []
          }
        },
        {
          "output_type": "display_data",
          "data": {
            "text/html": [
              "<span style=\"color:cyan\"> |-filtre_deconv_etg_2_remont: 1</span>"
            ],
            "text/plain": [
              "<IPython.core.display.HTML object>"
            ]
          },
          "metadata": {
            "tags": []
          }
        },
        {
          "output_type": "display_data",
          "data": {
            "text/html": [
              "<span style=\"color:blue\"> |-filtre_deconv_etg_3_remont: 500</span>"
            ],
            "text/plain": [
              "<IPython.core.display.HTML object>"
            ]
          },
          "metadata": {
            "tags": []
          }
        },
        {
          "output_type": "display_data",
          "data": {
            "text/html": [
              "<span style=\"color:cyan\"> |-filtre_deconv_etg_4_remont: 1</span>"
            ],
            "text/plain": [
              "<IPython.core.display.HTML object>"
            ]
          },
          "metadata": {
            "tags": []
          }
        },
        {
          "output_type": "display_data",
          "data": {
            "text/html": [
              "<span style=\"color:blue\"> |-filtre_deconv_etg_5_remont: 500</span>"
            ],
            "text/plain": [
              "<IPython.core.display.HTML object>"
            ]
          },
          "metadata": {
            "tags": []
          }
        },
        {
          "output_type": "display_data",
          "data": {
            "text/html": [
              "<span style=\"color:cyan\"> |-filtre_deconv_etg_6_remont: 1</span>"
            ],
            "text/plain": [
              "<IPython.core.display.HTML object>"
            ]
          },
          "metadata": {
            "tags": []
          }
        },
        {
          "output_type": "display_data",
          "data": {
            "text/html": [
              "<span style=\"color:blue\"> |-filtre_deconv_etg_7_remont: 500</span>"
            ],
            "text/plain": [
              "<IPython.core.display.HTML object>"
            ]
          },
          "metadata": {
            "tags": []
          }
        },
        {
          "output_type": "display_data",
          "data": {
            "text/html": [
              "<span style=\"color:cyan\"> |-kernel_conv_index_0_etg_0_desc: 3</span>"
            ],
            "text/plain": [
              "<IPython.core.display.HTML object>"
            ]
          },
          "metadata": {
            "tags": []
          }
        },
        {
          "output_type": "display_data",
          "data": {
            "text/html": [
              "<span style=\"color:blue\"> |-kernel_conv_index_0_etg_0_remont: 2</span>"
            ],
            "text/plain": [
              "<IPython.core.display.HTML object>"
            ]
          },
          "metadata": {
            "tags": []
          }
        },
        {
          "output_type": "display_data",
          "data": {
            "text/html": [
              "<span style=\"color:cyan\"> |-kernel_conv_index_0_etg_1_desc: 2</span>"
            ],
            "text/plain": [
              "<IPython.core.display.HTML object>"
            ]
          },
          "metadata": {
            "tags": []
          }
        },
        {
          "output_type": "display_data",
          "data": {
            "text/html": [
              "<span style=\"color:blue\"> |-kernel_conv_index_0_etg_1_remont: 2</span>"
            ],
            "text/plain": [
              "<IPython.core.display.HTML object>"
            ]
          },
          "metadata": {
            "tags": []
          }
        },
        {
          "output_type": "display_data",
          "data": {
            "text/html": [
              "<span style=\"color:cyan\"> |-kernel_conv_index_0_etg_2_desc: 2</span>"
            ],
            "text/plain": [
              "<IPython.core.display.HTML object>"
            ]
          },
          "metadata": {
            "tags": []
          }
        },
        {
          "output_type": "display_data",
          "data": {
            "text/html": [
              "<span style=\"color:blue\"> |-kernel_conv_index_0_etg_2_remont: 2</span>"
            ],
            "text/plain": [
              "<IPython.core.display.HTML object>"
            ]
          },
          "metadata": {
            "tags": []
          }
        },
        {
          "output_type": "display_data",
          "data": {
            "text/html": [
              "<span style=\"color:cyan\"> |-kernel_conv_index_0_etg_3_desc: 2</span>"
            ],
            "text/plain": [
              "<IPython.core.display.HTML object>"
            ]
          },
          "metadata": {
            "tags": []
          }
        },
        {
          "output_type": "display_data",
          "data": {
            "text/html": [
              "<span style=\"color:blue\"> |-kernel_conv_index_0_etg_3_remont: 2</span>"
            ],
            "text/plain": [
              "<IPython.core.display.HTML object>"
            ]
          },
          "metadata": {
            "tags": []
          }
        },
        {
          "output_type": "display_data",
          "data": {
            "text/html": [
              "<span style=\"color:cyan\"> |-kernel_conv_index_0_etg_4_desc: 2</span>"
            ],
            "text/plain": [
              "<IPython.core.display.HTML object>"
            ]
          },
          "metadata": {
            "tags": []
          }
        },
        {
          "output_type": "display_data",
          "data": {
            "text/html": [
              "<span style=\"color:blue\"> |-kernel_conv_index_0_etg_4_remont: 3</span>"
            ],
            "text/plain": [
              "<IPython.core.display.HTML object>"
            ]
          },
          "metadata": {
            "tags": []
          }
        },
        {
          "output_type": "display_data",
          "data": {
            "text/html": [
              "<span style=\"color:cyan\"> |-kernel_conv_index_0_etg_5_desc: 2</span>"
            ],
            "text/plain": [
              "<IPython.core.display.HTML object>"
            ]
          },
          "metadata": {
            "tags": []
          }
        },
        {
          "output_type": "display_data",
          "data": {
            "text/html": [
              "<span style=\"color:blue\"> |-kernel_conv_index_0_etg_5_remont: 3</span>"
            ],
            "text/plain": [
              "<IPython.core.display.HTML object>"
            ]
          },
          "metadata": {
            "tags": []
          }
        },
        {
          "output_type": "display_data",
          "data": {
            "text/html": [
              "<span style=\"color:cyan\"> |-kernel_conv_index_0_etg_6_desc: 2</span>"
            ],
            "text/plain": [
              "<IPython.core.display.HTML object>"
            ]
          },
          "metadata": {
            "tags": []
          }
        },
        {
          "output_type": "display_data",
          "data": {
            "text/html": [
              "<span style=\"color:blue\"> |-kernel_conv_index_0_etg_6_remont: 3</span>"
            ],
            "text/plain": [
              "<IPython.core.display.HTML object>"
            ]
          },
          "metadata": {
            "tags": []
          }
        },
        {
          "output_type": "display_data",
          "data": {
            "text/html": [
              "<span style=\"color:cyan\"> |-kernel_conv_index_0_etg_7_desc: 2</span>"
            ],
            "text/plain": [
              "<IPython.core.display.HTML object>"
            ]
          },
          "metadata": {
            "tags": []
          }
        },
        {
          "output_type": "display_data",
          "data": {
            "text/html": [
              "<span style=\"color:blue\"> |-kernel_conv_index_0_etg_7_remont: 2</span>"
            ],
            "text/plain": [
              "<IPython.core.display.HTML object>"
            ]
          },
          "metadata": {
            "tags": []
          }
        },
        {
          "output_type": "display_data",
          "data": {
            "text/html": [
              "<span style=\"color:cyan\"> |-kernel_conv_index_0_etg_8_desc: 2</span>"
            ],
            "text/plain": [
              "<IPython.core.display.HTML object>"
            ]
          },
          "metadata": {
            "tags": []
          }
        },
        {
          "output_type": "display_data",
          "data": {
            "text/html": [
              "<span style=\"color:blue\"> |-kernel_conv_index_1_etg_0_desc: 2</span>"
            ],
            "text/plain": [
              "<IPython.core.display.HTML object>"
            ]
          },
          "metadata": {
            "tags": []
          }
        },
        {
          "output_type": "display_data",
          "data": {
            "text/html": [
              "<span style=\"color:cyan\"> |-kernel_conv_index_1_etg_0_remont: 2</span>"
            ],
            "text/plain": [
              "<IPython.core.display.HTML object>"
            ]
          },
          "metadata": {
            "tags": []
          }
        },
        {
          "output_type": "display_data",
          "data": {
            "text/html": [
              "<span style=\"color:blue\"> |-kernel_conv_index_1_etg_2_desc: 3</span>"
            ],
            "text/plain": [
              "<IPython.core.display.HTML object>"
            ]
          },
          "metadata": {
            "tags": []
          }
        },
        {
          "output_type": "display_data",
          "data": {
            "text/html": [
              "<span style=\"color:cyan\"> |-kernel_conv_index_1_etg_2_remont: 3</span>"
            ],
            "text/plain": [
              "<IPython.core.display.HTML object>"
            ]
          },
          "metadata": {
            "tags": []
          }
        },
        {
          "output_type": "display_data",
          "data": {
            "text/html": [
              "<span style=\"color:blue\"> |-kernel_conv_index_1_etg_3_desc: 3</span>"
            ],
            "text/plain": [
              "<IPython.core.display.HTML object>"
            ]
          },
          "metadata": {
            "tags": []
          }
        },
        {
          "output_type": "display_data",
          "data": {
            "text/html": [
              "<span style=\"color:cyan\"> |-kernel_conv_index_1_etg_3_remont: 3</span>"
            ],
            "text/plain": [
              "<IPython.core.display.HTML object>"
            ]
          },
          "metadata": {
            "tags": []
          }
        },
        {
          "output_type": "display_data",
          "data": {
            "text/html": [
              "<span style=\"color:blue\"> |-kernel_conv_index_1_etg_4_remont: 2</span>"
            ],
            "text/plain": [
              "<IPython.core.display.HTML object>"
            ]
          },
          "metadata": {
            "tags": []
          }
        },
        {
          "output_type": "display_data",
          "data": {
            "text/html": [
              "<span style=\"color:cyan\"> |-kernel_conv_index_1_etg_5_remont: 2</span>"
            ],
            "text/plain": [
              "<IPython.core.display.HTML object>"
            ]
          },
          "metadata": {
            "tags": []
          }
        },
        {
          "output_type": "display_data",
          "data": {
            "text/html": [
              "<span style=\"color:blue\"> |-kernel_conv_index_1_etg_6_desc: 2</span>"
            ],
            "text/plain": [
              "<IPython.core.display.HTML object>"
            ]
          },
          "metadata": {
            "tags": []
          }
        },
        {
          "output_type": "display_data",
          "data": {
            "text/html": [
              "<span style=\"color:cyan\"> |-kernel_conv_index_1_etg_6_remont: 2</span>"
            ],
            "text/plain": [
              "<IPython.core.display.HTML object>"
            ]
          },
          "metadata": {
            "tags": []
          }
        },
        {
          "output_type": "display_data",
          "data": {
            "text/html": [
              "<span style=\"color:blue\"> |-kernel_conv_index_1_etg_7_desc: 2</span>"
            ],
            "text/plain": [
              "<IPython.core.display.HTML object>"
            ]
          },
          "metadata": {
            "tags": []
          }
        },
        {
          "output_type": "display_data",
          "data": {
            "text/html": [
              "<span style=\"color:cyan\"> |-kernel_conv_index_1_etg_7_remont: 2</span>"
            ],
            "text/plain": [
              "<IPython.core.display.HTML object>"
            ]
          },
          "metadata": {
            "tags": []
          }
        },
        {
          "output_type": "display_data",
          "data": {
            "text/html": [
              "<span style=\"color:blue\"> |-kernel_conv_index_1_etg_8_desc: 2</span>"
            ],
            "text/plain": [
              "<IPython.core.display.HTML object>"
            ]
          },
          "metadata": {
            "tags": []
          }
        },
        {
          "output_type": "display_data",
          "data": {
            "text/html": [
              "<span style=\"color:cyan\"> |-kernel_conv_index_2_etg_0_desc: 2</span>"
            ],
            "text/plain": [
              "<IPython.core.display.HTML object>"
            ]
          },
          "metadata": {
            "tags": []
          }
        },
        {
          "output_type": "display_data",
          "data": {
            "text/html": [
              "<span style=\"color:blue\"> |-kernel_conv_index_2_etg_0_remont: 3</span>"
            ],
            "text/plain": [
              "<IPython.core.display.HTML object>"
            ]
          },
          "metadata": {
            "tags": []
          }
        },
        {
          "output_type": "display_data",
          "data": {
            "text/html": [
              "<span style=\"color:cyan\"> |-kernel_conv_index_2_etg_2_desc: 3</span>"
            ],
            "text/plain": [
              "<IPython.core.display.HTML object>"
            ]
          },
          "metadata": {
            "tags": []
          }
        },
        {
          "output_type": "display_data",
          "data": {
            "text/html": [
              "<span style=\"color:blue\"> |-kernel_conv_index_2_etg_2_remont: 3</span>"
            ],
            "text/plain": [
              "<IPython.core.display.HTML object>"
            ]
          },
          "metadata": {
            "tags": []
          }
        },
        {
          "output_type": "display_data",
          "data": {
            "text/html": [
              "<span style=\"color:cyan\"> |-kernel_conv_index_2_etg_3_desc: 3</span>"
            ],
            "text/plain": [
              "<IPython.core.display.HTML object>"
            ]
          },
          "metadata": {
            "tags": []
          }
        },
        {
          "output_type": "display_data",
          "data": {
            "text/html": [
              "<span style=\"color:blue\"> |-kernel_conv_index_2_etg_3_remont: 3</span>"
            ],
            "text/plain": [
              "<IPython.core.display.HTML object>"
            ]
          },
          "metadata": {
            "tags": []
          }
        },
        {
          "output_type": "display_data",
          "data": {
            "text/html": [
              "<span style=\"color:cyan\"> |-kernel_conv_index_2_etg_4_remont: 2</span>"
            ],
            "text/plain": [
              "<IPython.core.display.HTML object>"
            ]
          },
          "metadata": {
            "tags": []
          }
        },
        {
          "output_type": "display_data",
          "data": {
            "text/html": [
              "<span style=\"color:blue\"> |-kernel_conv_index_2_etg_5_remont: 2</span>"
            ],
            "text/plain": [
              "<IPython.core.display.HTML object>"
            ]
          },
          "metadata": {
            "tags": []
          }
        },
        {
          "output_type": "display_data",
          "data": {
            "text/html": [
              "<span style=\"color:cyan\"> |-kernel_conv_index_2_etg_6_desc: 2</span>"
            ],
            "text/plain": [
              "<IPython.core.display.HTML object>"
            ]
          },
          "metadata": {
            "tags": []
          }
        },
        {
          "output_type": "display_data",
          "data": {
            "text/html": [
              "<span style=\"color:blue\"> |-kernel_conv_index_2_etg_6_remont: 2</span>"
            ],
            "text/plain": [
              "<IPython.core.display.HTML object>"
            ]
          },
          "metadata": {
            "tags": []
          }
        },
        {
          "output_type": "display_data",
          "data": {
            "text/html": [
              "<span style=\"color:cyan\"> |-kernel_conv_index_2_etg_7_desc: 2</span>"
            ],
            "text/plain": [
              "<IPython.core.display.HTML object>"
            ]
          },
          "metadata": {
            "tags": []
          }
        },
        {
          "output_type": "display_data",
          "data": {
            "text/html": [
              "<span style=\"color:blue\"> |-kernel_conv_index_2_etg_7_remont: 2</span>"
            ],
            "text/plain": [
              "<IPython.core.display.HTML object>"
            ]
          },
          "metadata": {
            "tags": []
          }
        },
        {
          "output_type": "display_data",
          "data": {
            "text/html": [
              "<span style=\"color:cyan\"> |-kernel_conv_index_2_etg_8_desc: 2</span>"
            ],
            "text/plain": [
              "<IPython.core.display.HTML object>"
            ]
          },
          "metadata": {
            "tags": []
          }
        },
        {
          "output_type": "display_data",
          "data": {
            "text/html": [
              "<span style=\"color:blue\"> |-kernel_conv_index_3_etg_0_desc: 2</span>"
            ],
            "text/plain": [
              "<IPython.core.display.HTML object>"
            ]
          },
          "metadata": {
            "tags": []
          }
        },
        {
          "output_type": "display_data",
          "data": {
            "text/html": [
              "<span style=\"color:cyan\"> |-kernel_conv_index_3_etg_0_remont: 3</span>"
            ],
            "text/plain": [
              "<IPython.core.display.HTML object>"
            ]
          },
          "metadata": {
            "tags": []
          }
        },
        {
          "output_type": "display_data",
          "data": {
            "text/html": [
              "<span style=\"color:blue\"> |-kernel_conv_index_3_etg_2_desc: 3</span>"
            ],
            "text/plain": [
              "<IPython.core.display.HTML object>"
            ]
          },
          "metadata": {
            "tags": []
          }
        },
        {
          "output_type": "display_data",
          "data": {
            "text/html": [
              "<span style=\"color:cyan\"> |-kernel_conv_index_3_etg_2_remont: 3</span>"
            ],
            "text/plain": [
              "<IPython.core.display.HTML object>"
            ]
          },
          "metadata": {
            "tags": []
          }
        },
        {
          "output_type": "display_data",
          "data": {
            "text/html": [
              "<span style=\"color:blue\"> |-kernel_conv_index_3_etg_3_desc: 3</span>"
            ],
            "text/plain": [
              "<IPython.core.display.HTML object>"
            ]
          },
          "metadata": {
            "tags": []
          }
        },
        {
          "output_type": "display_data",
          "data": {
            "text/html": [
              "<span style=\"color:cyan\"> |-kernel_conv_index_3_etg_3_remont: 2</span>"
            ],
            "text/plain": [
              "<IPython.core.display.HTML object>"
            ]
          },
          "metadata": {
            "tags": []
          }
        },
        {
          "output_type": "display_data",
          "data": {
            "text/html": [
              "<span style=\"color:blue\"> |-kernel_conv_index_3_etg_4_remont: 2</span>"
            ],
            "text/plain": [
              "<IPython.core.display.HTML object>"
            ]
          },
          "metadata": {
            "tags": []
          }
        },
        {
          "output_type": "display_data",
          "data": {
            "text/html": [
              "<span style=\"color:cyan\"> |-kernel_conv_index_3_etg_5_remont: 2</span>"
            ],
            "text/plain": [
              "<IPython.core.display.HTML object>"
            ]
          },
          "metadata": {
            "tags": []
          }
        },
        {
          "output_type": "display_data",
          "data": {
            "text/html": [
              "<span style=\"color:blue\"> |-kernel_conv_index_3_etg_6_desc: 2</span>"
            ],
            "text/plain": [
              "<IPython.core.display.HTML object>"
            ]
          },
          "metadata": {
            "tags": []
          }
        },
        {
          "output_type": "display_data",
          "data": {
            "text/html": [
              "<span style=\"color:cyan\"> |-kernel_conv_index_3_etg_6_remont: 2</span>"
            ],
            "text/plain": [
              "<IPython.core.display.HTML object>"
            ]
          },
          "metadata": {
            "tags": []
          }
        },
        {
          "output_type": "display_data",
          "data": {
            "text/html": [
              "<span style=\"color:blue\"> |-kernel_conv_index_3_etg_7_desc: 2</span>"
            ],
            "text/plain": [
              "<IPython.core.display.HTML object>"
            ]
          },
          "metadata": {
            "tags": []
          }
        },
        {
          "output_type": "display_data",
          "data": {
            "text/html": [
              "<span style=\"color:cyan\"> |-kernel_conv_index_3_etg_7_remont: 2</span>"
            ],
            "text/plain": [
              "<IPython.core.display.HTML object>"
            ]
          },
          "metadata": {
            "tags": []
          }
        },
        {
          "output_type": "display_data",
          "data": {
            "text/html": [
              "<span style=\"color:blue\"> |-kernel_conv_index_3_etg_8_desc: 2</span>"
            ],
            "text/plain": [
              "<IPython.core.display.HTML object>"
            ]
          },
          "metadata": {
            "tags": []
          }
        },
        {
          "output_type": "display_data",
          "data": {
            "text/html": [
              "<span style=\"color:cyan\"> |-kernel_conv_index_4_etg_0_desc: 2</span>"
            ],
            "text/plain": [
              "<IPython.core.display.HTML object>"
            ]
          },
          "metadata": {
            "tags": []
          }
        },
        {
          "output_type": "display_data",
          "data": {
            "text/html": [
              "<span style=\"color:blue\"> |-kernel_conv_index_4_etg_0_remont: 3</span>"
            ],
            "text/plain": [
              "<IPython.core.display.HTML object>"
            ]
          },
          "metadata": {
            "tags": []
          }
        },
        {
          "output_type": "display_data",
          "data": {
            "text/html": [
              "<span style=\"color:cyan\"> |-kernel_conv_index_4_etg_2_desc: 3</span>"
            ],
            "text/plain": [
              "<IPython.core.display.HTML object>"
            ]
          },
          "metadata": {
            "tags": []
          }
        },
        {
          "output_type": "display_data",
          "data": {
            "text/html": [
              "<span style=\"color:blue\"> |-kernel_conv_index_4_etg_2_remont: 2</span>"
            ],
            "text/plain": [
              "<IPython.core.display.HTML object>"
            ]
          },
          "metadata": {
            "tags": []
          }
        },
        {
          "output_type": "display_data",
          "data": {
            "text/html": [
              "<span style=\"color:cyan\"> |-kernel_conv_index_4_etg_3_desc: 3</span>"
            ],
            "text/plain": [
              "<IPython.core.display.HTML object>"
            ]
          },
          "metadata": {
            "tags": []
          }
        },
        {
          "output_type": "display_data",
          "data": {
            "text/html": [
              "<span style=\"color:blue\"> |-kernel_conv_index_4_etg_3_remont: 3</span>"
            ],
            "text/plain": [
              "<IPython.core.display.HTML object>"
            ]
          },
          "metadata": {
            "tags": []
          }
        },
        {
          "output_type": "display_data",
          "data": {
            "text/html": [
              "<span style=\"color:cyan\"> |-kernel_conv_index_4_etg_4_remont: 2</span>"
            ],
            "text/plain": [
              "<IPython.core.display.HTML object>"
            ]
          },
          "metadata": {
            "tags": []
          }
        },
        {
          "output_type": "display_data",
          "data": {
            "text/html": [
              "<span style=\"color:blue\"> |-kernel_conv_index_4_etg_5_remont: 2</span>"
            ],
            "text/plain": [
              "<IPython.core.display.HTML object>"
            ]
          },
          "metadata": {
            "tags": []
          }
        },
        {
          "output_type": "display_data",
          "data": {
            "text/html": [
              "<span style=\"color:cyan\"> |-kernel_conv_index_4_etg_6_desc: 2</span>"
            ],
            "text/plain": [
              "<IPython.core.display.HTML object>"
            ]
          },
          "metadata": {
            "tags": []
          }
        },
        {
          "output_type": "display_data",
          "data": {
            "text/html": [
              "<span style=\"color:blue\"> |-kernel_conv_index_4_etg_6_remont: 2</span>"
            ],
            "text/plain": [
              "<IPython.core.display.HTML object>"
            ]
          },
          "metadata": {
            "tags": []
          }
        },
        {
          "output_type": "display_data",
          "data": {
            "text/html": [
              "<span style=\"color:cyan\"> |-kernel_conv_index_4_etg_7_desc: 2</span>"
            ],
            "text/plain": [
              "<IPython.core.display.HTML object>"
            ]
          },
          "metadata": {
            "tags": []
          }
        },
        {
          "output_type": "display_data",
          "data": {
            "text/html": [
              "<span style=\"color:blue\"> |-kernel_conv_index_4_etg_7_remont: 2</span>"
            ],
            "text/plain": [
              "<IPython.core.display.HTML object>"
            ]
          },
          "metadata": {
            "tags": []
          }
        },
        {
          "output_type": "display_data",
          "data": {
            "text/html": [
              "<span style=\"color:cyan\"> |-kernel_conv_index_4_etg_8_desc: 2</span>"
            ],
            "text/plain": [
              "<IPython.core.display.HTML object>"
            ]
          },
          "metadata": {
            "tags": []
          }
        },
        {
          "output_type": "display_data",
          "data": {
            "text/html": [
              "<span style=\"color:blue\"> |-kernel_conv_index_5_etg_0_desc: 3</span>"
            ],
            "text/plain": [
              "<IPython.core.display.HTML object>"
            ]
          },
          "metadata": {
            "tags": []
          }
        },
        {
          "output_type": "display_data",
          "data": {
            "text/html": [
              "<span style=\"color:cyan\"> |-kernel_conv_index_5_etg_0_remont: 3</span>"
            ],
            "text/plain": [
              "<IPython.core.display.HTML object>"
            ]
          },
          "metadata": {
            "tags": []
          }
        },
        {
          "output_type": "display_data",
          "data": {
            "text/html": [
              "<span style=\"color:blue\"> |-kernel_conv_index_5_etg_2_desc: 3</span>"
            ],
            "text/plain": [
              "<IPython.core.display.HTML object>"
            ]
          },
          "metadata": {
            "tags": []
          }
        },
        {
          "output_type": "display_data",
          "data": {
            "text/html": [
              "<span style=\"color:cyan\"> |-kernel_conv_index_5_etg_2_remont: 3</span>"
            ],
            "text/plain": [
              "<IPython.core.display.HTML object>"
            ]
          },
          "metadata": {
            "tags": []
          }
        },
        {
          "output_type": "display_data",
          "data": {
            "text/html": [
              "<span style=\"color:blue\"> |-kernel_conv_index_5_etg_3_desc: 3</span>"
            ],
            "text/plain": [
              "<IPython.core.display.HTML object>"
            ]
          },
          "metadata": {
            "tags": []
          }
        },
        {
          "output_type": "display_data",
          "data": {
            "text/html": [
              "<span style=\"color:cyan\"> |-kernel_conv_index_5_etg_3_remont: 3</span>"
            ],
            "text/plain": [
              "<IPython.core.display.HTML object>"
            ]
          },
          "metadata": {
            "tags": []
          }
        },
        {
          "output_type": "display_data",
          "data": {
            "text/html": [
              "<span style=\"color:blue\"> |-kernel_conv_index_5_etg_4_remont: 2</span>"
            ],
            "text/plain": [
              "<IPython.core.display.HTML object>"
            ]
          },
          "metadata": {
            "tags": []
          }
        },
        {
          "output_type": "display_data",
          "data": {
            "text/html": [
              "<span style=\"color:cyan\"> |-kernel_conv_index_5_etg_5_remont: 2</span>"
            ],
            "text/plain": [
              "<IPython.core.display.HTML object>"
            ]
          },
          "metadata": {
            "tags": []
          }
        },
        {
          "output_type": "display_data",
          "data": {
            "text/html": [
              "<span style=\"color:blue\"> |-kernel_conv_index_5_etg_6_desc: 2</span>"
            ],
            "text/plain": [
              "<IPython.core.display.HTML object>"
            ]
          },
          "metadata": {
            "tags": []
          }
        },
        {
          "output_type": "display_data",
          "data": {
            "text/html": [
              "<span style=\"color:cyan\"> |-kernel_conv_index_5_etg_6_remont: 2</span>"
            ],
            "text/plain": [
              "<IPython.core.display.HTML object>"
            ]
          },
          "metadata": {
            "tags": []
          }
        },
        {
          "output_type": "display_data",
          "data": {
            "text/html": [
              "<span style=\"color:blue\"> |-kernel_conv_index_5_etg_7_desc: 2</span>"
            ],
            "text/plain": [
              "<IPython.core.display.HTML object>"
            ]
          },
          "metadata": {
            "tags": []
          }
        },
        {
          "output_type": "display_data",
          "data": {
            "text/html": [
              "<span style=\"color:cyan\"> |-kernel_conv_index_5_etg_7_remont: 2</span>"
            ],
            "text/plain": [
              "<IPython.core.display.HTML object>"
            ]
          },
          "metadata": {
            "tags": []
          }
        },
        {
          "output_type": "display_data",
          "data": {
            "text/html": [
              "<span style=\"color:blue\"> |-kernel_conv_index_5_etg_8_desc: 2</span>"
            ],
            "text/plain": [
              "<IPython.core.display.HTML object>"
            ]
          },
          "metadata": {
            "tags": []
          }
        },
        {
          "output_type": "display_data",
          "data": {
            "text/html": [
              "<span style=\"color:cyan\"> |-kernel_conv_index_6_etg_0_desc: 3</span>"
            ],
            "text/plain": [
              "<IPython.core.display.HTML object>"
            ]
          },
          "metadata": {
            "tags": []
          }
        },
        {
          "output_type": "display_data",
          "data": {
            "text/html": [
              "<span style=\"color:blue\"> |-kernel_conv_index_6_etg_0_remont: 3</span>"
            ],
            "text/plain": [
              "<IPython.core.display.HTML object>"
            ]
          },
          "metadata": {
            "tags": []
          }
        },
        {
          "output_type": "display_data",
          "data": {
            "text/html": [
              "<span style=\"color:cyan\"> |-kernel_conv_index_6_etg_2_desc: 3</span>"
            ],
            "text/plain": [
              "<IPython.core.display.HTML object>"
            ]
          },
          "metadata": {
            "tags": []
          }
        },
        {
          "output_type": "display_data",
          "data": {
            "text/html": [
              "<span style=\"color:blue\"> |-kernel_conv_index_6_etg_2_remont: 3</span>"
            ],
            "text/plain": [
              "<IPython.core.display.HTML object>"
            ]
          },
          "metadata": {
            "tags": []
          }
        },
        {
          "output_type": "display_data",
          "data": {
            "text/html": [
              "<span style=\"color:cyan\"> |-kernel_conv_index_6_etg_3_desc: 3</span>"
            ],
            "text/plain": [
              "<IPython.core.display.HTML object>"
            ]
          },
          "metadata": {
            "tags": []
          }
        },
        {
          "output_type": "display_data",
          "data": {
            "text/html": [
              "<span style=\"color:blue\"> |-kernel_conv_index_6_etg_3_remont: 3</span>"
            ],
            "text/plain": [
              "<IPython.core.display.HTML object>"
            ]
          },
          "metadata": {
            "tags": []
          }
        },
        {
          "output_type": "display_data",
          "data": {
            "text/html": [
              "<span style=\"color:cyan\"> |-kernel_conv_index_6_etg_4_remont: 2</span>"
            ],
            "text/plain": [
              "<IPython.core.display.HTML object>"
            ]
          },
          "metadata": {
            "tags": []
          }
        },
        {
          "output_type": "display_data",
          "data": {
            "text/html": [
              "<span style=\"color:blue\"> |-kernel_conv_index_6_etg_5_remont: 2</span>"
            ],
            "text/plain": [
              "<IPython.core.display.HTML object>"
            ]
          },
          "metadata": {
            "tags": []
          }
        },
        {
          "output_type": "display_data",
          "data": {
            "text/html": [
              "<span style=\"color:cyan\"> |-kernel_conv_index_6_etg_6_desc: 2</span>"
            ],
            "text/plain": [
              "<IPython.core.display.HTML object>"
            ]
          },
          "metadata": {
            "tags": []
          }
        },
        {
          "output_type": "display_data",
          "data": {
            "text/html": [
              "<span style=\"color:blue\"> |-kernel_conv_index_6_etg_6_remont: 2</span>"
            ],
            "text/plain": [
              "<IPython.core.display.HTML object>"
            ]
          },
          "metadata": {
            "tags": []
          }
        },
        {
          "output_type": "display_data",
          "data": {
            "text/html": [
              "<span style=\"color:cyan\"> |-kernel_conv_index_6_etg_7_desc: 2</span>"
            ],
            "text/plain": [
              "<IPython.core.display.HTML object>"
            ]
          },
          "metadata": {
            "tags": []
          }
        },
        {
          "output_type": "display_data",
          "data": {
            "text/html": [
              "<span style=\"color:blue\"> |-kernel_conv_index_6_etg_7_remont: 2</span>"
            ],
            "text/plain": [
              "<IPython.core.display.HTML object>"
            ]
          },
          "metadata": {
            "tags": []
          }
        },
        {
          "output_type": "display_data",
          "data": {
            "text/html": [
              "<span style=\"color:cyan\"> |-kernel_conv_index_6_etg_8_desc: 2</span>"
            ],
            "text/plain": [
              "<IPython.core.display.HTML object>"
            ]
          },
          "metadata": {
            "tags": []
          }
        },
        {
          "output_type": "display_data",
          "data": {
            "text/html": [
              "<span style=\"color:blue\"> |-kernel_conv_index_7_etg_0_desc: 3</span>"
            ],
            "text/plain": [
              "<IPython.core.display.HTML object>"
            ]
          },
          "metadata": {
            "tags": []
          }
        },
        {
          "output_type": "display_data",
          "data": {
            "text/html": [
              "<span style=\"color:cyan\"> |-kernel_conv_index_7_etg_0_remont: 3</span>"
            ],
            "text/plain": [
              "<IPython.core.display.HTML object>"
            ]
          },
          "metadata": {
            "tags": []
          }
        },
        {
          "output_type": "display_data",
          "data": {
            "text/html": [
              "<span style=\"color:blue\"> |-kernel_conv_index_7_etg_2_desc: 3</span>"
            ],
            "text/plain": [
              "<IPython.core.display.HTML object>"
            ]
          },
          "metadata": {
            "tags": []
          }
        },
        {
          "output_type": "display_data",
          "data": {
            "text/html": [
              "<span style=\"color:cyan\"> |-kernel_conv_index_7_etg_2_remont: 2</span>"
            ],
            "text/plain": [
              "<IPython.core.display.HTML object>"
            ]
          },
          "metadata": {
            "tags": []
          }
        },
        {
          "output_type": "display_data",
          "data": {
            "text/html": [
              "<span style=\"color:blue\"> |-kernel_conv_index_7_etg_3_desc: 2</span>"
            ],
            "text/plain": [
              "<IPython.core.display.HTML object>"
            ]
          },
          "metadata": {
            "tags": []
          }
        },
        {
          "output_type": "display_data",
          "data": {
            "text/html": [
              "<span style=\"color:cyan\"> |-kernel_conv_index_7_etg_3_remont: 3</span>"
            ],
            "text/plain": [
              "<IPython.core.display.HTML object>"
            ]
          },
          "metadata": {
            "tags": []
          }
        },
        {
          "output_type": "display_data",
          "data": {
            "text/html": [
              "<span style=\"color:blue\"> |-kernel_conv_index_7_etg_4_remont: 2</span>"
            ],
            "text/plain": [
              "<IPython.core.display.HTML object>"
            ]
          },
          "metadata": {
            "tags": []
          }
        },
        {
          "output_type": "display_data",
          "data": {
            "text/html": [
              "<span style=\"color:cyan\"> |-kernel_conv_index_7_etg_5_remont: 2</span>"
            ],
            "text/plain": [
              "<IPython.core.display.HTML object>"
            ]
          },
          "metadata": {
            "tags": []
          }
        },
        {
          "output_type": "display_data",
          "data": {
            "text/html": [
              "<span style=\"color:blue\"> |-kernel_conv_index_7_etg_6_desc: 2</span>"
            ],
            "text/plain": [
              "<IPython.core.display.HTML object>"
            ]
          },
          "metadata": {
            "tags": []
          }
        },
        {
          "output_type": "display_data",
          "data": {
            "text/html": [
              "<span style=\"color:cyan\"> |-kernel_conv_index_7_etg_6_remont: 2</span>"
            ],
            "text/plain": [
              "<IPython.core.display.HTML object>"
            ]
          },
          "metadata": {
            "tags": []
          }
        },
        {
          "output_type": "display_data",
          "data": {
            "text/html": [
              "<span style=\"color:blue\"> |-kernel_conv_index_7_etg_7_desc: 2</span>"
            ],
            "text/plain": [
              "<IPython.core.display.HTML object>"
            ]
          },
          "metadata": {
            "tags": []
          }
        },
        {
          "output_type": "display_data",
          "data": {
            "text/html": [
              "<span style=\"color:cyan\"> |-kernel_conv_index_7_etg_7_remont: 2</span>"
            ],
            "text/plain": [
              "<IPython.core.display.HTML object>"
            ]
          },
          "metadata": {
            "tags": []
          }
        },
        {
          "output_type": "display_data",
          "data": {
            "text/html": [
              "<span style=\"color:blue\"> |-kernel_conv_index_7_etg_8_desc: 2</span>"
            ],
            "text/plain": [
              "<IPython.core.display.HTML object>"
            ]
          },
          "metadata": {
            "tags": []
          }
        },
        {
          "output_type": "display_data",
          "data": {
            "text/html": [
              "<span style=\"color:cyan\"> |-kernel_conv_index_8_etg_0_desc: 3</span>"
            ],
            "text/plain": [
              "<IPython.core.display.HTML object>"
            ]
          },
          "metadata": {
            "tags": []
          }
        },
        {
          "output_type": "display_data",
          "data": {
            "text/html": [
              "<span style=\"color:blue\"> |-kernel_conv_index_8_etg_0_remont: 3</span>"
            ],
            "text/plain": [
              "<IPython.core.display.HTML object>"
            ]
          },
          "metadata": {
            "tags": []
          }
        },
        {
          "output_type": "display_data",
          "data": {
            "text/html": [
              "<span style=\"color:cyan\"> |-kernel_conv_index_8_etg_2_desc: 3</span>"
            ],
            "text/plain": [
              "<IPython.core.display.HTML object>"
            ]
          },
          "metadata": {
            "tags": []
          }
        },
        {
          "output_type": "display_data",
          "data": {
            "text/html": [
              "<span style=\"color:blue\"> |-kernel_conv_index_8_etg_2_remont: 3</span>"
            ],
            "text/plain": [
              "<IPython.core.display.HTML object>"
            ]
          },
          "metadata": {
            "tags": []
          }
        },
        {
          "output_type": "display_data",
          "data": {
            "text/html": [
              "<span style=\"color:cyan\"> |-kernel_conv_index_8_etg_3_desc: 3</span>"
            ],
            "text/plain": [
              "<IPython.core.display.HTML object>"
            ]
          },
          "metadata": {
            "tags": []
          }
        },
        {
          "output_type": "display_data",
          "data": {
            "text/html": [
              "<span style=\"color:blue\"> |-kernel_conv_index_8_etg_3_remont: 3</span>"
            ],
            "text/plain": [
              "<IPython.core.display.HTML object>"
            ]
          },
          "metadata": {
            "tags": []
          }
        },
        {
          "output_type": "display_data",
          "data": {
            "text/html": [
              "<span style=\"color:cyan\"> |-kernel_conv_index_8_etg_4_remont: 2</span>"
            ],
            "text/plain": [
              "<IPython.core.display.HTML object>"
            ]
          },
          "metadata": {
            "tags": []
          }
        },
        {
          "output_type": "display_data",
          "data": {
            "text/html": [
              "<span style=\"color:blue\"> |-kernel_conv_index_8_etg_5_remont: 2</span>"
            ],
            "text/plain": [
              "<IPython.core.display.HTML object>"
            ]
          },
          "metadata": {
            "tags": []
          }
        },
        {
          "output_type": "display_data",
          "data": {
            "text/html": [
              "<span style=\"color:cyan\"> |-kernel_conv_index_8_etg_6_desc: 2</span>"
            ],
            "text/plain": [
              "<IPython.core.display.HTML object>"
            ]
          },
          "metadata": {
            "tags": []
          }
        },
        {
          "output_type": "display_data",
          "data": {
            "text/html": [
              "<span style=\"color:blue\"> |-kernel_conv_index_8_etg_6_remont: 2</span>"
            ],
            "text/plain": [
              "<IPython.core.display.HTML object>"
            ]
          },
          "metadata": {
            "tags": []
          }
        },
        {
          "output_type": "display_data",
          "data": {
            "text/html": [
              "<span style=\"color:cyan\"> |-kernel_conv_index_8_etg_7_desc: 2</span>"
            ],
            "text/plain": [
              "<IPython.core.display.HTML object>"
            ]
          },
          "metadata": {
            "tags": []
          }
        },
        {
          "output_type": "display_data",
          "data": {
            "text/html": [
              "<span style=\"color:blue\"> |-kernel_conv_index_8_etg_7_remont: 2</span>"
            ],
            "text/plain": [
              "<IPython.core.display.HTML object>"
            ]
          },
          "metadata": {
            "tags": []
          }
        },
        {
          "output_type": "display_data",
          "data": {
            "text/html": [
              "<span style=\"color:cyan\"> |-kernel_conv_index_8_etg_8_desc: 2</span>"
            ],
            "text/plain": [
              "<IPython.core.display.HTML object>"
            ]
          },
          "metadata": {
            "tags": []
          }
        },
        {
          "output_type": "display_data",
          "data": {
            "text/html": [
              "<span style=\"color:blue\"> |-kernel_conv_index_9_etg_0_desc: 3</span>"
            ],
            "text/plain": [
              "<IPython.core.display.HTML object>"
            ]
          },
          "metadata": {
            "tags": []
          }
        },
        {
          "output_type": "display_data",
          "data": {
            "text/html": [
              "<span style=\"color:cyan\"> |-kernel_conv_index_9_etg_0_remont: 3</span>"
            ],
            "text/plain": [
              "<IPython.core.display.HTML object>"
            ]
          },
          "metadata": {
            "tags": []
          }
        },
        {
          "output_type": "display_data",
          "data": {
            "text/html": [
              "<span style=\"color:blue\"> |-kernel_conv_index_9_etg_2_desc: 3</span>"
            ],
            "text/plain": [
              "<IPython.core.display.HTML object>"
            ]
          },
          "metadata": {
            "tags": []
          }
        },
        {
          "output_type": "display_data",
          "data": {
            "text/html": [
              "<span style=\"color:cyan\"> |-kernel_conv_index_9_etg_2_remont: 3</span>"
            ],
            "text/plain": [
              "<IPython.core.display.HTML object>"
            ]
          },
          "metadata": {
            "tags": []
          }
        },
        {
          "output_type": "display_data",
          "data": {
            "text/html": [
              "<span style=\"color:blue\"> |-kernel_conv_index_9_etg_3_desc: 2</span>"
            ],
            "text/plain": [
              "<IPython.core.display.HTML object>"
            ]
          },
          "metadata": {
            "tags": []
          }
        },
        {
          "output_type": "display_data",
          "data": {
            "text/html": [
              "<span style=\"color:cyan\"> |-kernel_conv_index_9_etg_3_remont: 3</span>"
            ],
            "text/plain": [
              "<IPython.core.display.HTML object>"
            ]
          },
          "metadata": {
            "tags": []
          }
        },
        {
          "output_type": "display_data",
          "data": {
            "text/html": [
              "<span style=\"color:blue\"> |-kernel_conv_index_9_etg_4_remont: 2</span>"
            ],
            "text/plain": [
              "<IPython.core.display.HTML object>"
            ]
          },
          "metadata": {
            "tags": []
          }
        },
        {
          "output_type": "display_data",
          "data": {
            "text/html": [
              "<span style=\"color:cyan\"> |-kernel_conv_index_9_etg_5_remont: 2</span>"
            ],
            "text/plain": [
              "<IPython.core.display.HTML object>"
            ]
          },
          "metadata": {
            "tags": []
          }
        },
        {
          "output_type": "display_data",
          "data": {
            "text/html": [
              "<span style=\"color:blue\"> |-kernel_conv_index_9_etg_6_desc: 2</span>"
            ],
            "text/plain": [
              "<IPython.core.display.HTML object>"
            ]
          },
          "metadata": {
            "tags": []
          }
        },
        {
          "output_type": "display_data",
          "data": {
            "text/html": [
              "<span style=\"color:cyan\"> |-kernel_conv_index_9_etg_6_remont: 2</span>"
            ],
            "text/plain": [
              "<IPython.core.display.HTML object>"
            ]
          },
          "metadata": {
            "tags": []
          }
        },
        {
          "output_type": "display_data",
          "data": {
            "text/html": [
              "<span style=\"color:blue\"> |-kernel_conv_index_9_etg_7_desc: 2</span>"
            ],
            "text/plain": [
              "<IPython.core.display.HTML object>"
            ]
          },
          "metadata": {
            "tags": []
          }
        },
        {
          "output_type": "display_data",
          "data": {
            "text/html": [
              "<span style=\"color:cyan\"> |-kernel_conv_index_9_etg_7_remont: 2</span>"
            ],
            "text/plain": [
              "<IPython.core.display.HTML object>"
            ]
          },
          "metadata": {
            "tags": []
          }
        },
        {
          "output_type": "display_data",
          "data": {
            "text/html": [
              "<span style=\"color:blue\"> |-kernel_conv_index_9_etg_8_desc: 2</span>"
            ],
            "text/plain": [
              "<IPython.core.display.HTML object>"
            ]
          },
          "metadata": {
            "tags": []
          }
        },
        {
          "output_type": "display_data",
          "data": {
            "text/html": [
              "<span style=\"color:cyan\"> |-learning_rate: 1e-06</span>"
            ],
            "text/plain": [
              "<IPython.core.display.HTML object>"
            ]
          },
          "metadata": {
            "tags": []
          }
        },
        {
          "output_type": "display_data",
          "data": {
            "text/html": [
              "<span style=\"color:blue\"> |-nb_conv_etg_0_desc: 10</span>"
            ],
            "text/plain": [
              "<IPython.core.display.HTML object>"
            ]
          },
          "metadata": {
            "tags": []
          }
        },
        {
          "output_type": "display_data",
          "data": {
            "text/html": [
              "<span style=\"color:cyan\"> |-nb_conv_etg_0_remont: 10</span>"
            ],
            "text/plain": [
              "<IPython.core.display.HTML object>"
            ]
          },
          "metadata": {
            "tags": []
          }
        },
        {
          "output_type": "display_data",
          "data": {
            "text/html": [
              "<span style=\"color:blue\"> |-nb_conv_etg_1_desc: 0</span>"
            ],
            "text/plain": [
              "<IPython.core.display.HTML object>"
            ]
          },
          "metadata": {
            "tags": []
          }
        },
        {
          "output_type": "display_data",
          "data": {
            "text/html": [
              "<span style=\"color:cyan\"> |-nb_conv_etg_1_remont: 0</span>"
            ],
            "text/plain": [
              "<IPython.core.display.HTML object>"
            ]
          },
          "metadata": {
            "tags": []
          }
        },
        {
          "output_type": "display_data",
          "data": {
            "text/html": [
              "<span style=\"color:blue\"> |-nb_conv_etg_2_desc: 10</span>"
            ],
            "text/plain": [
              "<IPython.core.display.HTML object>"
            ]
          },
          "metadata": {
            "tags": []
          }
        },
        {
          "output_type": "display_data",
          "data": {
            "text/html": [
              "<span style=\"color:cyan\"> |-nb_conv_etg_2_remont: 0</span>"
            ],
            "text/plain": [
              "<IPython.core.display.HTML object>"
            ]
          },
          "metadata": {
            "tags": []
          }
        },
        {
          "output_type": "display_data",
          "data": {
            "text/html": [
              "<span style=\"color:blue\"> |-nb_conv_etg_3_desc: 0</span>"
            ],
            "text/plain": [
              "<IPython.core.display.HTML object>"
            ]
          },
          "metadata": {
            "tags": []
          }
        },
        {
          "output_type": "display_data",
          "data": {
            "text/html": [
              "<span style=\"color:cyan\"> |-nb_conv_etg_3_remont: 0</span>"
            ],
            "text/plain": [
              "<IPython.core.display.HTML object>"
            ]
          },
          "metadata": {
            "tags": []
          }
        },
        {
          "output_type": "display_data",
          "data": {
            "text/html": [
              "<span style=\"color:blue\"> |-nb_conv_etg_4_desc: 0</span>"
            ],
            "text/plain": [
              "<IPython.core.display.HTML object>"
            ]
          },
          "metadata": {
            "tags": []
          }
        },
        {
          "output_type": "display_data",
          "data": {
            "text/html": [
              "<span style=\"color:cyan\"> |-nb_conv_etg_4_remont: 10</span>"
            ],
            "text/plain": [
              "<IPython.core.display.HTML object>"
            ]
          },
          "metadata": {
            "tags": []
          }
        },
        {
          "output_type": "display_data",
          "data": {
            "text/html": [
              "<span style=\"color:blue\"> |-nb_conv_etg_5_desc: 0</span>"
            ],
            "text/plain": [
              "<IPython.core.display.HTML object>"
            ]
          },
          "metadata": {
            "tags": []
          }
        },
        {
          "output_type": "display_data",
          "data": {
            "text/html": [
              "<span style=\"color:cyan\"> |-nb_conv_etg_5_remont: 10</span>"
            ],
            "text/plain": [
              "<IPython.core.display.HTML object>"
            ]
          },
          "metadata": {
            "tags": []
          }
        },
        {
          "output_type": "display_data",
          "data": {
            "text/html": [
              "<span style=\"color:blue\"> |-nb_conv_etg_6_desc: 10</span>"
            ],
            "text/plain": [
              "<IPython.core.display.HTML object>"
            ]
          },
          "metadata": {
            "tags": []
          }
        },
        {
          "output_type": "display_data",
          "data": {
            "text/html": [
              "<span style=\"color:cyan\"> |-nb_conv_etg_6_remont: 10</span>"
            ],
            "text/plain": [
              "<IPython.core.display.HTML object>"
            ]
          },
          "metadata": {
            "tags": []
          }
        },
        {
          "output_type": "display_data",
          "data": {
            "text/html": [
              "<span style=\"color:blue\"> |-nb_conv_etg_7_desc: 10</span>"
            ],
            "text/plain": [
              "<IPython.core.display.HTML object>"
            ]
          },
          "metadata": {
            "tags": []
          }
        },
        {
          "output_type": "display_data",
          "data": {
            "text/html": [
              "<span style=\"color:cyan\"> |-nb_conv_etg_7_remont: 10</span>"
            ],
            "text/plain": [
              "<IPython.core.display.HTML object>"
            ]
          },
          "metadata": {
            "tags": []
          }
        },
        {
          "output_type": "display_data",
          "data": {
            "text/html": [
              "<span style=\"color:blue\"> |-nb_conv_etg_8_desc: 10</span>"
            ],
            "text/plain": [
              "<IPython.core.display.HTML object>"
            ]
          },
          "metadata": {
            "tags": []
          }
        },
        {
          "output_type": "display_data",
          "data": {
            "text/html": [
              "<span style=\"color:cyan\"> |-nb_pool: 8</span>"
            ],
            "text/plain": [
              "<IPython.core.display.HTML object>"
            ]
          },
          "metadata": {
            "tags": []
          }
        },
        {
          "output_type": "display_data",
          "data": {
            "text/html": [
              "<span style=\"color:blue\"> |-pool_type_0: max</span>"
            ],
            "text/plain": [
              "<IPython.core.display.HTML object>"
            ]
          },
          "metadata": {
            "tags": []
          }
        },
        {
          "output_type": "display_data",
          "data": {
            "text/html": [
              "<span style=\"color:cyan\"> |-pool_type_1: max</span>"
            ],
            "text/plain": [
              "<IPython.core.display.HTML object>"
            ]
          },
          "metadata": {
            "tags": []
          }
        },
        {
          "output_type": "display_data",
          "data": {
            "text/html": [
              "<span style=\"color:blue\"> |-pool_type_2: avg</span>"
            ],
            "text/plain": [
              "<IPython.core.display.HTML object>"
            ]
          },
          "metadata": {
            "tags": []
          }
        },
        {
          "output_type": "display_data",
          "data": {
            "text/html": [
              "<span style=\"color:cyan\"> |-pool_type_3: max</span>"
            ],
            "text/plain": [
              "<IPython.core.display.HTML object>"
            ]
          },
          "metadata": {
            "tags": []
          }
        },
        {
          "output_type": "display_data",
          "data": {
            "text/html": [
              "<span style=\"color:blue\"> |-pool_type_4: avg</span>"
            ],
            "text/plain": [
              "<IPython.core.display.HTML object>"
            ]
          },
          "metadata": {
            "tags": []
          }
        },
        {
          "output_type": "display_data",
          "data": {
            "text/html": [
              "<span style=\"color:cyan\"> |-pool_type_5: avg</span>"
            ],
            "text/plain": [
              "<IPython.core.display.HTML object>"
            ]
          },
          "metadata": {
            "tags": []
          }
        },
        {
          "output_type": "display_data",
          "data": {
            "text/html": [
              "<span style=\"color:blue\"> |-pool_type_6: avg</span>"
            ],
            "text/plain": [
              "<IPython.core.display.HTML object>"
            ]
          },
          "metadata": {
            "tags": []
          }
        },
        {
          "output_type": "display_data",
          "data": {
            "text/html": [
              "<span style=\"color:cyan\"> |-pool_type_7: avg</span>"
            ],
            "text/plain": [
              "<IPython.core.display.HTML object>"
            ]
          },
          "metadata": {
            "tags": []
          }
        },
        {
          "output_type": "stream",
          "text": [
            "Epoch 1/5\n",
            "12/12 [==============================] - 2467s 206s/step - loss: nan - accuracy: 0.8278 - val_loss: nan - val_accuracy: 0.8211\n",
            "Epoch 1/5\n",
            "      3/Unknown - 331s 110s/step - loss: nan - accuracy: 0.7920"
          ],
          "name": "stdout"
        },
        {
          "output_type": "error",
          "ename": "KeyboardInterrupt",
          "evalue": "ignored",
          "traceback": [
            "\u001b[0;31m---------------------------------------------------------------------------\u001b[0m",
            "\u001b[0;31mKeyboardInterrupt\u001b[0m                         Traceback (most recent call last)",
            "\u001b[0;32m<ipython-input-15-d1ff89d106ba>\u001b[0m in \u001b[0;36m<module>\u001b[0;34m()\u001b[0m\n\u001b[1;32m      5\u001b[0m              \u001b[0mepochs\u001b[0m\u001b[0;34m=\u001b[0m\u001b[0;36m5\u001b[0m\u001b[0;34m,\u001b[0m\u001b[0;34m\u001b[0m\u001b[0;34m\u001b[0m\u001b[0m\n\u001b[1;32m      6\u001b[0m              \u001b[0mvalidation_data\u001b[0m\u001b[0;34m=\u001b[0m\u001b[0mdataset_val\u001b[0m\u001b[0;34m,\u001b[0m\u001b[0;34m\u001b[0m\u001b[0;34m\u001b[0m\u001b[0m\n\u001b[0;32m----> 7\u001b[0;31m              callbacks=[tf.keras.callbacks.EarlyStopping(min_delta=1e-4)])\n\u001b[0m",
            "\u001b[0;32m/usr/local/lib/python3.6/dist-packages/kerastuner/engine/base_tuner.py\u001b[0m in \u001b[0;36msearch\u001b[0;34m(self, *fit_args, **fit_kwargs)\u001b[0m\n\u001b[1;32m    128\u001b[0m \u001b[0;34m\u001b[0m\u001b[0m\n\u001b[1;32m    129\u001b[0m             \u001b[0mself\u001b[0m\u001b[0;34m.\u001b[0m\u001b[0mon_trial_begin\u001b[0m\u001b[0;34m(\u001b[0m\u001b[0mtrial\u001b[0m\u001b[0;34m)\u001b[0m\u001b[0;34m\u001b[0m\u001b[0;34m\u001b[0m\u001b[0m\n\u001b[0;32m--> 130\u001b[0;31m             \u001b[0mself\u001b[0m\u001b[0;34m.\u001b[0m\u001b[0mrun_trial\u001b[0m\u001b[0;34m(\u001b[0m\u001b[0mtrial\u001b[0m\u001b[0;34m,\u001b[0m \u001b[0;34m*\u001b[0m\u001b[0mfit_args\u001b[0m\u001b[0;34m,\u001b[0m \u001b[0;34m**\u001b[0m\u001b[0mfit_kwargs\u001b[0m\u001b[0;34m)\u001b[0m\u001b[0;34m\u001b[0m\u001b[0;34m\u001b[0m\u001b[0m\n\u001b[0m\u001b[1;32m    131\u001b[0m             \u001b[0mself\u001b[0m\u001b[0;34m.\u001b[0m\u001b[0mon_trial_end\u001b[0m\u001b[0;34m(\u001b[0m\u001b[0mtrial\u001b[0m\u001b[0;34m)\u001b[0m\u001b[0;34m\u001b[0m\u001b[0;34m\u001b[0m\u001b[0m\n\u001b[1;32m    132\u001b[0m         \u001b[0mself\u001b[0m\u001b[0;34m.\u001b[0m\u001b[0mon_search_end\u001b[0m\u001b[0;34m(\u001b[0m\u001b[0;34m)\u001b[0m\u001b[0;34m\u001b[0m\u001b[0;34m\u001b[0m\u001b[0m\n",
            "\u001b[0;32m/usr/local/lib/python3.6/dist-packages/kerastuner/engine/multi_execution_tuner.py\u001b[0m in \u001b[0;36mrun_trial\u001b[0;34m(self, trial, *fit_args, **fit_kwargs)\u001b[0m\n\u001b[1;32m     94\u001b[0m \u001b[0;34m\u001b[0m\u001b[0m\n\u001b[1;32m     95\u001b[0m             \u001b[0mmodel\u001b[0m \u001b[0;34m=\u001b[0m \u001b[0mself\u001b[0m\u001b[0;34m.\u001b[0m\u001b[0mhypermodel\u001b[0m\u001b[0;34m.\u001b[0m\u001b[0mbuild\u001b[0m\u001b[0;34m(\u001b[0m\u001b[0mtrial\u001b[0m\u001b[0;34m.\u001b[0m\u001b[0mhyperparameters\u001b[0m\u001b[0;34m)\u001b[0m\u001b[0;34m\u001b[0m\u001b[0;34m\u001b[0m\u001b[0m\n\u001b[0;32m---> 96\u001b[0;31m             \u001b[0mhistory\u001b[0m \u001b[0;34m=\u001b[0m \u001b[0mmodel\u001b[0m\u001b[0;34m.\u001b[0m\u001b[0mfit\u001b[0m\u001b[0;34m(\u001b[0m\u001b[0;34m*\u001b[0m\u001b[0mfit_args\u001b[0m\u001b[0;34m,\u001b[0m \u001b[0;34m**\u001b[0m\u001b[0mcopied_fit_kwargs\u001b[0m\u001b[0;34m)\u001b[0m\u001b[0;34m\u001b[0m\u001b[0;34m\u001b[0m\u001b[0m\n\u001b[0m\u001b[1;32m     97\u001b[0m             \u001b[0;32mfor\u001b[0m \u001b[0mmetric\u001b[0m\u001b[0;34m,\u001b[0m \u001b[0mepoch_values\u001b[0m \u001b[0;32min\u001b[0m \u001b[0mhistory\u001b[0m\u001b[0;34m.\u001b[0m\u001b[0mhistory\u001b[0m\u001b[0;34m.\u001b[0m\u001b[0mitems\u001b[0m\u001b[0;34m(\u001b[0m\u001b[0;34m)\u001b[0m\u001b[0;34m:\u001b[0m\u001b[0;34m\u001b[0m\u001b[0;34m\u001b[0m\u001b[0m\n\u001b[1;32m     98\u001b[0m                 \u001b[0;32mif\u001b[0m \u001b[0mself\u001b[0m\u001b[0;34m.\u001b[0m\u001b[0moracle\u001b[0m\u001b[0;34m.\u001b[0m\u001b[0mobjective\u001b[0m\u001b[0;34m.\u001b[0m\u001b[0mdirection\u001b[0m \u001b[0;34m==\u001b[0m \u001b[0;34m'min'\u001b[0m\u001b[0;34m:\u001b[0m\u001b[0;34m\u001b[0m\u001b[0;34m\u001b[0m\u001b[0m\n",
            "\u001b[0;32m/usr/local/lib/python3.6/dist-packages/tensorflow/python/keras/engine/training.py\u001b[0m in \u001b[0;36m_method_wrapper\u001b[0;34m(self, *args, **kwargs)\u001b[0m\n\u001b[1;32m     60\u001b[0m   \u001b[0;32mdef\u001b[0m \u001b[0m_method_wrapper\u001b[0m\u001b[0;34m(\u001b[0m\u001b[0mself\u001b[0m\u001b[0;34m,\u001b[0m \u001b[0;34m*\u001b[0m\u001b[0margs\u001b[0m\u001b[0;34m,\u001b[0m \u001b[0;34m**\u001b[0m\u001b[0mkwargs\u001b[0m\u001b[0;34m)\u001b[0m\u001b[0;34m:\u001b[0m\u001b[0;34m\u001b[0m\u001b[0;34m\u001b[0m\u001b[0m\n\u001b[1;32m     61\u001b[0m     \u001b[0;32mif\u001b[0m \u001b[0;32mnot\u001b[0m \u001b[0mself\u001b[0m\u001b[0;34m.\u001b[0m\u001b[0m_in_multi_worker_mode\u001b[0m\u001b[0;34m(\u001b[0m\u001b[0;34m)\u001b[0m\u001b[0;34m:\u001b[0m  \u001b[0;31m# pylint: disable=protected-access\u001b[0m\u001b[0;34m\u001b[0m\u001b[0;34m\u001b[0m\u001b[0m\n\u001b[0;32m---> 62\u001b[0;31m       \u001b[0;32mreturn\u001b[0m \u001b[0mmethod\u001b[0m\u001b[0;34m(\u001b[0m\u001b[0mself\u001b[0m\u001b[0;34m,\u001b[0m \u001b[0;34m*\u001b[0m\u001b[0margs\u001b[0m\u001b[0;34m,\u001b[0m \u001b[0;34m**\u001b[0m\u001b[0mkwargs\u001b[0m\u001b[0;34m)\u001b[0m\u001b[0;34m\u001b[0m\u001b[0;34m\u001b[0m\u001b[0m\n\u001b[0m\u001b[1;32m     63\u001b[0m \u001b[0;34m\u001b[0m\u001b[0m\n\u001b[1;32m     64\u001b[0m     return dc.run_distribute_coordinator(\n",
            "\u001b[0;32m/usr/local/lib/python3.6/dist-packages/tensorflow/python/keras/engine/training.py\u001b[0m in \u001b[0;36mfit\u001b[0;34m(self, x, y, batch_size, epochs, verbose, callbacks, validation_split, validation_data, shuffle, class_weight, sample_weight, initial_epoch, steps_per_epoch, validation_steps, validation_batch_size, validation_freq, max_queue_size, workers, use_multiprocessing, **kwargs)\u001b[0m\n\u001b[1;32m    776\u001b[0m                 batch_size=batch_size):\n\u001b[1;32m    777\u001b[0m               \u001b[0mcallbacks\u001b[0m\u001b[0;34m.\u001b[0m\u001b[0mon_train_batch_begin\u001b[0m\u001b[0;34m(\u001b[0m\u001b[0mstep\u001b[0m\u001b[0;34m)\u001b[0m\u001b[0;34m\u001b[0m\u001b[0;34m\u001b[0m\u001b[0m\n\u001b[0;32m--> 778\u001b[0;31m               \u001b[0mtmp_logs\u001b[0m \u001b[0;34m=\u001b[0m \u001b[0mtrain_function\u001b[0m\u001b[0;34m(\u001b[0m\u001b[0miterator\u001b[0m\u001b[0;34m)\u001b[0m\u001b[0;34m\u001b[0m\u001b[0;34m\u001b[0m\u001b[0m\n\u001b[0m\u001b[1;32m    779\u001b[0m               \u001b[0;31m# Catch possible OutOfRangeError here.\u001b[0m\u001b[0;34m\u001b[0m\u001b[0;34m\u001b[0m\u001b[0;34m\u001b[0m\u001b[0m\n\u001b[1;32m    780\u001b[0m               \u001b[0;31m# TODO(b/150292341): Allow multiple async steps.\u001b[0m\u001b[0;34m\u001b[0m\u001b[0;34m\u001b[0m\u001b[0;34m\u001b[0m\u001b[0m\n",
            "\u001b[0;32m/usr/local/lib/python3.6/dist-packages/tensorflow/python/eager/def_function.py\u001b[0m in \u001b[0;36m__call__\u001b[0;34m(self, *args, **kwds)\u001b[0m\n\u001b[1;32m    578\u001b[0m         \u001b[0mxla_context\u001b[0m\u001b[0;34m.\u001b[0m\u001b[0mExit\u001b[0m\u001b[0;34m(\u001b[0m\u001b[0;34m)\u001b[0m\u001b[0;34m\u001b[0m\u001b[0;34m\u001b[0m\u001b[0m\n\u001b[1;32m    579\u001b[0m     \u001b[0;32melse\u001b[0m\u001b[0;34m:\u001b[0m\u001b[0;34m\u001b[0m\u001b[0;34m\u001b[0m\u001b[0m\n\u001b[0;32m--> 580\u001b[0;31m       \u001b[0mresult\u001b[0m \u001b[0;34m=\u001b[0m \u001b[0mself\u001b[0m\u001b[0;34m.\u001b[0m\u001b[0m_call\u001b[0m\u001b[0;34m(\u001b[0m\u001b[0;34m*\u001b[0m\u001b[0margs\u001b[0m\u001b[0;34m,\u001b[0m \u001b[0;34m**\u001b[0m\u001b[0mkwds\u001b[0m\u001b[0;34m)\u001b[0m\u001b[0;34m\u001b[0m\u001b[0;34m\u001b[0m\u001b[0m\n\u001b[0m\u001b[1;32m    581\u001b[0m \u001b[0;34m\u001b[0m\u001b[0m\n\u001b[1;32m    582\u001b[0m     \u001b[0;32mif\u001b[0m \u001b[0mtracing_count\u001b[0m \u001b[0;34m==\u001b[0m \u001b[0mself\u001b[0m\u001b[0;34m.\u001b[0m\u001b[0m_get_tracing_count\u001b[0m\u001b[0;34m(\u001b[0m\u001b[0;34m)\u001b[0m\u001b[0;34m:\u001b[0m\u001b[0;34m\u001b[0m\u001b[0;34m\u001b[0m\u001b[0m\n",
            "\u001b[0;32m/usr/local/lib/python3.6/dist-packages/tensorflow/python/eager/def_function.py\u001b[0m in \u001b[0;36m_call\u001b[0;34m(self, *args, **kwds)\u001b[0m\n\u001b[1;32m    609\u001b[0m       \u001b[0;31m# In this case we have created variables on the first call, so we run the\u001b[0m\u001b[0;34m\u001b[0m\u001b[0;34m\u001b[0m\u001b[0;34m\u001b[0m\u001b[0m\n\u001b[1;32m    610\u001b[0m       \u001b[0;31m# defunned version which is guaranteed to never create variables.\u001b[0m\u001b[0;34m\u001b[0m\u001b[0;34m\u001b[0m\u001b[0;34m\u001b[0m\u001b[0m\n\u001b[0;32m--> 611\u001b[0;31m       \u001b[0;32mreturn\u001b[0m \u001b[0mself\u001b[0m\u001b[0;34m.\u001b[0m\u001b[0m_stateless_fn\u001b[0m\u001b[0;34m(\u001b[0m\u001b[0;34m*\u001b[0m\u001b[0margs\u001b[0m\u001b[0;34m,\u001b[0m \u001b[0;34m**\u001b[0m\u001b[0mkwds\u001b[0m\u001b[0;34m)\u001b[0m  \u001b[0;31m# pylint: disable=not-callable\u001b[0m\u001b[0;34m\u001b[0m\u001b[0;34m\u001b[0m\u001b[0m\n\u001b[0m\u001b[1;32m    612\u001b[0m     \u001b[0;32melif\u001b[0m \u001b[0mself\u001b[0m\u001b[0;34m.\u001b[0m\u001b[0m_stateful_fn\u001b[0m \u001b[0;32mis\u001b[0m \u001b[0;32mnot\u001b[0m \u001b[0;32mNone\u001b[0m\u001b[0;34m:\u001b[0m\u001b[0;34m\u001b[0m\u001b[0;34m\u001b[0m\u001b[0m\n\u001b[1;32m    613\u001b[0m       \u001b[0;31m# Release the lock early so that multiple threads can perform the call\u001b[0m\u001b[0;34m\u001b[0m\u001b[0;34m\u001b[0m\u001b[0;34m\u001b[0m\u001b[0m\n",
            "\u001b[0;32m/usr/local/lib/python3.6/dist-packages/tensorflow/python/eager/function.py\u001b[0m in \u001b[0;36m__call__\u001b[0;34m(self, *args, **kwargs)\u001b[0m\n\u001b[1;32m   2418\u001b[0m     \u001b[0;32mwith\u001b[0m \u001b[0mself\u001b[0m\u001b[0;34m.\u001b[0m\u001b[0m_lock\u001b[0m\u001b[0;34m:\u001b[0m\u001b[0;34m\u001b[0m\u001b[0;34m\u001b[0m\u001b[0m\n\u001b[1;32m   2419\u001b[0m       \u001b[0mgraph_function\u001b[0m\u001b[0;34m,\u001b[0m \u001b[0margs\u001b[0m\u001b[0;34m,\u001b[0m \u001b[0mkwargs\u001b[0m \u001b[0;34m=\u001b[0m \u001b[0mself\u001b[0m\u001b[0;34m.\u001b[0m\u001b[0m_maybe_define_function\u001b[0m\u001b[0;34m(\u001b[0m\u001b[0margs\u001b[0m\u001b[0;34m,\u001b[0m \u001b[0mkwargs\u001b[0m\u001b[0;34m)\u001b[0m\u001b[0;34m\u001b[0m\u001b[0;34m\u001b[0m\u001b[0m\n\u001b[0;32m-> 2420\u001b[0;31m     \u001b[0;32mreturn\u001b[0m \u001b[0mgraph_function\u001b[0m\u001b[0;34m.\u001b[0m\u001b[0m_filtered_call\u001b[0m\u001b[0;34m(\u001b[0m\u001b[0margs\u001b[0m\u001b[0;34m,\u001b[0m \u001b[0mkwargs\u001b[0m\u001b[0;34m)\u001b[0m  \u001b[0;31m# pylint: disable=protected-access\u001b[0m\u001b[0;34m\u001b[0m\u001b[0;34m\u001b[0m\u001b[0m\n\u001b[0m\u001b[1;32m   2421\u001b[0m \u001b[0;34m\u001b[0m\u001b[0m\n\u001b[1;32m   2422\u001b[0m   \u001b[0;34m@\u001b[0m\u001b[0mproperty\u001b[0m\u001b[0;34m\u001b[0m\u001b[0;34m\u001b[0m\u001b[0m\n",
            "\u001b[0;32m/usr/local/lib/python3.6/dist-packages/tensorflow/python/eager/function.py\u001b[0m in \u001b[0;36m_filtered_call\u001b[0;34m(self, args, kwargs)\u001b[0m\n\u001b[1;32m   1663\u001b[0m          if isinstance(t, (ops.Tensor,\n\u001b[1;32m   1664\u001b[0m                            resource_variable_ops.BaseResourceVariable))),\n\u001b[0;32m-> 1665\u001b[0;31m         self.captured_inputs)\n\u001b[0m\u001b[1;32m   1666\u001b[0m \u001b[0;34m\u001b[0m\u001b[0m\n\u001b[1;32m   1667\u001b[0m   \u001b[0;32mdef\u001b[0m \u001b[0m_call_flat\u001b[0m\u001b[0;34m(\u001b[0m\u001b[0mself\u001b[0m\u001b[0;34m,\u001b[0m \u001b[0margs\u001b[0m\u001b[0;34m,\u001b[0m \u001b[0mcaptured_inputs\u001b[0m\u001b[0;34m,\u001b[0m \u001b[0mcancellation_manager\u001b[0m\u001b[0;34m=\u001b[0m\u001b[0;32mNone\u001b[0m\u001b[0;34m)\u001b[0m\u001b[0;34m:\u001b[0m\u001b[0;34m\u001b[0m\u001b[0;34m\u001b[0m\u001b[0m\n",
            "\u001b[0;32m/usr/local/lib/python3.6/dist-packages/tensorflow/python/eager/function.py\u001b[0m in \u001b[0;36m_call_flat\u001b[0;34m(self, args, captured_inputs, cancellation_manager)\u001b[0m\n\u001b[1;32m   1744\u001b[0m       \u001b[0;31m# No tape is watching; skip to running the function.\u001b[0m\u001b[0;34m\u001b[0m\u001b[0;34m\u001b[0m\u001b[0;34m\u001b[0m\u001b[0m\n\u001b[1;32m   1745\u001b[0m       return self._build_call_outputs(self._inference_function.call(\n\u001b[0;32m-> 1746\u001b[0;31m           ctx, args, cancellation_manager=cancellation_manager))\n\u001b[0m\u001b[1;32m   1747\u001b[0m     forward_backward = self._select_forward_and_backward_functions(\n\u001b[1;32m   1748\u001b[0m         \u001b[0margs\u001b[0m\u001b[0;34m,\u001b[0m\u001b[0;34m\u001b[0m\u001b[0;34m\u001b[0m\u001b[0m\n",
            "\u001b[0;32m/usr/local/lib/python3.6/dist-packages/tensorflow/python/eager/function.py\u001b[0m in \u001b[0;36mcall\u001b[0;34m(self, ctx, args, cancellation_manager)\u001b[0m\n\u001b[1;32m    596\u001b[0m               \u001b[0minputs\u001b[0m\u001b[0;34m=\u001b[0m\u001b[0margs\u001b[0m\u001b[0;34m,\u001b[0m\u001b[0;34m\u001b[0m\u001b[0;34m\u001b[0m\u001b[0m\n\u001b[1;32m    597\u001b[0m               \u001b[0mattrs\u001b[0m\u001b[0;34m=\u001b[0m\u001b[0mattrs\u001b[0m\u001b[0;34m,\u001b[0m\u001b[0;34m\u001b[0m\u001b[0;34m\u001b[0m\u001b[0m\n\u001b[0;32m--> 598\u001b[0;31m               ctx=ctx)\n\u001b[0m\u001b[1;32m    599\u001b[0m         \u001b[0;32melse\u001b[0m\u001b[0;34m:\u001b[0m\u001b[0;34m\u001b[0m\u001b[0;34m\u001b[0m\u001b[0m\n\u001b[1;32m    600\u001b[0m           outputs = execute.execute_with_cancellation(\n",
            "\u001b[0;32m/usr/local/lib/python3.6/dist-packages/tensorflow/python/eager/execute.py\u001b[0m in \u001b[0;36mquick_execute\u001b[0;34m(op_name, num_outputs, inputs, attrs, ctx, name)\u001b[0m\n\u001b[1;32m     58\u001b[0m     \u001b[0mctx\u001b[0m\u001b[0;34m.\u001b[0m\u001b[0mensure_initialized\u001b[0m\u001b[0;34m(\u001b[0m\u001b[0;34m)\u001b[0m\u001b[0;34m\u001b[0m\u001b[0;34m\u001b[0m\u001b[0m\n\u001b[1;32m     59\u001b[0m     tensors = pywrap_tfe.TFE_Py_Execute(ctx._handle, device_name, op_name,\n\u001b[0;32m---> 60\u001b[0;31m                                         inputs, attrs, num_outputs)\n\u001b[0m\u001b[1;32m     61\u001b[0m   \u001b[0;32mexcept\u001b[0m \u001b[0mcore\u001b[0m\u001b[0;34m.\u001b[0m\u001b[0m_NotOkStatusException\u001b[0m \u001b[0;32mas\u001b[0m \u001b[0me\u001b[0m\u001b[0;34m:\u001b[0m\u001b[0;34m\u001b[0m\u001b[0;34m\u001b[0m\u001b[0m\n\u001b[1;32m     62\u001b[0m     \u001b[0;32mif\u001b[0m \u001b[0mname\u001b[0m \u001b[0;32mis\u001b[0m \u001b[0;32mnot\u001b[0m \u001b[0;32mNone\u001b[0m\u001b[0;34m:\u001b[0m\u001b[0;34m\u001b[0m\u001b[0;34m\u001b[0m\u001b[0m\n",
            "\u001b[0;31mKeyboardInterrupt\u001b[0m: "
          ]
        }
      ]
    },
    {
      "cell_type": "code",
      "metadata": {
        "id": "br6TIogf2T7z",
        "colab_type": "code",
        "colab": {}
      },
      "source": [
        "tuner.results_summary()"
      ],
      "execution_count": 0,
      "outputs": []
    },
    {
      "cell_type": "markdown",
      "metadata": {
        "id": "HGld0-3_3RmS",
        "colab_type": "text"
      },
      "source": [
        "# Résultats premier groupe d'entrainement (avant erreur de dimension)"
      ]
    },
    {
      "cell_type": "markdown",
      "metadata": {
        "id": "gB4CP0E83Zqb",
        "colab_type": "text"
      },
      "source": [
        "Results summary\n",
        "|-Results in Bayesian_optimization/Modele000002_Keras_Bayesian\n",
        "|-Showing 10 best trials\n",
        "|-Objective(name='val_accuracy', direction='max')\n",
        "Trial summary\n",
        "|-Trial ID: e3de1ef4d6472fd0557549403c1a956e\n",
        "|-Score: 0.846445620059967\n",
        "|-Best step: 0\n",
        "Hyperparameters:\n",
        "|-activation_conv_index_0_etg_0_desc: relu\n",
        "|-activation_conv_index_0_etg_0_remont: relu\n",
        "|-activation_conv_index_0_etg_1_desc: linear\n",
        "|-activation_conv_index_0_etg_1_remont: linear\n",
        "|-activation_conv_index_0_etg_2_desc: selu\n",
        "|-activation_conv_index_0_etg_2_remont: relu\n",
        "|-activation_conv_index_0_etg_3_desc: linear\n",
        "|-activation_conv_index_0_etg_3_remont: relu\n",
        "|-activation_conv_index_0_etg_4_desc: elu\n",
        "|-activation_conv_index_0_etg_4_remont: relu\n",
        "|-activation_conv_index_0_etg_5_desc: relu\n",
        "|-activation_conv_index_0_etg_5_remont: relu\n",
        "|-activation_conv_index_0_etg_6_desc: relu\n",
        "|-activation_conv_index_0_etg_6_remont: relu\n",
        "|-activation_conv_index_0_etg_7_desc: relu\n",
        "|-activation_conv_index_0_etg_7_remont: relu\n",
        "|-activation_conv_index_0_etg_8_desc: relu\n",
        "|-activation_conv_index_1_etg_0_desc: selu\n",
        "|-activation_conv_index_1_etg_0_remont: relu\n",
        "|-activation_conv_index_1_etg_1_desc: linear\n",
        "|-activation_conv_index_1_etg_1_remont: relu\n",
        "|-activation_conv_index_1_etg_2_desc: relu\n",
        "|-activation_conv_index_1_etg_2_remont: elu\n",
        "|-activation_conv_index_1_etg_3_desc: relu\n",
        "|-activation_conv_index_1_etg_3_remont: relu\n",
        "|-activation_conv_index_2_etg_0_desc: selu\n",
        "|-activation_conv_index_2_etg_0_remont: elu\n",
        "|-activation_conv_index_2_etg_1_desc: tanh\n",
        "|-activation_conv_index_2_etg_2_desc: relu\n",
        "|-activation_conv_index_2_etg_2_remont: tanh\n",
        "|-activation_conv_index_2_etg_3_desc: relu\n",
        "|-activation_conv_index_2_etg_3_remont: relu\n",
        "|-activation_conv_index_3_etg_0_remont: selu\n",
        "|-activation_conv_index_3_etg_2_desc: relu\n",
        "|-beta_1: 1.1567454740840701\n",
        "|-beta_2: 1.1580270355932856\n",
        "|-filtre_conv_index_0_etg_0_desc: 100\n",
        "|-filtre_conv_index_0_etg_0_remont: 100\n",
        "|-filtre_conv_index_0_etg_1_desc: 1\n",
        "|-filtre_conv_index_0_etg_1_remont: 100\n",
        "|-filtre_conv_index_0_etg_2_desc: 10\n",
        "|-filtre_conv_index_0_etg_2_remont: 3\n",
        "|-filtre_conv_index_0_etg_3_desc: 3\n",
        "|-filtre_conv_index_0_etg_3_remont: 50\n",
        "|-filtre_conv_index_0_etg_4_desc: 500\n",
        "|-filtre_conv_index_0_etg_4_remont: 1\n",
        "|-filtre_conv_index_0_etg_5_desc: 1\n",
        "|-filtre_conv_index_0_etg_5_remont: 1\n",
        "|-filtre_conv_index_0_etg_6_desc: 1\n",
        "|-filtre_conv_index_0_etg_6_remont: 1\n",
        "|-filtre_conv_index_0_etg_7_desc: 1\n",
        "|-filtre_conv_index_0_etg_7_remont: 1\n",
        "|-filtre_conv_index_0_etg_8_desc: 1\n",
        "|-filtre_conv_index_1_etg_0_desc: 50\n",
        "|-filtre_conv_index_1_etg_0_remont: 50\n",
        "|-filtre_conv_index_1_etg_1_desc: 500\n",
        "|-filtre_conv_index_1_etg_1_remont: 1\n",
        "|-filtre_conv_index_1_etg_2_desc: 1\n",
        "|-filtre_conv_index_1_etg_2_remont: 50\n",
        "|-filtre_conv_index_1_etg_3_desc: 1\n",
        "|-filtre_conv_index_1_etg_3_remont: 1\n",
        "|-filtre_conv_index_2_etg_0_desc: 500\n",
        "|-filtre_conv_index_2_etg_0_remont: 50\n",
        "|-filtre_conv_index_2_etg_1_desc: 10\n",
        "|-filtre_conv_index_2_etg_2_desc: 1\n",
        "|-filtre_conv_index_2_etg_2_remont: 100\n",
        "|-filtre_conv_index_2_etg_3_desc: 1\n",
        "|-filtre_conv_index_2_etg_3_remont: 1\n",
        "|-filtre_conv_index_3_etg_0_remont: 3\n",
        "|-filtre_conv_index_3_etg_2_desc: 1\n",
        "|-filtre_deconv_etg_0_remont: 1\n",
        "|-filtre_deconv_etg_1_remont: 3\n",
        "|-filtre_deconv_etg_2_remont: 50\n",
        "|-filtre_deconv_etg_3_remont: 50\n",
        "|-filtre_deconv_etg_4_remont: 1\n",
        "|-filtre_deconv_etg_5_remont: 1\n",
        "|-filtre_deconv_etg_6_remont: 1\n",
        "|-filtre_deconv_etg_7_remont: 1\n",
        "|-kernel_conv_index_0_etg_0_desc: 3\n",
        "|-kernel_conv_index_0_etg_0_remont: 2\n",
        "|-kernel_conv_index_0_etg_1_desc: 3\n",
        "|-kernel_conv_index_0_etg_1_remont: 3\n",
        "|-kernel_conv_index_0_etg_2_desc: 3\n",
        "|-kernel_conv_index_0_etg_2_remont: 2\n",
        "|-kernel_conv_index_0_etg_3_desc: 2\n",
        "|-kernel_conv_index_0_etg_3_remont: 2\n",
        "|-kernel_conv_index_0_etg_4_desc: 3\n",
        "|-kernel_conv_index_0_etg_4_remont: 2\n",
        "|-kernel_conv_index_0_etg_5_desc: 2\n",
        "|-kernel_conv_index_0_etg_5_remont: 2\n",
        "|-kernel_conv_index_0_etg_6_desc: 2\n",
        "|-kernel_conv_index_0_etg_6_remont: 2\n",
        "|-kernel_conv_index_0_etg_7_desc: 2\n",
        "|-kernel_conv_index_0_etg_7_remont: 2\n",
        "|-kernel_conv_index_0_etg_8_desc: 2\n",
        "|-kernel_conv_index_1_etg_0_desc: 3\n",
        "|-kernel_conv_index_1_etg_0_remont: 3\n",
        "|-kernel_conv_index_1_etg_1_desc: 2\n",
        "|-kernel_conv_index_1_etg_1_remont: 2\n",
        "|-kernel_conv_index_1_etg_2_desc: 2\n",
        "|-kernel_conv_index_1_etg_2_remont: 2\n",
        "|-kernel_conv_index_1_etg_3_desc: 2\n",
        "|-kernel_conv_index_1_etg_3_remont: 2\n",
        "|-kernel_conv_index_2_etg_0_desc: 3\n",
        "|-kernel_conv_index_2_etg_0_remont: 3\n",
        "|-kernel_conv_index_2_etg_1_desc: 2\n",
        "|-kernel_conv_index_2_etg_2_desc: 2\n",
        "|-kernel_conv_index_2_etg_2_remont: 3\n",
        "|-kernel_conv_index_2_etg_3_desc: 2\n",
        "|-kernel_conv_index_2_etg_3_remont: 2\n",
        "|-kernel_conv_index_3_etg_0_remont: 2\n",
        "|-kernel_conv_index_3_etg_2_desc: 2\n",
        "|-learning_rate: 1e-05\n",
        "|-nb_conv_etg_0_desc: 3\n",
        "|-nb_conv_etg_0_remont: 4\n",
        "|-nb_conv_etg_1_desc: 2\n",
        "|-nb_conv_etg_1_remont: 2\n",
        "|-nb_conv_etg_2_desc: 4\n",
        "|-nb_conv_etg_2_remont: 2\n",
        "|-nb_conv_etg_3_desc: 3\n",
        "|-nb_conv_etg_3_remont: 3\n",
        "|-nb_conv_etg_4_desc: 0\n",
        "|-nb_conv_etg_4_remont: 1\n",
        "|-nb_conv_etg_5_desc: 1\n",
        "|-nb_conv_etg_5_remont: 1\n",
        "|-nb_conv_etg_6_desc: 1\n",
        "|-nb_conv_etg_6_remont: 1\n",
        "|-nb_conv_etg_7_desc: 1\n",
        "|-nb_conv_etg_7_remont: 1\n",
        "|-nb_conv_etg_8_desc: 1\n",
        "|-nb_pool: 8\n",
        "|-pool_type_0: max\n",
        "|-pool_type_1: max\n",
        "|-pool_type_2: max\n",
        "|-pool_type_3: max\n",
        "|-pool_type_4: max\n",
        "|-pool_type_5: max\n",
        "|-pool_type_6: max\n",
        "|-pool_type_7: max\n",
        "Trial summary\n",
        "|-Trial ID: f5fa2f79bdd80f70c674000201c6f0e0\n",
        "|-Score: 0.846445620059967\n",
        "|-Best step: 0\n",
        "Hyperparameters:\n",
        "|-activation_conv_index_0_etg_0_desc: tanh\n",
        "|-activation_conv_index_0_etg_0_remont: selu\n",
        "|-activation_conv_index_0_etg_1_desc: tanh\n",
        "|-activation_conv_index_0_etg_1_remont: relu\n",
        "|-activation_conv_index_0_etg_2_desc: tanh\n",
        "|-activation_conv_index_0_etg_2_remont: elu\n",
        "|-activation_conv_index_0_etg_3_desc: linear\n",
        "|-activation_conv_index_0_etg_3_remont: selu\n",
        "|-activation_conv_index_0_etg_4_desc: tanh\n",
        "|-activation_conv_index_0_etg_4_remont: tanh\n",
        "|-activation_conv_index_0_etg_5_desc: selu\n",
        "|-activation_conv_index_0_etg_5_remont: elu\n",
        "|-activation_conv_index_0_etg_6_desc: linear\n",
        "|-activation_conv_index_0_etg_6_remont: linear\n",
        "|-activation_conv_index_0_etg_7_desc: selu\n",
        "|-activation_conv_index_0_etg_7_remont: tanh\n",
        "|-activation_conv_index_0_etg_8_desc: relu\n",
        "|-activation_conv_index_1_etg_0_desc: tanh\n",
        "|-activation_conv_index_1_etg_0_remont: elu\n",
        "|-activation_conv_index_1_etg_1_desc: tanh\n",
        "|-activation_conv_index_1_etg_1_remont: selu\n",
        "|-activation_conv_index_1_etg_2_desc: linear\n",
        "|-activation_conv_index_1_etg_2_remont: elu\n",
        "|-activation_conv_index_1_etg_3_desc: linear\n",
        "|-activation_conv_index_1_etg_3_remont: elu\n",
        "|-activation_conv_index_1_etg_4_desc: relu\n",
        "|-activation_conv_index_1_etg_4_remont: relu\n",
        "|-activation_conv_index_1_etg_5_remont: relu\n",
        "|-activation_conv_index_1_etg_6_desc: relu\n",
        "|-activation_conv_index_1_etg_7_desc: relu\n",
        "|-activation_conv_index_1_etg_7_remont: relu\n",
        "|-activation_conv_index_1_etg_8_desc: relu\n",
        "|-activation_conv_index_2_etg_0_desc: relu\n",
        "|-activation_conv_index_2_etg_0_remont: linear\n",
        "|-activation_conv_index_2_etg_1_desc: selu\n",
        "|-activation_conv_index_2_etg_2_desc: elu\n",
        "|-activation_conv_index_2_etg_2_remont: selu\n",
        "|-activation_conv_index_2_etg_3_desc: linear\n",
        "|-activation_conv_index_2_etg_3_remont: relu\n",
        "|-activation_conv_index_2_etg_4_desc: relu\n",
        "|-activation_conv_index_2_etg_4_remont: relu\n",
        "|-activation_conv_index_2_etg_7_desc: relu\n",
        "|-activation_conv_index_2_etg_7_remont: relu\n",
        "|-activation_conv_index_2_etg_8_desc: relu\n",
        "|-activation_conv_index_3_etg_0_remont: elu\n",
        "|-activation_conv_index_3_etg_2_desc: relu\n",
        "|-activation_conv_index_3_etg_7_remont: relu\n",
        "|-beta_1: 0.9672309653263195\n",
        "|-beta_2: 1.0901985450142682\n",
        "|-filtre_conv_index_0_etg_0_desc: 100\n",
        "|-filtre_conv_index_0_etg_0_remont: 100\n",
        "|-filtre_conv_index_0_etg_1_desc: 10\n",
        "|-filtre_conv_index_0_etg_1_remont: 3\n",
        "|-filtre_conv_index_0_etg_2_desc: 10\n",
        "|-filtre_conv_index_0_etg_2_remont: 500\n",
        "|-filtre_conv_index_0_etg_3_desc: 50\n",
        "|-filtre_conv_index_0_etg_3_remont: 100\n",
        "|-filtre_conv_index_0_etg_4_desc: 1\n",
        "|-filtre_conv_index_0_etg_4_remont: 1\n",
        "|-filtre_conv_index_0_etg_5_desc: 10\n",
        "|-filtre_conv_index_0_etg_5_remont: 100\n",
        "|-filtre_conv_index_0_etg_6_desc: 500\n",
        "|-filtre_conv_index_0_etg_6_remont: 50\n",
        "|-filtre_conv_index_0_etg_7_desc: 500\n",
        "|-filtre_conv_index_0_etg_7_remont: 100\n",
        "|-filtre_conv_index_0_etg_8_desc: 500\n",
        "|-filtre_conv_index_1_etg_0_desc: 50\n",
        "|-filtre_conv_index_1_etg_0_remont: 50\n",
        "|-filtre_conv_index_1_etg_1_desc: 500\n",
        "|-filtre_conv_index_1_etg_1_remont: 3\n",
        "|-filtre_conv_index_1_etg_2_desc: 500\n",
        "|-filtre_conv_index_1_etg_2_remont: 3\n",
        "|-filtre_conv_index_1_etg_3_desc: 500\n",
        "|-filtre_conv_index_1_etg_3_remont: 50\n",
        "|-filtre_conv_index_1_etg_4_desc: 1\n",
        "|-filtre_conv_index_1_etg_4_remont: 1\n",
        "|-filtre_conv_index_1_etg_5_remont: 1\n",
        "|-filtre_conv_index_1_etg_6_desc: 1\n",
        "|-filtre_conv_index_1_etg_7_desc: 1\n",
        "|-filtre_conv_index_1_etg_7_remont: 1\n",
        "|-filtre_conv_index_1_etg_8_desc: 1\n",
        "|-filtre_conv_index_2_etg_0_desc: 3\n",
        "|-filtre_conv_index_2_etg_0_remont: 10\n",
        "|-filtre_conv_index_2_etg_1_desc: 100\n",
        "|-filtre_conv_index_2_etg_2_desc: 50\n",
        "|-filtre_conv_index_2_etg_2_remont: 50\n",
        "|-filtre_conv_index_2_etg_3_desc: 500\n",
        "|-filtre_conv_index_2_etg_3_remont: 50\n",
        "|-filtre_conv_index_2_etg_4_desc: 1\n",
        "|-filtre_conv_index_2_etg_4_remont: 1\n",
        "|-filtre_conv_index_2_etg_7_desc: 1\n",
        "|-filtre_conv_index_2_etg_7_remont: 1\n",
        "|-filtre_conv_index_2_etg_8_desc: 1\n",
        "|-filtre_conv_index_3_etg_0_remont: 3\n",
        "|-filtre_conv_index_3_etg_2_desc: 1\n",
        "|-filtre_conv_index_3_etg_7_remont: 1\n",
        "|-filtre_deconv_etg_0_remont: 1\n",
        "|-filtre_deconv_etg_1_remont: 50\n",
        "|-filtre_deconv_etg_2_remont: 500\n",
        "|-filtre_deconv_etg_3_remont: 1\n",
        "|-filtre_deconv_etg_4_remont: 3\n",
        "|-filtre_deconv_etg_5_remont: 50\n",
        "|-filtre_deconv_etg_6_remont: 10\n",
        "|-filtre_deconv_etg_7_remont: 100\n",
        "|-kernel_conv_index_0_etg_0_desc: 2\n",
        "|-kernel_conv_index_0_etg_0_remont: 3\n",
        "|-kernel_conv_index_0_etg_1_desc: 3\n",
        "|-kernel_conv_index_0_etg_1_remont: 3\n",
        "|-kernel_conv_index_0_etg_2_desc: 3\n",
        "|-kernel_conv_index_0_etg_2_remont: 3\n",
        "|-kernel_conv_index_0_etg_3_desc: 2\n",
        "|-kernel_conv_index_0_etg_3_remont: 3\n",
        "|-kernel_conv_index_0_etg_4_desc: 3\n",
        "|-kernel_conv_index_0_etg_4_remont: 2\n",
        "|-kernel_conv_index_0_etg_5_desc: 2\n",
        "|-kernel_conv_index_0_etg_5_remont: 3\n",
        "|-kernel_conv_index_0_etg_6_desc: 2\n",
        "|-kernel_conv_index_0_etg_6_remont: 2\n",
        "|-kernel_conv_index_0_etg_7_desc: 2\n",
        "|-kernel_conv_index_0_etg_7_remont: 3\n",
        "|-kernel_conv_index_0_etg_8_desc: 2\n",
        "|-kernel_conv_index_1_etg_0_desc: 3\n",
        "|-kernel_conv_index_1_etg_0_remont: 2\n",
        "|-kernel_conv_index_1_etg_1_desc: 3\n",
        "|-kernel_conv_index_1_etg_1_remont: 3\n",
        "|-kernel_conv_index_1_etg_2_desc: 2\n",
        "|-kernel_conv_index_1_etg_2_remont: 3\n",
        "|-kernel_conv_index_1_etg_3_desc: 2\n",
        "|-kernel_conv_index_1_etg_3_remont: 2\n",
        "|-kernel_conv_index_1_etg_4_desc: 2\n",
        "|-kernel_conv_index_1_etg_4_remont: 2\n",
        "|-kernel_conv_index_1_etg_5_remont: 2\n",
        "|-kernel_conv_index_1_etg_6_desc: 2\n",
        "|-kernel_conv_index_1_etg_7_desc: 2\n",
        "|-kernel_conv_index_1_etg_7_remont: 2\n",
        "|-kernel_conv_index_1_etg_8_desc: 2\n",
        "|-kernel_conv_index_2_etg_0_desc: 3\n",
        "|-kernel_conv_index_2_etg_0_remont: 3\n",
        "|-kernel_conv_index_2_etg_1_desc: 2\n",
        "|-kernel_conv_index_2_etg_2_desc: 3\n",
        "|-kernel_conv_index_2_etg_2_remont: 2\n",
        "|-kernel_conv_index_2_etg_3_desc: 3\n",
        "|-kernel_conv_index_2_etg_3_remont: 3\n",
        "|-kernel_conv_index_2_etg_4_desc: 2\n",
        "|-kernel_conv_index_2_etg_4_remont: 2\n",
        "|-kernel_conv_index_2_etg_7_desc: 2\n",
        "|-kernel_conv_index_2_etg_7_remont: 2\n",
        "|-kernel_conv_index_2_etg_8_desc: 2\n",
        "|-kernel_conv_index_3_etg_0_remont: 3\n",
        "|-kernel_conv_index_3_etg_2_desc: 3\n",
        "|-kernel_conv_index_3_etg_7_remont: 2\n",
        "|-learning_rate: 1e-05\n",
        "|-nb_conv_etg_0_desc: 3\n",
        "|-nb_conv_etg_0_remont: 1\n",
        "|-nb_conv_etg_1_desc: 1\n",
        "|-nb_conv_etg_1_remont: 0\n",
        "|-nb_conv_etg_2_desc: 2\n",
        "|-nb_conv_etg_2_remont: 2\n",
        "|-nb_conv_etg_3_desc: 1\n",
        "|-nb_conv_etg_3_remont: 1\n",
        "|-nb_conv_etg_4_desc: 3\n",
        "|-nb_conv_etg_4_remont: 3\n",
        "|-nb_conv_etg_5_desc: 1\n",
        "|-nb_conv_etg_5_remont: 2\n",
        "|-nb_conv_etg_6_desc: 2\n",
        "|-nb_conv_etg_6_remont: 0\n",
        "|-nb_conv_etg_7_desc: 3\n",
        "|-nb_conv_etg_7_remont: 4\n",
        "|-nb_conv_etg_8_desc: 3\n",
        "|-nb_pool: 8\n",
        "|-pool_type_0: avg\n",
        "|-pool_type_1: avg\n",
        "|-pool_type_2: max\n",
        "|-pool_type_3: max\n",
        "|-pool_type_4: avg\n",
        "|-pool_type_5: avg\n",
        "|-pool_type_6: avg\n",
        "|-pool_type_7: avg\n",
        "Trial summary\n",
        "|-Trial ID: dd92e50cfa43158b2b257e19be3fa684\n",
        "|-Score: 0.8454128305117289\n",
        "|-Best step: 0\n",
        "Hyperparameters:\n",
        "|-activation_conv_index_0_etg_0_desc: tanh\n",
        "|-activation_conv_index_0_etg_0_remont: selu\n",
        "|-activation_conv_index_0_etg_1_desc: tanh\n",
        "|-activation_conv_index_0_etg_1_remont: linear\n",
        "|-activation_conv_index_0_etg_2_desc: linear\n",
        "|-activation_conv_index_0_etg_2_remont: selu\n",
        "|-activation_conv_index_0_etg_3_desc: tanh\n",
        "|-activation_conv_index_0_etg_3_remont: elu\n",
        "|-activation_conv_index_0_etg_4_desc: relu\n",
        "|-activation_conv_index_0_etg_4_remont: selu\n",
        "|-activation_conv_index_0_etg_5_desc: relu\n",
        "|-activation_conv_index_0_etg_5_remont: relu\n",
        "|-activation_conv_index_0_etg_6_desc: relu\n",
        "|-activation_conv_index_0_etg_6_remont: relu\n",
        "|-activation_conv_index_0_etg_7_desc: relu\n",
        "|-activation_conv_index_0_etg_7_remont: selu\n",
        "|-activation_conv_index_0_etg_8_desc: relu\n",
        "|-activation_conv_index_1_etg_0_desc: tanh\n",
        "|-activation_conv_index_1_etg_0_remont: tanh\n",
        "|-activation_conv_index_1_etg_1_desc: elu\n",
        "|-activation_conv_index_1_etg_1_remont: selu\n",
        "|-activation_conv_index_1_etg_2_desc: selu\n",
        "|-activation_conv_index_1_etg_2_remont: selu\n",
        "|-activation_conv_index_1_etg_3_desc: linear\n",
        "|-activation_conv_index_1_etg_3_remont: tanh\n",
        "|-activation_conv_index_1_etg_4_desc: selu\n",
        "|-activation_conv_index_1_etg_4_remont: linear\n",
        "|-activation_conv_index_1_etg_5_desc: linear\n",
        "|-activation_conv_index_1_etg_5_remont: selu\n",
        "|-activation_conv_index_1_etg_6_desc: relu\n",
        "|-activation_conv_index_1_etg_6_remont: linear\n",
        "|-activation_conv_index_1_etg_7_desc: linear\n",
        "|-activation_conv_index_1_etg_7_remont: relu\n",
        "|-activation_conv_index_1_etg_8_desc: elu\n",
        "|-activation_conv_index_2_etg_0_desc: linear\n",
        "|-activation_conv_index_2_etg_0_remont: linear\n",
        "|-activation_conv_index_2_etg_1_desc: selu\n",
        "|-activation_conv_index_2_etg_1_remont: relu\n",
        "|-activation_conv_index_2_etg_2_desc: tanh\n",
        "|-activation_conv_index_2_etg_2_remont: linear\n",
        "|-activation_conv_index_2_etg_3_desc: linear\n",
        "|-activation_conv_index_2_etg_3_remont: relu\n",
        "|-activation_conv_index_2_etg_4_desc: selu\n",
        "|-activation_conv_index_2_etg_4_remont: selu\n",
        "|-activation_conv_index_2_etg_5_remont: selu\n",
        "|-activation_conv_index_2_etg_7_desc: linear\n",
        "|-activation_conv_index_2_etg_7_remont: elu\n",
        "|-activation_conv_index_2_etg_8_desc: relu\n",
        "|-activation_conv_index_3_etg_0_desc: relu\n",
        "|-activation_conv_index_3_etg_0_remont: elu\n",
        "|-activation_conv_index_3_etg_1_desc: relu\n",
        "|-activation_conv_index_3_etg_1_remont: selu\n",
        "|-activation_conv_index_3_etg_2_desc: relu\n",
        "|-activation_conv_index_3_etg_4_desc: selu\n",
        "|-activation_conv_index_3_etg_7_remont: elu\n",
        "|-beta_1: 0.9237723724948255\n",
        "|-beta_2: 0.8373641141314946\n",
        "|-filtre_conv_index_0_etg_0_desc: 10\n",
        "|-filtre_conv_index_0_etg_0_remont: 1\n",
        "|-filtre_conv_index_0_etg_1_desc: 500\n",
        "|-filtre_conv_index_0_etg_1_remont: 50\n",
        "|-filtre_conv_index_0_etg_2_desc: 1\n",
        "|-filtre_conv_index_0_etg_2_remont: 3\n",
        "|-filtre_conv_index_0_etg_3_desc: 500\n",
        "|-filtre_conv_index_0_etg_3_remont: 100\n",
        "|-filtre_conv_index_0_etg_4_desc: 100\n",
        "|-filtre_conv_index_0_etg_4_remont: 1\n",
        "|-filtre_conv_index_0_etg_5_desc: 1\n",
        "|-filtre_conv_index_0_etg_5_remont: 50\n",
        "|-filtre_conv_index_0_etg_6_desc: 100\n",
        "|-filtre_conv_index_0_etg_6_remont: 1\n",
        "|-filtre_conv_index_0_etg_7_desc: 50\n",
        "|-filtre_conv_index_0_etg_7_remont: 500\n",
        "|-filtre_conv_index_0_etg_8_desc: 100\n",
        "|-filtre_conv_index_1_etg_0_desc: 3\n",
        "|-filtre_conv_index_1_etg_0_remont: 100\n",
        "|-filtre_conv_index_1_etg_1_desc: 50\n",
        "|-filtre_conv_index_1_etg_1_remont: 50\n",
        "|-filtre_conv_index_1_etg_2_desc: 10\n",
        "|-filtre_conv_index_1_etg_2_remont: 1\n",
        "|-filtre_conv_index_1_etg_3_desc: 10\n",
        "|-filtre_conv_index_1_etg_3_remont: 10\n",
        "|-filtre_conv_index_1_etg_4_desc: 500\n",
        "|-filtre_conv_index_1_etg_4_remont: 500\n",
        "|-filtre_conv_index_1_etg_5_desc: 500\n",
        "|-filtre_conv_index_1_etg_5_remont: 1\n",
        "|-filtre_conv_index_1_etg_6_desc: 100\n",
        "|-filtre_conv_index_1_etg_6_remont: 50\n",
        "|-filtre_conv_index_1_etg_7_desc: 50\n",
        "|-filtre_conv_index_1_etg_7_remont: 3\n",
        "|-filtre_conv_index_1_etg_8_desc: 50\n",
        "|-filtre_conv_index_2_etg_0_desc: 50\n",
        "|-filtre_conv_index_2_etg_0_remont: 3\n",
        "|-filtre_conv_index_2_etg_1_desc: 10\n",
        "|-filtre_conv_index_2_etg_1_remont: 100\n",
        "|-filtre_conv_index_2_etg_2_desc: 50\n",
        "|-filtre_conv_index_2_etg_2_remont: 100\n",
        "|-filtre_conv_index_2_etg_3_desc: 500\n",
        "|-filtre_conv_index_2_etg_3_remont: 1\n",
        "|-filtre_conv_index_2_etg_4_desc: 100\n",
        "|-filtre_conv_index_2_etg_4_remont: 100\n",
        "|-filtre_conv_index_2_etg_5_remont: 10\n",
        "|-filtre_conv_index_2_etg_7_desc: 3\n",
        "|-filtre_conv_index_2_etg_7_remont: 500\n",
        "|-filtre_conv_index_2_etg_8_desc: 10\n",
        "|-filtre_conv_index_3_etg_0_desc: 50\n",
        "|-filtre_conv_index_3_etg_0_remont: 50\n",
        "|-filtre_conv_index_3_etg_1_desc: 50\n",
        "|-filtre_conv_index_3_etg_1_remont: 100\n",
        "|-filtre_conv_index_3_etg_2_desc: 10\n",
        "|-filtre_conv_index_3_etg_4_desc: 10\n",
        "|-filtre_conv_index_3_etg_7_remont: 1\n",
        "|-filtre_deconv_etg_0_remont: 500\n",
        "|-filtre_deconv_etg_1_remont: 10\n",
        "|-filtre_deconv_etg_2_remont: 500\n",
        "|-filtre_deconv_etg_3_remont: 100\n",
        "|-filtre_deconv_etg_4_remont: 500\n",
        "|-filtre_deconv_etg_5_remont: 50\n",
        "|-filtre_deconv_etg_6_remont: 3\n",
        "|-filtre_deconv_etg_7_remont: 1\n",
        "|-kernel_conv_index_0_etg_0_desc: 2\n",
        "|-kernel_conv_index_0_etg_0_remont: 3\n",
        "|-kernel_conv_index_0_etg_1_desc: 2\n",
        "|-kernel_conv_index_0_etg_1_remont: 2\n",
        "|-kernel_conv_index_0_etg_2_desc: 2\n",
        "|-kernel_conv_index_0_etg_2_remont: 3\n",
        "|-kernel_conv_index_0_etg_3_desc: 3\n",
        "|-kernel_conv_index_0_etg_3_remont: 2\n",
        "|-kernel_conv_index_0_etg_4_desc: 3\n",
        "|-kernel_conv_index_0_etg_4_remont: 2\n",
        "|-kernel_conv_index_0_etg_5_desc: 3\n",
        "|-kernel_conv_index_0_etg_5_remont: 3\n",
        "|-kernel_conv_index_0_etg_6_desc: 3\n",
        "|-kernel_conv_index_0_etg_6_remont: 3\n",
        "|-kernel_conv_index_0_etg_7_desc: 3\n",
        "|-kernel_conv_index_0_etg_7_remont: 3\n",
        "|-kernel_conv_index_0_etg_8_desc: 3\n",
        "|-kernel_conv_index_1_etg_0_desc: 2\n",
        "|-kernel_conv_index_1_etg_0_remont: 3\n",
        "|-kernel_conv_index_1_etg_1_desc: 3\n",
        "|-kernel_conv_index_1_etg_1_remont: 3\n",
        "|-kernel_conv_index_1_etg_2_desc: 3\n",
        "|-kernel_conv_index_1_etg_2_remont: 3\n",
        "|-kernel_conv_index_1_etg_3_desc: 2\n",
        "|-kernel_conv_index_1_etg_3_remont: 3\n",
        "|-kernel_conv_index_1_etg_4_desc: 3\n",
        "|-kernel_conv_index_1_etg_4_remont: 3\n",
        "|-kernel_conv_index_1_etg_5_desc: 3\n",
        "|-kernel_conv_index_1_etg_5_remont: 2\n",
        "|-kernel_conv_index_1_etg_6_desc: 3\n",
        "|-kernel_conv_index_1_etg_6_remont: 2\n",
        "|-kernel_conv_index_1_etg_7_desc: 2\n",
        "|-kernel_conv_index_1_etg_7_remont: 2\n",
        "|-kernel_conv_index_1_etg_8_desc: 3\n",
        "|-kernel_conv_index_2_etg_0_desc: 3\n",
        "|-kernel_conv_index_2_etg_0_remont: 3\n",
        "|-kernel_conv_index_2_etg_1_desc: 3\n",
        "|-kernel_conv_index_2_etg_1_remont: 2\n",
        "|-kernel_conv_index_2_etg_2_desc: 3\n",
        "|-kernel_conv_index_2_etg_2_remont: 3\n",
        "|-kernel_conv_index_2_etg_3_desc: 2\n",
        "|-kernel_conv_index_2_etg_3_remont: 3\n",
        "|-kernel_conv_index_2_etg_4_desc: 3\n",
        "|-kernel_conv_index_2_etg_4_remont: 3\n",
        "|-kernel_conv_index_2_etg_5_remont: 3\n",
        "|-kernel_conv_index_2_etg_7_desc: 2\n",
        "|-kernel_conv_index_2_etg_7_remont: 2\n",
        "|-kernel_conv_index_2_etg_8_desc: 2\n",
        "|-kernel_conv_index_3_etg_0_desc: 2\n",
        "|-kernel_conv_index_3_etg_0_remont: 2\n",
        "|-kernel_conv_index_3_etg_1_desc: 2\n",
        "|-kernel_conv_index_3_etg_1_remont: 3\n",
        "|-kernel_conv_index_3_etg_2_desc: 2\n",
        "|-kernel_conv_index_3_etg_4_desc: 3\n",
        "|-kernel_conv_index_3_etg_7_remont: 2\n",
        "|-learning_rate: 0.001\n",
        "|-nb_conv_etg_0_desc: 1\n",
        "|-nb_conv_etg_0_remont: 4\n",
        "|-nb_conv_etg_1_desc: 1\n",
        "|-nb_conv_etg_1_remont: 2\n",
        "|-nb_conv_etg_2_desc: 1\n",
        "|-nb_conv_etg_2_remont: 2\n",
        "|-nb_conv_etg_3_desc: 0\n",
        "|-nb_conv_etg_3_remont: 3\n",
        "|-nb_conv_etg_4_desc: 2\n",
        "|-nb_conv_etg_4_remont: 0\n",
        "|-nb_conv_etg_5_desc: 3\n",
        "|-nb_conv_etg_5_remont: 2\n",
        "|-nb_conv_etg_6_desc: 3\n",
        "|-nb_conv_etg_6_remont: 3\n",
        "|-nb_conv_etg_7_desc: 1\n",
        "|-nb_conv_etg_7_remont: 0\n",
        "|-nb_conv_etg_8_desc: 2\n",
        "|-nb_pool: 2\n",
        "|-pool_type_0: max\n",
        "|-pool_type_1: max\n",
        "|-pool_type_2: max\n",
        "|-pool_type_3: avg\n",
        "|-pool_type_4: max\n",
        "|-pool_type_5: avg\n",
        "|-pool_type_6: max\n",
        "|-pool_type_7: max\n",
        "Trial summary\n",
        "|-Trial ID: 5816df68396ef8e46cacd3f962aadd2d\n",
        "|-Score: 0.5878276079893112\n",
        "|-Best step: 0\n",
        "Hyperparameters:\n",
        "|-activation_conv_index_0_etg_0_desc: elu\n",
        "|-activation_conv_index_0_etg_0_remont: tanh\n",
        "|-activation_conv_index_0_etg_1_desc: elu\n",
        "|-activation_conv_index_0_etg_1_remont: tanh\n",
        "|-activation_conv_index_0_etg_2_desc: tanh\n",
        "|-activation_conv_index_0_etg_2_remont: linear\n",
        "|-activation_conv_index_0_etg_3_desc: selu\n",
        "|-activation_conv_index_0_etg_3_remont: elu\n",
        "|-activation_conv_index_0_etg_4_desc: elu\n",
        "|-activation_conv_index_0_etg_4_remont: relu\n",
        "|-activation_conv_index_0_etg_5_desc: tanh\n",
        "|-activation_conv_index_0_etg_5_remont: relu\n",
        "|-activation_conv_index_0_etg_6_desc: relu\n",
        "|-activation_conv_index_0_etg_6_remont: tanh\n",
        "|-activation_conv_index_0_etg_7_desc: tanh\n",
        "|-activation_conv_index_0_etg_7_remont: selu\n",
        "|-activation_conv_index_0_etg_8_desc: relu\n",
        "|-activation_conv_index_1_etg_0_desc: linear\n",
        "|-activation_conv_index_1_etg_0_remont: linear\n",
        "|-activation_conv_index_1_etg_1_desc: selu\n",
        "|-activation_conv_index_1_etg_1_remont: tanh\n",
        "|-activation_conv_index_1_etg_2_desc: tanh\n",
        "|-activation_conv_index_1_etg_2_remont: relu\n",
        "|-activation_conv_index_1_etg_3_desc: tanh\n",
        "|-activation_conv_index_1_etg_3_remont: relu\n",
        "|-activation_conv_index_1_etg_4_desc: relu\n",
        "|-activation_conv_index_1_etg_4_remont: tanh\n",
        "|-activation_conv_index_1_etg_5_remont: tanh\n",
        "|-activation_conv_index_1_etg_6_desc: elu\n",
        "|-activation_conv_index_1_etg_7_desc: selu\n",
        "|-activation_conv_index_1_etg_7_remont: relu\n",
        "|-activation_conv_index_1_etg_8_desc: relu\n",
        "|-activation_conv_index_2_etg_0_desc: tanh\n",
        "|-activation_conv_index_2_etg_0_remont: elu\n",
        "|-activation_conv_index_2_etg_1_desc: elu\n",
        "|-activation_conv_index_2_etg_2_desc: linear\n",
        "|-activation_conv_index_2_etg_2_remont: tanh\n",
        "|-activation_conv_index_2_etg_3_desc: relu\n",
        "|-activation_conv_index_2_etg_3_remont: selu\n",
        "|-activation_conv_index_2_etg_4_desc: linear\n",
        "|-activation_conv_index_2_etg_4_remont: tanh\n",
        "|-activation_conv_index_2_etg_7_desc: elu\n",
        "|-activation_conv_index_2_etg_7_remont: elu\n",
        "|-activation_conv_index_2_etg_8_desc: tanh\n",
        "|-activation_conv_index_3_etg_0_remont: linear\n",
        "|-activation_conv_index_3_etg_2_desc: relu\n",
        "|-activation_conv_index_3_etg_7_remont: tanh\n",
        "|-beta_1: 0.9765124137619023\n",
        "|-beta_2: 0.8646209488191324\n",
        "|-filtre_conv_index_0_etg_0_desc: 100\n",
        "|-filtre_conv_index_0_etg_0_remont: 10\n",
        "|-filtre_conv_index_0_etg_1_desc: 1\n",
        "|-filtre_conv_index_0_etg_1_remont: 500\n",
        "|-filtre_conv_index_0_etg_2_desc: 3\n",
        "|-filtre_conv_index_0_etg_2_remont: 500\n",
        "|-filtre_conv_index_0_etg_3_desc: 500\n",
        "|-filtre_conv_index_0_etg_3_remont: 50\n",
        "|-filtre_conv_index_0_etg_4_desc: 10\n",
        "|-filtre_conv_index_0_etg_4_remont: 50\n",
        "|-filtre_conv_index_0_etg_5_desc: 10\n",
        "|-filtre_conv_index_0_etg_5_remont: 1\n",
        "|-filtre_conv_index_0_etg_6_desc: 500\n",
        "|-filtre_conv_index_0_etg_6_remont: 100\n",
        "|-filtre_conv_index_0_etg_7_desc: 10\n",
        "|-filtre_conv_index_0_etg_7_remont: 1\n",
        "|-filtre_conv_index_0_etg_8_desc: 1\n",
        "|-filtre_conv_index_1_etg_0_desc: 3\n",
        "|-filtre_conv_index_1_etg_0_remont: 50\n",
        "|-filtre_conv_index_1_etg_1_desc: 500\n",
        "|-filtre_conv_index_1_etg_1_remont: 500\n",
        "|-filtre_conv_index_1_etg_2_desc: 500\n",
        "|-filtre_conv_index_1_etg_2_remont: 100\n",
        "|-filtre_conv_index_1_etg_3_desc: 10\n",
        "|-filtre_conv_index_1_etg_3_remont: 500\n",
        "|-filtre_conv_index_1_etg_4_desc: 500\n",
        "|-filtre_conv_index_1_etg_4_remont: 500\n",
        "|-filtre_conv_index_1_etg_5_remont: 10\n",
        "|-filtre_conv_index_1_etg_6_desc: 10\n",
        "|-filtre_conv_index_1_etg_7_desc: 1\n",
        "|-filtre_conv_index_1_etg_7_remont: 10\n",
        "|-filtre_conv_index_1_etg_8_desc: 10\n",
        "|-filtre_conv_index_2_etg_0_desc: 500\n",
        "|-filtre_conv_index_2_etg_0_remont: 100\n",
        "|-filtre_conv_index_2_etg_1_desc: 500\n",
        "|-filtre_conv_index_2_etg_2_desc: 500\n",
        "|-filtre_conv_index_2_etg_2_remont: 500\n",
        "|-filtre_conv_index_2_etg_3_desc: 10\n",
        "|-filtre_conv_index_2_etg_3_remont: 10\n",
        "|-filtre_conv_index_2_etg_4_desc: 50\n",
        "|-filtre_conv_index_2_etg_4_remont: 50\n",
        "|-filtre_conv_index_2_etg_7_desc: 100\n",
        "|-filtre_conv_index_2_etg_7_remont: 100\n",
        "|-filtre_conv_index_2_etg_8_desc: 3\n",
        "|-filtre_conv_index_3_etg_0_remont: 3\n",
        "|-filtre_conv_index_3_etg_2_desc: 10\n",
        "|-filtre_conv_index_3_etg_7_remont: 3\n",
        "|-filtre_deconv_etg_0_remont: 3\n",
        "|-filtre_deconv_etg_1_remont: 50\n",
        "|-filtre_deconv_etg_2_remont: 10\n",
        "|-filtre_deconv_etg_3_remont: 1\n",
        "|-filtre_deconv_etg_4_remont: 500\n",
        "|-filtre_deconv_etg_5_remont: 3\n",
        "|-filtre_deconv_etg_6_remont: 500\n",
        "|-filtre_deconv_etg_7_remont: 100\n",
        "|-kernel_conv_index_0_etg_0_desc: 3\n",
        "|-kernel_conv_index_0_etg_0_remont: 2\n",
        "|-kernel_conv_index_0_etg_1_desc: 2\n",
        "|-kernel_conv_index_0_etg_1_remont: 2\n",
        "|-kernel_conv_index_0_etg_2_desc: 2\n",
        "|-kernel_conv_index_0_etg_2_remont: 3\n",
        "|-kernel_conv_index_0_etg_3_desc: 3\n",
        "|-kernel_conv_index_0_etg_3_remont: 3\n",
        "|-kernel_conv_index_0_etg_4_desc: 2\n",
        "|-kernel_conv_index_0_etg_4_remont: 3\n",
        "|-kernel_conv_index_0_etg_5_desc: 3\n",
        "|-kernel_conv_index_0_etg_5_remont: 3\n",
        "|-kernel_conv_index_0_etg_6_desc: 3\n",
        "|-kernel_conv_index_0_etg_6_remont: 2\n",
        "|-kernel_conv_index_0_etg_7_desc: 3\n",
        "|-kernel_conv_index_0_etg_7_remont: 3\n",
        "|-kernel_conv_index_0_etg_8_desc: 2\n",
        "|-kernel_conv_index_1_etg_0_desc: 2\n",
        "|-kernel_conv_index_1_etg_0_remont: 3\n",
        "|-kernel_conv_index_1_etg_1_desc: 3\n",
        "|-kernel_conv_index_1_etg_1_remont: 3\n",
        "|-kernel_conv_index_1_etg_2_desc: 3\n",
        "|-kernel_conv_index_1_etg_2_remont: 3\n",
        "|-kernel_conv_index_1_etg_3_desc: 3\n",
        "|-kernel_conv_index_1_etg_3_remont: 2\n",
        "|-kernel_conv_index_1_etg_4_desc: 2\n",
        "|-kernel_conv_index_1_etg_4_remont: 2\n",
        "|-kernel_conv_index_1_etg_5_remont: 3\n",
        "|-kernel_conv_index_1_etg_6_desc: 3\n",
        "|-kernel_conv_index_1_etg_7_desc: 2\n",
        "|-kernel_conv_index_1_etg_7_remont: 2\n",
        "|-kernel_conv_index_1_etg_8_desc: 2\n",
        "|-kernel_conv_index_2_etg_0_desc: 3\n",
        "|-kernel_conv_index_2_etg_0_remont: 3\n",
        "|-kernel_conv_index_2_etg_1_desc: 3\n",
        "|-kernel_conv_index_2_etg_2_desc: 2\n",
        "|-kernel_conv_index_2_etg_2_remont: 2\n",
        "|-kernel_conv_index_2_etg_3_desc: 3\n",
        "|-kernel_conv_index_2_etg_3_remont: 3\n",
        "|-kernel_conv_index_2_etg_4_desc: 3\n",
        "|-kernel_conv_index_2_etg_4_remont: 2\n",
        "|-kernel_conv_index_2_etg_7_desc: 3\n",
        "|-kernel_conv_index_2_etg_7_remont: 2\n",
        "|-kernel_conv_index_2_etg_8_desc: 3\n",
        "|-kernel_conv_index_3_etg_0_remont: 2\n",
        "|-kernel_conv_index_3_etg_2_desc: 2\n",
        "|-kernel_conv_index_3_etg_7_remont: 2\n",
        "|-learning_rate: 0.001\n",
        "|-nb_conv_etg_0_desc: 1\n",
        "|-nb_conv_etg_0_remont: 3\n",
        "|-nb_conv_etg_1_desc: 2\n",
        "|-nb_conv_etg_1_remont: 2\n",
        "|-nb_conv_etg_2_desc: 4\n",
        "|-nb_conv_etg_2_remont: 1\n",
        "|-nb_conv_etg_3_desc: 1\n",
        "|-nb_conv_etg_3_remont: 1\n",
        "|-nb_conv_etg_4_desc: 2\n",
        "|-nb_conv_etg_4_remont: 2\n",
        "|-nb_conv_etg_5_desc: 0\n",
        "|-nb_conv_etg_5_remont: 2\n",
        "|-nb_conv_etg_6_desc: 4\n",
        "|-nb_conv_etg_6_remont: 1\n",
        "|-nb_conv_etg_7_desc: 1\n",
        "|-nb_conv_etg_7_remont: 0\n",
        "|-nb_conv_etg_8_desc: 4\n",
        "|-nb_pool: 0\n",
        "|-pool_type_0: avg\n",
        "|-pool_type_1: avg\n",
        "|-pool_type_2: max\n",
        "|-pool_type_3: avg\n",
        "|-pool_type_4: max\n",
        "|-pool_type_5: avg\n",
        "|-pool_type_6: max\n",
        "|-pool_type_7: avg\n",
        "Trial summary\n",
        "|-Trial ID: 2eef72f23e24f4a83aa8023a3b3121eb\n",
        "|-Score: 0.5867435956994692\n",
        "|-Best step: 0\n",
        "Hyperparameters:\n",
        "|-activation_conv_index_0_etg_0_desc: elu\n",
        "|-activation_conv_index_0_etg_0_remont: relu\n",
        "|-activation_conv_index_0_etg_1_desc: selu\n",
        "|-activation_conv_index_0_etg_1_remont: selu\n",
        "|-activation_conv_index_0_etg_2_desc: tanh\n",
        "|-activation_conv_index_0_etg_2_remont: tanh\n",
        "|-activation_conv_index_0_etg_3_desc: tanh\n",
        "|-activation_conv_index_0_etg_3_remont: relu\n",
        "|-activation_conv_index_0_etg_4_desc: linear\n",
        "|-activation_conv_index_1_etg_0_desc: selu\n",
        "|-activation_conv_index_1_etg_0_remont: relu\n",
        "|-activation_conv_index_1_etg_1_desc: relu\n",
        "|-activation_conv_index_1_etg_2_remont: relu\n",
        "|-activation_conv_index_2_etg_0_desc: linear\n",
        "|-activation_conv_index_2_etg_0_remont: relu\n",
        "|-activation_conv_index_2_etg_1_desc: relu\n",
        "|-activation_conv_index_2_etg_2_remont: relu\n",
        "|-activation_conv_index_3_etg_0_remont: relu\n",
        "|-beta_1: 1.064355438665868\n",
        "|-beta_2: 0.8195811574388034\n",
        "|-filtre_conv_index_0_etg_0_desc: 1\n",
        "|-filtre_conv_index_0_etg_0_remont: 10\n",
        "|-filtre_conv_index_0_etg_1_desc: 3\n",
        "|-filtre_conv_index_0_etg_1_remont: 10\n",
        "|-filtre_conv_index_0_etg_2_desc: 10\n",
        "|-filtre_conv_index_0_etg_2_remont: 500\n",
        "|-filtre_conv_index_0_etg_3_desc: 500\n",
        "|-filtre_conv_index_0_etg_3_remont: 3\n",
        "|-filtre_conv_index_0_etg_4_desc: 500\n",
        "|-filtre_conv_index_1_etg_0_desc: 50\n",
        "|-filtre_conv_index_1_etg_0_remont: 1\n",
        "|-filtre_conv_index_1_etg_1_desc: 1\n",
        "|-filtre_conv_index_1_etg_2_remont: 1\n",
        "|-filtre_conv_index_2_etg_0_desc: 3\n",
        "|-filtre_conv_index_2_etg_0_remont: 1\n",
        "|-filtre_conv_index_2_etg_1_desc: 1\n",
        "|-filtre_conv_index_2_etg_2_remont: 1\n",
        "|-filtre_conv_index_3_etg_0_remont: 1\n",
        "|-filtre_deconv_etg_0_remont: 10\n",
        "|-filtre_deconv_etg_1_remont: 100\n",
        "|-filtre_deconv_etg_2_remont: 1\n",
        "|-filtre_deconv_etg_3_remont: 1\n",
        "|-kernel_conv_index_0_etg_0_desc: 3\n",
        "|-kernel_conv_index_0_etg_0_remont: 2\n",
        "|-kernel_conv_index_0_etg_1_desc: 2\n",
        "|-kernel_conv_index_0_etg_1_remont: 3\n",
        "|-kernel_conv_index_0_etg_2_desc: 3\n",
        "|-kernel_conv_index_0_etg_2_remont: 3\n",
        "|-kernel_conv_index_0_etg_3_desc: 3\n",
        "|-kernel_conv_index_0_etg_3_remont: 3\n",
        "|-kernel_conv_index_0_etg_4_desc: 2\n",
        "|-kernel_conv_index_1_etg_0_desc: 2\n",
        "|-kernel_conv_index_1_etg_0_remont: 2\n",
        "|-kernel_conv_index_1_etg_1_desc: 2\n",
        "|-kernel_conv_index_1_etg_2_remont: 2\n",
        "|-kernel_conv_index_2_etg_0_desc: 2\n",
        "|-kernel_conv_index_2_etg_0_remont: 2\n",
        "|-kernel_conv_index_2_etg_1_desc: 2\n",
        "|-kernel_conv_index_2_etg_2_remont: 2\n",
        "|-kernel_conv_index_3_etg_0_remont: 2\n",
        "|-learning_rate: 1e-05\n",
        "|-nb_conv_etg_0_desc: 1\n",
        "|-nb_conv_etg_0_remont: 4\n",
        "|-nb_conv_etg_1_desc: 3\n",
        "|-nb_conv_etg_1_remont: 1\n",
        "|-nb_conv_etg_2_desc: 0\n",
        "|-nb_conv_etg_2_remont: 3\n",
        "|-nb_conv_etg_3_desc: 1\n",
        "|-nb_conv_etg_3_remont: 1\n",
        "|-nb_conv_etg_4_desc: 2\n",
        "|-nb_pool: 3\n",
        "|-pool_type_0: max\n",
        "|-pool_type_1: avg\n",
        "|-pool_type_2: avg\n",
        "|-pool_type_3: avg\n",
        "Trial summary\n",
        "|-Trial ID: 9aea87148abf20fdbb03daf7564eb9a7\n",
        "|-Score: 0.34692077338695526\n",
        "|-Best step: 0\n",
        "Hyperparameters:\n",
        "|-activation_conv_index_0_etg_0_desc: elu\n",
        "|-activation_conv_index_0_etg_0_remont: tanh\n",
        "|-activation_conv_index_0_etg_1_desc: tanh\n",
        "|-activation_conv_index_0_etg_1_remont: tanh\n",
        "|-activation_conv_index_0_etg_2_desc: relu\n",
        "|-activation_conv_index_0_etg_2_remont: linear\n",
        "|-activation_conv_index_0_etg_3_desc: tanh\n",
        "|-activation_conv_index_0_etg_3_remont: tanh\n",
        "|-activation_conv_index_0_etg_4_desc: tanh\n",
        "|-activation_conv_index_0_etg_4_remont: selu\n",
        "|-activation_conv_index_0_etg_5_desc: elu\n",
        "|-activation_conv_index_0_etg_5_remont: elu\n",
        "|-activation_conv_index_0_etg_6_desc: relu\n",
        "|-activation_conv_index_0_etg_6_remont: tanh\n",
        "|-activation_conv_index_0_etg_7_desc: elu\n",
        "|-activation_conv_index_0_etg_7_remont: relu\n",
        "|-activation_conv_index_0_etg_8_desc: relu\n",
        "|-activation_conv_index_1_etg_0_desc: relu\n",
        "|-activation_conv_index_1_etg_0_remont: tanh\n",
        "|-activation_conv_index_1_etg_1_desc: elu\n",
        "|-activation_conv_index_1_etg_1_remont: selu\n",
        "|-activation_conv_index_1_etg_2_desc: selu\n",
        "|-activation_conv_index_1_etg_2_remont: linear\n",
        "|-activation_conv_index_1_etg_3_desc: relu\n",
        "|-activation_conv_index_1_etg_3_remont: elu\n",
        "|-activation_conv_index_1_etg_4_desc: relu\n",
        "|-activation_conv_index_1_etg_4_remont: relu\n",
        "|-activation_conv_index_1_etg_5_desc: selu\n",
        "|-activation_conv_index_1_etg_5_remont: relu\n",
        "|-activation_conv_index_1_etg_6_desc: relu\n",
        "|-activation_conv_index_1_etg_6_remont: elu\n",
        "|-activation_conv_index_1_etg_7_desc: selu\n",
        "|-activation_conv_index_1_etg_7_remont: tanh\n",
        "|-activation_conv_index_1_etg_8_desc: relu\n",
        "|-activation_conv_index_2_etg_0_desc: tanh\n",
        "|-activation_conv_index_2_etg_0_remont: relu\n",
        "|-activation_conv_index_2_etg_1_desc: relu\n",
        "|-activation_conv_index_2_etg_1_remont: tanh\n",
        "|-activation_conv_index_2_etg_2_desc: linear\n",
        "|-activation_conv_index_2_etg_2_remont: tanh\n",
        "|-activation_conv_index_2_etg_3_desc: linear\n",
        "|-activation_conv_index_2_etg_3_remont: tanh\n",
        "|-activation_conv_index_2_etg_4_desc: relu\n",
        "|-activation_conv_index_2_etg_4_remont: tanh\n",
        "|-activation_conv_index_2_etg_5_remont: linear\n",
        "|-activation_conv_index_2_etg_7_desc: linear\n",
        "|-activation_conv_index_2_etg_7_remont: selu\n",
        "|-activation_conv_index_2_etg_8_desc: linear\n",
        "|-activation_conv_index_3_etg_0_desc: relu\n",
        "|-activation_conv_index_3_etg_0_remont: selu\n",
        "|-activation_conv_index_3_etg_1_desc: selu\n",
        "|-activation_conv_index_3_etg_1_remont: tanh\n",
        "|-activation_conv_index_3_etg_2_desc: selu\n",
        "|-activation_conv_index_3_etg_4_desc: selu\n",
        "|-activation_conv_index_3_etg_7_remont: tanh\n",
        "|-beta_1: 0.9185960187359232\n",
        "|-beta_2: 0.9542589124228112\n",
        "|-filtre_conv_index_0_etg_0_desc: 500\n",
        "|-filtre_conv_index_0_etg_0_remont: 10\n",
        "|-filtre_conv_index_0_etg_1_desc: 10\n",
        "|-filtre_conv_index_0_etg_1_remont: 3\n",
        "|-filtre_conv_index_0_etg_2_desc: 1\n",
        "|-filtre_conv_index_0_etg_2_remont: 500\n",
        "|-filtre_conv_index_0_etg_3_desc: 100\n",
        "|-filtre_conv_index_0_etg_3_remont: 50\n",
        "|-filtre_conv_index_0_etg_4_desc: 500\n",
        "|-filtre_conv_index_0_etg_4_remont: 10\n",
        "|-filtre_conv_index_0_etg_5_desc: 10\n",
        "|-filtre_conv_index_0_etg_5_remont: 1\n",
        "|-filtre_conv_index_0_etg_6_desc: 500\n",
        "|-filtre_conv_index_0_etg_6_remont: 10\n",
        "|-filtre_conv_index_0_etg_7_desc: 3\n",
        "|-filtre_conv_index_0_etg_7_remont: 100\n",
        "|-filtre_conv_index_0_etg_8_desc: 100\n",
        "|-filtre_conv_index_1_etg_0_desc: 1\n",
        "|-filtre_conv_index_1_etg_0_remont: 10\n",
        "|-filtre_conv_index_1_etg_1_desc: 50\n",
        "|-filtre_conv_index_1_etg_1_remont: 500\n",
        "|-filtre_conv_index_1_etg_2_desc: 500\n",
        "|-filtre_conv_index_1_etg_2_remont: 100\n",
        "|-filtre_conv_index_1_etg_3_desc: 10\n",
        "|-filtre_conv_index_1_etg_3_remont: 500\n",
        "|-filtre_conv_index_1_etg_4_desc: 500\n",
        "|-filtre_conv_index_1_etg_4_remont: 500\n",
        "|-filtre_conv_index_1_etg_5_desc: 100\n",
        "|-filtre_conv_index_1_etg_5_remont: 100\n",
        "|-filtre_conv_index_1_etg_6_desc: 100\n",
        "|-filtre_conv_index_1_etg_6_remont: 1\n",
        "|-filtre_conv_index_1_etg_7_desc: 1\n",
        "|-filtre_conv_index_1_etg_7_remont: 100\n",
        "|-filtre_conv_index_1_etg_8_desc: 1\n",
        "|-filtre_conv_index_2_etg_0_desc: 50\n",
        "|-filtre_conv_index_2_etg_0_remont: 50\n",
        "|-filtre_conv_index_2_etg_1_desc: 50\n",
        "|-filtre_conv_index_2_etg_1_remont: 500\n",
        "|-filtre_conv_index_2_etg_2_desc: 500\n",
        "|-filtre_conv_index_2_etg_2_remont: 50\n",
        "|-filtre_conv_index_2_etg_3_desc: 100\n",
        "|-filtre_conv_index_2_etg_3_remont: 500\n",
        "|-filtre_conv_index_2_etg_4_desc: 100\n",
        "|-filtre_conv_index_2_etg_4_remont: 3\n",
        "|-filtre_conv_index_2_etg_5_remont: 500\n",
        "|-filtre_conv_index_2_etg_7_desc: 100\n",
        "|-filtre_conv_index_2_etg_7_remont: 50\n",
        "|-filtre_conv_index_2_etg_8_desc: 500\n",
        "|-filtre_conv_index_3_etg_0_desc: 1\n",
        "|-filtre_conv_index_3_etg_0_remont: 3\n",
        "|-filtre_conv_index_3_etg_1_desc: 50\n",
        "|-filtre_conv_index_3_etg_1_remont: 10\n",
        "|-filtre_conv_index_3_etg_2_desc: 3\n",
        "|-filtre_conv_index_3_etg_4_desc: 10\n",
        "|-filtre_conv_index_3_etg_7_remont: 500\n",
        "|-filtre_deconv_etg_0_remont: 1\n",
        "|-filtre_deconv_etg_1_remont: 10\n",
        "|-filtre_deconv_etg_2_remont: 10\n",
        "|-filtre_deconv_etg_3_remont: 50\n",
        "|-filtre_deconv_etg_4_remont: 1\n",
        "|-filtre_deconv_etg_5_remont: 1\n",
        "|-filtre_deconv_etg_6_remont: 1\n",
        "|-filtre_deconv_etg_7_remont: 100\n",
        "|-kernel_conv_index_0_etg_0_desc: 2\n",
        "|-kernel_conv_index_0_etg_0_remont: 2\n",
        "|-kernel_conv_index_0_etg_1_desc: 2\n",
        "|-kernel_conv_index_0_etg_1_remont: 2\n",
        "|-kernel_conv_index_0_etg_2_desc: 2\n",
        "|-kernel_conv_index_0_etg_2_remont: 2\n",
        "|-kernel_conv_index_0_etg_3_desc: 2\n",
        "|-kernel_conv_index_0_etg_3_remont: 2\n",
        "|-kernel_conv_index_0_etg_4_desc: 3\n",
        "|-kernel_conv_index_0_etg_4_remont: 2\n",
        "|-kernel_conv_index_0_etg_5_desc: 3\n",
        "|-kernel_conv_index_0_etg_5_remont: 2\n",
        "|-kernel_conv_index_0_etg_6_desc: 2\n",
        "|-kernel_conv_index_0_etg_6_remont: 2\n",
        "|-kernel_conv_index_0_etg_7_desc: 2\n",
        "|-kernel_conv_index_0_etg_7_remont: 3\n",
        "|-kernel_conv_index_0_etg_8_desc: 2\n",
        "|-kernel_conv_index_1_etg_0_desc: 3\n",
        "|-kernel_conv_index_1_etg_0_remont: 3\n",
        "|-kernel_conv_index_1_etg_1_desc: 3\n",
        "|-kernel_conv_index_1_etg_1_remont: 3\n",
        "|-kernel_conv_index_1_etg_2_desc: 2\n",
        "|-kernel_conv_index_1_etg_2_remont: 2\n",
        "|-kernel_conv_index_1_etg_3_desc: 2\n",
        "|-kernel_conv_index_1_etg_3_remont: 2\n",
        "|-kernel_conv_index_1_etg_4_desc: 3\n",
        "|-kernel_conv_index_1_etg_4_remont: 2\n",
        "|-kernel_conv_index_1_etg_5_desc: 3\n",
        "|-kernel_conv_index_1_etg_5_remont: 3\n",
        "|-kernel_conv_index_1_etg_6_desc: 3\n",
        "|-kernel_conv_index_1_etg_6_remont: 3\n",
        "|-kernel_conv_index_1_etg_7_desc: 2\n",
        "|-kernel_conv_index_1_etg_7_remont: 2\n",
        "|-kernel_conv_index_1_etg_8_desc: 2\n",
        "|-kernel_conv_index_2_etg_0_desc: 2\n",
        "|-kernel_conv_index_2_etg_0_remont: 2\n",
        "|-kernel_conv_index_2_etg_1_desc: 3\n",
        "|-kernel_conv_index_2_etg_1_remont: 3\n",
        "|-kernel_conv_index_2_etg_2_desc: 3\n",
        "|-kernel_conv_index_2_etg_2_remont: 2\n",
        "|-kernel_conv_index_2_etg_3_desc: 3\n",
        "|-kernel_conv_index_2_etg_3_remont: 3\n",
        "|-kernel_conv_index_2_etg_4_desc: 2\n",
        "|-kernel_conv_index_2_etg_4_remont: 2\n",
        "|-kernel_conv_index_2_etg_5_remont: 2\n",
        "|-kernel_conv_index_2_etg_7_desc: 2\n",
        "|-kernel_conv_index_2_etg_7_remont: 3\n",
        "|-kernel_conv_index_2_etg_8_desc: 2\n",
        "|-kernel_conv_index_3_etg_0_desc: 2\n",
        "|-kernel_conv_index_3_etg_0_remont: 2\n",
        "|-kernel_conv_index_3_etg_1_desc: 2\n",
        "|-kernel_conv_index_3_etg_1_remont: 3\n",
        "|-kernel_conv_index_3_etg_2_desc: 3\n",
        "|-kernel_conv_index_3_etg_4_desc: 3\n",
        "|-kernel_conv_index_3_etg_7_remont: 2\n",
        "|-learning_rate: 1e-05\n",
        "|-nb_conv_etg_0_desc: 4\n",
        "|-nb_conv_etg_0_remont: 1\n",
        "|-nb_conv_etg_1_desc: 3\n",
        "|-nb_conv_etg_1_remont: 3\n",
        "|-nb_conv_etg_2_desc: 3\n",
        "|-nb_conv_etg_2_remont: 0\n",
        "|-nb_conv_etg_3_desc: 3\n",
        "|-nb_conv_etg_3_remont: 2\n",
        "|-nb_conv_etg_4_desc: 4\n",
        "|-nb_conv_etg_4_remont: 4\n",
        "|-nb_conv_etg_5_desc: 1\n",
        "|-nb_conv_etg_5_remont: 2\n",
        "|-nb_conv_etg_6_desc: 3\n",
        "|-nb_conv_etg_6_remont: 1\n",
        "|-nb_conv_etg_7_desc: 4\n",
        "|-nb_conv_etg_7_remont: 2\n",
        "|-nb_conv_etg_8_desc: 3\n",
        "|-nb_pool: 0\n",
        "|-pool_type_0: avg\n",
        "|-pool_type_1: max\n",
        "|-pool_type_2: max\n",
        "|-pool_type_3: avg\n",
        "|-pool_type_4: max\n",
        "|-pool_type_5: max\n",
        "|-pool_type_6: avg\n",
        "|-pool_type_7: avg\n",
        "Trial summary\n",
        "|-Trial ID: b9b474249eae2dcf5e368004c8d66e1a\n",
        "|-Score: 0.26092660675446194\n",
        "|-Best step: 0\n",
        "Hyperparameters:\n",
        "|-activation_conv_index_0_etg_0_desc: tanh\n",
        "|-activation_conv_index_0_etg_0_remont: tanh\n",
        "|-activation_conv_index_0_etg_1_desc: tanh\n",
        "|-activation_conv_index_0_etg_1_remont: relu\n",
        "|-activation_conv_index_0_etg_2_desc: elu\n",
        "|-activation_conv_index_0_etg_2_remont: tanh\n",
        "|-activation_conv_index_0_etg_3_desc: selu\n",
        "|-activation_conv_index_0_etg_3_remont: linear\n",
        "|-activation_conv_index_0_etg_4_desc: elu\n",
        "|-activation_conv_index_0_etg_4_remont: relu\n",
        "|-activation_conv_index_0_etg_5_desc: tanh\n",
        "|-activation_conv_index_0_etg_5_remont: selu\n",
        "|-activation_conv_index_0_etg_6_desc: tanh\n",
        "|-activation_conv_index_0_etg_6_remont: tanh\n",
        "|-activation_conv_index_0_etg_7_desc: elu\n",
        "|-activation_conv_index_0_etg_7_remont: tanh\n",
        "|-activation_conv_index_0_etg_8_desc: elu\n",
        "|-activation_conv_index_1_etg_0_desc: tanh\n",
        "|-activation_conv_index_1_etg_0_remont: selu\n",
        "|-activation_conv_index_1_etg_1_desc: linear\n",
        "|-activation_conv_index_1_etg_1_remont: linear\n",
        "|-activation_conv_index_1_etg_2_desc: relu\n",
        "|-activation_conv_index_1_etg_2_remont: tanh\n",
        "|-activation_conv_index_1_etg_3_desc: tanh\n",
        "|-activation_conv_index_1_etg_3_remont: tanh\n",
        "|-activation_conv_index_1_etg_4_desc: elu\n",
        "|-activation_conv_index_1_etg_4_remont: relu\n",
        "|-activation_conv_index_1_etg_5_remont: relu\n",
        "|-activation_conv_index_1_etg_6_desc: selu\n",
        "|-activation_conv_index_1_etg_6_remont: relu\n",
        "|-activation_conv_index_1_etg_7_desc: elu\n",
        "|-activation_conv_index_1_etg_7_remont: linear\n",
        "|-activation_conv_index_1_etg_8_desc: linear\n",
        "|-activation_conv_index_2_etg_0_desc: elu\n",
        "|-activation_conv_index_2_etg_0_remont: selu\n",
        "|-activation_conv_index_2_etg_1_desc: elu\n",
        "|-activation_conv_index_2_etg_1_remont: relu\n",
        "|-activation_conv_index_2_etg_2_desc: tanh\n",
        "|-activation_conv_index_2_etg_2_remont: elu\n",
        "|-activation_conv_index_2_etg_3_desc: linear\n",
        "|-activation_conv_index_2_etg_3_remont: elu\n",
        "|-activation_conv_index_2_etg_4_desc: relu\n",
        "|-activation_conv_index_2_etg_4_remont: linear\n",
        "|-activation_conv_index_2_etg_5_remont: relu\n",
        "|-activation_conv_index_2_etg_7_desc: linear\n",
        "|-activation_conv_index_2_etg_7_remont: tanh\n",
        "|-activation_conv_index_2_etg_8_desc: tanh\n",
        "|-activation_conv_index_3_etg_0_remont: selu\n",
        "|-activation_conv_index_3_etg_1_remont: relu\n",
        "|-activation_conv_index_3_etg_2_desc: linear\n",
        "|-activation_conv_index_3_etg_4_desc: relu\n",
        "|-activation_conv_index_3_etg_7_remont: selu\n",
        "|-beta_1: 1.1675300436610982\n",
        "|-beta_2: 0.9222156939959956\n",
        "|-filtre_conv_index_0_etg_0_desc: 10\n",
        "|-filtre_conv_index_0_etg_0_remont: 3\n",
        "|-filtre_conv_index_0_etg_1_desc: 1\n",
        "|-filtre_conv_index_0_etg_1_remont: 100\n",
        "|-filtre_conv_index_0_etg_2_desc: 500\n",
        "|-filtre_conv_index_0_etg_2_remont: 100\n",
        "|-filtre_conv_index_0_etg_3_desc: 10\n",
        "|-filtre_conv_index_0_etg_3_remont: 500\n",
        "|-filtre_conv_index_0_etg_4_desc: 10\n",
        "|-filtre_conv_index_0_etg_4_remont: 50\n",
        "|-filtre_conv_index_0_etg_5_desc: 10\n",
        "|-filtre_conv_index_0_etg_5_remont: 1\n",
        "|-filtre_conv_index_0_etg_6_desc: 100\n",
        "|-filtre_conv_index_0_etg_6_remont: 100\n",
        "|-filtre_conv_index_0_etg_7_desc: 500\n",
        "|-filtre_conv_index_0_etg_7_remont: 3\n",
        "|-filtre_conv_index_0_etg_8_desc: 50\n",
        "|-filtre_conv_index_1_etg_0_desc: 10\n",
        "|-filtre_conv_index_1_etg_0_remont: 10\n",
        "|-filtre_conv_index_1_etg_1_desc: 10\n",
        "|-filtre_conv_index_1_etg_1_remont: 3\n",
        "|-filtre_conv_index_1_etg_2_desc: 1\n",
        "|-filtre_conv_index_1_etg_2_remont: 100\n",
        "|-filtre_conv_index_1_etg_3_desc: 500\n",
        "|-filtre_conv_index_1_etg_3_remont: 10\n",
        "|-filtre_conv_index_1_etg_4_desc: 10\n",
        "|-filtre_conv_index_1_etg_4_remont: 10\n",
        "|-filtre_conv_index_1_etg_5_remont: 500\n",
        "|-filtre_conv_index_1_etg_6_desc: 100\n",
        "|-filtre_conv_index_1_etg_6_remont: 1\n",
        "|-filtre_conv_index_1_etg_7_desc: 100\n",
        "|-filtre_conv_index_1_etg_7_remont: 500\n",
        "|-filtre_conv_index_1_etg_8_desc: 100\n",
        "|-filtre_conv_index_2_etg_0_desc: 1\n",
        "|-filtre_conv_index_2_etg_0_remont: 100\n",
        "|-filtre_conv_index_2_etg_1_desc: 1\n",
        "|-filtre_conv_index_2_etg_1_remont: 1\n",
        "|-filtre_conv_index_2_etg_2_desc: 10\n",
        "|-filtre_conv_index_2_etg_2_remont: 50\n",
        "|-filtre_conv_index_2_etg_3_desc: 10\n",
        "|-filtre_conv_index_2_etg_3_remont: 3\n",
        "|-filtre_conv_index_2_etg_4_desc: 50\n",
        "|-filtre_conv_index_2_etg_4_remont: 100\n",
        "|-filtre_conv_index_2_etg_5_remont: 1\n",
        "|-filtre_conv_index_2_etg_7_desc: 100\n",
        "|-filtre_conv_index_2_etg_7_remont: 3\n",
        "|-filtre_conv_index_2_etg_8_desc: 500\n",
        "|-filtre_conv_index_3_etg_0_remont: 100\n",
        "|-filtre_conv_index_3_etg_1_remont: 1\n",
        "|-filtre_conv_index_3_etg_2_desc: 1\n",
        "|-filtre_conv_index_3_etg_4_desc: 1\n",
        "|-filtre_conv_index_3_etg_7_remont: 3\n",
        "|-filtre_deconv_etg_0_remont: 50\n",
        "|-filtre_deconv_etg_1_remont: 3\n",
        "|-filtre_deconv_etg_2_remont: 1\n",
        "|-filtre_deconv_etg_3_remont: 100\n",
        "|-filtre_deconv_etg_4_remont: 3\n",
        "|-filtre_deconv_etg_5_remont: 100\n",
        "|-filtre_deconv_etg_6_remont: 500\n",
        "|-filtre_deconv_etg_7_remont: 3\n",
        "|-kernel_conv_index_0_etg_0_desc: 2\n",
        "|-kernel_conv_index_0_etg_0_remont: 2\n",
        "|-kernel_conv_index_0_etg_1_desc: 3\n",
        "|-kernel_conv_index_0_etg_1_remont: 3\n",
        "|-kernel_conv_index_0_etg_2_desc: 3\n",
        "|-kernel_conv_index_0_etg_2_remont: 2\n",
        "|-kernel_conv_index_0_etg_3_desc: 3\n",
        "|-kernel_conv_index_0_etg_3_remont: 3\n",
        "|-kernel_conv_index_0_etg_4_desc: 2\n",
        "|-kernel_conv_index_0_etg_4_remont: 2\n",
        "|-kernel_conv_index_0_etg_5_desc: 3\n",
        "|-kernel_conv_index_0_etg_5_remont: 3\n",
        "|-kernel_conv_index_0_etg_6_desc: 3\n",
        "|-kernel_conv_index_0_etg_6_remont: 2\n",
        "|-kernel_conv_index_0_etg_7_desc: 2\n",
        "|-kernel_conv_index_0_etg_7_remont: 2\n",
        "|-kernel_conv_index_0_etg_8_desc: 3\n",
        "|-kernel_conv_index_1_etg_0_desc: 3\n",
        "|-kernel_conv_index_1_etg_0_remont: 2\n",
        "|-kernel_conv_index_1_etg_1_desc: 3\n",
        "|-kernel_conv_index_1_etg_1_remont: 3\n",
        "|-kernel_conv_index_1_etg_2_desc: 2\n",
        "|-kernel_conv_index_1_etg_2_remont: 2\n",
        "|-kernel_conv_index_1_etg_3_desc: 2\n",
        "|-kernel_conv_index_1_etg_3_remont: 2\n",
        "|-kernel_conv_index_1_etg_4_desc: 3\n",
        "|-kernel_conv_index_1_etg_4_remont: 3\n",
        "|-kernel_conv_index_1_etg_5_remont: 2\n",
        "|-kernel_conv_index_1_etg_6_desc: 2\n",
        "|-kernel_conv_index_1_etg_6_remont: 2\n",
        "|-kernel_conv_index_1_etg_7_desc: 3\n",
        "|-kernel_conv_index_1_etg_7_remont: 2\n",
        "|-kernel_conv_index_1_etg_8_desc: 3\n",
        "|-kernel_conv_index_2_etg_0_desc: 2\n",
        "|-kernel_conv_index_2_etg_0_remont: 3\n",
        "|-kernel_conv_index_2_etg_1_desc: 3\n",
        "|-kernel_conv_index_2_etg_1_remont: 2\n",
        "|-kernel_conv_index_2_etg_2_desc: 2\n",
        "|-kernel_conv_index_2_etg_2_remont: 3\n",
        "|-kernel_conv_index_2_etg_3_desc: 3\n",
        "|-kernel_conv_index_2_etg_3_remont: 2\n",
        "|-kernel_conv_index_2_etg_4_desc: 2\n",
        "|-kernel_conv_index_2_etg_4_remont: 3\n",
        "|-kernel_conv_index_2_etg_5_remont: 2\n",
        "|-kernel_conv_index_2_etg_7_desc: 2\n",
        "|-kernel_conv_index_2_etg_7_remont: 3\n",
        "|-kernel_conv_index_2_etg_8_desc: 3\n",
        "|-kernel_conv_index_3_etg_0_remont: 2\n",
        "|-kernel_conv_index_3_etg_1_remont: 2\n",
        "|-kernel_conv_index_3_etg_2_desc: 3\n",
        "|-kernel_conv_index_3_etg_4_desc: 2\n",
        "|-kernel_conv_index_3_etg_7_remont: 2\n",
        "|-learning_rate: 0.0001\n",
        "|-nb_conv_etg_0_desc: 1\n",
        "|-nb_conv_etg_0_remont: 1\n",
        "|-nb_conv_etg_1_desc: 2\n",
        "|-nb_conv_etg_1_remont: 4\n",
        "|-nb_conv_etg_2_desc: 1\n",
        "|-nb_conv_etg_2_remont: 2\n",
        "|-nb_conv_etg_3_desc: 1\n",
        "|-nb_conv_etg_3_remont: 3\n",
        "|-nb_conv_etg_4_desc: 4\n",
        "|-nb_conv_etg_4_remont: 1\n",
        "|-nb_conv_etg_5_desc: 0\n",
        "|-nb_conv_etg_5_remont: 3\n",
        "|-nb_conv_etg_6_desc: 1\n",
        "|-nb_conv_etg_6_remont: 2\n",
        "|-nb_conv_etg_7_desc: 2\n",
        "|-nb_conv_etg_7_remont: 0\n",
        "|-nb_conv_etg_8_desc: 3\n",
        "|-nb_pool: 8\n",
        "|-pool_type_0: avg\n",
        "|-pool_type_1: max\n",
        "|-pool_type_2: avg\n",
        "|-pool_type_3: max\n",
        "|-pool_type_4: avg\n",
        "|-pool_type_5: avg\n",
        "|-pool_type_6: avg\n",
        "|-pool_type_7: max\n",
        "Trial summary\n",
        "|-Trial ID: dbb80755bd84745f7d52cdc5f4764c8a\n",
        "|-Score: 0.1504457692305247\n",
        "|-Best step: 0\n",
        "Hyperparameters:\n",
        "|-activation_conv_index_0_etg_0_desc: relu\n",
        "|-activation_conv_index_0_etg_0_remont: tanh\n",
        "|-activation_conv_index_0_etg_1_desc: relu\n",
        "|-activation_conv_index_0_etg_1_remont: tanh\n",
        "|-activation_conv_index_0_etg_2_desc: relu\n",
        "|-activation_conv_index_0_etg_2_remont: tanh\n",
        "|-activation_conv_index_0_etg_3_desc: elu\n",
        "|-activation_conv_index_0_etg_3_remont: tanh\n",
        "|-activation_conv_index_0_etg_4_desc: selu\n",
        "|-activation_conv_index_0_etg_4_remont: selu\n",
        "|-activation_conv_index_0_etg_5_desc: linear\n",
        "|-activation_conv_index_0_etg_5_remont: elu\n",
        "|-activation_conv_index_0_etg_6_desc: linear\n",
        "|-activation_conv_index_0_etg_6_remont: linear\n",
        "|-activation_conv_index_0_etg_7_desc: elu\n",
        "|-activation_conv_index_0_etg_7_remont: elu\n",
        "|-activation_conv_index_0_etg_8_desc: elu\n",
        "|-activation_conv_index_1_etg_0_desc: relu\n",
        "|-activation_conv_index_1_etg_0_remont: selu\n",
        "|-activation_conv_index_1_etg_1_desc: relu\n",
        "|-activation_conv_index_1_etg_1_remont: elu\n",
        "|-activation_conv_index_1_etg_2_desc: linear\n",
        "|-activation_conv_index_1_etg_2_remont: linear\n",
        "|-activation_conv_index_1_etg_3_desc: tanh\n",
        "|-activation_conv_index_1_etg_3_remont: elu\n",
        "|-activation_conv_index_1_etg_4_desc: selu\n",
        "|-activation_conv_index_1_etg_4_remont: elu\n",
        "|-activation_conv_index_1_etg_5_desc: relu\n",
        "|-activation_conv_index_1_etg_5_remont: tanh\n",
        "|-activation_conv_index_1_etg_6_desc: relu\n",
        "|-activation_conv_index_1_etg_6_remont: linear\n",
        "|-activation_conv_index_1_etg_7_desc: relu\n",
        "|-activation_conv_index_1_etg_7_remont: selu\n",
        "|-activation_conv_index_1_etg_8_desc: linear\n",
        "|-activation_conv_index_2_etg_0_desc: linear\n",
        "|-activation_conv_index_2_etg_0_remont: relu\n",
        "|-activation_conv_index_2_etg_1_desc: tanh\n",
        "|-activation_conv_index_2_etg_1_remont: selu\n",
        "|-activation_conv_index_2_etg_2_desc: tanh\n",
        "|-activation_conv_index_2_etg_2_remont: linear\n",
        "|-activation_conv_index_2_etg_3_desc: elu\n",
        "|-activation_conv_index_2_etg_3_remont: linear\n",
        "|-activation_conv_index_2_etg_4_desc: relu\n",
        "|-activation_conv_index_2_etg_4_remont: elu\n",
        "|-activation_conv_index_2_etg_5_remont: tanh\n",
        "|-activation_conv_index_2_etg_7_desc: relu\n",
        "|-activation_conv_index_2_etg_7_remont: elu\n",
        "|-activation_conv_index_2_etg_8_desc: linear\n",
        "|-activation_conv_index_3_etg_0_remont: linear\n",
        "|-activation_conv_index_3_etg_1_desc: relu\n",
        "|-activation_conv_index_3_etg_1_remont: relu\n",
        "|-activation_conv_index_3_etg_2_desc: selu\n",
        "|-activation_conv_index_3_etg_4_desc: elu\n",
        "|-activation_conv_index_3_etg_7_remont: linear\n",
        "|-beta_1: 1.0290648554975916\n",
        "|-beta_2: 0.8884161545749057\n",
        "|-filtre_conv_index_0_etg_0_desc: 3\n",
        "|-filtre_conv_index_0_etg_0_remont: 500\n",
        "|-filtre_conv_index_0_etg_1_desc: 10\n",
        "|-filtre_conv_index_0_etg_1_remont: 3\n",
        "|-filtre_conv_index_0_etg_2_desc: 1\n",
        "|-filtre_conv_index_0_etg_2_remont: 10\n",
        "|-filtre_conv_index_0_etg_3_desc: 10\n",
        "|-filtre_conv_index_0_etg_3_remont: 1\n",
        "|-filtre_conv_index_0_etg_4_desc: 3\n",
        "|-filtre_conv_index_0_etg_4_remont: 10\n",
        "|-filtre_conv_index_0_etg_5_desc: 50\n",
        "|-filtre_conv_index_0_etg_5_remont: 10\n",
        "|-filtre_conv_index_0_etg_6_desc: 50\n",
        "|-filtre_conv_index_0_etg_6_remont: 1\n",
        "|-filtre_conv_index_0_etg_7_desc: 3\n",
        "|-filtre_conv_index_0_etg_7_remont: 3\n",
        "|-filtre_conv_index_0_etg_8_desc: 10\n",
        "|-filtre_conv_index_1_etg_0_desc: 500\n",
        "|-filtre_conv_index_1_etg_0_remont: 10\n",
        "|-filtre_conv_index_1_etg_1_desc: 10\n",
        "|-filtre_conv_index_1_etg_1_remont: 500\n",
        "|-filtre_conv_index_1_etg_2_desc: 3\n",
        "|-filtre_conv_index_1_etg_2_remont: 50\n",
        "|-filtre_conv_index_1_etg_3_desc: 50\n",
        "|-filtre_conv_index_1_etg_3_remont: 50\n",
        "|-filtre_conv_index_1_etg_4_desc: 500\n",
        "|-filtre_conv_index_1_etg_4_remont: 50\n",
        "|-filtre_conv_index_1_etg_5_desc: 1\n",
        "|-filtre_conv_index_1_etg_5_remont: 100\n",
        "|-filtre_conv_index_1_etg_6_desc: 10\n",
        "|-filtre_conv_index_1_etg_6_remont: 100\n",
        "|-filtre_conv_index_1_etg_7_desc: 100\n",
        "|-filtre_conv_index_1_etg_7_remont: 100\n",
        "|-filtre_conv_index_1_etg_8_desc: 500\n",
        "|-filtre_conv_index_2_etg_0_desc: 10\n",
        "|-filtre_conv_index_2_etg_0_remont: 1\n",
        "|-filtre_conv_index_2_etg_1_desc: 100\n",
        "|-filtre_conv_index_2_etg_1_remont: 3\n",
        "|-filtre_conv_index_2_etg_2_desc: 500\n",
        "|-filtre_conv_index_2_etg_2_remont: 1\n",
        "|-filtre_conv_index_2_etg_3_desc: 10\n",
        "|-filtre_conv_index_2_etg_3_remont: 3\n",
        "|-filtre_conv_index_2_etg_4_desc: 50\n",
        "|-filtre_conv_index_2_etg_4_remont: 10\n",
        "|-filtre_conv_index_2_etg_5_remont: 3\n",
        "|-filtre_conv_index_2_etg_7_desc: 3\n",
        "|-filtre_conv_index_2_etg_7_remont: 1\n",
        "|-filtre_conv_index_2_etg_8_desc: 50\n",
        "|-filtre_conv_index_3_etg_0_remont: 3\n",
        "|-filtre_conv_index_3_etg_1_desc: 1\n",
        "|-filtre_conv_index_3_etg_1_remont: 3\n",
        "|-filtre_conv_index_3_etg_2_desc: 100\n",
        "|-filtre_conv_index_3_etg_4_desc: 500\n",
        "|-filtre_conv_index_3_etg_7_remont: 100\n",
        "|-filtre_deconv_etg_0_remont: 1\n",
        "|-filtre_deconv_etg_1_remont: 500\n",
        "|-filtre_deconv_etg_2_remont: 1\n",
        "|-filtre_deconv_etg_3_remont: 100\n",
        "|-filtre_deconv_etg_4_remont: 10\n",
        "|-filtre_deconv_etg_5_remont: 100\n",
        "|-filtre_deconv_etg_6_remont: 1\n",
        "|-filtre_deconv_etg_7_remont: 50\n",
        "|-kernel_conv_index_0_etg_0_desc: 2\n",
        "|-kernel_conv_index_0_etg_0_remont: 3\n",
        "|-kernel_conv_index_0_etg_1_desc: 2\n",
        "|-kernel_conv_index_0_etg_1_remont: 3\n",
        "|-kernel_conv_index_0_etg_2_desc: 3\n",
        "|-kernel_conv_index_0_etg_2_remont: 3\n",
        "|-kernel_conv_index_0_etg_3_desc: 2\n",
        "|-kernel_conv_index_0_etg_3_remont: 3\n",
        "|-kernel_conv_index_0_etg_4_desc: 3\n",
        "|-kernel_conv_index_0_etg_4_remont: 2\n",
        "|-kernel_conv_index_0_etg_5_desc: 3\n",
        "|-kernel_conv_index_0_etg_5_remont: 2\n",
        "|-kernel_conv_index_0_etg_6_desc: 3\n",
        "|-kernel_conv_index_0_etg_6_remont: 2\n",
        "|-kernel_conv_index_0_etg_7_desc: 3\n",
        "|-kernel_conv_index_0_etg_7_remont: 3\n",
        "|-kernel_conv_index_0_etg_8_desc: 2\n",
        "|-kernel_conv_index_1_etg_0_desc: 2\n",
        "|-kernel_conv_index_1_etg_0_remont: 2\n",
        "|-kernel_conv_index_1_etg_1_desc: 2\n",
        "|-kernel_conv_index_1_etg_1_remont: 3\n",
        "|-kernel_conv_index_1_etg_2_desc: 3\n",
        "|-kernel_conv_index_1_etg_2_remont: 2\n",
        "|-kernel_conv_index_1_etg_3_desc: 3\n",
        "|-kernel_conv_index_1_etg_3_remont: 2\n",
        "|-kernel_conv_index_1_etg_4_desc: 3\n",
        "|-kernel_conv_index_1_etg_4_remont: 2\n",
        "|-kernel_conv_index_1_etg_5_desc: 2\n",
        "|-kernel_conv_index_1_etg_5_remont: 3\n",
        "|-kernel_conv_index_1_etg_6_desc: 3\n",
        "|-kernel_conv_index_1_etg_6_remont: 3\n",
        "|-kernel_conv_index_1_etg_7_desc: 3\n",
        "|-kernel_conv_index_1_etg_7_remont: 2\n",
        "|-kernel_conv_index_1_etg_8_desc: 3\n",
        "|-kernel_conv_index_2_etg_0_desc: 2\n",
        "|-kernel_conv_index_2_etg_0_remont: 3\n",
        "|-kernel_conv_index_2_etg_1_desc: 3\n",
        "|-kernel_conv_index_2_etg_1_remont: 2\n",
        "|-kernel_conv_index_2_etg_2_desc: 2\n",
        "|-kernel_conv_index_2_etg_2_remont: 2\n",
        "|-kernel_conv_index_2_etg_3_desc: 2\n",
        "|-kernel_conv_index_2_etg_3_remont: 2\n",
        "|-kernel_conv_index_2_etg_4_desc: 3\n",
        "|-kernel_conv_index_2_etg_4_remont: 2\n",
        "|-kernel_conv_index_2_etg_5_remont: 2\n",
        "|-kernel_conv_index_2_etg_7_desc: 2\n",
        "|-kernel_conv_index_2_etg_7_remont: 3\n",
        "|-kernel_conv_index_2_etg_8_desc: 3\n",
        "|-kernel_conv_index_3_etg_0_remont: 2\n",
        "|-kernel_conv_index_3_etg_1_desc: 2\n",
        "|-kernel_conv_index_3_etg_1_remont: 3\n",
        "|-kernel_conv_index_3_etg_2_desc: 2\n",
        "|-kernel_conv_index_3_etg_4_desc: 2\n",
        "|-kernel_conv_index_3_etg_7_remont: 3\n",
        "|-learning_rate: 1e-05\n",
        "|-nb_conv_etg_0_desc: 2\n",
        "|-nb_conv_etg_0_remont: 2\n",
        "|-nb_conv_etg_1_desc: 4\n",
        "|-nb_conv_etg_1_remont: 2\n",
        "|-nb_conv_etg_2_desc: 4\n",
        "|-nb_conv_etg_2_remont: 3\n",
        "|-nb_conv_etg_3_desc: 3\n",
        "|-nb_conv_etg_3_remont: 3\n",
        "|-nb_conv_etg_4_desc: 1\n",
        "|-nb_conv_etg_4_remont: 2\n",
        "|-nb_conv_etg_5_desc: 2\n",
        "|-nb_conv_etg_5_remont: 1\n",
        "|-nb_conv_etg_6_desc: 0\n",
        "|-nb_conv_etg_6_remont: 4\n",
        "|-nb_conv_etg_7_desc: 3\n",
        "|-nb_conv_etg_7_remont: 4\n",
        "|-nb_conv_etg_8_desc: 4\n",
        "|-nb_pool: 6\n",
        "|-pool_type_0: avg\n",
        "|-pool_type_1: max\n",
        "|-pool_type_2: avg\n",
        "|-pool_type_3: max\n",
        "|-pool_type_4: max\n",
        "|-pool_type_5: avg\n",
        "|-pool_type_6: avg\n",
        "|-pool_type_7: avg\n",
        "Trial summary\n",
        "|-Trial ID: 69b5b13a94692f068feb6f03bb7ffa7c\n",
        "|-Score: 0.14004004001617432\n",
        "|-Best step: 0\n",
        "Hyperparameters:\n",
        "|-activation_conv_index_0_etg_0_desc: selu\n",
        "|-activation_conv_index_0_etg_0_remont: relu\n",
        "|-activation_conv_index_0_etg_1_desc: relu\n",
        "|-activation_conv_index_0_etg_1_remont: relu\n",
        "|-activation_conv_index_0_etg_2_desc: relu\n",
        "|-activation_conv_index_0_etg_2_remont: relu\n",
        "|-activation_conv_index_0_etg_3_desc: relu\n",
        "|-activation_conv_index_0_etg_3_remont: relu\n",
        "|-activation_conv_index_0_etg_4_desc: relu\n",
        "|-activation_conv_index_1_etg_0_desc: relu\n",
        "|-activation_conv_index_2_etg_0_desc: relu\n",
        "|-beta_1: 0.9840279767813848\n",
        "|-beta_2: 0.961829610530099\n",
        "|-filtre_conv_index_0_etg_0_desc: 50\n",
        "|-filtre_conv_index_0_etg_0_remont: 1\n",
        "|-filtre_conv_index_0_etg_1_desc: 1\n",
        "|-filtre_conv_index_0_etg_1_remont: 1\n",
        "|-filtre_conv_index_0_etg_2_desc: 1\n",
        "|-filtre_conv_index_0_etg_2_remont: 1\n",
        "|-filtre_conv_index_0_etg_3_desc: 1\n",
        "|-filtre_conv_index_0_etg_3_remont: 1\n",
        "|-filtre_conv_index_0_etg_4_desc: 1\n",
        "|-filtre_conv_index_1_etg_0_desc: 1\n",
        "|-filtre_conv_index_2_etg_0_desc: 1\n",
        "|-filtre_deconv_etg_0_remont: 1\n",
        "|-filtre_deconv_etg_1_remont: 1\n",
        "|-filtre_deconv_etg_2_remont: 1\n",
        "|-filtre_deconv_etg_3_remont: 1\n",
        "|-kernel_conv_index_0_etg_0_desc: 2\n",
        "|-kernel_conv_index_0_etg_0_remont: 2\n",
        "|-kernel_conv_index_0_etg_1_desc: 2\n",
        "|-kernel_conv_index_0_etg_1_remont: 2\n",
        "|-kernel_conv_index_0_etg_2_desc: 2\n",
        "|-kernel_conv_index_0_etg_2_remont: 2\n",
        "|-kernel_conv_index_0_etg_3_desc: 2\n",
        "|-kernel_conv_index_0_etg_3_remont: 2\n",
        "|-kernel_conv_index_0_etg_4_desc: 2\n",
        "|-kernel_conv_index_1_etg_0_desc: 2\n",
        "|-kernel_conv_index_2_etg_0_desc: 2\n",
        "|-learning_rate: 1e-06\n",
        "|-nb_conv_etg_0_desc: 3\n",
        "|-nb_conv_etg_0_remont: 1\n",
        "|-nb_conv_etg_1_desc: 1\n",
        "|-nb_conv_etg_1_remont: 1\n",
        "|-nb_conv_etg_2_desc: 1\n",
        "|-nb_conv_etg_2_remont: 1\n",
        "|-nb_conv_etg_3_desc: 1\n",
        "|-nb_conv_etg_3_remont: 1\n",
        "|-nb_conv_etg_4_desc: 1\n",
        "|-nb_pool: 4\n",
        "|-pool_type_0: max\n",
        "|-pool_type_1: max\n",
        "|-pool_type_2: max\n",
        "|-pool_type_3: max"
      ]
    },
    {
      "cell_type": "code",
      "metadata": {
        "id": "GZREMREP3cLs",
        "colab_type": "code",
        "colab": {}
      },
      "source": [
        ""
      ],
      "execution_count": 0,
      "outputs": []
    },
    {
      "cell_type": "markdown",
      "metadata": {
        "id": "mKHdNqzEh5Ot",
        "colab_type": "text"
      },
      "source": [
        "#Résultat 2e entrainement"
      ]
    },
    {
      "cell_type": "markdown",
      "metadata": {
        "id": "Yr1M3pcqh_1L",
        "colab_type": "text"
      },
      "source": [
        "Epoch 1/5\n",
        "12/12 [==============================] - 60s 5s/step - loss: nan - accuracy: 0.8471 - val_loss: nan - val_accuracy: 0.8244\n",
        "Epoch 2/5\n",
        "12/12 [==============================] - 8s 695ms/step - loss: nan - accuracy: 0.8471 - val_loss: nan - val_accuracy: 0.8244\n",
        "Epoch 3/5\n",
        "12/12 [==============================] - 8s 695ms/step - loss: nan - accuracy: 0.8471 - val_loss: nan - val_accuracy: 0.8244\n",
        "Epoch 4/5\n",
        "12/12 [==============================] - 8s 695ms/step - loss: nan - accuracy: 0.8471 - val_loss: nan - val_accuracy: 0.8244\n",
        "Epoch 5/5\n",
        "12/12 [==============================] - 8s 699ms/step - loss: nan - accuracy: 0.8471 - val_loss: nan - val_accuracy: 0.8244\n",
        "Epoch 1/5\n",
        "12/12 [==============================] - 9s 714ms/step - loss: nan - accuracy: 0.8471 - val_loss: nan - val_accuracy: 0.8244\n",
        "Epoch 2/5\n",
        "12/12 [==============================] - 8s 690ms/step - loss: nan - accuracy: 0.8471 - val_loss: nan - val_accuracy: 0.8244\n",
        "Epoch 3/5\n",
        "12/12 [==============================] - 8s 697ms/step - loss: nan - accuracy: 0.8471 - val_loss: nan - val_accuracy: 0.8244\n",
        "Epoch 4/5\n",
        "12/12 [==============================] - 8s 688ms/step - loss: nan - accuracy: 0.8471 - val_loss: nan - val_accuracy: 0.8244\n",
        "Epoch 5/5\n",
        "12/12 [==============================] - 8s 690ms/step - loss: nan - accuracy: 0.8471 - val_loss: nan - val_accuracy: 0.8244\n",
        "Epoch 1/5\n",
        "12/12 [==============================] - 9s 712ms/step - loss: nan - accuracy: 0.8449 - val_loss: nan - val_accuracy: 0.8244\n",
        "Epoch 2/5\n",
        "12/12 [==============================] - 8s 690ms/step - loss: nan - accuracy: 0.8471 - val_loss: nan - val_accuracy: 0.8244\n",
        "Epoch 3/5\n",
        "12/12 [==============================] - 8s 693ms/step - loss: nan - accuracy: 0.8471 - val_loss: nan - val_accuracy: 0.8244\n",
        "Epoch 4/5\n",
        "12/12 [==============================] - 8s 688ms/step - loss: nan - accuracy: 0.8471 - val_loss: nan - val_accuracy: 0.8244\n",
        "Epoch 5/5\n",
        "12/12 [==============================] - 8s 694ms/step - loss: nan - accuracy: 0.8471 - val_loss: nan - val_accuracy: 0.8244\n",
        "\n",
        "/usr/local/lib/python3.6/dist-packages/kerastuner/engine/metrics_tracking.py:92: RuntimeWarning: All-NaN axis encountered\n",
        "  return np.nanmin(values)\n",
        "\n",
        "Trial complete\n",
        "Trial summary\n",
        "|-Trial ID: 629c3fb4b36d9202bccf82981eedeb62\n",
        "|-Score: 0.8244484066963196\n",
        "|-Best step: 0\n",
        "Hyperparameters:\n",
        "|-activation_conv_index_0_etg_0_desc: selu\n",
        "|-activation_conv_index_0_etg_0_remont: relu\n",
        "|-activation_conv_index_0_etg_1_desc: relu\n",
        "|-activation_conv_index_0_etg_1_remont: relu\n",
        "|-activation_conv_index_0_etg_2_desc: relu\n",
        "|-activation_conv_index_0_etg_2_remont: relu\n",
        "|-activation_conv_index_0_etg_3_desc: relu\n",
        "|-activation_conv_index_0_etg_3_remont: relu\n",
        "|-activation_conv_index_0_etg_4_desc: relu\n",
        "|-beta_1: 1.0325074675237762\n",
        "|-beta_2: 1.0016033707761187\n",
        "|-filtre_conv_index_0_etg_0_desc: 100\n",
        "|-filtre_conv_index_0_etg_0_remont: 1\n",
        "|-filtre_conv_index_0_etg_1_desc: 1\n",
        "|-filtre_conv_index_0_etg_1_remont: 1\n",
        "|-filtre_conv_index_0_etg_2_desc: 1\n",
        "|-filtre_conv_index_0_etg_2_remont: 1\n",
        "|-filtre_conv_index_0_etg_3_desc: 1\n",
        "|-filtre_conv_index_0_etg_3_remont: 1\n",
        "|-filtre_conv_index_0_etg_4_desc: 1\n",
        "|-filtre_deconv_etg_0_remont: 1\n",
        "|-filtre_deconv_etg_1_remont: 1\n",
        "|-filtre_deconv_etg_2_remont: 1\n",
        "|-filtre_deconv_etg_3_remont: 1\n",
        "|-kernel_conv_index_0_etg_0_desc: 2\n",
        "|-kernel_conv_index_0_etg_0_remont: 2\n",
        "|-kernel_conv_index_0_etg_1_desc: 2\n",
        "|-kernel_conv_index_0_etg_1_remont: 2\n",
        "|-kernel_conv_index_0_etg_2_desc: 2\n",
        "|-kernel_conv_index_0_etg_2_remont: 2\n",
        "|-kernel_conv_index_0_etg_3_desc: 2\n",
        "|-kernel_conv_index_0_etg_3_remont: 2\n",
        "|-kernel_conv_index_0_etg_4_desc: 2\n",
        "|-learning_rate: 0.01\n",
        "|-nb_conv_etg_0_desc: 1\n",
        "|-nb_conv_etg_0_remont: 1\n",
        "|-nb_conv_etg_1_desc: 1\n",
        "|-nb_conv_etg_1_remont: 1\n",
        "|-nb_conv_etg_2_desc: 1\n",
        "|-nb_conv_etg_2_remont: 1\n",
        "|-nb_conv_etg_3_desc: 1\n",
        "|-nb_conv_etg_3_remont: 1\n",
        "|-nb_conv_etg_4_desc: 1\n",
        "|-nb_pool: 4\n",
        "|-pool_type_0: max\n",
        "|-pool_type_1: max\n",
        "|-pool_type_2: max\n",
        "|-pool_type_3: max\n",
        "\n",
        "Epoch 1/5\n",
        "12/12 [==============================] - 11s 886ms/step - loss: 0.0077 - accuracy: 0.6418 - val_loss: 0.0077 - val_accuracy: 0.8244\n",
        "Epoch 2/5\n",
        "12/12 [==============================] - 10s 841ms/step - loss: 0.0077 - accuracy: 0.8471 - val_loss: 0.0077 - val_accuracy: 0.8244\n",
        "Epoch 3/5\n",
        "12/12 [==============================] - 10s 840ms/step - loss: 0.0077 - accuracy: 0.8471 - val_loss: 0.0077 - val_accuracy: 0.8244\n",
        "Epoch 4/5\n",
        "12/12 [==============================] - 10s 834ms/step - loss: 0.0077 - accuracy: 0.8471 - val_loss: 0.0077 - val_accuracy: 0.8244\n",
        "Epoch 5/5\n",
        "12/12 [==============================] - 10s 839ms/step - loss: 0.0077 - accuracy: 0.8471 - val_loss: 0.0077 - val_accuracy: 0.8244\n",
        "Epoch 1/5\n",
        "12/12 [==============================] - 11s 875ms/step - loss: 0.0077 - accuracy: 0.6418 - val_loss: 0.0077 - val_accuracy: 0.8244\n",
        "Epoch 2/5\n",
        "12/12 [==============================] - 10s 840ms/step - loss: 0.0077 - accuracy: 0.8471 - val_loss: 0.0077 - val_accuracy: 0.8244\n",
        "Epoch 3/5\n",
        "12/12 [==============================] - 10s 842ms/step - loss: 0.0077 - accuracy: 0.8471 - val_loss: 0.0077 - val_accuracy: 0.8244\n",
        "Epoch 4/5\n",
        "12/12 [==============================] - 10s 835ms/step - loss: 0.0077 - accuracy: 0.8471 - val_loss: 0.0077 - val_accuracy: 0.8244\n",
        "Epoch 5/5\n",
        "12/12 [==============================] - 10s 834ms/step - loss: 0.0077 - accuracy: 0.8471 - val_loss: 0.0077 - val_accuracy: 0.8244\n",
        "Epoch 1/5\n",
        "12/12 [==============================] - 10s 872ms/step - loss: 0.0077 - accuracy: 0.6418 - val_loss: 0.0077 - val_accuracy: 0.8244\n",
        "Epoch 2/5\n",
        "12/12 [==============================] - 10s 835ms/step - loss: 0.0077 - accuracy: 0.8471 - val_loss: 0.0077 - val_accuracy: 0.8244\n",
        "Epoch 3/5\n",
        "12/12 [==============================] - 10s 851ms/step - loss: 0.0077 - accuracy: 0.8471 - val_loss: 0.0077 - val_accuracy: 0.8244\n",
        "Epoch 4/5\n",
        "12/12 [==============================] - 10s 842ms/step - loss: 0.0077 - accuracy: 0.8471 - val_loss: 0.0077 - val_accuracy: 0.8244\n",
        "Epoch 5/5\n",
        "12/12 [==============================] - 10s 837ms/step - loss: 0.0077 - accuracy: 0.8471 - val_loss: 0.0077 - val_accuracy: 0.8244\n",
        "\n",
        "Trial complete\n",
        "Trial summary\n",
        "|-Trial ID: 8677c28d78535c9971e72faff9b51789\n",
        "|-Score: 0.8244484066963196\n",
        "|-Best step: 0\n",
        "Hyperparameters:\n",
        "|-activation_conv_index_0_etg_0_desc: tanh\n",
        "|-activation_conv_index_0_etg_0_remont: relu\n",
        "|-activation_conv_index_0_etg_1_desc: elu\n",
        "|-activation_conv_index_0_etg_1_remont: elu\n",
        "|-activation_conv_index_0_etg_2_desc: elu\n",
        "|-activation_conv_index_0_etg_2_remont: elu\n",
        "|-activation_conv_index_0_etg_3_desc: tanh\n",
        "|-activation_conv_index_0_etg_3_remont: linear\n",
        "|-activation_conv_index_0_etg_4_desc: selu\n",
        "|-activation_conv_index_0_etg_4_remont: relu\n",
        "|-activation_conv_index_0_etg_5_desc: relu\n",
        "|-activation_conv_index_0_etg_5_remont: relu\n",
        "|-activation_conv_index_0_etg_6_desc: relu\n",
        "|-activation_conv_index_0_etg_6_remont: relu\n",
        "|-activation_conv_index_0_etg_7_desc: relu\n",
        "|-activation_conv_index_0_etg_7_remont: relu\n",
        "|-activation_conv_index_0_etg_8_desc: relu\n",
        "|-activation_conv_index_1_etg_0_desc: relu\n",
        "|-activation_conv_index_1_etg_2_desc: relu\n",
        "|-activation_conv_index_1_etg_2_remont: relu\n",
        "|-activation_conv_index_1_etg_3_remont: relu\n",
        "|-activation_conv_index_1_etg_4_desc: relu\n",
        "|-activation_conv_index_2_etg_0_desc: relu\n",
        "|-activation_conv_index_2_etg_2_remont: relu\n",
        "|-activation_conv_index_2_etg_3_remont: relu\n",
        "|-activation_conv_index_2_etg_4_desc: relu\n",
        "|-activation_conv_index_3_etg_0_desc: relu\n",
        "|-beta_1: 1.024879745402238\n",
        "|-beta_2: 0.9977119751844172\n",
        "|-filtre_conv_index_0_etg_0_desc: 3\n",
        "|-filtre_conv_index_0_etg_0_remont: 3\n",
        "|-filtre_conv_index_0_etg_1_desc: 3\n",
        "|-filtre_conv_index_0_etg_1_remont: 1\n",
        "|-filtre_conv_index_0_etg_2_desc: 10\n",
        "|-filtre_conv_index_0_etg_2_remont: 1\n",
        "|-filtre_conv_index_0_etg_3_desc: 1\n",
        "|-filtre_conv_index_0_etg_3_remont: 50\n",
        "|-filtre_conv_index_0_etg_4_desc: 50\n",
        "|-filtre_conv_index_0_etg_4_remont: 1\n",
        "|-filtre_conv_index_0_etg_5_desc: 1\n",
        "|-filtre_conv_index_0_etg_5_remont: 1\n",
        "|-filtre_conv_index_0_etg_6_desc: 1\n",
        "|-filtre_conv_index_0_etg_6_remont: 1\n",
        "|-filtre_conv_index_0_etg_7_desc: 1\n",
        "|-filtre_conv_index_0_etg_7_remont: 1\n",
        "|-filtre_conv_index_0_etg_8_desc: 1\n",
        "|-filtre_conv_index_1_etg_0_desc: 1\n",
        "|-filtre_conv_index_1_etg_2_desc: 1\n",
        "|-filtre_conv_index_1_etg_2_remont: 1\n",
        "|-filtre_conv_index_1_etg_3_remont: 1\n",
        "|-filtre_conv_index_1_etg_4_desc: 1\n",
        "|-filtre_conv_index_2_etg_0_desc: 1\n",
        "|-filtre_conv_index_2_etg_2_remont: 1\n",
        "|-filtre_conv_index_2_etg_3_remont: 1\n",
        "|-filtre_conv_index_2_etg_4_desc: 1\n",
        "|-filtre_conv_index_3_etg_0_desc: 1\n",
        "|-filtre_deconv_etg_0_remont: 100\n",
        "|-filtre_deconv_etg_1_remont: 1\n",
        "|-filtre_deconv_etg_2_remont: 50\n",
        "|-filtre_deconv_etg_3_remont: 500\n",
        "|-filtre_deconv_etg_4_remont: 1\n",
        "|-filtre_deconv_etg_5_remont: 1\n",
        "|-filtre_deconv_etg_6_remont: 1\n",
        "|-filtre_deconv_etg_7_remont: 1\n",
        "|-kernel_conv_index_0_etg_0_desc: 3\n",
        "|-kernel_conv_index_0_etg_0_remont: 2\n",
        "|-kernel_conv_index_0_etg_1_desc: 3\n",
        "|-kernel_conv_index_0_etg_1_remont: 3\n",
        "|-kernel_conv_index_0_etg_2_desc: 2\n",
        "|-kernel_conv_index_0_etg_2_remont: 3\n",
        "|-kernel_conv_index_0_etg_3_desc: 3\n",
        "|-kernel_conv_index_0_etg_3_remont: 2\n",
        "|-kernel_conv_index_0_etg_4_desc: 3\n",
        "|-kernel_conv_index_0_etg_4_remont: 2\n",
        "|-kernel_conv_index_0_etg_5_desc: 2\n",
        "|-kernel_conv_index_0_etg_5_remont: 2\n",
        "|-kernel_conv_index_0_etg_6_desc: 2\n",
        "|-kernel_conv_index_0_etg_6_remont: 2\n",
        "|-kernel_conv_index_0_etg_7_desc: 2\n",
        "|-kernel_conv_index_0_etg_7_remont: 2\n",
        "|-kernel_conv_index_0_etg_8_desc: 2\n",
        "|-kernel_conv_index_1_etg_0_desc: 2\n",
        "|-kernel_conv_index_1_etg_2_desc: 2\n",
        "|-kernel_conv_index_1_etg_2_remont: 2\n",
        "|-kernel_conv_index_1_etg_3_remont: 2\n",
        "|-kernel_conv_index_1_etg_4_desc: 2\n",
        "|-kernel_conv_index_2_etg_0_desc: 2\n",
        "|-kernel_conv_index_2_etg_2_remont: 2\n",
        "|-kernel_conv_index_2_etg_3_remont: 2\n",
        "|-kernel_conv_index_2_etg_4_desc: 2\n",
        "|-kernel_conv_index_3_etg_0_desc: 2\n",
        "|-learning_rate: 1e-06\n",
        "|-nb_conv_etg_0_desc: 4\n",
        "|-nb_conv_etg_0_remont: 1\n",
        "|-nb_conv_etg_1_desc: 1\n",
        "|-nb_conv_etg_1_remont: 0\n",
        "|-nb_conv_etg_2_desc: 2\n",
        "|-nb_conv_etg_2_remont: 3\n",
        "|-nb_conv_etg_3_desc: 1\n",
        "|-nb_conv_etg_3_remont: 3\n",
        "|-nb_conv_etg_4_desc: 3\n",
        "|-nb_conv_etg_4_remont: 1\n",
        "|-nb_conv_etg_5_desc: 1\n",
        "|-nb_conv_etg_5_remont: 1\n",
        "|-nb_conv_etg_6_desc: 1\n",
        "|-nb_conv_etg_6_remont: 1\n",
        "|-nb_conv_etg_7_desc: 1\n",
        "|-nb_conv_etg_7_remont: 1\n",
        "|-nb_conv_etg_8_desc: 1\n",
        "|-nb_pool: 8\n",
        "|-pool_type_0: max\n",
        "|-pool_type_1: max\n",
        "|-pool_type_2: max\n",
        "|-pool_type_3: max\n",
        "|-pool_type_4: max\n",
        "|-pool_type_5: max\n",
        "|-pool_type_6: max\n",
        "|-pool_type_7: max\n",
        "\n",
        "Epoch 1/5\n",
        "12/12 [==============================] - 29s 2s/step - loss: nan - accuracy: 0.8447 - val_loss: nan - val_accuracy: 0.8244\n",
        "Epoch 2/5\n",
        "12/12 [==============================] - 29s 2s/step - loss: nan - accuracy: 0.8471 - val_loss: nan - val_accuracy: 0.8244\n",
        "Epoch 3/5\n",
        "12/12 [==============================] - 29s 2s/step - loss: nan - accuracy: 0.8471 - val_loss: nan - val_accuracy: 0.8244\n",
        "Epoch 4/5\n",
        "12/12 [==============================] - 29s 2s/step - loss: nan - accuracy: 0.8471 - val_loss: nan - val_accuracy: 0.8244\n",
        "Epoch 5/5\n",
        "12/12 [==============================] - 29s 2s/step - loss: nan - accuracy: 0.8471 - val_loss: nan - val_accuracy: 0.8244\n",
        "Epoch 1/5\n",
        "12/12 [==============================] - 29s 2s/step - loss: nan - accuracy: 0.8419 - val_loss: nan - val_accuracy: 0.8244\n",
        "Epoch 2/5\n",
        "12/12 [==============================] - 29s 2s/step - loss: nan - accuracy: 0.8471 - val_loss: nan - val_accuracy: 0.8244\n",
        "Epoch 3/5\n",
        "12/12 [==============================] - 28s 2s/step - loss: nan - accuracy: 0.8471 - val_loss: nan - val_accuracy: 0.8244\n",
        "Epoch 4/5\n",
        "12/12 [==============================] - 29s 2s/step - loss: nan - accuracy: 0.8471 - val_loss: nan - val_accuracy: 0.8244\n",
        "Epoch 5/5\n",
        "12/12 [==============================] - 29s 2s/step - loss: nan - accuracy: 0.8471 - val_loss: nan - val_accuracy: 0.8244\n",
        "Epoch 1/5\n",
        "12/12 [==============================] - 29s 2s/step - loss: nan - accuracy: 0.8370 - val_loss: nan - val_accuracy: 0.8244\n",
        "Epoch 2/5\n",
        "12/12 [==============================] - 29s 2s/step - loss: nan - accuracy: 0.8471 - val_loss: nan - val_accuracy: 0.8244\n",
        "Epoch 3/5\n",
        "12/12 [==============================] - 29s 2s/step - loss: nan - accuracy: 0.8471 - val_loss: nan - val_accuracy: 0.8244\n",
        "Epoch 4/5\n",
        "12/12 [==============================] - 29s 2s/step - loss: nan - accuracy: 0.8471 - val_loss: nan - val_accuracy: 0.8244\n",
        "Epoch 5/5\n",
        "12/12 [==============================] - 29s 2s/step - loss: nan - accuracy: 0.8471 - val_loss: nan - val_accuracy: 0.8244\n",
        "\n",
        "/usr/local/lib/python3.6/dist-packages/kerastuner/engine/metrics_tracking.py:92: RuntimeWarning: All-NaN axis encountered\n",
        "  return np.nanmin(values)\n",
        "\n",
        "Trial complete\n",
        "Trial summary\n",
        "|-Trial ID: 3e81974e3e23220061de6259aeba5e96\n",
        "|-Score: 0.8244484066963196\n",
        "|-Best step: 0\n",
        "Hyperparameters:\n",
        "|-activation_conv_index_0_etg_0_desc: linear\n",
        "|-activation_conv_index_0_etg_0_remont: selu\n",
        "|-activation_conv_index_0_etg_1_desc: linear\n",
        "|-activation_conv_index_0_etg_1_remont: relu\n",
        "|-activation_conv_index_0_etg_2_desc: selu\n",
        "|-activation_conv_index_0_etg_2_remont: linear\n",
        "|-activation_conv_index_0_etg_3_desc: elu\n",
        "|-activation_conv_index_0_etg_3_remont: tanh\n",
        "|-activation_conv_index_0_etg_4_desc: relu\n",
        "|-activation_conv_index_0_etg_4_remont: linear\n",
        "|-activation_conv_index_0_etg_5_desc: selu\n",
        "|-activation_conv_index_0_etg_5_remont: linear\n",
        "|-activation_conv_index_0_etg_6_desc: elu\n",
        "|-activation_conv_index_0_etg_6_remont: elu\n",
        "|-activation_conv_index_0_etg_7_desc: elu\n",
        "|-activation_conv_index_0_etg_7_remont: tanh\n",
        "|-activation_conv_index_0_etg_8_desc: selu\n",
        "|-activation_conv_index_1_etg_0_desc: relu\n",
        "|-activation_conv_index_1_etg_1_desc: relu\n",
        "|-activation_conv_index_1_etg_2_desc: tanh\n",
        "|-activation_conv_index_1_etg_2_remont: tanh\n",
        "|-activation_conv_index_1_etg_3_remont: relu\n",
        "|-activation_conv_index_1_etg_4_desc: relu\n",
        "|-activation_conv_index_2_etg_0_desc: selu\n",
        "|-activation_conv_index_2_etg_1_desc: relu\n",
        "|-activation_conv_index_2_etg_2_desc: relu\n",
        "|-activation_conv_index_2_etg_2_remont: relu\n",
        "|-activation_conv_index_2_etg_3_remont: elu\n",
        "|-activation_conv_index_2_etg_4_desc: linear\n",
        "|-activation_conv_index_3_etg_0_desc: tanh\n",
        "|-beta_1: 1.0479349577513535\n",
        "|-beta_2: 1.0424958249935516\n",
        "|-filtre_conv_index_0_etg_0_desc: 10\n",
        "|-filtre_conv_index_0_etg_0_remont: 3\n",
        "|-filtre_conv_index_0_etg_1_desc: 100\n",
        "|-filtre_conv_index_0_etg_1_remont: 1\n",
        "|-filtre_conv_index_0_etg_2_desc: 10\n",
        "|-filtre_conv_index_0_etg_2_remont: 10\n",
        "|-filtre_conv_index_0_etg_3_desc: 10\n",
        "|-filtre_conv_index_0_etg_3_remont: 500\n",
        "|-filtre_conv_index_0_etg_4_desc: 50\n",
        "|-filtre_conv_index_0_etg_4_remont: 50\n",
        "|-filtre_conv_index_0_etg_5_desc: 10\n",
        "|-filtre_conv_index_0_etg_5_remont: 1\n",
        "|-filtre_conv_index_0_etg_6_desc: 1\n",
        "|-filtre_conv_index_0_etg_6_remont: 500\n",
        "|-filtre_conv_index_0_etg_7_desc: 100\n",
        "|-filtre_conv_index_0_etg_7_remont: 3\n",
        "|-filtre_conv_index_0_etg_8_desc: 100\n",
        "|-filtre_conv_index_1_etg_0_desc: 100\n",
        "|-filtre_conv_index_1_etg_1_desc: 1\n",
        "|-filtre_conv_index_1_etg_2_desc: 50\n",
        "|-filtre_conv_index_1_etg_2_remont: 10\n",
        "|-filtre_conv_index_1_etg_3_remont: 500\n",
        "|-filtre_conv_index_1_etg_4_desc: 50\n",
        "|-filtre_conv_index_2_etg_0_desc: 100\n",
        "|-filtre_conv_index_2_etg_1_desc: 1\n",
        "|-filtre_conv_index_2_etg_2_desc: 1\n",
        "|-filtre_conv_index_2_etg_2_remont: 500\n",
        "|-filtre_conv_index_2_etg_3_remont: 500\n",
        "|-filtre_conv_index_2_etg_4_desc: 3\n",
        "|-filtre_conv_index_3_etg_0_desc: 50\n",
        "|-filtre_deconv_etg_0_remont: 100\n",
        "|-filtre_deconv_etg_1_remont: 10\n",
        "|-filtre_deconv_etg_2_remont: 500\n",
        "|-filtre_deconv_etg_3_remont: 100\n",
        "|-filtre_deconv_etg_4_remont: 50\n",
        "|-filtre_deconv_etg_5_remont: 3\n",
        "|-filtre_deconv_etg_6_remont: 10\n",
        "|-filtre_deconv_etg_7_remont: 500\n",
        "|-kernel_conv_index_0_etg_0_desc: 2\n",
        "|-kernel_conv_index_0_etg_0_remont: 3\n",
        "|-kernel_conv_index_0_etg_1_desc: 2\n",
        "|-kernel_conv_index_0_etg_1_remont: 2\n",
        "|-kernel_conv_index_0_etg_2_desc: 2\n",
        "|-kernel_conv_index_0_etg_2_remont: 3\n",
        "|-kernel_conv_index_0_etg_3_desc: 3\n",
        "|-kernel_conv_index_0_etg_3_remont: 3\n",
        "|-kernel_conv_index_0_etg_4_desc: 2\n",
        "|-kernel_conv_index_0_etg_4_remont: 2\n",
        "|-kernel_conv_index_0_etg_5_desc: 2\n",
        "|-kernel_conv_index_0_etg_5_remont: 3\n",
        "|-kernel_conv_index_0_etg_6_desc: 3\n",
        "|-kernel_conv_index_0_etg_6_remont: 2\n",
        "|-kernel_conv_index_0_etg_7_desc: 2\n",
        "|-kernel_conv_index_0_etg_7_remont: 2\n",
        "|-kernel_conv_index_0_etg_8_desc: 2\n",
        "|-kernel_conv_index_1_etg_0_desc: 3\n",
        "|-kernel_conv_index_1_etg_1_desc: 2\n",
        "|-kernel_conv_index_1_etg_2_desc: 3\n",
        "|-kernel_conv_index_1_etg_2_remont: 2\n",
        "|-kernel_conv_index_1_etg_3_remont: 3\n",
        "|-kernel_conv_index_1_etg_4_desc: 2\n",
        "|-kernel_conv_index_2_etg_0_desc: 3\n",
        "|-kernel_conv_index_2_etg_1_desc: 2\n",
        "|-kernel_conv_index_2_etg_2_desc: 2\n",
        "|-kernel_conv_index_2_etg_2_remont: 3\n",
        "|-kernel_conv_index_2_etg_3_remont: 3\n",
        "|-kernel_conv_index_2_etg_4_desc: 3\n",
        "|-kernel_conv_index_3_etg_0_desc: 2\n",
        "|-learning_rate: 0.01\n",
        "|-nb_conv_etg_0_desc: 4\n",
        "|-nb_conv_etg_0_remont: 1\n",
        "|-nb_conv_etg_1_desc: 3\n",
        "|-nb_conv_etg_1_remont: 0\n",
        "|-nb_conv_etg_2_desc: 3\n",
        "|-nb_conv_etg_2_remont: 3\n",
        "|-nb_conv_etg_3_desc: 1\n",
        "|-nb_conv_etg_3_remont: 3\n",
        "|-nb_conv_etg_4_desc: 1\n",
        "|-nb_conv_etg_4_remont: 0\n",
        "|-nb_conv_etg_5_desc: 2\n",
        "|-nb_conv_etg_5_remont: 2\n",
        "|-nb_conv_etg_6_desc: 0\n",
        "|-nb_conv_etg_6_remont: 1\n",
        "|-nb_conv_etg_7_desc: 2\n",
        "|-nb_conv_etg_7_remont: 2\n",
        "|-nb_conv_etg_8_desc: 1\n",
        "|-nb_pool: 2\n",
        "|-pool_type_0: avg\n",
        "|-pool_type_1: avg\n",
        "|-pool_type_2: avg\n",
        "|-pool_type_3: avg\n",
        "|-pool_type_4: avg\n",
        "|-pool_type_5: max\n",
        "|-pool_type_6: max\n",
        "|-pool_type_7: avg\n",
        "\n",
        "Epoch 1/5\n",
        "12/12 [==============================] - 515s 43s/step - loss: 0.0076 - accuracy: 0.8358 - val_loss: 0.0074 - val_accuracy: 0.8244\n",
        "Epoch 2/5\n",
        "12/12 [==============================] - 517s 43s/step - loss: 0.0073 - accuracy: 0.8471 - val_loss: 0.0071 - val_accuracy: 0.8244\n",
        "Epoch 3/5\n",
        "12/12 [==============================] - 518s 43s/step - loss: 0.0070 - accuracy: 0.8471 - val_loss: 0.0068 - val_accuracy: 0.8244\n",
        "Epoch 4/5\n",
        "12/12 [==============================] - 515s 43s/step - loss: 0.0067 - accuracy: 0.8471 - val_loss: 0.0065 - val_accuracy: 0.8244\n",
        "Epoch 5/5\n",
        "12/12 [==============================] - 515s 43s/step - loss: 0.0064 - accuracy: 0.8471 - val_loss: 0.0062 - val_accuracy: 0.8244\n",
        "Epoch 1/5\n",
        "12/12 [==============================] - 514s 43s/step - loss: 0.0076 - accuracy: 0.8044 - val_loss: 0.0074 - val_accuracy: 0.8207\n",
        "Epoch 2/5\n",
        "12/12 [==============================] - 513s 43s/step - loss: 0.0073 - accuracy: 0.8433 - val_loss: 0.0071 - val_accuracy: 0.8207\n",
        "Epoch 3/5\n",
        "12/12 [==============================] - 513s 43s/step - loss: 0.0071 - accuracy: 0.8433 - val_loss: 0.0068 - val_accuracy: 0.8207\n",
        "Epoch 4/5\n",
        "12/12 [==============================] - 513s 43s/step - loss: 0.0068 - accuracy: 0.8433 - val_loss: 0.0066 - val_accuracy: 0.8207\n",
        "Epoch 5/5\n",
        "12/12 [==============================] - 514s 43s/step - loss: 0.0065 - accuracy: 0.8433 - val_loss: 0.0063 - val_accuracy: 0.8207\n",
        "Epoch 1/5\n",
        "12/12 [==============================] - 514s 43s/step - loss: 0.0076 - accuracy: 0.8272 - val_loss: 0.0074 - val_accuracy: 0.8244\n",
        "Epoch 2/5\n",
        "12/12 [==============================] - 514s 43s/step - loss: 0.0073 - accuracy: 0.8471 - val_loss: 0.0071 - val_accuracy: 0.8244\n",
        "Epoch 3/5\n",
        "12/12 [==============================] - 512s 43s/step - loss: 0.0070 - accuracy: 0.8471 - val_loss: 0.0068 - val_accuracy: 0.8244\n",
        "Epoch 4/5\n",
        "12/12 [==============================] - 516s 43s/step - loss: 0.0067 - accuracy: 0.8471 - val_loss: 0.0065 - val_accuracy: 0.8244\n",
        "Epoch 5/5\n",
        "12/12 [==============================] - 514s 43s/step - loss: 0.0065 - accuracy: 0.8471 - val_loss: 0.0062 - val_accuracy: 0.8244\n",
        "\n",
        "Trial complete\n",
        "Trial summary\n",
        "|-Trial ID: fa603dc005b20ee7474cbae8e86a8aed\n",
        "|-Score: 0.8231907288233439\n",
        "|-Best step: 0\n",
        "Hyperparameters:\n",
        "|-activation_conv_index_0_etg_0_desc: elu\n",
        "|-activation_conv_index_0_etg_0_remont: elu\n",
        "|-activation_conv_index_0_etg_1_desc: selu\n",
        "|-activation_conv_index_0_etg_1_remont: relu\n",
        "|-activation_conv_index_0_etg_2_desc: elu\n",
        "|-activation_conv_index_0_etg_2_remont: elu\n",
        "|-activation_conv_index_0_etg_3_desc: linear\n",
        "|-activation_conv_index_0_etg_3_remont: relu\n",
        "|-activation_conv_index_0_etg_4_desc: tanh\n",
        "|-activation_conv_index_0_etg_4_remont: relu\n",
        "|-activation_conv_index_0_etg_5_desc: tanh\n",
        "|-activation_conv_index_0_etg_5_remont: elu\n",
        "|-activation_conv_index_0_etg_6_desc: relu\n",
        "|-activation_conv_index_0_etg_6_remont: selu\n",
        "|-activation_conv_index_0_etg_7_desc: linear\n",
        "|-activation_conv_index_0_etg_7_remont: linear\n",
        "|-activation_conv_index_0_etg_8_desc: relu\n",
        "|-activation_conv_index_1_etg_0_desc: selu\n",
        "|-activation_conv_index_1_etg_1_desc: selu\n",
        "|-activation_conv_index_1_etg_1_remont: relu\n",
        "|-activation_conv_index_1_etg_2_desc: selu\n",
        "|-activation_conv_index_1_etg_2_remont: linear\n",
        "|-activation_conv_index_1_etg_3_desc: relu\n",
        "|-activation_conv_index_1_etg_3_remont: elu\n",
        "|-activation_conv_index_1_etg_4_desc: relu\n",
        "|-activation_conv_index_2_etg_0_desc: elu\n",
        "|-activation_conv_index_2_etg_1_desc: elu\n",
        "|-activation_conv_index_2_etg_2_desc: selu\n",
        "|-activation_conv_index_2_etg_2_remont: tanh\n",
        "|-activation_conv_index_2_etg_3_desc: relu\n",
        "|-activation_conv_index_2_etg_3_remont: tanh\n",
        "|-activation_conv_index_2_etg_4_desc: relu\n",
        "|-activation_conv_index_3_etg_0_desc: relu\n",
        "|-beta_1: 1.0856655596594058\n",
        "|-beta_2: 0.9111979255753918\n",
        "|-filtre_conv_index_0_etg_0_desc: 10\n",
        "|-filtre_conv_index_0_etg_0_remont: 500\n",
        "|-filtre_conv_index_0_etg_1_desc: 50\n",
        "|-filtre_conv_index_0_etg_1_remont: 10\n",
        "|-filtre_conv_index_0_etg_2_desc: 100\n",
        "|-filtre_conv_index_0_etg_2_remont: 3\n",
        "|-filtre_conv_index_0_etg_3_desc: 50\n",
        "|-filtre_conv_index_0_etg_3_remont: 100\n",
        "|-filtre_conv_index_0_etg_4_desc: 500\n",
        "|-filtre_conv_index_0_etg_4_remont: 50\n",
        "|-filtre_conv_index_0_etg_5_desc: 10\n",
        "|-filtre_conv_index_0_etg_5_remont: 10\n",
        "|-filtre_conv_index_0_etg_6_desc: 3\n",
        "|-filtre_conv_index_0_etg_6_remont: 50\n",
        "|-filtre_conv_index_0_etg_7_desc: 1\n",
        "|-filtre_conv_index_0_etg_7_remont: 1\n",
        "|-filtre_conv_index_0_etg_8_desc: 50\n",
        "|-filtre_conv_index_1_etg_0_desc: 3\n",
        "|-filtre_conv_index_1_etg_1_desc: 100\n",
        "|-filtre_conv_index_1_etg_1_remont: 1\n",
        "|-filtre_conv_index_1_etg_2_desc: 3\n",
        "|-filtre_conv_index_1_etg_2_remont: 3\n",
        "|-filtre_conv_index_1_etg_3_desc: 1\n",
        "|-filtre_conv_index_1_etg_3_remont: 500\n",
        "|-filtre_conv_index_1_etg_4_desc: 500\n",
        "|-filtre_conv_index_2_etg_0_desc: 500\n",
        "|-filtre_conv_index_2_etg_1_desc: 1\n",
        "|-filtre_conv_index_2_etg_2_desc: 50\n",
        "|-filtre_conv_index_2_etg_2_remont: 100\n",
        "|-filtre_conv_index_2_etg_3_desc: 1\n",
        "|-filtre_conv_index_2_etg_3_remont: 10\n",
        "|-filtre_conv_index_2_etg_4_desc: 100\n",
        "|-filtre_conv_index_3_etg_0_desc: 10\n",
        "|-filtre_deconv_etg_0_remont: 50\n",
        "|-filtre_deconv_etg_1_remont: 1\n",
        "|-filtre_deconv_etg_2_remont: 1\n",
        "|-filtre_deconv_etg_3_remont: 100\n",
        "|-filtre_deconv_etg_4_remont: 50\n",
        "|-filtre_deconv_etg_5_remont: 50\n",
        "|-filtre_deconv_etg_6_remont: 1\n",
        "|-filtre_deconv_etg_7_remont: 1\n",
        "|-kernel_conv_index_0_etg_0_desc: 3\n",
        "|-kernel_conv_index_0_etg_0_remont: 3\n",
        "|-kernel_conv_index_0_etg_1_desc: 3\n",
        "|-kernel_conv_index_0_etg_1_remont: 3\n",
        "|-kernel_conv_index_0_etg_2_desc: 3\n",
        "|-kernel_conv_index_0_etg_2_remont: 2\n",
        "|-kernel_conv_index_0_etg_3_desc: 3\n",
        "|-kernel_conv_index_0_etg_3_remont: 3\n",
        "|-kernel_conv_index_0_etg_4_desc: 3\n",
        "|-kernel_conv_index_0_etg_4_remont: 2\n",
        "|-kernel_conv_index_0_etg_5_desc: 3\n",
        "|-kernel_conv_index_0_etg_5_remont: 2\n",
        "|-kernel_conv_index_0_etg_6_desc: 2\n",
        "|-kernel_conv_index_0_etg_6_remont: 2\n",
        "|-kernel_conv_index_0_etg_7_desc: 2\n",
        "|-kernel_conv_index_0_etg_7_remont: 3\n",
        "|-kernel_conv_index_0_etg_8_desc: 2\n",
        "|-kernel_conv_index_1_etg_0_desc: 3\n",
        "|-kernel_conv_index_1_etg_1_desc: 2\n",
        "|-kernel_conv_index_1_etg_1_remont: 2\n",
        "|-kernel_conv_index_1_etg_2_desc: 3\n",
        "|-kernel_conv_index_1_etg_2_remont: 3\n",
        "|-kernel_conv_index_1_etg_3_desc: 2\n",
        "|-kernel_conv_index_1_etg_3_remont: 2\n",
        "|-kernel_conv_index_1_etg_4_desc: 2\n",
        "|-kernel_conv_index_2_etg_0_desc: 3\n",
        "|-kernel_conv_index_2_etg_1_desc: 2\n",
        "|-kernel_conv_index_2_etg_2_desc: 3\n",
        "|-kernel_conv_index_2_etg_2_remont: 3\n",
        "|-kernel_conv_index_2_etg_3_desc: 2\n",
        "|-kernel_conv_index_2_etg_3_remont: 3\n",
        "|-kernel_conv_index_2_etg_4_desc: 2\n",
        "|-kernel_conv_index_3_etg_0_desc: 2\n",
        "|-learning_rate: 1e-05\n",
        "|-nb_conv_etg_0_desc: 1\n",
        "|-nb_conv_etg_0_remont: 0\n",
        "|-nb_conv_etg_1_desc: 2\n",
        "|-nb_conv_etg_1_remont: 2\n",
        "|-nb_conv_etg_2_desc: 1\n",
        "|-nb_conv_etg_2_remont: 2\n",
        "|-nb_conv_etg_3_desc: 3\n",
        "|-nb_conv_etg_3_remont: 2\n",
        "|-nb_conv_etg_4_desc: 3\n",
        "|-nb_conv_etg_4_remont: 0\n",
        "|-nb_conv_etg_5_desc: 2\n",
        "|-nb_conv_etg_5_remont: 4\n",
        "|-nb_conv_etg_6_desc: 0\n",
        "|-nb_conv_etg_6_remont: 3\n",
        "|-nb_conv_etg_7_desc: 1\n",
        "|-nb_conv_etg_7_remont: 2\n",
        "|-nb_conv_etg_8_desc: 1\n",
        "|-nb_pool: 4\n",
        "|-pool_type_0: avg\n",
        "|-pool_type_1: max\n",
        "|-pool_type_2: avg\n",
        "|-pool_type_3: max\n",
        "|-pool_type_4: avg\n",
        "|-pool_type_5: avg\n",
        "|-pool_type_6: avg\n",
        "|-pool_type_7: max\n",
        "\n",
        "Epoch 1/5\n",
        "12/12 [==============================] - 32s 3s/step - loss: nan - accuracy: 0.7878 - val_loss: nan - val_accuracy: 0.8244\n",
        "Epoch 2/5\n",
        "12/12 [==============================] - 32s 3s/step - loss: nan - accuracy: 0.8471 - val_loss: nan - val_accuracy: 0.8244\n",
        "Epoch 3/5\n",
        "12/12 [==============================] - 31s 3s/step - loss: nan - accuracy: 0.8471 - val_loss: nan - val_accuracy: 0.8244\n",
        "Epoch 4/5\n",
        "12/12 [==============================] - 32s 3s/step - loss: nan - accuracy: 0.8471 - val_loss: nan - val_accuracy: 0.8244\n",
        "Epoch 5/5\n",
        "12/12 [==============================] - 32s 3s/step - loss: nan - accuracy: 0.8471 - val_loss: nan - val_accuracy: 0.8244\n",
        "Epoch 1/5\n",
        "12/12 [==============================] - 32s 3s/step - loss: nan - accuracy: 0.7996 - val_loss: nan - val_accuracy: 0.8244\n",
        "Epoch 2/5\n",
        "12/12 [==============================] - 31s 3s/step - loss: nan - accuracy: 0.8471 - val_loss: nan - val_accuracy: 0.8244\n",
        "Epoch 3/5\n",
        "12/12 [==============================] - 32s 3s/step - loss: nan - accuracy: 0.8471 - val_loss: nan - val_accuracy: 0.8244\n",
        "Epoch 4/5\n",
        "12/12 [==============================] - 32s 3s/step - loss: nan - accuracy: 0.8471 - val_loss: nan - val_accuracy: 0.8244\n",
        "Epoch 5/5\n",
        "12/12 [==============================] - 32s 3s/step - loss: nan - accuracy: 0.8471 - val_loss: nan - val_accuracy: 0.8244\n",
        "Epoch 1/5\n",
        "12/12 [==============================] - 32s 3s/step - loss: nan - accuracy: 0.7904 - val_loss: nan - val_accuracy: 0.8244\n",
        "Epoch 2/5\n",
        "12/12 [==============================] - 32s 3s/step - loss: nan - accuracy: 0.8471 - val_loss: nan - val_accuracy: 0.8244\n",
        "Epoch 3/5\n",
        "12/12 [==============================] - 32s 3s/step - loss: nan - accuracy: 0.8471 - val_loss: nan - val_accuracy: 0.8244\n",
        "Epoch 4/5\n",
        "12/12 [==============================] - 32s 3s/step - loss: nan - accuracy: 0.8471 - val_loss: nan - val_accuracy: 0.8244\n",
        "Epoch 5/5\n",
        "12/12 [==============================] - 32s 3s/step - loss: nan - accuracy: 0.8471 - val_loss: nan - val_accuracy: 0.8244\n",
        "\n",
        "/usr/local/lib/python3.6/dist-packages/kerastuner/engine/metrics_tracking.py:92: RuntimeWarning: All-NaN axis encountered\n",
        "  return np.nanmin(values)\n",
        "\n",
        "Trial complete\n",
        "Trial summary\n",
        "|-Trial ID: 96747948f0edc64bc9730f56084caffe\n",
        "|-Score: 0.8244484066963196\n",
        "|-Best step: 0\n",
        "Hyperparameters:\n",
        "|-activation_conv_index_0_etg_0_desc: tanh\n",
        "|-activation_conv_index_0_etg_0_remont: selu\n",
        "|-activation_conv_index_0_etg_1_desc: linear\n",
        "|-activation_conv_index_0_etg_1_remont: relu\n",
        "|-activation_conv_index_0_etg_2_desc: linear\n",
        "|-activation_conv_index_0_etg_2_remont: selu\n",
        "|-activation_conv_index_0_etg_3_desc: relu\n",
        "|-activation_conv_index_0_etg_3_remont: elu\n",
        "|-activation_conv_index_0_etg_4_desc: relu\n",
        "|-activation_conv_index_0_etg_4_remont: tanh\n",
        "|-activation_conv_index_0_etg_5_desc: tanh\n",
        "|-activation_conv_index_0_etg_5_remont: elu\n",
        "|-activation_conv_index_0_etg_6_desc: relu\n",
        "|-activation_conv_index_0_etg_6_remont: linear\n",
        "|-activation_conv_index_0_etg_7_desc: linear\n",
        "|-activation_conv_index_0_etg_7_remont: elu\n",
        "|-activation_conv_index_0_etg_8_desc: selu\n",
        "|-activation_conv_index_1_etg_0_desc: tanh\n",
        "|-activation_conv_index_1_etg_1_desc: elu\n",
        "|-activation_conv_index_1_etg_1_remont: selu\n",
        "|-activation_conv_index_1_etg_2_desc: tanh\n",
        "|-activation_conv_index_1_etg_2_remont: selu\n",
        "|-activation_conv_index_1_etg_3_desc: elu\n",
        "|-activation_conv_index_1_etg_3_remont: tanh\n",
        "|-activation_conv_index_1_etg_4_desc: relu\n",
        "|-activation_conv_index_2_etg_0_desc: tanh\n",
        "|-activation_conv_index_2_etg_1_desc: relu\n",
        "|-activation_conv_index_2_etg_2_desc: tanh\n",
        "|-activation_conv_index_2_etg_2_remont: selu\n",
        "|-activation_conv_index_2_etg_3_desc: relu\n",
        "|-activation_conv_index_2_etg_3_remont: linear\n",
        "|-activation_conv_index_2_etg_4_desc: elu\n",
        "|-activation_conv_index_3_etg_0_desc: elu\n",
        "|-beta_1: 0.9145705889012196\n",
        "|-beta_2: 1.1573236362544304\n",
        "|-filtre_conv_index_0_etg_0_desc: 50\n",
        "|-filtre_conv_index_0_etg_0_remont: 10\n",
        "|-filtre_conv_index_0_etg_1_desc: 3\n",
        "|-filtre_conv_index_0_etg_1_remont: 10\n",
        "|-filtre_conv_index_0_etg_2_desc: 500\n",
        "|-filtre_conv_index_0_etg_2_remont: 50\n",
        "|-filtre_conv_index_0_etg_3_desc: 100\n",
        "|-filtre_conv_index_0_etg_3_remont: 500\n",
        "|-filtre_conv_index_0_etg_4_desc: 100\n",
        "|-filtre_conv_index_0_etg_4_remont: 10\n",
        "|-filtre_conv_index_0_etg_5_desc: 10\n",
        "|-filtre_conv_index_0_etg_5_remont: 50\n",
        "|-filtre_conv_index_0_etg_6_desc: 3\n",
        "|-filtre_conv_index_0_etg_6_remont: 50\n",
        "|-filtre_conv_index_0_etg_7_desc: 100\n",
        "|-filtre_conv_index_0_etg_7_remont: 3\n",
        "|-filtre_conv_index_0_etg_8_desc: 1\n",
        "|-filtre_conv_index_1_etg_0_desc: 10\n",
        "|-filtre_conv_index_1_etg_1_desc: 1\n",
        "|-filtre_conv_index_1_etg_1_remont: 1\n",
        "|-filtre_conv_index_1_etg_2_desc: 3\n",
        "|-filtre_conv_index_1_etg_2_remont: 500\n",
        "|-filtre_conv_index_1_etg_3_desc: 500\n",
        "|-filtre_conv_index_1_etg_3_remont: 10\n",
        "|-filtre_conv_index_1_etg_4_desc: 500\n",
        "|-filtre_conv_index_2_etg_0_desc: 50\n",
        "|-filtre_conv_index_2_etg_1_desc: 10\n",
        "|-filtre_conv_index_2_etg_2_desc: 100\n",
        "|-filtre_conv_index_2_etg_2_remont: 3\n",
        "|-filtre_conv_index_2_etg_3_desc: 10\n",
        "|-filtre_conv_index_2_etg_3_remont: 500\n",
        "|-filtre_conv_index_2_etg_4_desc: 1\n",
        "|-filtre_conv_index_3_etg_0_desc: 3\n",
        "|-filtre_deconv_etg_0_remont: 100\n",
        "|-filtre_deconv_etg_1_remont: 500\n",
        "|-filtre_deconv_etg_2_remont: 1\n",
        "|-filtre_deconv_etg_3_remont: 50\n",
        "|-filtre_deconv_etg_4_remont: 50\n",
        "|-filtre_deconv_etg_5_remont: 1\n",
        "|-filtre_deconv_etg_6_remont: 1\n",
        "|-filtre_deconv_etg_7_remont: 10\n",
        "|-kernel_conv_index_0_etg_0_desc: 2\n",
        "|-kernel_conv_index_0_etg_0_remont: 3\n",
        "|-kernel_conv_index_0_etg_1_desc: 2\n",
        "|-kernel_conv_index_0_etg_1_remont: 2\n",
        "|-kernel_conv_index_0_etg_2_desc: 2\n",
        "|-kernel_conv_index_0_etg_2_remont: 2\n",
        "|-kernel_conv_index_0_etg_3_desc: 3\n",
        "|-kernel_conv_index_0_etg_3_remont: 2\n",
        "|-kernel_conv_index_0_etg_4_desc: 2\n",
        "|-kernel_conv_index_0_etg_4_remont: 3\n",
        "|-kernel_conv_index_0_etg_5_desc: 2\n",
        "|-kernel_conv_index_0_etg_5_remont: 2\n",
        "|-kernel_conv_index_0_etg_6_desc: 3\n",
        "|-kernel_conv_index_0_etg_6_remont: 3\n",
        "|-kernel_conv_index_0_etg_7_desc: 3\n",
        "|-kernel_conv_index_0_etg_7_remont: 2\n",
        "|-kernel_conv_index_0_etg_8_desc: 3\n",
        "|-kernel_conv_index_1_etg_0_desc: 2\n",
        "|-kernel_conv_index_1_etg_1_desc: 3\n",
        "|-kernel_conv_index_1_etg_1_remont: 2\n",
        "|-kernel_conv_index_1_etg_2_desc: 3\n",
        "|-kernel_conv_index_1_etg_2_remont: 3\n",
        "|-kernel_conv_index_1_etg_3_desc: 2\n",
        "|-kernel_conv_index_1_etg_3_remont: 2\n",
        "|-kernel_conv_index_1_etg_4_desc: 2\n",
        "|-kernel_conv_index_2_etg_0_desc: 2\n",
        "|-kernel_conv_index_2_etg_1_desc: 2\n",
        "|-kernel_conv_index_2_etg_2_desc: 2\n",
        "|-kernel_conv_index_2_etg_2_remont: 2\n",
        "|-kernel_conv_index_2_etg_3_desc: 3\n",
        "|-kernel_conv_index_2_etg_3_remont: 2\n",
        "|-kernel_conv_index_2_etg_4_desc: 3\n",
        "|-kernel_conv_index_3_etg_0_desc: 2\n",
        "|-learning_rate: 0.01\n",
        "|-nb_conv_etg_0_desc: 0\n",
        "|-nb_conv_etg_0_remont: 0\n",
        "|-nb_conv_etg_1_desc: 2\n",
        "|-nb_conv_etg_1_remont: 2\n",
        "|-nb_conv_etg_2_desc: 0\n",
        "|-nb_conv_etg_2_remont: 3\n",
        "|-nb_conv_etg_3_desc: 2\n",
        "|-nb_conv_etg_3_remont: 1\n",
        "|-nb_conv_etg_4_desc: 3\n",
        "|-nb_conv_etg_4_remont: 3\n",
        "|-nb_conv_etg_5_desc: 0\n",
        "|-nb_conv_etg_5_remont: 2\n",
        "|-nb_conv_etg_6_desc: 3\n",
        "|-nb_conv_etg_6_remont: 2\n",
        "|-nb_conv_etg_7_desc: 0\n",
        "|-nb_conv_etg_7_remont: 1\n",
        "|-nb_conv_etg_8_desc: 2\n",
        "|-nb_pool: 1\n",
        "|-pool_type_0: avg\n",
        "|-pool_type_1: avg\n",
        "|-pool_type_2: avg\n",
        "|-pool_type_3: max\n",
        "|-pool_type_4: avg\n",
        "|-pool_type_5: max\n",
        "|-pool_type_6: max\n",
        "|-pool_type_7: max\n",
        "\n",
        "Epoch 1/5\n",
        "12/12 [==============================] - 652s 54s/step - loss: 0.0077 - accuracy: 0.5680 - val_loss: 0.0077 - val_accuracy: 0.8244\n",
        "Epoch 2/5\n",
        "12/12 [==============================] - 652s 54s/step - loss: 0.0077 - accuracy: 0.8471 - val_loss: 0.0076 - val_accuracy: 0.8244\n",
        "Epoch 3/5\n",
        "12/12 [==============================] - 651s 54s/step - loss: 0.0077 - accuracy: 0.8471 - val_loss: 0.0076 - val_accuracy: 0.8244\n",
        "Epoch 4/5\n",
        "12/12 [==============================] - 656s 55s/step - loss: 0.0077 - accuracy: 0.8471 - val_loss: 0.0076 - val_accuracy: 0.8244\n",
        "Epoch 5/5\n",
        "12/12 [==============================] - 659s 55s/step - loss: 0.0077 - accuracy: 0.8471 - val_loss: 0.0076 - val_accuracy: 0.8244\n",
        "Epoch 1/5\n",
        "12/12 [==============================] - 651s 54s/step - loss: 0.0077 - accuracy: 0.5957 - val_loss: 0.0077 - val_accuracy: 0.8244\n",
        "Epoch 2/5\n",
        "12/12 [==============================] - 658s 55s/step - loss: 0.0077 - accuracy: 0.8471 - val_loss: 0.0076 - val_accuracy: 0.8244\n",
        "Epoch 3/5\n",
        "12/12 [==============================] - 654s 54s/step - loss: 0.0077 - accuracy: 0.8471 - val_loss: 0.0076 - val_accuracy: 0.8244\n",
        "Epoch 4/5\n",
        "12/12 [==============================] - 655s 55s/step - loss: 0.0077 - accuracy: 0.8471 - val_loss: 0.0076 - val_accuracy: 0.8244\n",
        "Epoch 5/5\n",
        "12/12 [==============================] - 655s 55s/step - loss: 0.0077 - accuracy: 0.8471 - val_loss: 0.0076 - val_accuracy: 0.8244\n",
        "Epoch 1/5\n",
        "12/12 [==============================] - 651s 54s/step - loss: 0.0077 - accuracy: 0.6259 - val_loss: 0.0077 - val_accuracy: 0.8244\n",
        "Epoch 2/5\n",
        "12/12 [==============================] - 650s 54s/step - loss: 0.0077 - accuracy: 0.8471 - val_loss: 0.0076 - val_accuracy: 0.8244\n",
        "Epoch 3/5\n",
        "12/12 [==============================] - 652s 54s/step - loss: 0.0077 - accuracy: 0.8471 - val_loss: 0.0076 - val_accuracy: 0.8244\n",
        "Epoch 4/5\n",
        "12/12 [==============================] - 651s 54s/step - loss: 0.0077 - accuracy: 0.8471 - val_loss: 0.0076 - val_accuracy: 0.8244\n",
        "Epoch 5/5\n",
        "12/12 [==============================] - 653s 54s/step - loss: 0.0077 - accuracy: 0.8471 - val_loss: 0.0076 - val_accuracy: 0.8244\n",
        "\n",
        "Trial complete\n",
        "Trial summary\n",
        "|-Trial ID: 2fa98789a6d7c3462f29db45a4e0d91b\n",
        "|-Score: 0.8244484066963196\n",
        "|-Best step: 0\n",
        "Hyperparameters:\n",
        "|-activation_conv_index_0_etg_0_desc: selu\n",
        "|-activation_conv_index_0_etg_0_remont: linear\n",
        "|-activation_conv_index_0_etg_1_desc: elu\n",
        "|-activation_conv_index_0_etg_1_remont: selu\n",
        "|-activation_conv_index_0_etg_2_desc: linear\n",
        "|-activation_conv_index_0_etg_2_remont: linear\n",
        "|-activation_conv_index_0_etg_3_desc: selu\n",
        "|-activation_conv_index_0_etg_3_remont: linear\n",
        "|-activation_conv_index_0_etg_4_desc: tanh\n",
        "|-activation_conv_index_0_etg_4_remont: selu\n",
        "|-activation_conv_index_0_etg_5_desc: tanh\n",
        "|-activation_conv_index_0_etg_5_remont: selu\n",
        "|-activation_conv_index_0_etg_6_desc: linear\n",
        "|-activation_conv_index_0_etg_6_remont: elu\n",
        "|-activation_conv_index_0_etg_7_desc: selu\n",
        "|-activation_conv_index_0_etg_7_remont: relu\n",
        "|-activation_conv_index_0_etg_8_desc: tanh\n",
        "|-activation_conv_index_1_etg_0_desc: tanh\n",
        "|-activation_conv_index_1_etg_1_desc: relu\n",
        "|-activation_conv_index_1_etg_1_remont: linear\n",
        "|-activation_conv_index_1_etg_2_desc: relu\n",
        "|-activation_conv_index_1_etg_2_remont: tanh\n",
        "|-activation_conv_index_1_etg_3_desc: selu\n",
        "|-activation_conv_index_1_etg_3_remont: relu\n",
        "|-activation_conv_index_1_etg_4_desc: tanh\n",
        "|-activation_conv_index_2_etg_0_desc: relu\n",
        "|-activation_conv_index_2_etg_1_desc: linear\n",
        "|-activation_conv_index_2_etg_1_remont: relu\n",
        "|-activation_conv_index_2_etg_2_desc: relu\n",
        "|-activation_conv_index_2_etg_2_remont: selu\n",
        "|-activation_conv_index_2_etg_3_desc: linear\n",
        "|-activation_conv_index_2_etg_3_remont: relu\n",
        "|-activation_conv_index_2_etg_4_desc: tanh\n",
        "|-activation_conv_index_3_etg_0_desc: relu\n",
        "|-activation_conv_index_3_etg_1_remont: relu\n",
        "|-beta_1: 1.0973459377425627\n",
        "|-beta_2: 0.8853963530060973\n",
        "|-filtre_conv_index_0_etg_0_desc: 3\n",
        "|-filtre_conv_index_0_etg_0_remont: 500\n",
        "|-filtre_conv_index_0_etg_1_desc: 100\n",
        "|-filtre_conv_index_0_etg_1_remont: 1\n",
        "|-filtre_conv_index_0_etg_2_desc: 10\n",
        "|-filtre_conv_index_0_etg_2_remont: 10\n",
        "|-filtre_conv_index_0_etg_3_desc: 500\n",
        "|-filtre_conv_index_0_etg_3_remont: 50\n",
        "|-filtre_conv_index_0_etg_4_desc: 3\n",
        "|-filtre_conv_index_0_etg_4_remont: 10\n",
        "|-filtre_conv_index_0_etg_5_desc: 500\n",
        "|-filtre_conv_index_0_etg_5_remont: 500\n",
        "|-filtre_conv_index_0_etg_6_desc: 500\n",
        "|-filtre_conv_index_0_etg_6_remont: 10\n",
        "|-filtre_conv_index_0_etg_7_desc: 3\n",
        "|-filtre_conv_index_0_etg_7_remont: 500\n",
        "|-filtre_conv_index_0_etg_8_desc: 50\n",
        "|-filtre_conv_index_1_etg_0_desc: 3\n",
        "|-filtre_conv_index_1_etg_1_desc: 500\n",
        "|-filtre_conv_index_1_etg_1_remont: 50\n",
        "|-filtre_conv_index_1_etg_2_desc: 10\n",
        "|-filtre_conv_index_1_etg_2_remont: 1\n",
        "|-filtre_conv_index_1_etg_3_desc: 10\n",
        "|-filtre_conv_index_1_etg_3_remont: 3\n",
        "|-filtre_conv_index_1_etg_4_desc: 50\n",
        "|-filtre_conv_index_2_etg_0_desc: 100\n",
        "|-filtre_conv_index_2_etg_1_desc: 3\n",
        "|-filtre_conv_index_2_etg_1_remont: 1\n",
        "|-filtre_conv_index_2_etg_2_desc: 10\n",
        "|-filtre_conv_index_2_etg_2_remont: 10\n",
        "|-filtre_conv_index_2_etg_3_desc: 100\n",
        "|-filtre_conv_index_2_etg_3_remont: 10\n",
        "|-filtre_conv_index_2_etg_4_desc: 3\n",
        "|-filtre_conv_index_3_etg_0_desc: 1\n",
        "|-filtre_conv_index_3_etg_1_remont: 1\n",
        "|-filtre_deconv_etg_0_remont: 100\n",
        "|-filtre_deconv_etg_1_remont: 500\n",
        "|-filtre_deconv_etg_2_remont: 500\n",
        "|-filtre_deconv_etg_3_remont: 500\n",
        "|-filtre_deconv_etg_4_remont: 3\n",
        "|-filtre_deconv_etg_5_remont: 50\n",
        "|-filtre_deconv_etg_6_remont: 1\n",
        "|-filtre_deconv_etg_7_remont: 100\n",
        "|-kernel_conv_index_0_etg_0_desc: 2\n",
        "|-kernel_conv_index_0_etg_0_remont: 3\n",
        "|-kernel_conv_index_0_etg_1_desc: 2\n",
        "|-kernel_conv_index_0_etg_1_remont: 2\n",
        "|-kernel_conv_index_0_etg_2_desc: 2\n",
        "|-kernel_conv_index_0_etg_2_remont: 3\n",
        "|-kernel_conv_index_0_etg_3_desc: 3\n",
        "|-kernel_conv_index_0_etg_3_remont: 3\n",
        "|-kernel_conv_index_0_etg_4_desc: 2\n",
        "|-kernel_conv_index_0_etg_4_remont: 3\n",
        "|-kernel_conv_index_0_etg_5_desc: 2\n",
        "|-kernel_conv_index_0_etg_5_remont: 3\n",
        "|-kernel_conv_index_0_etg_6_desc: 3\n",
        "|-kernel_conv_index_0_etg_6_remont: 2\n",
        "|-kernel_conv_index_0_etg_7_desc: 2\n",
        "|-kernel_conv_index_0_etg_7_remont: 2\n",
        "|-kernel_conv_index_0_etg_8_desc: 3\n",
        "|-kernel_conv_index_1_etg_0_desc: 2\n",
        "|-kernel_conv_index_1_etg_1_desc: 2\n",
        "|-kernel_conv_index_1_etg_1_remont: 2\n",
        "|-kernel_conv_index_1_etg_2_desc: 3\n",
        "|-kernel_conv_index_1_etg_2_remont: 2\n",
        "|-kernel_conv_index_1_etg_3_desc: 3\n",
        "|-kernel_conv_index_1_etg_3_remont: 3\n",
        "|-kernel_conv_index_1_etg_4_desc: 3\n",
        "|-kernel_conv_index_2_etg_0_desc: 3\n",
        "|-kernel_conv_index_2_etg_1_desc: 3\n",
        "|-kernel_conv_index_2_etg_1_remont: 2\n",
        "|-kernel_conv_index_2_etg_2_desc: 3\n",
        "|-kernel_conv_index_2_etg_2_remont: 3\n",
        "|-kernel_conv_index_2_etg_3_desc: 2\n",
        "|-kernel_conv_index_2_etg_3_remont: 3\n",
        "|-kernel_conv_index_2_etg_4_desc: 2\n",
        "|-kernel_conv_index_3_etg_0_desc: 3\n",
        "|-kernel_conv_index_3_etg_1_remont: 2\n",
        "|-learning_rate: 1e-05\n",
        "|-nb_conv_etg_0_desc: 2\n",
        "|-nb_conv_etg_0_remont: 1\n",
        "|-nb_conv_etg_1_desc: 3\n",
        "|-nb_conv_etg_1_remont: 4\n",
        "|-nb_conv_etg_2_desc: 3\n",
        "|-nb_conv_etg_2_remont: 4\n",
        "|-nb_conv_etg_3_desc: 2\n",
        "|-nb_conv_etg_3_remont: 1\n",
        "|-nb_conv_etg_4_desc: 2\n",
        "|-nb_conv_etg_4_remont: 1\n",
        "|-nb_conv_etg_5_desc: 1\n",
        "|-nb_conv_etg_5_remont: 3\n",
        "|-nb_conv_etg_6_desc: 3\n",
        "|-nb_conv_etg_6_remont: 2\n",
        "|-nb_conv_etg_7_desc: 1\n",
        "|-nb_conv_etg_7_remont: 0\n",
        "|-nb_conv_etg_8_desc: 4\n",
        "|-nb_pool: 2\n",
        "|-pool_type_0: avg\n",
        "|-pool_type_1: max\n",
        "|-pool_type_2: avg\n",
        "|-pool_type_3: avg\n",
        "|-pool_type_4: max\n",
        "|-pool_type_5: avg\n",
        "|-pool_type_6: avg\n",
        "|-pool_type_7: max\n",
        "\n",
        "Epoch 1/5\n",
        "12/12 [==============================] - 169s 14s/step - loss: nan - accuracy: 0.8350 - val_loss: nan - val_accuracy: 0.8244\n",
        "Epoch 2/5\n",
        "12/12 [==============================] - 167s 14s/step - loss: nan - accuracy: 0.8471 - val_loss: nan - val_accuracy: 0.8244\n",
        "Epoch 3/5\n",
        "12/12 [==============================] - 167s 14s/step - loss: nan - accuracy: 0.8471 - val_loss: nan - val_accuracy: 0.8244\n",
        "Epoch 4/5\n",
        "12/12 [==============================] - 167s 14s/step - loss: nan - accuracy: 0.8471 - val_loss: nan - val_accuracy: 0.8244\n",
        "Epoch 5/5\n",
        "12/12 [==============================] - 168s 14s/step - loss: nan - accuracy: 0.8471 - val_loss: nan - val_accuracy: 0.8244\n",
        "Epoch 1/5\n",
        "12/12 [==============================] - 168s 14s/step - loss: nan - accuracy: 0.8022 - val_loss: nan - val_accuracy: 0.8244\n",
        "Epoch 2/5\n",
        "12/12 [==============================] - 167s 14s/step - loss: nan - accuracy: 0.8471 - val_loss: nan - val_accuracy: 0.8244\n",
        "Epoch 3/5\n",
        "12/12 [==============================] - 167s 14s/step - loss: nan - accuracy: 0.8471 - val_loss: nan - val_accuracy: 0.8244\n",
        "Epoch 4/5\n",
        "12/12 [==============================] - 166s 14s/step - loss: nan - accuracy: 0.8471 - val_loss: nan - val_accuracy: 0.8244\n",
        "Epoch 5/5\n",
        "12/12 [==============================] - 167s 14s/step - loss: nan - accuracy: 0.8471 - val_loss: nan - val_accuracy: 0.8244\n",
        "Epoch 1/5\n",
        "12/12 [==============================] - 167s 14s/step - loss: nan - accuracy: 0.8311 - val_loss: nan - val_accuracy: 0.8244\n",
        "Epoch 2/5\n",
        "12/12 [==============================] - 167s 14s/step - loss: nan - accuracy: 0.8471 - val_loss: nan - val_accuracy: 0.8244\n",
        "Epoch 3/5\n",
        "12/12 [==============================] - 166s 14s/step - loss: nan - accuracy: 0.8471 - val_loss: nan - val_accuracy: 0.8244\n",
        "Epoch 4/5\n",
        "12/12 [==============================] - 167s 14s/step - loss: nan - accuracy: 0.8471 - val_loss: nan - val_accuracy: 0.8244\n",
        "Epoch 5/5\n",
        "12/12 [==============================] - 167s 14s/step - loss: nan - accuracy: 0.8471 - val_loss: nan - val_accuracy: 0.8244\n",
        "\n",
        "/usr/local/lib/python3.6/dist-packages/kerastuner/engine/metrics_tracking.py:92: RuntimeWarning: All-NaN axis encountered\n",
        "  return np.nanmin(values)\n",
        "\n",
        "Trial complete\n",
        "Trial summary\n",
        "|-Trial ID: 14bd58fa484de9c1d1133629d5116363\n",
        "|-Score: 0.8244484066963196\n",
        "|-Best step: 0\n",
        "Hyperparameters:\n",
        "|-activation_conv_index_0_etg_0_desc: selu\n",
        "|-activation_conv_index_0_etg_0_remont: tanh\n",
        "|-activation_conv_index_0_etg_1_desc: elu\n",
        "|-activation_conv_index_0_etg_1_remont: elu\n",
        "|-activation_conv_index_0_etg_2_desc: elu\n",
        "|-activation_conv_index_0_etg_2_remont: linear\n",
        "|-activation_conv_index_0_etg_3_desc: relu\n",
        "|-activation_conv_index_0_etg_3_remont: tanh\n",
        "|-activation_conv_index_0_etg_4_desc: selu\n",
        "|-activation_conv_index_0_etg_4_remont: tanh\n",
        "|-activation_conv_index_0_etg_5_desc: selu\n",
        "|-activation_conv_index_0_etg_5_remont: linear\n",
        "|-activation_conv_index_0_etg_6_desc: elu\n",
        "|-activation_conv_index_0_etg_6_remont: selu\n",
        "|-activation_conv_index_0_etg_7_desc: relu\n",
        "|-activation_conv_index_0_etg_7_remont: relu\n",
        "|-activation_conv_index_0_etg_8_desc: relu\n",
        "|-activation_conv_index_1_etg_0_desc: elu\n",
        "|-activation_conv_index_1_etg_0_remont: relu\n",
        "|-activation_conv_index_1_etg_1_desc: selu\n",
        "|-activation_conv_index_1_etg_1_remont: linear\n",
        "|-activation_conv_index_1_etg_2_desc: relu\n",
        "|-activation_conv_index_1_etg_2_remont: relu\n",
        "|-activation_conv_index_1_etg_3_desc: tanh\n",
        "|-activation_conv_index_1_etg_3_remont: elu\n",
        "|-activation_conv_index_1_etg_4_desc: elu\n",
        "|-activation_conv_index_2_etg_0_desc: elu\n",
        "|-activation_conv_index_2_etg_1_desc: elu\n",
        "|-activation_conv_index_2_etg_1_remont: linear\n",
        "|-activation_conv_index_2_etg_2_desc: linear\n",
        "|-activation_conv_index_2_etg_2_remont: relu\n",
        "|-activation_conv_index_2_etg_3_desc: selu\n",
        "|-activation_conv_index_2_etg_3_remont: relu\n",
        "|-activation_conv_index_2_etg_4_desc: tanh\n",
        "|-activation_conv_index_3_etg_0_desc: selu\n",
        "|-activation_conv_index_3_etg_1_remont: linear\n",
        "|-beta_1: 0.9936631731936973\n",
        "|-beta_2: 1.1187660572787035\n",
        "|-filtre_conv_index_0_etg_0_desc: 50\n",
        "|-filtre_conv_index_0_etg_0_remont: 500\n",
        "|-filtre_conv_index_0_etg_1_desc: 500\n",
        "|-filtre_conv_index_0_etg_1_remont: 1\n",
        "|-filtre_conv_index_0_etg_2_desc: 1\n",
        "|-filtre_conv_index_0_etg_2_remont: 100\n",
        "|-filtre_conv_index_0_etg_3_desc: 1\n",
        "|-filtre_conv_index_0_etg_3_remont: 100\n",
        "|-filtre_conv_index_0_etg_4_desc: 3\n",
        "|-filtre_conv_index_0_etg_4_remont: 100\n",
        "|-filtre_conv_index_0_etg_5_desc: 100\n",
        "|-filtre_conv_index_0_etg_5_remont: 1\n",
        "|-filtre_conv_index_0_etg_6_desc: 50\n",
        "|-filtre_conv_index_0_etg_6_remont: 10\n",
        "|-filtre_conv_index_0_etg_7_desc: 10\n",
        "|-filtre_conv_index_0_etg_7_remont: 50\n",
        "|-filtre_conv_index_0_etg_8_desc: 3\n",
        "|-filtre_conv_index_1_etg_0_desc: 100\n",
        "|-filtre_conv_index_1_etg_0_remont: 1\n",
        "|-filtre_conv_index_1_etg_1_desc: 50\n",
        "|-filtre_conv_index_1_etg_1_remont: 100\n",
        "|-filtre_conv_index_1_etg_2_desc: 100\n",
        "|-filtre_conv_index_1_etg_2_remont: 500\n",
        "|-filtre_conv_index_1_etg_3_desc: 50\n",
        "|-filtre_conv_index_1_etg_3_remont: 500\n",
        "|-filtre_conv_index_1_etg_4_desc: 3\n",
        "|-filtre_conv_index_2_etg_0_desc: 500\n",
        "|-filtre_conv_index_2_etg_1_desc: 3\n",
        "|-filtre_conv_index_2_etg_1_remont: 10\n",
        "|-filtre_conv_index_2_etg_2_desc: 1\n",
        "|-filtre_conv_index_2_etg_2_remont: 1\n",
        "|-filtre_conv_index_2_etg_3_desc: 1\n",
        "|-filtre_conv_index_2_etg_3_remont: 1\n",
        "|-filtre_conv_index_2_etg_4_desc: 50\n",
        "|-filtre_conv_index_3_etg_0_desc: 3\n",
        "|-filtre_conv_index_3_etg_1_remont: 50\n",
        "|-filtre_deconv_etg_0_remont: 3\n",
        "|-filtre_deconv_etg_1_remont: 1\n",
        "|-filtre_deconv_etg_2_remont: 1\n",
        "|-filtre_deconv_etg_3_remont: 500\n",
        "|-filtre_deconv_etg_4_remont: 500\n",
        "|-filtre_deconv_etg_5_remont: 10\n",
        "|-filtre_deconv_etg_6_remont: 1\n",
        "|-filtre_deconv_etg_7_remont: 1\n",
        "|-kernel_conv_index_0_etg_0_desc: 3\n",
        "|-kernel_conv_index_0_etg_0_remont: 3\n",
        "|-kernel_conv_index_0_etg_1_desc: 3\n",
        "|-kernel_conv_index_0_etg_1_remont: 3\n",
        "|-kernel_conv_index_0_etg_2_desc: 2\n",
        "|-kernel_conv_index_0_etg_2_remont: 3\n",
        "|-kernel_conv_index_0_etg_3_desc: 3\n",
        "|-kernel_conv_index_0_etg_3_remont: 2\n",
        "|-kernel_conv_index_0_etg_4_desc: 3\n",
        "|-kernel_conv_index_0_etg_4_remont: 2\n",
        "|-kernel_conv_index_0_etg_5_desc: 2\n",
        "|-kernel_conv_index_0_etg_5_remont: 2\n",
        "|-kernel_conv_index_0_etg_6_desc: 2\n",
        "|-kernel_conv_index_0_etg_6_remont: 2\n",
        "|-kernel_conv_index_0_etg_7_desc: 2\n",
        "|-kernel_conv_index_0_etg_7_remont: 2\n",
        "|-kernel_conv_index_0_etg_8_desc: 3\n",
        "|-kernel_conv_index_1_etg_0_desc: 3\n",
        "|-kernel_conv_index_1_etg_0_remont: 2\n",
        "|-kernel_conv_index_1_etg_1_desc: 3\n",
        "|-kernel_conv_index_1_etg_1_remont: 3\n",
        "|-kernel_conv_index_1_etg_2_desc: 2\n",
        "|-kernel_conv_index_1_etg_2_remont: 3\n",
        "|-kernel_conv_index_1_etg_3_desc: 2\n",
        "|-kernel_conv_index_1_etg_3_remont: 3\n",
        "|-kernel_conv_index_1_etg_4_desc: 2\n",
        "|-kernel_conv_index_2_etg_0_desc: 3\n",
        "|-kernel_conv_index_2_etg_1_desc: 3\n",
        "|-kernel_conv_index_2_etg_1_remont: 3\n",
        "|-kernel_conv_index_2_etg_2_desc: 3\n",
        "|-kernel_conv_index_2_etg_2_remont: 2\n",
        "|-kernel_conv_index_2_etg_3_desc: 3\n",
        "|-kernel_conv_index_2_etg_3_remont: 2\n",
        "|-kernel_conv_index_2_etg_4_desc: 3\n",
        "|-kernel_conv_index_3_etg_0_desc: 3\n",
        "|-kernel_conv_index_3_etg_1_remont: 2\n",
        "|-learning_rate: 0.0001\n",
        "|-nb_conv_etg_0_desc: 2\n",
        "|-nb_conv_etg_0_remont: 2\n",
        "|-nb_conv_etg_1_desc: 3\n",
        "|-nb_conv_etg_1_remont: 1\n",
        "|-nb_conv_etg_2_desc: 1\n",
        "|-nb_conv_etg_2_remont: 0\n",
        "|-nb_conv_etg_3_desc: 3\n",
        "|-nb_conv_etg_3_remont: 0\n",
        "|-nb_conv_etg_4_desc: 3\n",
        "|-nb_conv_etg_4_remont: 4\n",
        "|-nb_conv_etg_5_desc: 3\n",
        "|-nb_conv_etg_5_remont: 2\n",
        "|-nb_conv_etg_6_desc: 2\n",
        "|-nb_conv_etg_6_remont: 1\n",
        "|-nb_conv_etg_7_desc: 4\n",
        "|-nb_conv_etg_7_remont: 3\n",
        "|-nb_conv_etg_8_desc: 3\n",
        "|-nb_pool: 2\n",
        "|-pool_type_0: avg\n",
        "|-pool_type_1: avg\n",
        "|-pool_type_2: avg\n",
        "|-pool_type_3: max\n",
        "|-pool_type_4: max\n",
        "|-pool_type_5: avg\n",
        "|-pool_type_6: max\n",
        "|-pool_type_7: max\n",
        "\n",
        "Epoch 1/5\n",
        "12/12 [==============================] - 1895s 158s/step - loss: nan - accuracy: 0.8352 - val_loss: nan - val_accuracy: 0.8244\n",
        "Epoch 2/5\n",
        "12/12 [==============================] - 1897s 158s/step - loss: nan - accuracy: 0.8471 - val_loss: nan - val_accuracy: 0.8244\n",
        "Epoch 3/5\n",
        "12/12 [==============================] - 1901s 158s/step - loss: nan - accuracy: 0.8471 - val_loss: nan - val_accuracy: 0.8244\n",
        "Epoch 4/5\n",
        "12/12 [==============================] - 1889s 157s/step - loss: nan - accuracy: 0.8471 - val_loss: nan - val_accuracy: 0.8244\n",
        "Epoch 5/5\n",
        "12/12 [==============================] - 1898s 158s/step - loss: nan - accuracy: 0.8471 - val_loss: nan - val_accuracy: 0.8244\n",
        "Epoch 1/5\n",
        "12/12 [==============================] - 1902s 159s/step - loss: nan - accuracy: 0.8312 - val_loss: nan - val_accuracy: 0.8244\n",
        "Epoch 2/5\n",
        "12/12 [==============================] - 1893s 158s/step - loss: nan - accuracy: 0.8471 - val_loss: nan - val_accuracy: 0.8244\n",
        "Epoch 3/5\n",
        "12/12 [==============================] - 1893s 158s/step - loss: nan - accuracy: 0.8471 - val_loss: nan - val_accuracy: 0.8244\n",
        "Epoch 4/5\n",
        "12/12 [==============================] - 1897s 158s/step - loss: nan - accuracy: 0.8471 - val_loss: nan - val_accuracy: 0.8244\n",
        "Epoch 5/5\n",
        " 6/12 [==============>...............] - ETA: 10:47 - loss: nan - accuracy: 0.8727"
      ]
    },
    {
      "cell_type": "markdown",
      "metadata": {
        "id": "dw3aRJ0nk_AG",
        "colab_type": "text"
      },
      "source": [
        "# Reconstruction du modèle le plus performant"
      ]
    },
    {
      "cell_type": "code",
      "metadata": {
        "id": "IaxQiDmFk9-z",
        "colab_type": "code",
        "colab": {}
      },
      "source": [
        "#@title meilleur resultat max 3 couche de conv : parser avec a { display-mode: \"form\" }\n",
        "a = \"\"\"Trial summary\n",
        "|-Trial ID: e3de1ef4d6472fd0557549403c1a956e\n",
        "|-Score: 0.846445620059967\n",
        "|-Best step: 0\n",
        "Hyperparameters:\n",
        "|-activation_conv_index_0_etg_0_desc: relu\n",
        "|-activation_conv_index_0_etg_0_remont: relu\n",
        "|-activation_conv_index_0_etg_1_desc: linear\n",
        "|-activation_conv_index_0_etg_1_remont: linear\n",
        "|-activation_conv_index_0_etg_2_desc: selu\n",
        "|-activation_conv_index_0_etg_2_remont: relu\n",
        "|-activation_conv_index_0_etg_3_desc: linear\n",
        "|-activation_conv_index_0_etg_3_remont: relu\n",
        "|-activation_conv_index_0_etg_4_desc: elu\n",
        "|-activation_conv_index_0_etg_4_remont: relu\n",
        "|-activation_conv_index_0_etg_5_desc: relu\n",
        "|-activation_conv_index_0_etg_5_remont: relu\n",
        "|-activation_conv_index_0_etg_6_desc: relu\n",
        "|-activation_conv_index_0_etg_6_remont: relu\n",
        "|-activation_conv_index_0_etg_7_desc: relu\n",
        "|-activation_conv_index_0_etg_7_remont: relu\n",
        "|-activation_conv_index_0_etg_8_desc: relu\n",
        "|-activation_conv_index_1_etg_0_desc: selu\n",
        "|-activation_conv_index_1_etg_0_remont: relu\n",
        "|-activation_conv_index_1_etg_1_desc: linear\n",
        "|-activation_conv_index_1_etg_1_remont: relu\n",
        "|-activation_conv_index_1_etg_2_desc: relu\n",
        "|-activation_conv_index_1_etg_2_remont: elu\n",
        "|-activation_conv_index_1_etg_3_desc: relu\n",
        "|-activation_conv_index_1_etg_3_remont: relu\n",
        "|-activation_conv_index_2_etg_0_desc: selu\n",
        "|-activation_conv_index_2_etg_0_remont: elu\n",
        "|-activation_conv_index_2_etg_1_desc: tanh\n",
        "|-activation_conv_index_2_etg_2_desc: relu\n",
        "|-activation_conv_index_2_etg_2_remont: tanh\n",
        "|-activation_conv_index_2_etg_3_desc: relu\n",
        "|-activation_conv_index_2_etg_3_remont: relu\n",
        "|-activation_conv_index_3_etg_0_remont: selu\n",
        "|-activation_conv_index_3_etg_2_desc: relu\n",
        "|-beta_1: 1.1567454740840701\n",
        "|-beta_2: 1.1580270355932856\n",
        "|-filtre_conv_index_0_etg_0_desc: 100\n",
        "|-filtre_conv_index_0_etg_0_remont: 100\n",
        "|-filtre_conv_index_0_etg_1_desc: 1\n",
        "|-filtre_conv_index_0_etg_1_remont: 100\n",
        "|-filtre_conv_index_0_etg_2_desc: 10\n",
        "|-filtre_conv_index_0_etg_2_remont: 3\n",
        "|-filtre_conv_index_0_etg_3_desc: 3\n",
        "|-filtre_conv_index_0_etg_3_remont: 50\n",
        "|-filtre_conv_index_0_etg_4_desc: 500\n",
        "|-filtre_conv_index_0_etg_4_remont: 1\n",
        "|-filtre_conv_index_0_etg_5_desc: 1\n",
        "|-filtre_conv_index_0_etg_5_remont: 1\n",
        "|-filtre_conv_index_0_etg_6_desc: 1\n",
        "|-filtre_conv_index_0_etg_6_remont: 1\n",
        "|-filtre_conv_index_0_etg_7_desc: 1\n",
        "|-filtre_conv_index_0_etg_7_remont: 1\n",
        "|-filtre_conv_index_0_etg_8_desc: 1\n",
        "|-filtre_conv_index_1_etg_0_desc: 50\n",
        "|-filtre_conv_index_1_etg_0_remont: 50\n",
        "|-filtre_conv_index_1_etg_1_desc: 500\n",
        "|-filtre_conv_index_1_etg_1_remont: 1\n",
        "|-filtre_conv_index_1_etg_2_desc: 1\n",
        "|-filtre_conv_index_1_etg_2_remont: 50\n",
        "|-filtre_conv_index_1_etg_3_desc: 1\n",
        "|-filtre_conv_index_1_etg_3_remont: 1\n",
        "|-filtre_conv_index_2_etg_0_desc: 500\n",
        "|-filtre_conv_index_2_etg_0_remont: 50\n",
        "|-filtre_conv_index_2_etg_1_desc: 10\n",
        "|-filtre_conv_index_2_etg_2_desc: 1\n",
        "|-filtre_conv_index_2_etg_2_remont: 100\n",
        "|-filtre_conv_index_2_etg_3_desc: 1\n",
        "|-filtre_conv_index_2_etg_3_remont: 1\n",
        "|-filtre_conv_index_3_etg_0_remont: 3\n",
        "|-filtre_conv_index_3_etg_2_desc: 1\n",
        "|-filtre_deconv_etg_0_remont: 1\n",
        "|-filtre_deconv_etg_1_remont: 3\n",
        "|-filtre_deconv_etg_2_remont: 50\n",
        "|-filtre_deconv_etg_3_remont: 50\n",
        "|-filtre_deconv_etg_4_remont: 1\n",
        "|-filtre_deconv_etg_5_remont: 1\n",
        "|-filtre_deconv_etg_6_remont: 1\n",
        "|-filtre_deconv_etg_7_remont: 1\n",
        "|-kernel_conv_index_0_etg_0_desc: 3\n",
        "|-kernel_conv_index_0_etg_0_remont: 2\n",
        "|-kernel_conv_index_0_etg_1_desc: 3\n",
        "|-kernel_conv_index_0_etg_1_remont: 3\n",
        "|-kernel_conv_index_0_etg_2_desc: 3\n",
        "|-kernel_conv_index_0_etg_2_remont: 2\n",
        "|-kernel_conv_index_0_etg_3_desc: 2\n",
        "|-kernel_conv_index_0_etg_3_remont: 2\n",
        "|-kernel_conv_index_0_etg_4_desc: 3\n",
        "|-kernel_conv_index_0_etg_4_remont: 2\n",
        "|-kernel_conv_index_0_etg_5_desc: 2\n",
        "|-kernel_conv_index_0_etg_5_remont: 2\n",
        "|-kernel_conv_index_0_etg_6_desc: 2\n",
        "|-kernel_conv_index_0_etg_6_remont: 2\n",
        "|-kernel_conv_index_0_etg_7_desc: 2\n",
        "|-kernel_conv_index_0_etg_7_remont: 2\n",
        "|-kernel_conv_index_0_etg_8_desc: 2\n",
        "|-kernel_conv_index_1_etg_0_desc: 3\n",
        "|-kernel_conv_index_1_etg_0_remont: 3\n",
        "|-kernel_conv_index_1_etg_1_desc: 2\n",
        "|-kernel_conv_index_1_etg_1_remont: 2\n",
        "|-kernel_conv_index_1_etg_2_desc: 2\n",
        "|-kernel_conv_index_1_etg_2_remont: 2\n",
        "|-kernel_conv_index_1_etg_3_desc: 2\n",
        "|-kernel_conv_index_1_etg_3_remont: 2\n",
        "|-kernel_conv_index_2_etg_0_desc: 3\n",
        "|-kernel_conv_index_2_etg_0_remont: 3\n",
        "|-kernel_conv_index_2_etg_1_desc: 2\n",
        "|-kernel_conv_index_2_etg_2_desc: 2\n",
        "|-kernel_conv_index_2_etg_2_remont: 3\n",
        "|-kernel_conv_index_2_etg_3_desc: 2\n",
        "|-kernel_conv_index_2_etg_3_remont: 2\n",
        "|-kernel_conv_index_3_etg_0_remont: 2\n",
        "|-kernel_conv_index_3_etg_2_desc: 2\n",
        "|-learning_rate: 1e-05\n",
        "|-nb_conv_etg_0_desc: 3\n",
        "|-nb_conv_etg_0_remont: 4\n",
        "|-nb_conv_etg_1_desc: 2\n",
        "|-nb_conv_etg_1_remont: 2\n",
        "|-nb_conv_etg_2_desc: 4\n",
        "|-nb_conv_etg_2_remont: 2\n",
        "|-nb_conv_etg_3_desc: 3\n",
        "|-nb_conv_etg_3_remont: 3\n",
        "|-nb_conv_etg_4_desc: 0\n",
        "|-nb_conv_etg_4_remont: 1\n",
        "|-nb_conv_etg_5_desc: 1\n",
        "|-nb_conv_etg_5_remont: 1\n",
        "|-nb_conv_etg_6_desc: 1\n",
        "|-nb_conv_etg_6_remont: 1\n",
        "|-nb_conv_etg_7_desc: 1\n",
        "|-nb_conv_etg_7_remont: 1\n",
        "|-nb_conv_etg_8_desc: 1\n",
        "|-nb_pool: 8\n",
        "|-pool_type_0: max\n",
        "|-pool_type_1: max\n",
        "|-pool_type_2: max\n",
        "|-pool_type_3: max\n",
        "|-pool_type_4: max\n",
        "|-pool_type_5: max\n",
        "|-pool_type_6: max\n",
        "|-pool_type_7: max\"\"\"\n",
        "a = a.split(\"\\n\")\n"
      ],
      "execution_count": 0,
      "outputs": []
    },
    {
      "cell_type": "code",
      "metadata": {
        "id": "w6QaDe3Sm8ud",
        "colab_type": "code",
        "colab": {}
      },
      "source": [
        "for l in a:\n",
        "    if \"etg_0\" in l and \"desc\" in l:\n",
        "        print(l)"
      ],
      "execution_count": 0,
      "outputs": []
    }
  ]
}